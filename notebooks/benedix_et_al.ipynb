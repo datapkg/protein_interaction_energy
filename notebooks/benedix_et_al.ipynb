{
 "cells": [
  {
   "cell_type": "markdown",
   "metadata": {
    "toc": "true"
   },
   "source": [
    "# Table of Contents\n",
    " <p><div class=\"lev1\"><a href=\"#Summary\"><span class=\"toc-item-num\">1&nbsp;&nbsp;</span>Summary</a></div><div class=\"lev2\"><a href=\"#References\"><span class=\"toc-item-num\">1.1&nbsp;&nbsp;</span>References</a></div><div class=\"lev1\"><a href=\"#Imports\"><span class=\"toc-item-num\">2&nbsp;&nbsp;</span>Imports</a></div><div class=\"lev1\"><a href=\"#Download\"><span class=\"toc-item-num\">3&nbsp;&nbsp;</span>Download</a></div><div class=\"lev1\"><a href=\"#Load-data\"><span class=\"toc-item-num\">4&nbsp;&nbsp;</span>Load data</a></div><div class=\"lev2\"><a href=\"#PDB-chain-/-mutation-(DF1)\"><span class=\"toc-item-num\">4.1&nbsp;&nbsp;</span>PDB chain / mutation (DF1)</a></div><div class=\"lev2\"><a href=\"#UniProt-info-(DF2)\"><span class=\"toc-item-num\">4.2&nbsp;&nbsp;</span>UniProt info (DF2)</a></div><div class=\"lev2\"><a href=\"#Pfam-clan-(DF3)\"><span class=\"toc-item-num\">4.3&nbsp;&nbsp;</span>Pfam clan (DF3)</a></div><div class=\"lev2\"><a href=\"#Partner-chain-(DF4)\"><span class=\"toc-item-num\">4.4&nbsp;&nbsp;</span>Partner chain (DF4)</a></div><div class=\"lev2\"><a href=\"#Summary\"><span class=\"toc-item-num\">4.5&nbsp;&nbsp;</span>Summary</a></div><div class=\"lev1\"><a href=\"#Save-to-database\"><span class=\"toc-item-num\">5&nbsp;&nbsp;</span>Save to database</a></div>"
   ]
  },
  {
   "cell_type": "markdown",
   "metadata": {},
   "source": [
    "# Summary\n",
    "\n",
    "- `partner_pdb_chain` is null if there are multiple mutations affecting both chains (this affects **376 rows**). This may have to be adjusted in ELASPIC...\n",
    "\n",
    "## References\n",
    "\n",
    "*Predicting free energy changes using structural ensembles*. Alexander Benedix, Caroline M Becker, Bert L de Groot, Amedeo Caflisch & Rainer A Böckmann. Nature Methods 6, 3 - 4 (2009) \n",
    "doi: [10.1038/nmeth0109-3](http://doi.org/10.1038/nmeth0109-3)\n",
    "\n",
    "\n",
    "----"
   ]
  },
  {
   "cell_type": "markdown",
   "metadata": {},
   "source": [
    "# Imports"
   ]
  },
  {
   "cell_type": "code",
   "execution_count": 1,
   "metadata": {
    "collapsed": false
   },
   "outputs": [
    {
     "name": "stdout",
     "output_type": "stream",
     "text": [
      "2016-08-23 19:23:18.482217\n"
     ]
    }
   ],
   "source": [
    "%run imports.ipynb"
   ]
  },
  {
   "cell_type": "code",
   "execution_count": 2,
   "metadata": {
    "collapsed": false
   },
   "outputs": [
    {
     "name": "stdout",
     "output_type": "stream",
     "text": [
      "The autoreload extension is already loaded. To reload it, use:\n",
      "  %reload_ext autoreload\n",
      "2016-08-23 19:23:18.684688\n"
     ]
    },
    {
     "name": "stderr",
     "output_type": "stream",
     "text": [
      "Starting MySQL database...\n"
     ]
    }
   ],
   "source": [
    "%run mysqld.ipynb"
   ]
  },
  {
   "cell_type": "code",
   "execution_count": 3,
   "metadata": {
    "collapsed": true
   },
   "outputs": [],
   "source": [
    "NOTEBOOK_NAME = 'benedix_et_al'\n",
    "os.environ['NOTEBOOK_NAME'] = NOTEBOOK_NAME\n",
    "os.makedirs(NOTEBOOK_NAME, exist_ok=True)"
   ]
  },
  {
   "cell_type": "markdown",
   "metadata": {},
   "source": [
    "# Download"
   ]
  },
  {
   "cell_type": "code",
   "execution_count": 4,
   "metadata": {
    "collapsed": true,
    "run_control": {
     "marked": false
    }
   },
   "outputs": [],
   "source": [
    "INPUT_URL = (\n",
    "    \"http://bleoberis.bioc.cam.ac.uk/mcsm_ab/static/datasets/blind_test_228mutations.csv\"\n",
    ")\n",
    "INPUT_FILE = op.join(NOTEBOOK_NAME, 'blind_test_228mutations.csv')"
   ]
  },
  {
   "cell_type": "code",
   "execution_count": 5,
   "metadata": {
    "collapsed": false
   },
   "outputs": [
    {
     "name": "stderr",
     "output_type": "stream",
     "text": [
      "INPUT_URL=\"$1\"\n",
      "INPUT_FILE=\"$2\"\n",
      "\n",
      "if [[ ! -e \"$INPUT_FILE\" ]] ; then\n",
      "    wget -c --no-verbose \"$INPUT_URL\" -O \"$INPUT_FILE\"\n",
      "    # git lfs track \"./$INPUT_FILE\"\n",
      "    git add -f \"./$INPUT_FILE\" \n",
      "fi\n",
      "2016-08-23 19:24:56 URL:http://bleoberis.bioc.cam.ac.uk/mcsm_ab/static/datasets/blind_test_228mutations.csv [9591/9591] -> \"benedix_et_al/blind_test_228mutations.csv\" [1]\n"
     ]
    }
   ],
   "source": [
    "%%bash -s $INPUT_URL $INPUT_FILE\n",
    "set -ev\n",
    "INPUT_URL=\"$1\"\n",
    "INPUT_FILE=\"$2\"\n",
    "\n",
    "if [[ ! -e \"$INPUT_FILE\" ]] ; then\n",
    "    wget -c --no-verbose \"$INPUT_URL\" -O \"$INPUT_FILE\"\n",
    "    # git lfs track \"./$INPUT_FILE\"\n",
    "    git add -f \"./$INPUT_FILE\" \n",
    "fi"
   ]
  },
  {
   "cell_type": "markdown",
   "metadata": {},
   "source": [
    "# Load data"
   ]
  },
  {
   "cell_type": "code",
   "execution_count": 43,
   "metadata": {
    "collapsed": false
   },
   "outputs": [],
   "source": [
    "DF = pd.read_csv(INPUT_FILE, sep='\\t')"
   ]
  },
  {
   "cell_type": "code",
   "execution_count": 44,
   "metadata": {
    "collapsed": false
   },
   "outputs": [
    {
     "data": {
      "text/html": [
       "<div>\n",
       "<table border=\"1\" class=\"dataframe\">\n",
       "  <thead>\n",
       "    <tr style=\"text-align: right;\">\n",
       "      <th></th>\n",
       "      <th>Mutation type</th>\n",
       "      <th>PDB</th>\n",
       "      <th>Mutation</th>\n",
       "      <th>Chain</th>\n",
       "      <th>Predicted</th>\n",
       "      <th>Experimental</th>\n",
       "    </tr>\n",
       "  </thead>\n",
       "  <tbody>\n",
       "    <tr>\n",
       "      <th>0</th>\n",
       "      <td>Original</td>\n",
       "      <td>1JRH.pdb</td>\n",
       "      <td>E27A</td>\n",
       "      <td>L</td>\n",
       "      <td>-2.021</td>\n",
       "      <td>-0.54</td>\n",
       "    </tr>\n",
       "    <tr>\n",
       "      <th>1</th>\n",
       "      <td>Original</td>\n",
       "      <td>1JRH.pdb</td>\n",
       "      <td>D28A</td>\n",
       "      <td>L</td>\n",
       "      <td>-1.228</td>\n",
       "      <td>-0.44</td>\n",
       "    </tr>\n",
       "    <tr>\n",
       "      <th>2</th>\n",
       "      <td>Original</td>\n",
       "      <td>1JRH.pdb</td>\n",
       "      <td>Y30A</td>\n",
       "      <td>L</td>\n",
       "      <td>-1.800</td>\n",
       "      <td>-1.10</td>\n",
       "    </tr>\n",
       "    <tr>\n",
       "      <th>3</th>\n",
       "      <td>Original</td>\n",
       "      <td>1JRH.pdb</td>\n",
       "      <td>K47A</td>\n",
       "      <td>I</td>\n",
       "      <td>-0.309</td>\n",
       "      <td>-3.60</td>\n",
       "    </tr>\n",
       "    <tr>\n",
       "      <th>4</th>\n",
       "      <td>Original</td>\n",
       "      <td>1JRH.pdb</td>\n",
       "      <td>Y32A</td>\n",
       "      <td>H</td>\n",
       "      <td>0.322</td>\n",
       "      <td>-1.40</td>\n",
       "    </tr>\n",
       "  </tbody>\n",
       "</table>\n",
       "</div>"
      ],
      "text/plain": [
       "  Mutation type       PDB Mutation Chain  Predicted  Experimental\n",
       "0      Original  1JRH.pdb     E27A     L     -2.021         -0.54\n",
       "1      Original  1JRH.pdb     D28A     L     -1.228         -0.44\n",
       "2      Original  1JRH.pdb     Y30A     L     -1.800         -1.10\n",
       "3      Original  1JRH.pdb     K47A     I     -0.309         -3.60\n",
       "4      Original  1JRH.pdb     Y32A     H      0.322         -1.40"
      ]
     },
     "execution_count": 44,
     "metadata": {},
     "output_type": "execute_result"
    }
   ],
   "source": [
    "DF.head()"
   ]
  },
  {
   "cell_type": "code",
   "execution_count": 45,
   "metadata": {
    "collapsed": false,
    "scrolled": false
   },
   "outputs": [],
   "source": [
    "DF = DF[DF['Mutation type'] != 'Reverse']"
   ]
  },
  {
   "cell_type": "code",
   "execution_count": 46,
   "metadata": {
    "collapsed": false
   },
   "outputs": [
    {
     "data": {
      "text/plain": [
       "(114, 3)"
      ]
     },
     "execution_count": 46,
     "metadata": {},
     "output_type": "execute_result"
    }
   ],
   "source": [
    "DF[['PDB', 'Mutation', 'Chain']].drop_duplicates().shape"
   ]
  },
  {
   "cell_type": "markdown",
   "metadata": {},
   "source": [
    "## PDB chain / mutation (DF1)"
   ]
  },
  {
   "cell_type": "code",
   "execution_count": 47,
   "metadata": {
    "collapsed": true
   },
   "outputs": [],
   "source": [
    "DF['pdb_id'] = DF['PDB'].str.replace('.pdb', '').str.lower()\n",
    "DF['pdb_chain'] = DF['Chain']\n",
    "DF['partner_pdb_chain'] = np.nan\n",
    "DF['pdb_mutation'] = DF['Chain'] + '_' + DF['Mutation']\n",
    "DF['ddg_exp'] = DF['Experimental']"
   ]
  },
  {
   "cell_type": "code",
   "execution_count": 48,
   "metadata": {
    "collapsed": false
   },
   "outputs": [
    {
     "data": {
      "text/plain": [
       "114"
      ]
     },
     "execution_count": 48,
     "metadata": {},
     "output_type": "execute_result"
    }
   ],
   "source": [
    "DF.head()\n",
    "DF.shape[0]"
   ]
  },
  {
   "cell_type": "code",
   "execution_count": 49,
   "metadata": {
    "collapsed": true
   },
   "outputs": [],
   "source": [
    "DF1_bak = DF.copy()"
   ]
  },
  {
   "cell_type": "markdown",
   "metadata": {},
   "source": [
    "## UniProt info (DF2)"
   ]
  },
  {
   "cell_type": "code",
   "execution_count": 50,
   "metadata": {
    "collapsed": true
   },
   "outputs": [],
   "source": [
    "DF = DF1_bak.copy()"
   ]
  },
  {
   "cell_type": "code",
   "execution_count": 51,
   "metadata": {
    "collapsed": false
   },
   "outputs": [
    {
     "name": "stdout",
     "output_type": "stream",
     "text": [
      "['1ahw', '1dvf', '1jrh', '1vfb', '3hfm']\n",
      "5\n"
     ]
    }
   ],
   "source": [
    "pdb_ids = sorted(set(DF['pdb_id']))\n",
    "print(pdb_ids)\n",
    "print(len(pdb_ids))"
   ]
  },
  {
   "cell_type": "code",
   "execution_count": 52,
   "metadata": {
    "collapsed": false,
    "run_control": {
     "marked": false
    }
   },
   "outputs": [],
   "source": [
    "sifts_dfs = {\n",
    "    pdb_id: ascommon.pdb_tools.sifts.get_sifts_data(pdb_id)\n",
    "    for pdb_id in pdb_ids\n",
    "}"
   ]
  },
  {
   "cell_type": "code",
   "execution_count": 53,
   "metadata": {
    "collapsed": false,
    "run_control": {
     "marked": false
    }
   },
   "outputs": [
    {
     "data": {
      "text/html": [
       "<div>\n",
       "<table border=\"1\" class=\"dataframe\">\n",
       "  <thead>\n",
       "    <tr style=\"text-align: right;\">\n",
       "      <th></th>\n",
       "      <th>comments</th>\n",
       "      <th>is_observed</th>\n",
       "      <th>pdb_aa</th>\n",
       "      <th>pdb_chain</th>\n",
       "      <th>pdb_id</th>\n",
       "      <th>pfam_id</th>\n",
       "      <th>resnum</th>\n",
       "      <th>uniprot_aa</th>\n",
       "      <th>uniprot_id</th>\n",
       "      <th>uniprot_position</th>\n",
       "      <th>residx</th>\n",
       "    </tr>\n",
       "  </thead>\n",
       "  <tbody>\n",
       "    <tr>\n",
       "      <th>0</th>\n",
       "      <td>T,loop</td>\n",
       "      <td>True</td>\n",
       "      <td>S</td>\n",
       "      <td>L</td>\n",
       "      <td>1jrh</td>\n",
       "      <td>NaN</td>\n",
       "      <td>1</td>\n",
       "      <td>NaN</td>\n",
       "      <td>NaN</td>\n",
       "      <td>NaN</td>\n",
       "      <td>1</td>\n",
       "    </tr>\n",
       "    <tr>\n",
       "      <th>1</th>\n",
       "      <td>T,loop</td>\n",
       "      <td>True</td>\n",
       "      <td>V</td>\n",
       "      <td>L</td>\n",
       "      <td>1jrh</td>\n",
       "      <td>NaN</td>\n",
       "      <td>2</td>\n",
       "      <td>NaN</td>\n",
       "      <td>NaN</td>\n",
       "      <td>NaN</td>\n",
       "      <td>2</td>\n",
       "    </tr>\n",
       "    <tr>\n",
       "      <th>2</th>\n",
       "      <td>T,loop</td>\n",
       "      <td>True</td>\n",
       "      <td>E</td>\n",
       "      <td>L</td>\n",
       "      <td>1jrh</td>\n",
       "      <td>NaN</td>\n",
       "      <td>3</td>\n",
       "      <td>NaN</td>\n",
       "      <td>NaN</td>\n",
       "      <td>NaN</td>\n",
       "      <td>3</td>\n",
       "    </tr>\n",
       "    <tr>\n",
       "      <th>3</th>\n",
       "      <td>E,strand</td>\n",
       "      <td>True</td>\n",
       "      <td>M</td>\n",
       "      <td>L</td>\n",
       "      <td>1jrh</td>\n",
       "      <td>NaN</td>\n",
       "      <td>4</td>\n",
       "      <td>NaN</td>\n",
       "      <td>NaN</td>\n",
       "      <td>NaN</td>\n",
       "      <td>4</td>\n",
       "    </tr>\n",
       "    <tr>\n",
       "      <th>4</th>\n",
       "      <td>E,strand</td>\n",
       "      <td>True</td>\n",
       "      <td>T</td>\n",
       "      <td>L</td>\n",
       "      <td>1jrh</td>\n",
       "      <td>NaN</td>\n",
       "      <td>5</td>\n",
       "      <td>NaN</td>\n",
       "      <td>NaN</td>\n",
       "      <td>NaN</td>\n",
       "      <td>5</td>\n",
       "    </tr>\n",
       "  </tbody>\n",
       "</table>\n",
       "</div>"
      ],
      "text/plain": [
       "   comments is_observed pdb_aa pdb_chain pdb_id pfam_id resnum uniprot_aa uniprot_id uniprot_position  residx\n",
       "0    T,loop        True      S         L   1jrh     NaN      1        NaN        NaN              NaN       1\n",
       "1    T,loop        True      V         L   1jrh     NaN      2        NaN        NaN              NaN       2\n",
       "2    T,loop        True      E         L   1jrh     NaN      3        NaN        NaN              NaN       3\n",
       "3  E,strand        True      M         L   1jrh     NaN      4        NaN        NaN              NaN       4\n",
       "4  E,strand        True      T         L   1jrh     NaN      5        NaN        NaN              NaN       5"
      ]
     },
     "execution_count": 53,
     "metadata": {},
     "output_type": "execute_result"
    }
   ],
   "source": [
    "sifts_dfs['1jrh'].head()"
   ]
  },
  {
   "cell_type": "code",
   "execution_count": 54,
   "metadata": {
    "collapsed": true
   },
   "outputs": [],
   "source": [
    "assert not any(df is None for df in sifts_dfs.values())"
   ]
  },
  {
   "cell_type": "code",
   "execution_count": 55,
   "metadata": {
    "collapsed": false
   },
   "outputs": [
    {
     "data": {
      "text/plain": [
       "<module 'kmtools.pdb_tools.sifts' from '/home/kimlab1/strokach/working/kmtools/kmtools/pdb_tools/sifts.py'>"
      ]
     },
     "execution_count": 55,
     "metadata": {},
     "output_type": "execute_result"
    }
   ],
   "source": [
    "reload(kmtools)\n",
    "reload(kmtools.pdb_tools.sifts)"
   ]
  },
  {
   "cell_type": "code",
   "execution_count": 56,
   "metadata": {
    "collapsed": false,
    "scrolled": true
   },
   "outputs": [
    {
     "name": "stderr",
     "output_type": "stream",
     "text": [
      "No mutation mapping available! (1jrh, L_E27A, L, E27A):\n",
      "    [{'pdb_chain': 'L', 'uniprot_id': nan, 'pfam_id': nan, 'uniprot_pos': nan, 'uniprot_aa': nan}]\n",
      "No mutation mapping available! (1jrh, L_D28A, L, D28A):\n",
      "    [{'pdb_chain': 'L', 'uniprot_id': nan, 'pfam_id': nan, 'uniprot_pos': nan, 'uniprot_aa': nan}]\n",
      "No mutation mapping available! (1jrh, L_Y30A, L, Y30A):\n",
      "    [{'pdb_chain': 'L', 'uniprot_id': nan, 'pfam_id': nan, 'uniprot_pos': nan, 'uniprot_aa': nan}]\n",
      "No mutation mapping available! (1jrh, H_Y32A, H, Y32A):\n",
      "    [{'pdb_chain': 'H', 'uniprot_id': nan, 'pfam_id': nan, 'uniprot_pos': nan, 'uniprot_aa': nan}]\n",
      "No mutation mapping available! (1jrh, H_W53A, H, W53A):\n",
      "    [{'pdb_chain': 'H', 'uniprot_id': nan, 'pfam_id': nan, 'uniprot_pos': nan, 'uniprot_aa': nan}]\n",
      "No mutation mapping available! (1jrh, H_D54A, H, D54A):\n",
      "    [{'pdb_chain': 'H', 'uniprot_id': nan, 'pfam_id': nan, 'uniprot_pos': nan, 'uniprot_aa': nan}]\n",
      "No mutation mapping available! (1jrh, H_D56A, H, D56A):\n",
      "    [{'pdb_chain': 'H', 'uniprot_id': nan, 'pfam_id': nan, 'uniprot_pos': nan, 'uniprot_aa': nan}]\n",
      "No mutation mapping available! (1jrh, H_Y99A, H, Y99A):\n",
      "    [{'pdb_chain': 'H', 'uniprot_id': nan, 'pfam_id': nan, 'uniprot_pos': nan, 'uniprot_aa': nan}]\n",
      "No mutation mapping available! (1jrh, L_Y91A, L, Y91A):\n",
      "    [{'pdb_chain': 'L', 'uniprot_id': nan, 'pfam_id': nan, 'uniprot_pos': nan, 'uniprot_aa': nan}]\n",
      "No mutation mapping available! (1jrh, L_W92A, L, W92A):\n",
      "    [{'pdb_chain': 'L', 'uniprot_id': nan, 'pfam_id': nan, 'uniprot_pos': nan, 'uniprot_aa': nan}]\n",
      "PDB AA and UniProt AA are not the same! (1vfb, A, Y, 50, None, 0) (Y != N (P01635))\n",
      "No mutation mapping available! (1vfb, B_R99A, B, R99A):\n",
      "    [{'pdb_chain': 'B', 'uniprot_id': nan, 'pfam_id': nan, 'uniprot_pos': nan, 'uniprot_aa': nan}]\n",
      "PDB AA and UniProt AA are not the same! (1vfb, A, Y, 50, None, 0) (Y != N (P01635))\n",
      "PDB AA and UniProt AA are not the same! (1dvf, A, Y, 50, None, 0) (Y != N (P01635))\n",
      "No mutation mapping available! (1dvf, B_D100A, B, D100A):\n",
      "    [{'pdb_chain': 'B', 'uniprot_id': nan, 'pfam_id': nan, 'uniprot_pos': nan, 'uniprot_aa': nan}]\n",
      "No mutation mapping available! (1dvf, B_Y101A, B, Y101A):\n",
      "    [{'pdb_chain': 'B', 'uniprot_id': nan, 'pfam_id': nan, 'uniprot_pos': nan, 'uniprot_aa': nan}]\n",
      "PDB AA and UniProt AA are not the same! (1dvf, B, N, 56, None, 0) (N != S (P01820))\n",
      "No mutation mapping available! (1dvf, B_E98A, B, E98A):\n",
      "    [{'pdb_chain': 'B', 'uniprot_id': nan, 'pfam_id': nan, 'uniprot_pos': nan, 'uniprot_aa': nan}]\n",
      "No mutation mapping available! (1dvf, B_R99A, B, R99A):\n",
      "    [{'pdb_chain': 'B', 'uniprot_id': nan, 'pfam_id': nan, 'uniprot_pos': nan, 'uniprot_aa': nan}]\n",
      "No mutation mapping available! (1dvf, D_Q100A, D, Q100A):\n",
      "    [{'pdb_chain': 'D', 'uniprot_id': nan, 'pfam_id': nan, 'uniprot_pos': nan, 'uniprot_aa': nan}]\n",
      "PDB AA and UniProt AA are not the same! (1dvf, D, H, 33, None, 0) (H != Y (A0NA69))\n",
      "No mutation mapping available! (1dvf, D_I97A, D, I97A):\n",
      "    [{'pdb_chain': 'D', 'uniprot_id': nan, 'pfam_id': nan, 'uniprot_pos': nan, 'uniprot_aa': nan}]\n",
      "No mutation mapping available! (1dvf, D_Y98A, D, Y98A):\n",
      "    [{'pdb_chain': 'D', 'uniprot_id': nan, 'pfam_id': nan, 'uniprot_pos': nan, 'uniprot_aa': nan}]\n",
      "No mutation mapping available! (3hfm, H_S31A, H, S31A):\n",
      "    [{'pdb_chain': 'H', 'uniprot_id': nan, 'pfam_id': nan, 'uniprot_pos': nan, 'uniprot_aa': nan}]\n",
      "No mutation mapping available! (3hfm, H_D32A, H, D32A):\n",
      "    [{'pdb_chain': 'H', 'uniprot_id': nan, 'pfam_id': nan, 'uniprot_pos': nan, 'uniprot_aa': nan}]\n",
      "No mutation mapping available! (3hfm, H_D32N, H, D32N):\n",
      "    [{'pdb_chain': 'H', 'uniprot_id': nan, 'pfam_id': nan, 'uniprot_pos': nan, 'uniprot_aa': nan}]\n",
      "No mutation mapping available! (3hfm, H_Y33A, H, Y33A):\n",
      "    [{'pdb_chain': 'H', 'uniprot_id': nan, 'pfam_id': nan, 'uniprot_pos': nan, 'uniprot_aa': nan}]\n",
      "No mutation mapping available! (3hfm, H_Y50A, H, Y50A):\n",
      "    [{'pdb_chain': 'H', 'uniprot_id': nan, 'pfam_id': nan, 'uniprot_pos': nan, 'uniprot_aa': nan}]\n",
      "No mutation mapping available! (3hfm, H_W98A, H, W98A):\n",
      "    [{'pdb_chain': 'H', 'uniprot_id': nan, 'pfam_id': nan, 'uniprot_pos': nan, 'uniprot_aa': nan}]\n",
      "No mutation mapping available! (3hfm, H_W98F, H, W98F):\n",
      "    [{'pdb_chain': 'H', 'uniprot_id': nan, 'pfam_id': nan, 'uniprot_pos': nan, 'uniprot_aa': nan}]\n",
      "No mutation mapping available! (3hfm, L_N31A, L, N31A):\n",
      "    [{'pdb_chain': 'L', 'uniprot_id': nan, 'pfam_id': nan, 'uniprot_pos': nan, 'uniprot_aa': nan}]\n",
      "No mutation mapping available! (3hfm, L_N31D, L, N31D):\n",
      "    [{'pdb_chain': 'L', 'uniprot_id': nan, 'pfam_id': nan, 'uniprot_pos': nan, 'uniprot_aa': nan}]\n",
      "No mutation mapping available! (3hfm, L_N31E, L, N31E):\n",
      "    [{'pdb_chain': 'L', 'uniprot_id': nan, 'pfam_id': nan, 'uniprot_pos': nan, 'uniprot_aa': nan}]\n",
      "No mutation mapping available! (3hfm, L_N32A, L, N32A):\n",
      "    [{'pdb_chain': 'L', 'uniprot_id': nan, 'pfam_id': nan, 'uniprot_pos': nan, 'uniprot_aa': nan}]\n",
      "No mutation mapping available! (3hfm, L_Y50A, L, Y50A):\n",
      "    [{'pdb_chain': 'L', 'uniprot_id': nan, 'pfam_id': nan, 'uniprot_pos': nan, 'uniprot_aa': nan}]\n",
      "No mutation mapping available! (3hfm, L_Y50F, L, Y50F):\n",
      "    [{'pdb_chain': 'L', 'uniprot_id': nan, 'pfam_id': nan, 'uniprot_pos': nan, 'uniprot_aa': nan}]\n",
      "No mutation mapping available! (3hfm, L_Y50L, L, Y50L):\n",
      "    [{'pdb_chain': 'L', 'uniprot_id': nan, 'pfam_id': nan, 'uniprot_pos': nan, 'uniprot_aa': nan}]\n",
      "No mutation mapping available! (3hfm, L_Q53A, L, Q53A):\n",
      "    [{'pdb_chain': 'L', 'uniprot_id': nan, 'pfam_id': nan, 'uniprot_pos': nan, 'uniprot_aa': nan}]\n",
      "No mutation mapping available! (3hfm, L_Y96A, L, Y96A):\n",
      "    [{'pdb_chain': 'L', 'uniprot_id': nan, 'pfam_id': nan, 'uniprot_pos': nan, 'uniprot_aa': nan}]\n",
      "No mutation mapping available! (3hfm, L_Y96F, L, Y96F):\n",
      "    [{'pdb_chain': 'L', 'uniprot_id': nan, 'pfam_id': nan, 'uniprot_pos': nan, 'uniprot_aa': nan}]\n"
     ]
    }
   ],
   "source": [
    "# Add info to core\n",
    "def get_sifts_data(pdb_id, pdb_chain, pdb_mutation):\n",
    "    sifts_df = sifts_dfs[pdb_id]\n",
    "    try:\n",
    "        result = kmtools.pdb_tools.sifts.convert_pdb_mutations_to_uniprot(\n",
    "            pdb_id, pdb_chain, pdb_mutation, sifts_df)\n",
    "    except kmtools.pdb_tools.sifts.SIFTSError as e:\n",
    "        logger.error(e)\n",
    "        result = {}\n",
    "    return result\n",
    "\n",
    "results = [get_sifts_data(*x) for x in DF[['pdb_id', 'pdb_chain', 'pdb_mutation']].dropna().values]\n",
    "results_df = pd.DataFrame(results)"
   ]
  },
  {
   "cell_type": "code",
   "execution_count": 57,
   "metadata": {
    "collapsed": false
   },
   "outputs": [],
   "source": [
    "_before = DF.shape[0]\n",
    "DF = DF.join(\n",
    "    results_df.rename(\n",
    "        columns=lambda x: x.partition('_sifts')[0].replace('mutations', 'mutation')))\n",
    "assert _before == DF.shape[0]"
   ]
  },
  {
   "cell_type": "code",
   "execution_count": 58,
   "metadata": {
    "collapsed": false,
    "scrolled": false
   },
   "outputs": [
    {
     "data": {
      "text/plain": [
       "114"
      ]
     },
     "execution_count": 58,
     "metadata": {},
     "output_type": "execute_result"
    }
   ],
   "source": [
    "DF.head(5)\n",
    "DF.shape[0]"
   ]
  },
  {
   "cell_type": "code",
   "execution_count": 59,
   "metadata": {
    "collapsed": false
   },
   "outputs": [],
   "source": [
    "DF2_bak = DF.copy()"
   ]
  },
  {
   "cell_type": "markdown",
   "metadata": {},
   "source": [
    "## Pfam clan (DF3)"
   ]
  },
  {
   "cell_type": "code",
   "execution_count": 60,
   "metadata": {
    "collapsed": false
   },
   "outputs": [],
   "source": [
    "DF = DF2_bak.copy()"
   ]
  },
  {
   "cell_type": "code",
   "execution_count": 61,
   "metadata": {
    "collapsed": false
   },
   "outputs": [],
   "source": [
    "pfam_a_clans = (\n",
    "    pd.read_sql_table('pfam_a_clans', db_remote.engine, schema='pfam')\n",
    ")"
   ]
  },
  {
   "cell_type": "code",
   "execution_count": 62,
   "metadata": {
    "collapsed": false
   },
   "outputs": [
    {
     "data": {
      "text/html": [
       "<div>\n",
       "<table border=\"1\" class=\"dataframe\">\n",
       "  <thead>\n",
       "    <tr style=\"text-align: right;\">\n",
       "      <th></th>\n",
       "      <th>pfam_id</th>\n",
       "      <th>clan_id</th>\n",
       "      <th>clan_name</th>\n",
       "      <th>pfam_name</th>\n",
       "      <th>pfam_description</th>\n",
       "    </tr>\n",
       "  </thead>\n",
       "  <tbody>\n",
       "    <tr>\n",
       "      <th>0</th>\n",
       "      <td>PF00389</td>\n",
       "      <td>CL0325</td>\n",
       "      <td>Form_Glyc_dh</td>\n",
       "      <td>2-Hacid_dh</td>\n",
       "      <td>D-isomer specific 2-hydroxyacid dehydrogenase,...</td>\n",
       "    </tr>\n",
       "    <tr>\n",
       "      <th>1</th>\n",
       "      <td>PF00198</td>\n",
       "      <td>CL0149</td>\n",
       "      <td>CoA-acyltrans</td>\n",
       "      <td>2-oxoacid_dh</td>\n",
       "      <td>2-oxoacid dehydrogenases acyltransferase (cata...</td>\n",
       "    </tr>\n",
       "    <tr>\n",
       "      <th>2</th>\n",
       "      <td>PF04029</td>\n",
       "      <td>None</td>\n",
       "      <td>None</td>\n",
       "      <td>2-ph_phosp</td>\n",
       "      <td>2-phosphosulpholactate phosphatase</td>\n",
       "    </tr>\n",
       "    <tr>\n",
       "      <th>3</th>\n",
       "      <td>PF03171</td>\n",
       "      <td>CL0029</td>\n",
       "      <td>Cupin</td>\n",
       "      <td>2OG-FeII_Oxy</td>\n",
       "      <td>2OG-Fe(II) oxygenase superfamily</td>\n",
       "    </tr>\n",
       "    <tr>\n",
       "      <th>4</th>\n",
       "      <td>PF01073</td>\n",
       "      <td>CL0063</td>\n",
       "      <td>NADP_Rossmann</td>\n",
       "      <td>3Beta_HSD</td>\n",
       "      <td>3-beta hydroxysteroid dehydrogenase/isomerase ...</td>\n",
       "    </tr>\n",
       "  </tbody>\n",
       "</table>\n",
       "</div>"
      ],
      "text/plain": [
       "   pfam_id clan_id      clan_name     pfam_name                                   pfam_description\n",
       "0  PF00389  CL0325   Form_Glyc_dh    2-Hacid_dh  D-isomer specific 2-hydroxyacid dehydrogenase,...\n",
       "1  PF00198  CL0149  CoA-acyltrans  2-oxoacid_dh  2-oxoacid dehydrogenases acyltransferase (cata...\n",
       "2  PF04029    None           None    2-ph_phosp                 2-phosphosulpholactate phosphatase\n",
       "3  PF03171  CL0029          Cupin  2OG-FeII_Oxy                   2OG-Fe(II) oxygenase superfamily\n",
       "4  PF01073  CL0063  NADP_Rossmann     3Beta_HSD  3-beta hydroxysteroid dehydrogenase/isomerase ..."
      ]
     },
     "execution_count": 62,
     "metadata": {},
     "output_type": "execute_result"
    }
   ],
   "source": [
    "pfam_a_clans.head()"
   ]
  },
  {
   "cell_type": "code",
   "execution_count": 63,
   "metadata": {
    "collapsed": false
   },
   "outputs": [],
   "source": [
    "DF['pfam_clan'] = DF['pfam_id'].map(pfam_a_clans.set_index('pfam_id')['clan_id'])"
   ]
  },
  {
   "cell_type": "code",
   "execution_count": 64,
   "metadata": {
    "collapsed": false
   },
   "outputs": [
    {
     "data": {
      "text/plain": [
       "69"
      ]
     },
     "execution_count": 64,
     "metadata": {},
     "output_type": "execute_result"
    }
   ],
   "source": [
    "DF['pfam_clan'].notnull().sum()"
   ]
  },
  {
   "cell_type": "code",
   "execution_count": 65,
   "metadata": {
    "collapsed": true
   },
   "outputs": [],
   "source": [
    "DF3_bak = DF.copy()"
   ]
  },
  {
   "cell_type": "markdown",
   "metadata": {},
   "source": [
    "## Partner chain (DF4)"
   ]
  },
  {
   "cell_type": "code",
   "execution_count": 66,
   "metadata": {
    "collapsed": true
   },
   "outputs": [],
   "source": [
    "DF = DF3_bak.copy()"
   ]
  },
  {
   "cell_type": "code",
   "execution_count": 67,
   "metadata": {
    "collapsed": true
   },
   "outputs": [],
   "source": [
    "def get_partner_uniprot(partner_chian, sifts_df):\n",
    "    sifts_df = sifts_df[sifts_df['pdb_chain'] == partner_chian]\n",
    "    partner_uniprot_ids = sifts_df['uniprot_id'].dropna().drop_duplicates().tolist()\n",
    "    if len(partner_uniprot_ids) == 0:\n",
    "        return np.nan\n",
    "    elif len(partner_uniprot_ids) == 1:\n",
    "        return partner_uniprot_ids[0]\n",
    "    else:\n",
    "        raise Exception(partner_uniprot_ids)"
   ]
  },
  {
   "cell_type": "code",
   "execution_count": 69,
   "metadata": {
    "collapsed": false
   },
   "outputs": [
    {
     "data": {
      "text/html": [
       "<div>\n",
       "<table border=\"1\" class=\"dataframe\">\n",
       "  <thead>\n",
       "    <tr style=\"text-align: right;\">\n",
       "      <th></th>\n",
       "      <th>comments</th>\n",
       "      <th>is_observed</th>\n",
       "      <th>pdb_aa</th>\n",
       "      <th>pdb_chain</th>\n",
       "      <th>pdb_id</th>\n",
       "      <th>pfam_id</th>\n",
       "      <th>resnum</th>\n",
       "      <th>uniprot_aa</th>\n",
       "      <th>uniprot_id</th>\n",
       "      <th>uniprot_position</th>\n",
       "      <th>residx</th>\n",
       "    </tr>\n",
       "  </thead>\n",
       "  <tbody>\n",
       "    <tr>\n",
       "      <th>0</th>\n",
       "      <td>T,loop</td>\n",
       "      <td>True</td>\n",
       "      <td>S</td>\n",
       "      <td>L</td>\n",
       "      <td>1jrh</td>\n",
       "      <td>NaN</td>\n",
       "      <td>1</td>\n",
       "      <td>NaN</td>\n",
       "      <td>NaN</td>\n",
       "      <td>NaN</td>\n",
       "      <td>1</td>\n",
       "    </tr>\n",
       "    <tr>\n",
       "      <th>1</th>\n",
       "      <td>T,loop</td>\n",
       "      <td>True</td>\n",
       "      <td>V</td>\n",
       "      <td>L</td>\n",
       "      <td>1jrh</td>\n",
       "      <td>NaN</td>\n",
       "      <td>2</td>\n",
       "      <td>NaN</td>\n",
       "      <td>NaN</td>\n",
       "      <td>NaN</td>\n",
       "      <td>2</td>\n",
       "    </tr>\n",
       "    <tr>\n",
       "      <th>2</th>\n",
       "      <td>T,loop</td>\n",
       "      <td>True</td>\n",
       "      <td>E</td>\n",
       "      <td>L</td>\n",
       "      <td>1jrh</td>\n",
       "      <td>NaN</td>\n",
       "      <td>3</td>\n",
       "      <td>NaN</td>\n",
       "      <td>NaN</td>\n",
       "      <td>NaN</td>\n",
       "      <td>3</td>\n",
       "    </tr>\n",
       "    <tr>\n",
       "      <th>3</th>\n",
       "      <td>E,strand</td>\n",
       "      <td>True</td>\n",
       "      <td>M</td>\n",
       "      <td>L</td>\n",
       "      <td>1jrh</td>\n",
       "      <td>NaN</td>\n",
       "      <td>4</td>\n",
       "      <td>NaN</td>\n",
       "      <td>NaN</td>\n",
       "      <td>NaN</td>\n",
       "      <td>4</td>\n",
       "    </tr>\n",
       "    <tr>\n",
       "      <th>4</th>\n",
       "      <td>E,strand</td>\n",
       "      <td>True</td>\n",
       "      <td>T</td>\n",
       "      <td>L</td>\n",
       "      <td>1jrh</td>\n",
       "      <td>NaN</td>\n",
       "      <td>5</td>\n",
       "      <td>NaN</td>\n",
       "      <td>NaN</td>\n",
       "      <td>NaN</td>\n",
       "      <td>5</td>\n",
       "    </tr>\n",
       "  </tbody>\n",
       "</table>\n",
       "</div>"
      ],
      "text/plain": [
       "   comments is_observed pdb_aa pdb_chain pdb_id pfam_id resnum uniprot_aa uniprot_id uniprot_position  residx\n",
       "0    T,loop        True      S         L   1jrh     NaN      1        NaN        NaN              NaN       1\n",
       "1    T,loop        True      V         L   1jrh     NaN      2        NaN        NaN              NaN       2\n",
       "2    T,loop        True      E         L   1jrh     NaN      3        NaN        NaN              NaN       3\n",
       "3  E,strand        True      M         L   1jrh     NaN      4        NaN        NaN              NaN       4\n",
       "4  E,strand        True      T         L   1jrh     NaN      5        NaN        NaN              NaN       5"
      ]
     },
     "execution_count": 69,
     "metadata": {},
     "output_type": "execute_result"
    }
   ],
   "source": [
    "sifts_dfs['1jrh'].head()"
   ]
  },
  {
   "cell_type": "code",
   "execution_count": 73,
   "metadata": {
    "collapsed": false
   },
   "outputs": [
    {
     "data": {
      "text/plain": [
       "'P01837'"
      ]
     },
     "execution_count": 73,
     "metadata": {},
     "output_type": "execute_result"
    }
   ],
   "source": [
    "get_partner_uniprot('L', sifts_dfs['1jrh'])"
   ]
  },
  {
   "cell_type": "code",
   "execution_count": 74,
   "metadata": {
    "collapsed": true
   },
   "outputs": [],
   "source": [
    "DF['partner_uniprot_id'] = [\n",
    "    get_partner_uniprot(partner_chain, sifts_dfs[pdb_id])\n",
    "    for pdb_id, partner_chain\n",
    "    in DF[['pdb_id', 'partner_pdb_chain']].values\n",
    "]"
   ]
  },
  {
   "cell_type": "code",
   "execution_count": 75,
   "metadata": {
    "collapsed": false
   },
   "outputs": [],
   "source": [
    "DF4_bak = DF.copy()"
   ]
  },
  {
   "cell_type": "markdown",
   "metadata": {},
   "source": [
    "## Summary"
   ]
  },
  {
   "cell_type": "code",
   "execution_count": 76,
   "metadata": {
    "collapsed": false
   },
   "outputs": [
    {
     "name": "stdout",
     "output_type": "stream",
     "text": [
      "Number of rows:                                             114\n",
      "--------------------------------------------------------------------------------\n",
      "Number of missing uniprots:                                 40\n",
      "Number of missing mutations:                                40\n",
      "Number of missing uniprots mutations:                       40\n",
      "--------------------------------------------------------------------------------\n",
      "Number of missing partner uniprots:                         114\n",
      "Number of missing partner uniprot mutations:                114\n",
      "--------------------------------------------------------------------------------\n",
      "Number of missing pfams:                                    45\n"
     ]
    }
   ],
   "source": [
    "print2(\"Number of rows:\", DF.shape[0])\n",
    "print('-' * 80)\n",
    "\n",
    "print2(\"Number of missing uniprots:\", DF['uniprot_id'].isnull().sum())\n",
    "print2(\"Number of missing mutations:\", DF['uniprot_mutation'].isnull().sum())\n",
    "print2(\"Number of missing uniprots mutations:\", \n",
    "       DF[['uniprot_id', 'uniprot_mutation']].isnull().any(axis=1).sum())\n",
    "print('-' * 80)\n",
    "\n",
    "print2(\"Number of missing partner uniprots:\", DF['partner_uniprot_id'].isnull().sum())\n",
    "print2(\"Number of missing partner uniprot mutations:\", \n",
    "       DF[['uniprot_id', 'partner_uniprot_id', 'uniprot_mutation']].isnull().any(axis=1).sum())\n",
    "print('-' * 80)\n",
    "\n",
    "print2(\"Number of missing pfams:\", DF['pfam_id'].isnull().sum())"
   ]
  },
  {
   "cell_type": "markdown",
   "metadata": {},
   "source": [
    "# Save to database"
   ]
  },
  {
   "cell_type": "code",
   "execution_count": 77,
   "metadata": {
    "collapsed": false,
    "run_control": {
     "marked": false
    }
   },
   "outputs": [],
   "source": [
    "DF = DF4_bak.copy()"
   ]
  },
  {
   "cell_type": "code",
   "execution_count": 78,
   "metadata": {
    "collapsed": false
   },
   "outputs": [
    {
     "data": {
      "text/html": [
       "<div>\n",
       "<table border=\"1\" class=\"dataframe\">\n",
       "  <thead>\n",
       "    <tr style=\"text-align: right;\">\n",
       "      <th></th>\n",
       "      <th>Mutation type</th>\n",
       "      <th>PDB</th>\n",
       "      <th>Mutation</th>\n",
       "      <th>Chain</th>\n",
       "      <th>Predicted</th>\n",
       "      <th>Experimental</th>\n",
       "      <th>pdb_id</th>\n",
       "      <th>pdb_chain</th>\n",
       "      <th>partner_pdb_chain</th>\n",
       "      <th>pdb_mutation</th>\n",
       "      <th>ddg_exp</th>\n",
       "      <th>pfam_id</th>\n",
       "      <th>uniprot_id</th>\n",
       "      <th>uniprot_mutation</th>\n",
       "      <th>pfam_clan</th>\n",
       "      <th>partner_uniprot_id</th>\n",
       "    </tr>\n",
       "  </thead>\n",
       "  <tbody>\n",
       "    <tr>\n",
       "      <th>0</th>\n",
       "      <td>Original</td>\n",
       "      <td>1JRH.pdb</td>\n",
       "      <td>E27A</td>\n",
       "      <td>L</td>\n",
       "      <td>-2.021</td>\n",
       "      <td>-0.54</td>\n",
       "      <td>1jrh</td>\n",
       "      <td>L</td>\n",
       "      <td>NaN</td>\n",
       "      <td>L_E27A</td>\n",
       "      <td>-0.54</td>\n",
       "      <td>NaN</td>\n",
       "      <td>NaN</td>\n",
       "      <td>NaN</td>\n",
       "      <td>NaN</td>\n",
       "      <td>NaN</td>\n",
       "    </tr>\n",
       "    <tr>\n",
       "      <th>1</th>\n",
       "      <td>Original</td>\n",
       "      <td>1JRH.pdb</td>\n",
       "      <td>D28A</td>\n",
       "      <td>L</td>\n",
       "      <td>-1.228</td>\n",
       "      <td>-0.44</td>\n",
       "      <td>1jrh</td>\n",
       "      <td>L</td>\n",
       "      <td>NaN</td>\n",
       "      <td>L_D28A</td>\n",
       "      <td>-0.44</td>\n",
       "      <td>NaN</td>\n",
       "      <td>NaN</td>\n",
       "      <td>NaN</td>\n",
       "      <td>NaN</td>\n",
       "      <td>NaN</td>\n",
       "    </tr>\n",
       "    <tr>\n",
       "      <th>2</th>\n",
       "      <td>Original</td>\n",
       "      <td>1JRH.pdb</td>\n",
       "      <td>Y30A</td>\n",
       "      <td>L</td>\n",
       "      <td>-1.800</td>\n",
       "      <td>-1.10</td>\n",
       "      <td>1jrh</td>\n",
       "      <td>L</td>\n",
       "      <td>NaN</td>\n",
       "      <td>L_Y30A</td>\n",
       "      <td>-1.10</td>\n",
       "      <td>NaN</td>\n",
       "      <td>NaN</td>\n",
       "      <td>NaN</td>\n",
       "      <td>NaN</td>\n",
       "      <td>NaN</td>\n",
       "    </tr>\n",
       "    <tr>\n",
       "      <th>3</th>\n",
       "      <td>Original</td>\n",
       "      <td>1JRH.pdb</td>\n",
       "      <td>K47A</td>\n",
       "      <td>I</td>\n",
       "      <td>-0.309</td>\n",
       "      <td>-3.60</td>\n",
       "      <td>1jrh</td>\n",
       "      <td>I</td>\n",
       "      <td>NaN</td>\n",
       "      <td>I_K47A</td>\n",
       "      <td>-3.60</td>\n",
       "      <td>PF01108</td>\n",
       "      <td>P15260</td>\n",
       "      <td>K64A</td>\n",
       "      <td>CL0159</td>\n",
       "      <td>NaN</td>\n",
       "    </tr>\n",
       "    <tr>\n",
       "      <th>4</th>\n",
       "      <td>Original</td>\n",
       "      <td>1JRH.pdb</td>\n",
       "      <td>Y32A</td>\n",
       "      <td>H</td>\n",
       "      <td>0.322</td>\n",
       "      <td>-1.40</td>\n",
       "      <td>1jrh</td>\n",
       "      <td>H</td>\n",
       "      <td>NaN</td>\n",
       "      <td>H_Y32A</td>\n",
       "      <td>-1.40</td>\n",
       "      <td>NaN</td>\n",
       "      <td>NaN</td>\n",
       "      <td>NaN</td>\n",
       "      <td>NaN</td>\n",
       "      <td>NaN</td>\n",
       "    </tr>\n",
       "  </tbody>\n",
       "</table>\n",
       "</div>"
      ],
      "text/plain": [
       "  Mutation type       PDB Mutation Chain  Predicted  Experimental pdb_id pdb_chain  partner_pdb_chain pdb_mutation  ddg_exp  pfam_id uniprot_id uniprot_mutation pfam_clan  partner_uniprot_id\n",
       "0      Original  1JRH.pdb     E27A     L     -2.021         -0.54   1jrh         L                NaN       L_E27A    -0.54      NaN        NaN              NaN       NaN                 NaN\n",
       "1      Original  1JRH.pdb     D28A     L     -1.228         -0.44   1jrh         L                NaN       L_D28A    -0.44      NaN        NaN              NaN       NaN                 NaN\n",
       "2      Original  1JRH.pdb     Y30A     L     -1.800         -1.10   1jrh         L                NaN       L_Y30A    -1.10      NaN        NaN              NaN       NaN                 NaN\n",
       "3      Original  1JRH.pdb     K47A     I     -0.309         -3.60   1jrh         I                NaN       I_K47A    -3.60  PF01108     P15260             K64A    CL0159                 NaN\n",
       "4      Original  1JRH.pdb     Y32A     H      0.322         -1.40   1jrh         H                NaN       H_Y32A    -1.40      NaN        NaN              NaN       NaN                 NaN"
      ]
     },
     "execution_count": 78,
     "metadata": {},
     "output_type": "execute_result"
    }
   ],
   "source": [
    "DF.head()"
   ]
  },
  {
   "cell_type": "code",
   "execution_count": 79,
   "metadata": {
    "collapsed": true
   },
   "outputs": [],
   "source": [
    "columns = [\n",
    "    'uniprot_id', 'partner_uniprot_id', 'uniprot_mutation',\n",
    "    'pdb_id', 'pdb_chain', 'partner_pdb_chain', 'pdb_mutation',\n",
    "    \n",
    "]"
   ]
  },
  {
   "cell_type": "code",
   "execution_count": 80,
   "metadata": {
    "collapsed": false
   },
   "outputs": [
    {
     "data": {
      "text/html": [
       "<div>\n",
       "<table border=\"1\" class=\"dataframe\">\n",
       "  <thead>\n",
       "    <tr style=\"text-align: right;\">\n",
       "      <th></th>\n",
       "      <th>uniprot_id</th>\n",
       "      <th>partner_uniprot_id</th>\n",
       "      <th>uniprot_mutation</th>\n",
       "      <th>pdb_id</th>\n",
       "      <th>pdb_chain</th>\n",
       "      <th>partner_pdb_chain</th>\n",
       "      <th>pdb_mutation</th>\n",
       "    </tr>\n",
       "  </thead>\n",
       "  <tbody>\n",
       "    <tr>\n",
       "      <th>0</th>\n",
       "      <td>NaN</td>\n",
       "      <td>NaN</td>\n",
       "      <td>NaN</td>\n",
       "      <td>1jrh</td>\n",
       "      <td>L</td>\n",
       "      <td>NaN</td>\n",
       "      <td>L_E27A</td>\n",
       "    </tr>\n",
       "    <tr>\n",
       "      <th>1</th>\n",
       "      <td>NaN</td>\n",
       "      <td>NaN</td>\n",
       "      <td>NaN</td>\n",
       "      <td>1jrh</td>\n",
       "      <td>L</td>\n",
       "      <td>NaN</td>\n",
       "      <td>L_D28A</td>\n",
       "    </tr>\n",
       "    <tr>\n",
       "      <th>2</th>\n",
       "      <td>NaN</td>\n",
       "      <td>NaN</td>\n",
       "      <td>NaN</td>\n",
       "      <td>1jrh</td>\n",
       "      <td>L</td>\n",
       "      <td>NaN</td>\n",
       "      <td>L_Y30A</td>\n",
       "    </tr>\n",
       "    <tr>\n",
       "      <th>3</th>\n",
       "      <td>P15260</td>\n",
       "      <td>NaN</td>\n",
       "      <td>K64A</td>\n",
       "      <td>1jrh</td>\n",
       "      <td>I</td>\n",
       "      <td>NaN</td>\n",
       "      <td>I_K47A</td>\n",
       "    </tr>\n",
       "    <tr>\n",
       "      <th>4</th>\n",
       "      <td>NaN</td>\n",
       "      <td>NaN</td>\n",
       "      <td>NaN</td>\n",
       "      <td>1jrh</td>\n",
       "      <td>H</td>\n",
       "      <td>NaN</td>\n",
       "      <td>H_Y32A</td>\n",
       "    </tr>\n",
       "  </tbody>\n",
       "</table>\n",
       "</div>"
      ],
      "text/plain": [
       "  uniprot_id  partner_uniprot_id uniprot_mutation pdb_id pdb_chain  partner_pdb_chain pdb_mutation\n",
       "0        NaN                 NaN              NaN   1jrh         L                NaN       L_E27A\n",
       "1        NaN                 NaN              NaN   1jrh         L                NaN       L_D28A\n",
       "2        NaN                 NaN              NaN   1jrh         L                NaN       L_Y30A\n",
       "3     P15260                 NaN             K64A   1jrh         I                NaN       I_K47A\n",
       "4        NaN                 NaN              NaN   1jrh         H                NaN       H_Y32A"
      ]
     },
     "execution_count": 80,
     "metadata": {},
     "output_type": "execute_result"
    }
   ],
   "source": [
    "DF[columns].head()"
   ]
  },
  {
   "cell_type": "code",
   "execution_count": 90,
   "metadata": {
    "collapsed": false
   },
   "outputs": [
    {
     "data": {
      "text/plain": [
       "(114, 16)"
      ]
     },
     "execution_count": 90,
     "metadata": {},
     "output_type": "execute_result"
    }
   ],
   "source": [
    "DF[DF['partner_pdb_chain'].isnull()].shape"
   ]
  },
  {
   "cell_type": "code",
   "execution_count": 103,
   "metadata": {
    "collapsed": true
   },
   "outputs": [],
   "source": [
    "groupby_columns = [\n",
    "    'pdb_id', 'pdb_chain', 'pdb_mutation',\n",
    "]\n",
    "extra_columns = [\n",
    "    'partner_pdb_chain',\n",
    "    'uniprot_id', 'partner_uniprot_id', 'uniprot_mutation', 'pfam_id', 'pfam_clan',\n",
    "]\n",
    "data_columns = [\n",
    "    'ddg_exp'\n",
    "]"
   ]
  },
  {
   "cell_type": "code",
   "execution_count": 104,
   "metadata": {
    "collapsed": true
   },
   "outputs": [],
   "source": [
    "# Average over duplicate mutations\n",
    "df = (\n",
    "    DF\n",
    "    # .dropna(subset=['pdb_id', 'pdb_chain', 'partner_pdb_chain', 'pdb_mutation'])\n",
    "    .groupby(groupby_columns)\n",
    "    .agg({**{c: lambda x: x.iloc[0] for c in extra_columns}, **{c: 'mean' for c in data_columns}})\n",
    "    .reset_index()\n",
    ")"
   ]
  },
  {
   "cell_type": "code",
   "execution_count": 106,
   "metadata": {
    "collapsed": false
   },
   "outputs": [
    {
     "name": "stdout",
     "output_type": "stream",
     "text": [
      "Unique mutations affecting only 1 chain:                    114\n"
     ]
    }
   ],
   "source": [
    "print2('Unique mutations affecting only 1 chain:', df.shape[0])"
   ]
  },
  {
   "cell_type": "code",
   "execution_count": 107,
   "metadata": {
    "collapsed": false,
    "run_control": {
     "marked": false
    }
   },
   "outputs": [
    {
     "name": "stderr",
     "output_type": "stream",
     "text": [
      "Loading data into MySQL table: 'benedix_et_al'...\n",
      "mysql --local-infile --socket=/tmp/strokach/protein_interaction_energy/mysql.sock -u root protein_interaction_energy -e \"load data local infile '/tmp/strokach/protein_interaction_energy/benedix_et_al.tsv' into table `benedix_et_al` fields terminated by '\\t' optionally enclosed by '\\\"' ignore 1 lines;  show warnings;\" \n",
      "Running locally\n",
      "Command ran successfully:\n",
      "\n"
     ]
    }
   ],
   "source": [
    "t = db.import_df(\n",
    "    df[groupby_columns + extra_columns + data_columns], \n",
    "    NOTEBOOK_NAME)"
   ]
  },
  {
   "cell_type": "code",
   "execution_count": 108,
   "metadata": {
    "collapsed": false
   },
   "outputs": [],
   "source": [
    "t.create_indexes([\n",
    "    (['pdb_id', 'pdb_chain', 'partner_pdb_chain', 'pdb_mutation'], True),\n",
    "    (['uniprot_id', 'partner_uniprot_id', 'uniprot_mutation'], False),\n",
    "])"
   ]
  },
  {
   "cell_type": "code",
   "execution_count": 109,
   "metadata": {
    "collapsed": false,
    "scrolled": true
   },
   "outputs": [
    {
     "data": {
      "text/plain": [
       "114"
      ]
     },
     "execution_count": 109,
     "metadata": {},
     "output_type": "execute_result"
    }
   ],
   "source": [
    "t.add_idx_column()"
   ]
  },
  {
   "cell_type": "code",
   "execution_count": 110,
   "metadata": {
    "collapsed": false,
    "scrolled": true
   },
   "outputs": [
    {
     "name": "stdout",
     "output_type": "stream",
     "text": [
      "-rw-rw---- 1 strokach kimlab 2.9K Aug 21 20:49 /home/kimlab1/database_data/biodb/recipes/protein_interaction_energy/notebooks/mysqld/protein_interaction_energy/ab_bind.frm\r\n",
      "-rw-rw---- 1 strokach kimlab  18K Aug 21 20:49 /home/kimlab1/database_data/biodb/recipes/protein_interaction_energy/notebooks/mysqld/protein_interaction_energy/ab_bind.MYD\r\n",
      "-rw-rw---- 1 strokach kimlab  31K Aug 21 20:49 /home/kimlab1/database_data/biodb/recipes/protein_interaction_energy/notebooks/mysqld/protein_interaction_energy/ab_bind.MYI\r\n"
     ]
    }
   ],
   "source": [
    "!ls -lh /home/kimlab1/database_data/biodb/recipes/protein_interaction_energy/notebooks/mysqld/protein_interaction_energy/ab_bind.*"
   ]
  },
  {
   "cell_type": "code",
   "execution_count": 111,
   "metadata": {
    "collapsed": false
   },
   "outputs": [
    {
     "name": "stderr",
     "output_type": "stream",
     "text": [
      "system_command: 'myisampack --no-defaults '/home/kimlab1/database_data/biodb/recipes/protein_interaction_energy/notebooks/mysqld/protein_interaction_energy/benedix_et_al.MYI''\n",
      "Remember to run myisamchk -rq on compressed tables\n",
      "system_command: 'myisamchk -rq '/home/kimlab1/database_data/biodb/recipes/protein_interaction_energy/notebooks/mysqld/protein_interaction_energy/benedix_et_al.MYI''\n",
      "- check record delete-chain\n",
      "- recovering (with sort) MyISAM-table '/home/kimlab1/database_data/biodb/recipes/protein_interaction_energy/notebooks/mysqld/protein_interaction_energy/benedix_et_al.MYI'\n",
      "Data records: 114\n",
      "- Fixing index 1\n",
      "- Fixing index 2\n",
      "- Fixing index 3\n",
      "File size before: 0.01 MB\n",
      "File size after: 0.00 MB\n",
      "File size savings: 0.00 MB (53.92 %)\n"
     ]
    },
    {
     "data": {
      "text/plain": [
       "(CompletedProcess(args=['myisampack', '--no-defaults', '/home/kimlab1/database_data/biodb/recipes/protein_interaction_energy/notebooks/mysqld/protein_interaction_energy/benedix_et_al.MYI'], returncode=0, stdout='Remember to run myisamchk -rq on compressed tables\\n', stderr=''),\n",
       " CompletedProcess(args=['myisamchk', '-rq', '/home/kimlab1/database_data/biodb/recipes/protein_interaction_energy/notebooks/mysqld/protein_interaction_energy/benedix_et_al.MYI'], returncode=0, stdout=\"- check record delete-chain\\n- recovering (with sort) MyISAM-table '/home/kimlab1/database_data/biodb/recipes/protein_interaction_energy/notebooks/mysqld/protein_interaction_energy/benedix_et_al.MYI'\\nData records: 114\\n- Fixing index 1\\n- Fixing index 2\\n- Fixing index 3\\n\", stderr=''))"
      ]
     },
     "execution_count": 111,
     "metadata": {},
     "output_type": "execute_result"
    }
   ],
   "source": [
    "t.compress()"
   ]
  },
  {
   "cell_type": "code",
   "execution_count": 112,
   "metadata": {
    "collapsed": false
   },
   "outputs": [
    {
     "name": "stdout",
     "output_type": "stream",
     "text": [
      "-rw-rw---- 1 strokach kimlab 2.9K Aug 21 20:49 /home/kimlab1/database_data/biodb/recipes/protein_interaction_energy/notebooks/mysqld/protein_interaction_energy/ab_bind.frm\r\n",
      "-rw-rw---- 1 strokach kimlab  18K Aug 21 20:49 /home/kimlab1/database_data/biodb/recipes/protein_interaction_energy/notebooks/mysqld/protein_interaction_energy/ab_bind.MYD\r\n",
      "-rw-rw---- 1 strokach kimlab  31K Aug 21 20:49 /home/kimlab1/database_data/biodb/recipes/protein_interaction_energy/notebooks/mysqld/protein_interaction_energy/ab_bind.MYI\r\n"
     ]
    }
   ],
   "source": [
    "!ls -lh /home/kimlab1/database_data/biodb/recipes/protein_interaction_energy/notebooks/mysqld/protein_interaction_energy/ab_bind.*"
   ]
  },
  {
   "cell_type": "code",
   "execution_count": 113,
   "metadata": {
    "collapsed": false
   },
   "outputs": [
    {
     "name": "stdout",
     "output_type": "stream",
     "text": [
      "2016-08-23 19:45:01.315830\n"
     ]
    }
   ],
   "source": [
    "print(datetime.datetime.now())"
   ]
  }
 ],
 "metadata": {
  "anaconda-cloud": {},
  "kernelspec": {
   "display_name": "Python [Root]",
   "language": "python",
   "name": "Python [Root]"
  },
  "language_info": {
   "codemirror_mode": {
    "name": "ipython",
    "version": 3
   },
   "file_extension": ".py",
   "mimetype": "text/x-python",
   "name": "python",
   "nbconvert_exporter": "python",
   "pygments_lexer": "ipython3",
   "version": "3.5.2"
  },
  "toc": {
   "navigate_menu": false,
   "number_sections": true,
   "sideBar": false,
   "threshold": 6,
   "toc_cell": true,
   "toc_section_display": "block",
   "toc_window_display": true
  },
  "toc_position": {
   "height": "324px",
   "left": "123.247px",
   "right": "20px",
   "top": "47.9861px",
   "width": "230px"
  }
 },
 "nbformat": 4,
 "nbformat_minor": 0
}
