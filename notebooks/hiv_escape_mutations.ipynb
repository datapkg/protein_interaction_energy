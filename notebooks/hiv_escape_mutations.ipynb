{
 "cells": [
  {
   "cell_type": "markdown",
   "metadata": {
    "toc": "true"
   },
   "source": [
    "# Table of Contents\n",
    " <p><div class=\"lev1\"><a href=\"#Summary\"><span class=\"toc-item-num\">1&nbsp;&nbsp;</span>Summary</a></div><div class=\"lev1\"><a href=\"#Imports\"><span class=\"toc-item-num\">2&nbsp;&nbsp;</span>Imports</a></div><div class=\"lev1\"><a href=\"#Download\"><span class=\"toc-item-num\">3&nbsp;&nbsp;</span>Download</a></div><div class=\"lev1\"><a href=\"#Load-data\"><span class=\"toc-item-num\">4&nbsp;&nbsp;</span>Load data</a></div><div class=\"lev2\"><a href=\"#PDB-chain-/-mutation-(DF1)\"><span class=\"toc-item-num\">4.1&nbsp;&nbsp;</span>PDB chain / mutation (DF1)</a></div><div class=\"lev2\"><a href=\"#UniProt-info-(DF2)\"><span class=\"toc-item-num\">4.2&nbsp;&nbsp;</span>UniProt info (DF2)</a></div><div class=\"lev2\"><a href=\"#Pfam-clan-(DF3)\"><span class=\"toc-item-num\">4.3&nbsp;&nbsp;</span>Pfam clan (DF3)</a></div><div class=\"lev2\"><a href=\"#Partner-chain-(DF4)\"><span class=\"toc-item-num\">4.4&nbsp;&nbsp;</span>Partner chain (DF4)</a></div><div class=\"lev2\"><a href=\"#Summary\"><span class=\"toc-item-num\">4.5&nbsp;&nbsp;</span>Summary</a></div><div class=\"lev1\"><a href=\"#Save-to-database\"><span class=\"toc-item-num\">5&nbsp;&nbsp;</span>Save to database</a></div>"
   ]
  },
  {
   "cell_type": "markdown",
   "metadata": {},
   "source": [
    "# Summary\n",
    "\n",
    "\n",
    "[Mechanism of Neutralization by the Broadly Neutralizing HIV-1 Monoclonal Antibody VRC01](http://doi.org/10.1128/JVI.00754-11)\n",
    "\n",
    "----"
   ]
  },
  {
   "cell_type": "markdown",
   "metadata": {},
   "source": [
    "# Imports"
   ]
  },
  {
   "cell_type": "code",
   "execution_count": 2,
   "metadata": {
    "collapsed": false
   },
   "outputs": [
    {
     "name": "stdout",
     "output_type": "stream",
     "text": [
      "2016-08-23 19:51:15.715472\n"
     ]
    }
   ],
   "source": [
    "%run imports.ipynb"
   ]
  },
  {
   "cell_type": "code",
   "execution_count": 3,
   "metadata": {
    "collapsed": false,
    "scrolled": true
   },
   "outputs": [
    {
     "name": "stderr",
     "output_type": "stream",
     "text": [
      "Starting MySQL database...\n"
     ]
    },
    {
     "name": "stdout",
     "output_type": "stream",
     "text": [
      "The autoreload extension is already loaded. To reload it, use:\n",
      "  %reload_ext autoreload\n",
      "2016-08-23 19:51:15.885648\n"
     ]
    }
   ],
   "source": [
    "%run mysqld.ipynb"
   ]
  },
  {
   "cell_type": "code",
   "execution_count": 5,
   "metadata": {
    "collapsed": false
   },
   "outputs": [],
   "source": [
    "NOTEBOOK_NAME = 'hiv_escape_mutations'\n",
    "os.environ['NOTEBOOK_NAME'] = NOTEBOOK_NAME\n",
    "os.makedirs(NOTEBOOK_NAME, exist_ok=True)"
   ]
  },
  {
   "cell_type": "markdown",
   "metadata": {},
   "source": [
    "# Download\n",
    "\n",
    "Convert figures found [here](http://jvi.asm.org/content/85/17/8954/F1.expansion.html) to CSV files using [Online OCR](http://www.onlineocr.net/)."
   ]
  },
  {
   "cell_type": "raw",
   "metadata": {},
   "source": [
    "INPUT_URL = (\n",
    "    \"http://bleoberis.bioc.cam.ac.uk/mcsm_ab/static/datasets/HIV_escape_mutations.csv\"\n",
    ")\n",
    "INPUT_FILE = op.join(NOTEBOOK_NAME, 'HIV_escape_mutations.csv')"
   ]
  },
  {
   "cell_type": "raw",
   "metadata": {},
   "source": [
    "%%bash -s $INPUT_URL $INPUT_FILE\n",
    "set -ev\n",
    "INPUT_URL=\"$1\"\n",
    "INPUT_FILE=\"$2\"\n",
    "\n",
    "if [[ ! -e \"$INPUT_FILE\" ]] ; then\n",
    "    wget -c --no-verbose \"$INPUT_URL\" -O \"$INPUT_FILE\"\n",
    "    # git lfs track \"./$INPUT_FILE\"\n",
    "    git add -f \"./$INPUT_FILE\" \n",
    "fi"
   ]
  },
  {
   "cell_type": "raw",
   "metadata": {},
   "source": [
    "INPUT_FILE = op.abspath(op.join(NOTEBOOK_NAME, 'HIV_escape_mutations.csv'))"
   ]
  },
  {
   "cell_type": "code",
   "execution_count": 534,
   "metadata": {
    "collapsed": false
   },
   "outputs": [],
   "source": [
    "INPUT_FILE = op.abspath(op.join(NOTEBOOK_NAME, 'HIV_escape_mutations_from_pictures.csv'))"
   ]
  },
  {
   "cell_type": "markdown",
   "metadata": {},
   "source": [
    "# Load data"
   ]
  },
  {
   "cell_type": "raw",
   "metadata": {
    "collapsed": false
   },
   "source": [
    "DF = pd.read_csv(INPUT_FILE, sep='\\t')"
   ]
  },
  {
   "cell_type": "code",
   "execution_count": 535,
   "metadata": {
    "collapsed": false
   },
   "outputs": [],
   "source": [
    "DF = pd.read_csv(INPUT_FILE, sep='\\t', names=['mutation', 'score'], na_values=['ND'])"
   ]
  },
  {
   "cell_type": "code",
   "execution_count": 536,
   "metadata": {
    "collapsed": false,
    "scrolled": true
   },
   "outputs": [
    {
     "data": {
      "text/html": [
       "<div>\n",
       "<table border=\"1\" class=\"dataframe\">\n",
       "  <thead>\n",
       "    <tr style=\"text-align: right;\">\n",
       "      <th></th>\n",
       "      <th>mutation</th>\n",
       "      <th>score</th>\n",
       "    </tr>\n",
       "  </thead>\n",
       "  <tbody>\n",
       "    <tr>\n",
       "      <th>0</th>\n",
       "      <td>E87A</td>\n",
       "      <td>98.0</td>\n",
       "    </tr>\n",
       "    <tr>\n",
       "      <th>1</th>\n",
       "      <td>M95A</td>\n",
       "      <td>82.0</td>\n",
       "    </tr>\n",
       "    <tr>\n",
       "      <th>2</th>\n",
       "      <td>K97A</td>\n",
       "      <td>88.0</td>\n",
       "    </tr>\n",
       "    <tr>\n",
       "      <th>3</th>\n",
       "      <td>E102A</td>\n",
       "      <td>100.0</td>\n",
       "    </tr>\n",
       "    <tr>\n",
       "      <th>4</th>\n",
       "      <td>W112A</td>\n",
       "      <td>105.0</td>\n",
       "    </tr>\n",
       "  </tbody>\n",
       "</table>\n",
       "</div>"
      ],
      "text/plain": [
       "  mutation  score\n",
       "0     E87A   98.0\n",
       "1     M95A   82.0\n",
       "2     K97A   88.0\n",
       "3    E102A  100.0\n",
       "4    W112A  105.0"
      ]
     },
     "execution_count": 536,
     "metadata": {},
     "output_type": "execute_result"
    }
   ],
   "source": [
    "DF.head()"
   ]
  },
  {
   "cell_type": "code",
   "execution_count": 537,
   "metadata": {
    "collapsed": false
   },
   "outputs": [
    {
     "data": {
      "text/plain": [
       "(119,)"
      ]
     },
     "execution_count": 537,
     "metadata": {},
     "output_type": "execute_result"
    }
   ],
   "source": [
    "DF['mutation'].drop_duplicates().shape"
   ]
  },
  {
   "cell_type": "markdown",
   "metadata": {},
   "source": [
    "## PDB chain / mutation (DF1)"
   ]
  },
  {
   "cell_type": "code",
   "execution_count": 538,
   "metadata": {
    "collapsed": true
   },
   "outputs": [],
   "source": [
    "def fix_mutation(mutation):\n",
    "    mutation_pos = int(mutation[1:-1])\n",
    "    # if mutation_pos > 301 and mutation_pos < 350:\n",
    "    mutation_pos = mutation_pos\n",
    "    return mutation[0] + str(mutation_pos) + mutation[-1]"
   ]
  },
  {
   "cell_type": "code",
   "execution_count": 539,
   "metadata": {
    "collapsed": false
   },
   "outputs": [],
   "source": [
    "DF['pdb_id'] = '3ngb'\n",
    "DF['pdb_chain'] = 'G'\n",
    "DF['partner_pdb_chain'] = np.nan\n",
    "# The provided mutations are refersed, don't know why...\n",
    "DF['pdb_mutation'] = DF['pdb_chain'] + '_' + DF['mutation'].apply(fix_mutation)\n",
    "DF['ddg_exp'] = DF['score']"
   ]
  },
  {
   "cell_type": "code",
   "execution_count": 540,
   "metadata": {
    "collapsed": false
   },
   "outputs": [
    {
     "data": {
      "text/html": [
       "<div>\n",
       "<table border=\"1\" class=\"dataframe\">\n",
       "  <thead>\n",
       "    <tr style=\"text-align: right;\">\n",
       "      <th></th>\n",
       "      <th>mutation</th>\n",
       "      <th>score</th>\n",
       "      <th>pdb_id</th>\n",
       "      <th>pdb_chain</th>\n",
       "      <th>partner_pdb_chain</th>\n",
       "      <th>pdb_mutation</th>\n",
       "      <th>ddg_exp</th>\n",
       "    </tr>\n",
       "  </thead>\n",
       "  <tbody>\n",
       "    <tr>\n",
       "      <th>0</th>\n",
       "      <td>E87A</td>\n",
       "      <td>98.0</td>\n",
       "      <td>3ngb</td>\n",
       "      <td>G</td>\n",
       "      <td>NaN</td>\n",
       "      <td>G_E87A</td>\n",
       "      <td>98.0</td>\n",
       "    </tr>\n",
       "    <tr>\n",
       "      <th>1</th>\n",
       "      <td>M95A</td>\n",
       "      <td>82.0</td>\n",
       "      <td>3ngb</td>\n",
       "      <td>G</td>\n",
       "      <td>NaN</td>\n",
       "      <td>G_M95A</td>\n",
       "      <td>82.0</td>\n",
       "    </tr>\n",
       "    <tr>\n",
       "      <th>2</th>\n",
       "      <td>K97A</td>\n",
       "      <td>88.0</td>\n",
       "      <td>3ngb</td>\n",
       "      <td>G</td>\n",
       "      <td>NaN</td>\n",
       "      <td>G_K97A</td>\n",
       "      <td>88.0</td>\n",
       "    </tr>\n",
       "    <tr>\n",
       "      <th>3</th>\n",
       "      <td>E102A</td>\n",
       "      <td>100.0</td>\n",
       "      <td>3ngb</td>\n",
       "      <td>G</td>\n",
       "      <td>NaN</td>\n",
       "      <td>G_E102A</td>\n",
       "      <td>100.0</td>\n",
       "    </tr>\n",
       "    <tr>\n",
       "      <th>4</th>\n",
       "      <td>W112A</td>\n",
       "      <td>105.0</td>\n",
       "      <td>3ngb</td>\n",
       "      <td>G</td>\n",
       "      <td>NaN</td>\n",
       "      <td>G_W112A</td>\n",
       "      <td>105.0</td>\n",
       "    </tr>\n",
       "  </tbody>\n",
       "</table>\n",
       "</div>"
      ],
      "text/plain": [
       "  mutation  score pdb_id pdb_chain  partner_pdb_chain pdb_mutation  ddg_exp\n",
       "0     E87A   98.0   3ngb         G                NaN       G_E87A     98.0\n",
       "1     M95A   82.0   3ngb         G                NaN       G_M95A     82.0\n",
       "2     K97A   88.0   3ngb         G                NaN       G_K97A     88.0\n",
       "3    E102A  100.0   3ngb         G                NaN      G_E102A    100.0\n",
       "4    W112A  105.0   3ngb         G                NaN      G_W112A    105.0"
      ]
     },
     "metadata": {},
     "output_type": "display_data"
    },
    {
     "name": "stdout",
     "output_type": "stream",
     "text": [
      "119\n"
     ]
    }
   ],
   "source": [
    "display(DF.head())\n",
    "print(DF.shape[0])"
   ]
  },
  {
   "cell_type": "code",
   "execution_count": 541,
   "metadata": {
    "collapsed": true
   },
   "outputs": [],
   "source": [
    "DF1_bak = DF.copy()"
   ]
  },
  {
   "cell_type": "markdown",
   "metadata": {},
   "source": [
    "## UniProt info (DF2)"
   ]
  },
  {
   "cell_type": "code",
   "execution_count": 542,
   "metadata": {
    "collapsed": true
   },
   "outputs": [],
   "source": [
    "DF = DF1_bak.copy()"
   ]
  },
  {
   "cell_type": "code",
   "execution_count": 543,
   "metadata": {
    "collapsed": false
   },
   "outputs": [],
   "source": [
    "pdb_id = '3ngb'"
   ]
  },
  {
   "cell_type": "code",
   "execution_count": 544,
   "metadata": {
    "collapsed": false,
    "run_control": {
     "marked": false
    }
   },
   "outputs": [],
   "source": [
    "sifts_df = ascommon.pdb_tools.sifts.get_sifts_data(pdb_id)"
   ]
  },
  {
   "cell_type": "code",
   "execution_count": 545,
   "metadata": {
    "collapsed": false
   },
   "outputs": [
    {
     "data": {
      "text/html": [
       "<div>\n",
       "<table border=\"1\" class=\"dataframe\">\n",
       "  <thead>\n",
       "    <tr style=\"text-align: right;\">\n",
       "      <th></th>\n",
       "      <th>comments</th>\n",
       "      <th>is_observed</th>\n",
       "      <th>pdb_aa</th>\n",
       "      <th>pdb_chain</th>\n",
       "      <th>pdb_id</th>\n",
       "      <th>pfam_id</th>\n",
       "      <th>resnum</th>\n",
       "      <th>uniprot_aa</th>\n",
       "      <th>uniprot_id</th>\n",
       "      <th>uniprot_position</th>\n",
       "      <th>residx</th>\n",
       "    </tr>\n",
       "  </thead>\n",
       "  <tbody>\n",
       "    <tr>\n",
       "      <th>0</th>\n",
       "      <td>T,loop</td>\n",
       "      <td>True</td>\n",
       "      <td>V</td>\n",
       "      <td>G</td>\n",
       "      <td>3ngb</td>\n",
       "      <td>PF00516</td>\n",
       "      <td>44</td>\n",
       "      <td>V</td>\n",
       "      <td>Q0ED31</td>\n",
       "      <td>43</td>\n",
       "      <td>1</td>\n",
       "    </tr>\n",
       "    <tr>\n",
       "      <th>1</th>\n",
       "      <td>E,strand</td>\n",
       "      <td>True</td>\n",
       "      <td>W</td>\n",
       "      <td>G</td>\n",
       "      <td>3ngb</td>\n",
       "      <td>PF00516</td>\n",
       "      <td>45</td>\n",
       "      <td>W</td>\n",
       "      <td>Q0ED31</td>\n",
       "      <td>44</td>\n",
       "      <td>2</td>\n",
       "    </tr>\n",
       "    <tr>\n",
       "      <th>2</th>\n",
       "      <td>E,strand</td>\n",
       "      <td>True</td>\n",
       "      <td>K</td>\n",
       "      <td>G</td>\n",
       "      <td>3ngb</td>\n",
       "      <td>PF00516</td>\n",
       "      <td>46</td>\n",
       "      <td>K</td>\n",
       "      <td>Q0ED31</td>\n",
       "      <td>45</td>\n",
       "      <td>3</td>\n",
       "    </tr>\n",
       "    <tr>\n",
       "      <th>3</th>\n",
       "      <td>E,strand</td>\n",
       "      <td>True</td>\n",
       "      <td>D</td>\n",
       "      <td>G</td>\n",
       "      <td>3ngb</td>\n",
       "      <td>PF00516</td>\n",
       "      <td>47</td>\n",
       "      <td>D</td>\n",
       "      <td>Q0ED31</td>\n",
       "      <td>46</td>\n",
       "      <td>4</td>\n",
       "    </tr>\n",
       "    <tr>\n",
       "      <th>4</th>\n",
       "      <td>T,loop</td>\n",
       "      <td>True</td>\n",
       "      <td>A</td>\n",
       "      <td>G</td>\n",
       "      <td>3ngb</td>\n",
       "      <td>PF00516</td>\n",
       "      <td>48</td>\n",
       "      <td>A</td>\n",
       "      <td>Q0ED31</td>\n",
       "      <td>47</td>\n",
       "      <td>5</td>\n",
       "    </tr>\n",
       "  </tbody>\n",
       "</table>\n",
       "</div>"
      ],
      "text/plain": [
       "   comments is_observed pdb_aa pdb_chain pdb_id  pfam_id resnum uniprot_aa uniprot_id uniprot_position  residx\n",
       "0    T,loop        True      V         G   3ngb  PF00516     44          V     Q0ED31               43       1\n",
       "1  E,strand        True      W         G   3ngb  PF00516     45          W     Q0ED31               44       2\n",
       "2  E,strand        True      K         G   3ngb  PF00516     46          K     Q0ED31               45       3\n",
       "3  E,strand        True      D         G   3ngb  PF00516     47          D     Q0ED31               46       4\n",
       "4    T,loop        True      A         G   3ngb  PF00516     48          A     Q0ED31               47       5"
      ]
     },
     "execution_count": 545,
     "metadata": {},
     "output_type": "execute_result"
    }
   ],
   "source": [
    "sifts_df.head()"
   ]
  },
  {
   "cell_type": "code",
   "execution_count": 546,
   "metadata": {
    "collapsed": false
   },
   "outputs": [
    {
     "data": {
      "text/plain": [
       "comments            object\n",
       "is_observed           bool\n",
       "pdb_aa              object\n",
       "pdb_chain           object\n",
       "pdb_id              object\n",
       "pfam_id             object\n",
       "resnum              object\n",
       "uniprot_aa          object\n",
       "uniprot_id          object\n",
       "uniprot_position    object\n",
       "residx               int64\n",
       "dtype: object"
      ]
     },
     "execution_count": 546,
     "metadata": {},
     "output_type": "execute_result"
    }
   ],
   "source": [
    "sifts_df.dtypes"
   ]
  },
  {
   "cell_type": "code",
   "execution_count": 547,
   "metadata": {
    "collapsed": false
   },
   "outputs": [],
   "source": [
    "def get_sifts_data(pdb_chain_mutations):\n",
    "    pdb_chain, pdb_mutation = pdb_chain_mutations.split('_')\n",
    "    row = (\n",
    "        sifts_df[\n",
    "            (sifts_df['pdb_chain'] == pdb_chain) &\n",
    "            (sifts_df['pdb_aa'] == pdb_mutation[0]) &\n",
    "            (sifts_df['resnum'] == pdb_mutation[1:-1])\n",
    "        ]\n",
    "    )\n",
    "    if row.shape[0] == 0:\n",
    "        print(\"Could not convert '{}'\".format(pdb_chain_mutations))\n",
    "        return np.nan, np.nan, np.nan\n",
    "    elif row.shape[0] > 1:\n",
    "        print(\"Too many rows returned!\")\n",
    "        print(row)\n",
    "    row = row.iloc[0]\n",
    "    if row['pdb_aa'] != row['uniprot_aa']:\n",
    "        print(\"Warning! PDB and UniProt do not match!\")\n",
    "        print(row)\n",
    "    uniprot_id = row['uniprot_id']\n",
    "    uniprot_mutation = row['uniprot_aa'] + row['uniprot_position'] + pdb_mutation[-1]\n",
    "    pfam_id = row['pfam_id']\n",
    "    return uniprot_id, uniprot_mutation, pfam_id\n",
    "\n",
    "\n",
    "# get_sifts_data('G_E87A')\n",
    "assert get_sifts_data('G_E87A') == ('Q0ED31', 'E86A', 'PF00516')"
   ]
  },
  {
   "cell_type": "code",
   "execution_count": 548,
   "metadata": {
    "collapsed": false
   },
   "outputs": [
    {
     "data": {
      "text/plain": [
       "(119, 7)"
      ]
     },
     "execution_count": 548,
     "metadata": {},
     "output_type": "execute_result"
    }
   ],
   "source": [
    "DF.shape"
   ]
  },
  {
   "cell_type": "code",
   "execution_count": 549,
   "metadata": {
    "collapsed": false,
    "scrolled": true
   },
   "outputs": [
    {
     "name": "stdout",
     "output_type": "stream",
     "text": [
      "Could not convert 'G_L125A'\n",
      "Could not convert 'G_V127A'\n",
      "Could not convert 'G_N156A'\n",
      "Could not convert 'G_N160K'\n",
      "Could not convert 'G_T162A'\n",
      "Could not convert 'G_I165K'\n",
      "Could not convert 'G_I165A'\n",
      "Could not convert 'G_R166A'\n",
      "Could not convert 'G_D167N'\n",
      "Could not convert 'G_K171A'\n",
      "Could not convert 'G_E172A'\n",
      "Could not convert 'G_F176A'\n",
      "Could not convert 'G_Y177A'\n",
      "Could not convert 'G_L179A'\n",
      "Could not convert 'G_D180A'\n",
      "Could not convert 'G_V182A'\n",
      "Could not convert 'G_I184A'\n",
      "Could not convert 'G_D185A'\n",
      "Could not convert 'G_T190A'\n",
      "Could not convert 'G_N197A'\n",
      "Could not convert 'G_N197K'\n",
      "Could not convert 'G_N197T'\n",
      "Could not convert 'G_T198A'\n",
      "Could not convert 'G_T202A'\n",
      "Could not convert 'G_R252A'\n",
      "Could not convert 'G_R253A'\n",
      "Could not convert 'G_D279A'\n",
      "Could not convert 'G_N302A'\n",
      "Could not convert 'G_R304A'\n",
      "Could not convert 'G_K305A'\n",
      "Could not convert 'G_S306A'\n",
      "Could not convert 'G_I307A'\n",
      "Could not convert 'G_H308A'\n",
      "Could not convert 'G_I309A'\n",
      "Could not convert 'G_P313A'\n",
      "Could not convert 'G_R315A'\n",
      "Could not convert 'G_R315Q'\n",
      "Could not convert 'G_F317A'\n",
      "Could not convert 'G_Y318A'\n",
      "Could not convert 'G_T319A'\n",
      "Could not convert 'G_T320A'\n",
      "Could not convert 'G_E322A'\n",
      "Could not convert 'G_H330A'\n",
      "Could not convert 'G_N332A'\n",
      "Could not convert 'G_Q337A'\n",
      "Could not convert 'G_R350A'\n",
      "Could not convert 'G_S364A'\n",
      "Could not convert 'G_P369A'\n",
      "Could not convert 'G_1371A'\n",
      "Could not convert 'G_V372A'\n",
      "Could not convert 'G_W395A'\n",
      "Could not convert 'G_R419A'\n",
      "Could not convert 'G_V430A'\n",
      "Could not convert 'G_K432A'\n",
      "Could not convert 'G_1439A'\n",
      "Could not convert 'G_7450A'\n",
      "Could not convert 'G_E462A'\n",
      "Could not convert 'G_S463A'\n",
      "Could not convert 'G_I467A'\n",
      "Could not convert 'G_D474A'\n",
      "Could not convert 'G_M475A'\n",
      "Could not convert 'G_R476A'\n"
     ]
    }
   ],
   "source": [
    "DF['uniprot_id'], DF['uniprot_mutation'], DF['pfam_id'] = list(zip(*(\n",
    "    DF['pdb_mutation'].apply(get_sifts_data)\n",
    ")))"
   ]
  },
  {
   "cell_type": "code",
   "execution_count": 550,
   "metadata": {
    "collapsed": false
   },
   "outputs": [
    {
     "data": {
      "text/plain": [
       "(57, 10)"
      ]
     },
     "execution_count": 550,
     "metadata": {},
     "output_type": "execute_result"
    }
   ],
   "source": [
    "DF.dropna(subset=['pfam_id']).shape"
   ]
  },
  {
   "cell_type": "code",
   "execution_count": 551,
   "metadata": {
    "collapsed": false
   },
   "outputs": [],
   "source": [
    "DF2_bak = DF.copy()"
   ]
  },
  {
   "cell_type": "markdown",
   "metadata": {},
   "source": [
    "## Pfam clan (DF3)"
   ]
  },
  {
   "cell_type": "code",
   "execution_count": 552,
   "metadata": {
    "collapsed": false
   },
   "outputs": [],
   "source": [
    "DF = DF2_bak.copy()"
   ]
  },
  {
   "cell_type": "code",
   "execution_count": 553,
   "metadata": {
    "collapsed": false
   },
   "outputs": [],
   "source": [
    "pfam_a_clans = (\n",
    "    pd.read_sql_table('pfam_a_clans', db_remote.engine, schema='pfam')\n",
    ")"
   ]
  },
  {
   "cell_type": "code",
   "execution_count": 554,
   "metadata": {
    "collapsed": false
   },
   "outputs": [
    {
     "data": {
      "text/html": [
       "<div>\n",
       "<table border=\"1\" class=\"dataframe\">\n",
       "  <thead>\n",
       "    <tr style=\"text-align: right;\">\n",
       "      <th></th>\n",
       "      <th>pfam_id</th>\n",
       "      <th>clan_id</th>\n",
       "      <th>clan_name</th>\n",
       "      <th>pfam_name</th>\n",
       "      <th>pfam_description</th>\n",
       "    </tr>\n",
       "  </thead>\n",
       "  <tbody>\n",
       "    <tr>\n",
       "      <th>0</th>\n",
       "      <td>PF00389</td>\n",
       "      <td>CL0325</td>\n",
       "      <td>Form_Glyc_dh</td>\n",
       "      <td>2-Hacid_dh</td>\n",
       "      <td>D-isomer specific 2-hydroxyacid dehydrogenase,...</td>\n",
       "    </tr>\n",
       "    <tr>\n",
       "      <th>1</th>\n",
       "      <td>PF00198</td>\n",
       "      <td>CL0149</td>\n",
       "      <td>CoA-acyltrans</td>\n",
       "      <td>2-oxoacid_dh</td>\n",
       "      <td>2-oxoacid dehydrogenases acyltransferase (cata...</td>\n",
       "    </tr>\n",
       "    <tr>\n",
       "      <th>2</th>\n",
       "      <td>PF04029</td>\n",
       "      <td>None</td>\n",
       "      <td>None</td>\n",
       "      <td>2-ph_phosp</td>\n",
       "      <td>2-phosphosulpholactate phosphatase</td>\n",
       "    </tr>\n",
       "    <tr>\n",
       "      <th>3</th>\n",
       "      <td>PF03171</td>\n",
       "      <td>CL0029</td>\n",
       "      <td>Cupin</td>\n",
       "      <td>2OG-FeII_Oxy</td>\n",
       "      <td>2OG-Fe(II) oxygenase superfamily</td>\n",
       "    </tr>\n",
       "    <tr>\n",
       "      <th>4</th>\n",
       "      <td>PF01073</td>\n",
       "      <td>CL0063</td>\n",
       "      <td>NADP_Rossmann</td>\n",
       "      <td>3Beta_HSD</td>\n",
       "      <td>3-beta hydroxysteroid dehydrogenase/isomerase ...</td>\n",
       "    </tr>\n",
       "  </tbody>\n",
       "</table>\n",
       "</div>"
      ],
      "text/plain": [
       "   pfam_id clan_id      clan_name     pfam_name                                   pfam_description\n",
       "0  PF00389  CL0325   Form_Glyc_dh    2-Hacid_dh  D-isomer specific 2-hydroxyacid dehydrogenase,...\n",
       "1  PF00198  CL0149  CoA-acyltrans  2-oxoacid_dh  2-oxoacid dehydrogenases acyltransferase (cata...\n",
       "2  PF04029    None           None    2-ph_phosp                 2-phosphosulpholactate phosphatase\n",
       "3  PF03171  CL0029          Cupin  2OG-FeII_Oxy                   2OG-Fe(II) oxygenase superfamily\n",
       "4  PF01073  CL0063  NADP_Rossmann     3Beta_HSD  3-beta hydroxysteroid dehydrogenase/isomerase ..."
      ]
     },
     "execution_count": 554,
     "metadata": {},
     "output_type": "execute_result"
    }
   ],
   "source": [
    "pfam_a_clans.head()"
   ]
  },
  {
   "cell_type": "code",
   "execution_count": 555,
   "metadata": {
    "collapsed": false
   },
   "outputs": [
    {
     "data": {
      "text/html": [
       "<div>\n",
       "<table border=\"1\" class=\"dataframe\">\n",
       "  <thead>\n",
       "    <tr style=\"text-align: right;\">\n",
       "      <th></th>\n",
       "      <th>pfam_id</th>\n",
       "      <th>clan_id</th>\n",
       "      <th>clan_name</th>\n",
       "      <th>pfam_name</th>\n",
       "      <th>pfam_description</th>\n",
       "    </tr>\n",
       "  </thead>\n",
       "  <tbody>\n",
       "    <tr>\n",
       "      <th>2669</th>\n",
       "      <td>PF00516</td>\n",
       "      <td>None</td>\n",
       "      <td>None</td>\n",
       "      <td>GP120</td>\n",
       "      <td>Envelope glycoprotein GP120</td>\n",
       "    </tr>\n",
       "  </tbody>\n",
       "</table>\n",
       "</div>"
      ],
      "text/plain": [
       "      pfam_id clan_id clan_name pfam_name             pfam_description\n",
       "2669  PF00516    None      None     GP120  Envelope glycoprotein GP120"
      ]
     },
     "execution_count": 555,
     "metadata": {},
     "output_type": "execute_result"
    }
   ],
   "source": [
    "pfam_a_clans[pfam_a_clans['pfam_id'] == 'PF00516']"
   ]
  },
  {
   "cell_type": "code",
   "execution_count": 556,
   "metadata": {
    "collapsed": false
   },
   "outputs": [],
   "source": [
    "DF['pfam_clan'] = DF['pfam_id'].map(pfam_a_clans.set_index('pfam_id')['clan_id'])"
   ]
  },
  {
   "cell_type": "code",
   "execution_count": 557,
   "metadata": {
    "collapsed": false
   },
   "outputs": [
    {
     "data": {
      "text/html": [
       "<div>\n",
       "<table border=\"1\" class=\"dataframe\">\n",
       "  <thead>\n",
       "    <tr style=\"text-align: right;\">\n",
       "      <th></th>\n",
       "      <th>mutation</th>\n",
       "      <th>score</th>\n",
       "      <th>pdb_id</th>\n",
       "      <th>pdb_chain</th>\n",
       "      <th>partner_pdb_chain</th>\n",
       "      <th>pdb_mutation</th>\n",
       "      <th>ddg_exp</th>\n",
       "      <th>uniprot_id</th>\n",
       "      <th>uniprot_mutation</th>\n",
       "      <th>pfam_id</th>\n",
       "      <th>pfam_clan</th>\n",
       "    </tr>\n",
       "  </thead>\n",
       "  <tbody>\n",
       "    <tr>\n",
       "      <th>0</th>\n",
       "      <td>E87A</td>\n",
       "      <td>98.0</td>\n",
       "      <td>3ngb</td>\n",
       "      <td>G</td>\n",
       "      <td>NaN</td>\n",
       "      <td>G_E87A</td>\n",
       "      <td>98.0</td>\n",
       "      <td>Q0ED31</td>\n",
       "      <td>E86A</td>\n",
       "      <td>PF00516</td>\n",
       "      <td>None</td>\n",
       "    </tr>\n",
       "    <tr>\n",
       "      <th>1</th>\n",
       "      <td>M95A</td>\n",
       "      <td>82.0</td>\n",
       "      <td>3ngb</td>\n",
       "      <td>G</td>\n",
       "      <td>NaN</td>\n",
       "      <td>G_M95A</td>\n",
       "      <td>82.0</td>\n",
       "      <td>Q0ED31</td>\n",
       "      <td>M94A</td>\n",
       "      <td>PF00516</td>\n",
       "      <td>None</td>\n",
       "    </tr>\n",
       "    <tr>\n",
       "      <th>2</th>\n",
       "      <td>K97A</td>\n",
       "      <td>88.0</td>\n",
       "      <td>3ngb</td>\n",
       "      <td>G</td>\n",
       "      <td>NaN</td>\n",
       "      <td>G_K97A</td>\n",
       "      <td>88.0</td>\n",
       "      <td>Q0ED31</td>\n",
       "      <td>K96A</td>\n",
       "      <td>PF00516</td>\n",
       "      <td>None</td>\n",
       "    </tr>\n",
       "    <tr>\n",
       "      <th>3</th>\n",
       "      <td>E102A</td>\n",
       "      <td>100.0</td>\n",
       "      <td>3ngb</td>\n",
       "      <td>G</td>\n",
       "      <td>NaN</td>\n",
       "      <td>G_E102A</td>\n",
       "      <td>100.0</td>\n",
       "      <td>Q0ED31</td>\n",
       "      <td>E101A</td>\n",
       "      <td>PF00516</td>\n",
       "      <td>None</td>\n",
       "    </tr>\n",
       "    <tr>\n",
       "      <th>4</th>\n",
       "      <td>W112A</td>\n",
       "      <td>105.0</td>\n",
       "      <td>3ngb</td>\n",
       "      <td>G</td>\n",
       "      <td>NaN</td>\n",
       "      <td>G_W112A</td>\n",
       "      <td>105.0</td>\n",
       "      <td>Q0ED31</td>\n",
       "      <td>W111A</td>\n",
       "      <td>PF00516</td>\n",
       "      <td>None</td>\n",
       "    </tr>\n",
       "  </tbody>\n",
       "</table>\n",
       "</div>"
      ],
      "text/plain": [
       "  mutation  score pdb_id pdb_chain  partner_pdb_chain pdb_mutation  ddg_exp uniprot_id uniprot_mutation  pfam_id pfam_clan\n",
       "0     E87A   98.0   3ngb         G                NaN       G_E87A     98.0     Q0ED31             E86A  PF00516      None\n",
       "1     M95A   82.0   3ngb         G                NaN       G_M95A     82.0     Q0ED31             M94A  PF00516      None\n",
       "2     K97A   88.0   3ngb         G                NaN       G_K97A     88.0     Q0ED31             K96A  PF00516      None\n",
       "3    E102A  100.0   3ngb         G                NaN      G_E102A    100.0     Q0ED31            E101A  PF00516      None\n",
       "4    W112A  105.0   3ngb         G                NaN      G_W112A    105.0     Q0ED31            W111A  PF00516      None"
      ]
     },
     "execution_count": 557,
     "metadata": {},
     "output_type": "execute_result"
    }
   ],
   "source": [
    "DF.head()"
   ]
  },
  {
   "cell_type": "code",
   "execution_count": 558,
   "metadata": {
    "collapsed": false
   },
   "outputs": [
    {
     "data": {
      "text/plain": [
       "0"
      ]
     },
     "execution_count": 558,
     "metadata": {},
     "output_type": "execute_result"
    }
   ],
   "source": [
    "DF['pfam_clan'].notnull().sum()"
   ]
  },
  {
   "cell_type": "code",
   "execution_count": 559,
   "metadata": {
    "collapsed": true
   },
   "outputs": [],
   "source": [
    "DF3_bak = DF.copy()"
   ]
  },
  {
   "cell_type": "markdown",
   "metadata": {},
   "source": [
    "## Partner chain (DF4)"
   ]
  },
  {
   "cell_type": "code",
   "execution_count": 560,
   "metadata": {
    "collapsed": true
   },
   "outputs": [],
   "source": [
    "DF = DF3_bak.copy()"
   ]
  },
  {
   "cell_type": "code",
   "execution_count": 561,
   "metadata": {
    "collapsed": true
   },
   "outputs": [],
   "source": [
    "def get_partner_uniprot(partner_chian, sifts_df):\n",
    "    sifts_df = sifts_df[sifts_df['pdb_chain'] == partner_chian]\n",
    "    partner_uniprot_ids = sifts_df['uniprot_id'].dropna().drop_duplicates().tolist()\n",
    "    if len(partner_uniprot_ids) == 0:\n",
    "        return np.nan\n",
    "    elif len(partner_uniprot_ids) == 1:\n",
    "        return partner_uniprot_ids[0]\n",
    "    else:\n",
    "        raise Exception(partner_uniprot_ids)"
   ]
  },
  {
   "cell_type": "code",
   "execution_count": 562,
   "metadata": {
    "collapsed": false
   },
   "outputs": [
    {
     "data": {
      "text/html": [
       "<div>\n",
       "<table border=\"1\" class=\"dataframe\">\n",
       "  <thead>\n",
       "    <tr style=\"text-align: right;\">\n",
       "      <th></th>\n",
       "      <th>comments</th>\n",
       "      <th>is_observed</th>\n",
       "      <th>pdb_aa</th>\n",
       "      <th>pdb_chain</th>\n",
       "      <th>pdb_id</th>\n",
       "      <th>pfam_id</th>\n",
       "      <th>resnum</th>\n",
       "      <th>uniprot_aa</th>\n",
       "      <th>uniprot_id</th>\n",
       "      <th>uniprot_position</th>\n",
       "      <th>residx</th>\n",
       "    </tr>\n",
       "  </thead>\n",
       "  <tbody>\n",
       "    <tr>\n",
       "      <th>0</th>\n",
       "      <td>T,loop</td>\n",
       "      <td>True</td>\n",
       "      <td>V</td>\n",
       "      <td>G</td>\n",
       "      <td>3ngb</td>\n",
       "      <td>PF00516</td>\n",
       "      <td>44</td>\n",
       "      <td>V</td>\n",
       "      <td>Q0ED31</td>\n",
       "      <td>43</td>\n",
       "      <td>1</td>\n",
       "    </tr>\n",
       "    <tr>\n",
       "      <th>1</th>\n",
       "      <td>E,strand</td>\n",
       "      <td>True</td>\n",
       "      <td>W</td>\n",
       "      <td>G</td>\n",
       "      <td>3ngb</td>\n",
       "      <td>PF00516</td>\n",
       "      <td>45</td>\n",
       "      <td>W</td>\n",
       "      <td>Q0ED31</td>\n",
       "      <td>44</td>\n",
       "      <td>2</td>\n",
       "    </tr>\n",
       "    <tr>\n",
       "      <th>2</th>\n",
       "      <td>E,strand</td>\n",
       "      <td>True</td>\n",
       "      <td>K</td>\n",
       "      <td>G</td>\n",
       "      <td>3ngb</td>\n",
       "      <td>PF00516</td>\n",
       "      <td>46</td>\n",
       "      <td>K</td>\n",
       "      <td>Q0ED31</td>\n",
       "      <td>45</td>\n",
       "      <td>3</td>\n",
       "    </tr>\n",
       "    <tr>\n",
       "      <th>3</th>\n",
       "      <td>E,strand</td>\n",
       "      <td>True</td>\n",
       "      <td>D</td>\n",
       "      <td>G</td>\n",
       "      <td>3ngb</td>\n",
       "      <td>PF00516</td>\n",
       "      <td>47</td>\n",
       "      <td>D</td>\n",
       "      <td>Q0ED31</td>\n",
       "      <td>46</td>\n",
       "      <td>4</td>\n",
       "    </tr>\n",
       "    <tr>\n",
       "      <th>4</th>\n",
       "      <td>T,loop</td>\n",
       "      <td>True</td>\n",
       "      <td>A</td>\n",
       "      <td>G</td>\n",
       "      <td>3ngb</td>\n",
       "      <td>PF00516</td>\n",
       "      <td>48</td>\n",
       "      <td>A</td>\n",
       "      <td>Q0ED31</td>\n",
       "      <td>47</td>\n",
       "      <td>5</td>\n",
       "    </tr>\n",
       "  </tbody>\n",
       "</table>\n",
       "</div>"
      ],
      "text/plain": [
       "   comments is_observed pdb_aa pdb_chain pdb_id  pfam_id resnum uniprot_aa uniprot_id uniprot_position  residx\n",
       "0    T,loop        True      V         G   3ngb  PF00516     44          V     Q0ED31               43       1\n",
       "1  E,strand        True      W         G   3ngb  PF00516     45          W     Q0ED31               44       2\n",
       "2  E,strand        True      K         G   3ngb  PF00516     46          K     Q0ED31               45       3\n",
       "3  E,strand        True      D         G   3ngb  PF00516     47          D     Q0ED31               46       4\n",
       "4    T,loop        True      A         G   3ngb  PF00516     48          A     Q0ED31               47       5"
      ]
     },
     "execution_count": 562,
     "metadata": {},
     "output_type": "execute_result"
    }
   ],
   "source": [
    "sifts_dfs['3ngb'].head()"
   ]
  },
  {
   "cell_type": "code",
   "execution_count": 563,
   "metadata": {
    "collapsed": false
   },
   "outputs": [
    {
     "data": {
      "text/plain": [
       "'Q0ED31'"
      ]
     },
     "execution_count": 563,
     "metadata": {},
     "output_type": "execute_result"
    }
   ],
   "source": [
    "get_partner_uniprot('A', sifts_dfs['3ngb'])"
   ]
  },
  {
   "cell_type": "code",
   "execution_count": 564,
   "metadata": {
    "collapsed": true
   },
   "outputs": [],
   "source": [
    "DF['partner_uniprot_id'] = [\n",
    "    get_partner_uniprot(partner_chain, sifts_dfs[pdb_id])\n",
    "    for pdb_id, partner_chain\n",
    "    in DF[['pdb_id', 'partner_pdb_chain']].values\n",
    "]"
   ]
  },
  {
   "cell_type": "code",
   "execution_count": 565,
   "metadata": {
    "collapsed": false
   },
   "outputs": [],
   "source": [
    "DF4_bak = DF.copy()"
   ]
  },
  {
   "cell_type": "markdown",
   "metadata": {},
   "source": [
    "## Summary"
   ]
  },
  {
   "cell_type": "code",
   "execution_count": 566,
   "metadata": {
    "collapsed": false
   },
   "outputs": [
    {
     "name": "stdout",
     "output_type": "stream",
     "text": [
      "Number of rows:                                             119\n",
      "--------------------------------------------------------------------------------\n",
      "Number of missing uniprots:                                 62\n",
      "Number of missing mutations:                                62\n",
      "Number of missing uniprots mutations:                       62\n",
      "--------------------------------------------------------------------------------\n",
      "Number of missing partner uniprots:                         119\n",
      "Number of missing partner uniprot mutations:                119\n",
      "--------------------------------------------------------------------------------\n",
      "Number of missing pfams:                                    62\n"
     ]
    }
   ],
   "source": [
    "print2(\"Number of rows:\", DF.shape[0])\n",
    "print('-' * 80)\n",
    "\n",
    "print2(\"Number of missing uniprots:\", DF['uniprot_id'].isnull().sum())\n",
    "print2(\"Number of missing mutations:\", DF['uniprot_mutation'].isnull().sum())\n",
    "print2(\"Number of missing uniprots mutations:\", \n",
    "       DF[['uniprot_id', 'uniprot_mutation']].isnull().any(axis=1).sum())\n",
    "print('-' * 80)\n",
    "\n",
    "print2(\"Number of missing partner uniprots:\", DF['partner_uniprot_id'].isnull().sum())\n",
    "print2(\"Number of missing partner uniprot mutations:\", \n",
    "       DF[['uniprot_id', 'partner_uniprot_id', 'uniprot_mutation']].isnull().any(axis=1).sum())\n",
    "print('-' * 80)\n",
    "\n",
    "print2(\"Number of missing pfams:\", DF['pfam_id'].isnull().sum())"
   ]
  },
  {
   "cell_type": "markdown",
   "metadata": {},
   "source": [
    "# Save to database"
   ]
  },
  {
   "cell_type": "code",
   "execution_count": 567,
   "metadata": {
    "collapsed": false,
    "run_control": {
     "marked": false
    }
   },
   "outputs": [],
   "source": [
    "DF = DF4_bak.copy()"
   ]
  },
  {
   "cell_type": "code",
   "execution_count": 568,
   "metadata": {
    "collapsed": false
   },
   "outputs": [
    {
     "data": {
      "text/html": [
       "<div>\n",
       "<table border=\"1\" class=\"dataframe\">\n",
       "  <thead>\n",
       "    <tr style=\"text-align: right;\">\n",
       "      <th></th>\n",
       "      <th>mutation</th>\n",
       "      <th>score</th>\n",
       "      <th>pdb_id</th>\n",
       "      <th>pdb_chain</th>\n",
       "      <th>partner_pdb_chain</th>\n",
       "      <th>pdb_mutation</th>\n",
       "      <th>ddg_exp</th>\n",
       "      <th>uniprot_id</th>\n",
       "      <th>uniprot_mutation</th>\n",
       "      <th>pfam_id</th>\n",
       "      <th>pfam_clan</th>\n",
       "      <th>partner_uniprot_id</th>\n",
       "    </tr>\n",
       "  </thead>\n",
       "  <tbody>\n",
       "    <tr>\n",
       "      <th>0</th>\n",
       "      <td>E87A</td>\n",
       "      <td>98.0</td>\n",
       "      <td>3ngb</td>\n",
       "      <td>G</td>\n",
       "      <td>NaN</td>\n",
       "      <td>G_E87A</td>\n",
       "      <td>98.0</td>\n",
       "      <td>Q0ED31</td>\n",
       "      <td>E86A</td>\n",
       "      <td>PF00516</td>\n",
       "      <td>None</td>\n",
       "      <td>NaN</td>\n",
       "    </tr>\n",
       "    <tr>\n",
       "      <th>1</th>\n",
       "      <td>M95A</td>\n",
       "      <td>82.0</td>\n",
       "      <td>3ngb</td>\n",
       "      <td>G</td>\n",
       "      <td>NaN</td>\n",
       "      <td>G_M95A</td>\n",
       "      <td>82.0</td>\n",
       "      <td>Q0ED31</td>\n",
       "      <td>M94A</td>\n",
       "      <td>PF00516</td>\n",
       "      <td>None</td>\n",
       "      <td>NaN</td>\n",
       "    </tr>\n",
       "    <tr>\n",
       "      <th>2</th>\n",
       "      <td>K97A</td>\n",
       "      <td>88.0</td>\n",
       "      <td>3ngb</td>\n",
       "      <td>G</td>\n",
       "      <td>NaN</td>\n",
       "      <td>G_K97A</td>\n",
       "      <td>88.0</td>\n",
       "      <td>Q0ED31</td>\n",
       "      <td>K96A</td>\n",
       "      <td>PF00516</td>\n",
       "      <td>None</td>\n",
       "      <td>NaN</td>\n",
       "    </tr>\n",
       "    <tr>\n",
       "      <th>3</th>\n",
       "      <td>E102A</td>\n",
       "      <td>100.0</td>\n",
       "      <td>3ngb</td>\n",
       "      <td>G</td>\n",
       "      <td>NaN</td>\n",
       "      <td>G_E102A</td>\n",
       "      <td>100.0</td>\n",
       "      <td>Q0ED31</td>\n",
       "      <td>E101A</td>\n",
       "      <td>PF00516</td>\n",
       "      <td>None</td>\n",
       "      <td>NaN</td>\n",
       "    </tr>\n",
       "    <tr>\n",
       "      <th>4</th>\n",
       "      <td>W112A</td>\n",
       "      <td>105.0</td>\n",
       "      <td>3ngb</td>\n",
       "      <td>G</td>\n",
       "      <td>NaN</td>\n",
       "      <td>G_W112A</td>\n",
       "      <td>105.0</td>\n",
       "      <td>Q0ED31</td>\n",
       "      <td>W111A</td>\n",
       "      <td>PF00516</td>\n",
       "      <td>None</td>\n",
       "      <td>NaN</td>\n",
       "    </tr>\n",
       "  </tbody>\n",
       "</table>\n",
       "</div>"
      ],
      "text/plain": [
       "  mutation  score pdb_id pdb_chain  partner_pdb_chain pdb_mutation  ddg_exp uniprot_id uniprot_mutation  pfam_id pfam_clan  partner_uniprot_id\n",
       "0     E87A   98.0   3ngb         G                NaN       G_E87A     98.0     Q0ED31             E86A  PF00516      None                 NaN\n",
       "1     M95A   82.0   3ngb         G                NaN       G_M95A     82.0     Q0ED31             M94A  PF00516      None                 NaN\n",
       "2     K97A   88.0   3ngb         G                NaN       G_K97A     88.0     Q0ED31             K96A  PF00516      None                 NaN\n",
       "3    E102A  100.0   3ngb         G                NaN      G_E102A    100.0     Q0ED31            E101A  PF00516      None                 NaN\n",
       "4    W112A  105.0   3ngb         G                NaN      G_W112A    105.0     Q0ED31            W111A  PF00516      None                 NaN"
      ]
     },
     "execution_count": 568,
     "metadata": {},
     "output_type": "execute_result"
    }
   ],
   "source": [
    "DF.head()"
   ]
  },
  {
   "cell_type": "code",
   "execution_count": 569,
   "metadata": {
    "collapsed": true
   },
   "outputs": [],
   "source": [
    "columns = [\n",
    "    'uniprot_id', 'partner_uniprot_id', 'uniprot_mutation',\n",
    "    'pdb_id', 'pdb_chain', 'partner_pdb_chain', 'pdb_mutation',\n",
    "    \n",
    "]"
   ]
  },
  {
   "cell_type": "code",
   "execution_count": 570,
   "metadata": {
    "collapsed": false
   },
   "outputs": [
    {
     "data": {
      "text/html": [
       "<div>\n",
       "<table border=\"1\" class=\"dataframe\">\n",
       "  <thead>\n",
       "    <tr style=\"text-align: right;\">\n",
       "      <th></th>\n",
       "      <th>uniprot_id</th>\n",
       "      <th>partner_uniprot_id</th>\n",
       "      <th>uniprot_mutation</th>\n",
       "      <th>pdb_id</th>\n",
       "      <th>pdb_chain</th>\n",
       "      <th>partner_pdb_chain</th>\n",
       "      <th>pdb_mutation</th>\n",
       "    </tr>\n",
       "  </thead>\n",
       "  <tbody>\n",
       "    <tr>\n",
       "      <th>0</th>\n",
       "      <td>Q0ED31</td>\n",
       "      <td>NaN</td>\n",
       "      <td>E86A</td>\n",
       "      <td>3ngb</td>\n",
       "      <td>G</td>\n",
       "      <td>NaN</td>\n",
       "      <td>G_E87A</td>\n",
       "    </tr>\n",
       "    <tr>\n",
       "      <th>1</th>\n",
       "      <td>Q0ED31</td>\n",
       "      <td>NaN</td>\n",
       "      <td>M94A</td>\n",
       "      <td>3ngb</td>\n",
       "      <td>G</td>\n",
       "      <td>NaN</td>\n",
       "      <td>G_M95A</td>\n",
       "    </tr>\n",
       "    <tr>\n",
       "      <th>2</th>\n",
       "      <td>Q0ED31</td>\n",
       "      <td>NaN</td>\n",
       "      <td>K96A</td>\n",
       "      <td>3ngb</td>\n",
       "      <td>G</td>\n",
       "      <td>NaN</td>\n",
       "      <td>G_K97A</td>\n",
       "    </tr>\n",
       "    <tr>\n",
       "      <th>3</th>\n",
       "      <td>Q0ED31</td>\n",
       "      <td>NaN</td>\n",
       "      <td>E101A</td>\n",
       "      <td>3ngb</td>\n",
       "      <td>G</td>\n",
       "      <td>NaN</td>\n",
       "      <td>G_E102A</td>\n",
       "    </tr>\n",
       "    <tr>\n",
       "      <th>4</th>\n",
       "      <td>Q0ED31</td>\n",
       "      <td>NaN</td>\n",
       "      <td>W111A</td>\n",
       "      <td>3ngb</td>\n",
       "      <td>G</td>\n",
       "      <td>NaN</td>\n",
       "      <td>G_W112A</td>\n",
       "    </tr>\n",
       "  </tbody>\n",
       "</table>\n",
       "</div>"
      ],
      "text/plain": [
       "  uniprot_id  partner_uniprot_id uniprot_mutation pdb_id pdb_chain  partner_pdb_chain pdb_mutation\n",
       "0     Q0ED31                 NaN             E86A   3ngb         G                NaN       G_E87A\n",
       "1     Q0ED31                 NaN             M94A   3ngb         G                NaN       G_M95A\n",
       "2     Q0ED31                 NaN             K96A   3ngb         G                NaN       G_K97A\n",
       "3     Q0ED31                 NaN            E101A   3ngb         G                NaN      G_E102A\n",
       "4     Q0ED31                 NaN            W111A   3ngb         G                NaN      G_W112A"
      ]
     },
     "execution_count": 570,
     "metadata": {},
     "output_type": "execute_result"
    }
   ],
   "source": [
    "DF[columns].head()"
   ]
  },
  {
   "cell_type": "code",
   "execution_count": 571,
   "metadata": {
    "collapsed": false
   },
   "outputs": [
    {
     "data": {
      "text/plain": [
       "(119, 12)"
      ]
     },
     "execution_count": 571,
     "metadata": {},
     "output_type": "execute_result"
    }
   ],
   "source": [
    "DF[DF['partner_pdb_chain'].isnull()].shape"
   ]
  },
  {
   "cell_type": "code",
   "execution_count": 572,
   "metadata": {
    "collapsed": true
   },
   "outputs": [],
   "source": [
    "groupby_columns = [\n",
    "    'pdb_id', 'pdb_chain', 'pdb_mutation',\n",
    "]\n",
    "extra_columns = [\n",
    "    'partner_pdb_chain',\n",
    "    'uniprot_id', 'partner_uniprot_id', 'uniprot_mutation', 'pfam_id', 'pfam_clan',\n",
    "]\n",
    "data_columns = [\n",
    "    'ddg_exp'\n",
    "]"
   ]
  },
  {
   "cell_type": "code",
   "execution_count": 573,
   "metadata": {
    "collapsed": false
   },
   "outputs": [],
   "source": [
    "# Average over duplicate mutations\n",
    "df = (\n",
    "    DF\n",
    "    # .dropna(subset=['pdb_id', 'pdb_chain', 'partner_pdb_chain', 'pdb_mutation'])\n",
    "    .groupby(groupby_columns)\n",
    "    .agg({**{c: lambda x: x.iloc[0] for c in extra_columns}, **{c: 'mean' for c in data_columns}})\n",
    "    .reset_index()\n",
    ")"
   ]
  },
  {
   "cell_type": "code",
   "execution_count": 574,
   "metadata": {
    "collapsed": false
   },
   "outputs": [
    {
     "name": "stdout",
     "output_type": "stream",
     "text": [
      "Unique mutations affecting only 1 chain:                    119\n"
     ]
    }
   ],
   "source": [
    "print2('Unique mutations affecting only 1 chain:', df.shape[0])"
   ]
  },
  {
   "cell_type": "code",
   "execution_count": 575,
   "metadata": {
    "collapsed": false,
    "run_control": {
     "marked": false
    }
   },
   "outputs": [],
   "source": [
    "t = db.import_df(\n",
    "    df[groupby_columns + extra_columns + data_columns], \n",
    "    NOTEBOOK_NAME)"
   ]
  },
  {
   "cell_type": "code",
   "execution_count": 576,
   "metadata": {
    "collapsed": false
   },
   "outputs": [],
   "source": [
    "t.create_indexes([\n",
    "    (['pdb_id', 'pdb_chain', 'partner_pdb_chain', 'pdb_mutation'], True),\n",
    "    (['uniprot_id', 'partner_uniprot_id', 'uniprot_mutation'], False),\n",
    "])"
   ]
  },
  {
   "cell_type": "code",
   "execution_count": 577,
   "metadata": {
    "collapsed": false,
    "scrolled": true
   },
   "outputs": [
    {
     "data": {
      "text/plain": [
       "119"
      ]
     },
     "execution_count": 577,
     "metadata": {},
     "output_type": "execute_result"
    }
   ],
   "source": [
    "t.add_idx_column()"
   ]
  },
  {
   "cell_type": "code",
   "execution_count": 578,
   "metadata": {
    "collapsed": false,
    "scrolled": true
   },
   "outputs": [
    {
     "name": "stdout",
     "output_type": "stream",
     "text": [
      "-rw-rw---- 1 strokach kimlab 2.9K Aug 21 20:49 /home/kimlab1/database_data/biodb/recipes/protein_interaction_energy/notebooks/mysqld/protein_interaction_energy/ab_bind.frm\r\n",
      "-rw-rw---- 1 strokach kimlab  18K Aug 21 20:49 /home/kimlab1/database_data/biodb/recipes/protein_interaction_energy/notebooks/mysqld/protein_interaction_energy/ab_bind.MYD\r\n",
      "-rw-rw---- 1 strokach kimlab  31K Aug 21 20:49 /home/kimlab1/database_data/biodb/recipes/protein_interaction_energy/notebooks/mysqld/protein_interaction_energy/ab_bind.MYI\r\n"
     ]
    }
   ],
   "source": [
    "!ls -lh /home/kimlab1/database_data/biodb/recipes/protein_interaction_energy/notebooks/mysqld/protein_interaction_energy/ab_bind.*"
   ]
  },
  {
   "cell_type": "code",
   "execution_count": 579,
   "metadata": {
    "collapsed": false
   },
   "outputs": [
    {
     "name": "stderr",
     "output_type": "stream",
     "text": [
      "File size before: 0.01 MB\n",
      "File size after: 0.00 MB\n",
      "File size savings: 0.00 MB (50.62 %)\n"
     ]
    },
    {
     "data": {
      "text/plain": [
       "(CompletedProcess(args=['myisampack', '--no-defaults', '/home/kimlab1/database_data/biodb/recipes/protein_interaction_energy/notebooks/mysqld/protein_interaction_energy/hiv_escape_mutations.MYI'], returncode=0, stdout='Remember to run myisamchk -rq on compressed tables\\n', stderr=''),\n",
       " CompletedProcess(args=['myisamchk', '-rq', '/home/kimlab1/database_data/biodb/recipes/protein_interaction_energy/notebooks/mysqld/protein_interaction_energy/hiv_escape_mutations.MYI'], returncode=0, stdout=\"- check record delete-chain\\n- recovering (with sort) MyISAM-table '/home/kimlab1/database_data/biodb/recipes/protein_interaction_energy/notebooks/mysqld/protein_interaction_energy/hiv_escape_mutations.MYI'\\nData records: 119\\n- Fixing index 1\\n- Fixing index 2\\n- Fixing index 3\\n\", stderr=''))"
      ]
     },
     "execution_count": 579,
     "metadata": {},
     "output_type": "execute_result"
    }
   ],
   "source": [
    "t.compress()"
   ]
  },
  {
   "cell_type": "code",
   "execution_count": 580,
   "metadata": {
    "collapsed": false
   },
   "outputs": [
    {
     "name": "stdout",
     "output_type": "stream",
     "text": [
      "-rw-rw---- 1 strokach kimlab 2.9K Aug 21 20:49 /home/kimlab1/database_data/biodb/recipes/protein_interaction_energy/notebooks/mysqld/protein_interaction_energy/ab_bind.frm\r\n",
      "-rw-rw---- 1 strokach kimlab  18K Aug 21 20:49 /home/kimlab1/database_data/biodb/recipes/protein_interaction_energy/notebooks/mysqld/protein_interaction_energy/ab_bind.MYD\r\n",
      "-rw-rw---- 1 strokach kimlab  31K Aug 21 20:49 /home/kimlab1/database_data/biodb/recipes/protein_interaction_energy/notebooks/mysqld/protein_interaction_energy/ab_bind.MYI\r\n"
     ]
    }
   ],
   "source": [
    "!ls -lh /home/kimlab1/database_data/biodb/recipes/protein_interaction_energy/notebooks/mysqld/protein_interaction_energy/ab_bind.*"
   ]
  },
  {
   "cell_type": "code",
   "execution_count": 581,
   "metadata": {
    "collapsed": false
   },
   "outputs": [
    {
     "name": "stdout",
     "output_type": "stream",
     "text": [
      "2016-08-23 23:42:36.346198\n"
     ]
    }
   ],
   "source": [
    "print(datetime.datetime.now())"
   ]
  },
  {
   "cell_type": "code",
   "execution_count": null,
   "metadata": {
    "collapsed": true
   },
   "outputs": [],
   "source": []
  }
 ],
 "metadata": {
  "anaconda-cloud": {},
  "kernelspec": {
   "display_name": "Python [Root]",
   "language": "python",
   "name": "Python [Root]"
  },
  "language_info": {
   "codemirror_mode": {
    "name": "ipython",
    "version": 3
   },
   "file_extension": ".py",
   "mimetype": "text/x-python",
   "name": "python",
   "nbconvert_exporter": "python",
   "pygments_lexer": "ipython3",
   "version": "3.5.2"
  },
  "toc": {
   "navigate_menu": false,
   "number_sections": true,
   "sideBar": false,
   "threshold": 6,
   "toc_cell": true,
   "toc_section_display": "block",
   "toc_window_display": true
  },
  "toc_position": {
   "height": "324px",
   "left": "123.247px",
   "right": "20px",
   "top": "47.9861px",
   "width": "230px"
  }
 },
 "nbformat": 4,
 "nbformat_minor": 0
}
