{
 "cells": [
  {
   "cell_type": "code",
   "execution_count": 5,
   "metadata": {
    "collapsed": false
   },
   "outputs": [
    {
     "name": "stdout",
     "output_type": "stream",
     "text": [
      "The autoreload extension is already loaded. To reload it, use:\n",
      "  %reload_ext autoreload\n"
     ]
    }
   ],
   "source": [
    "%load_ext autoreload\n",
    "%autoreload 2"
   ]
  },
  {
   "cell_type": "code",
   "execution_count": 6,
   "metadata": {
    "collapsed": true
   },
   "outputs": [],
   "source": [
    "# Standard library\n",
    "import sys\n",
    "import os\n",
    "import pickle\n",
    "import time\n",
    "import datetime\n",
    "import json\n",
    "import urllib\n",
    "import shutil\n",
    "import string\n",
    "import logging\n",
    "import gzip\n",
    "import re\n",
    "import csv\n",
    "import subprocess\n",
    "import shlex\n",
    "import tempfile\n",
    "import itertools\n",
    "\n",
    "import os.path as op\n",
    "import multiprocessing as mp\n",
    "\n",
    "from pprint import pprint\n",
    "from importlib import reload\n",
    "from functools import lru_cache\n",
    "from collections import Counter, defaultdict, OrderedDict\n",
    "\n",
    "# Installed packages\n",
    "import numpy as np\n",
    "import scipy as sp\n",
    "import pandas as pd\n",
    "import sqlalchemy as sa\n",
    "import matplotlib.pyplot as plt\n",
    "import seaborn as sns\n",
    "import lxml.etree\n",
    "import Bio.SeqIO\n",
    "\n",
    "from IPython.display import display, HTML, Math\n",
    "\n",
    "# My packages\n",
    "import elaspic\n",
    "import kmtools\n",
    "import datapkg\n",
    "\n",
    "ascommon = kmtools\n",
    "print2 = ascommon.df_tools.print2"
   ]
  },
  {
   "cell_type": "code",
   "execution_count": 1,
   "metadata": {
    "collapsed": true
   },
   "outputs": [],
   "source": [
    "try:\n",
    "    import local\n",
    "except ImportError:\n",
    "    pass"
   ]
  },
  {
   "cell_type": "code",
   "execution_count": null,
   "metadata": {
    "collapsed": true
   },
   "outputs": [],
   "source": [
    "logger = logging.getLogger()"
   ]
  },
  {
   "cell_type": "code",
   "execution_count": 5,
   "metadata": {
    "collapsed": true
   },
   "outputs": [],
   "source": [
    "# Display options\n",
    "pd.set_option('display.max_rows', 1000)\n",
    "pd.set_option('display.max_columns', 1000)\n",
    "pd.set_option('display.width', 1000)\n",
    "pd.options.mode.chained_assignment = None\n",
    "\n",
    "sns.set_style('whitegrid')\n",
    "sns.set_context('notebook', font_scale=2)"
   ]
  },
  {
   "cell_type": "code",
   "execution_count": null,
   "metadata": {
    "collapsed": true
   },
   "outputs": [],
   "source": [
    "%matplotlib inline"
   ]
  },
  {
   "cell_type": "code",
   "execution_count": null,
   "metadata": {
    "collapsed": true
   },
   "outputs": [],
   "source": [
    "# Database options\n",
    "os.environ['DB_DATA_DIR'] = op.abspath('mysqld')\n",
    "os.environ['DB_SCHEMA'] = op.basename(op.dirname(os.getcwd()))\n",
    "os.environ['DB_SOCKET'] = op.abspath(op.join(tempfile.gettempdir(), os.environ['DB_SCHEMA'], 'mysql.sock'))"
   ]
  },
  {
   "cell_type": "code",
   "execution_count": 7,
   "metadata": {
    "collapsed": false
   },
   "outputs": [
    {
     "name": "stdout",
     "output_type": "stream",
     "text": [
      "2016-05-08 16:02:05.581790\n"
     ]
    }
   ],
   "source": [
    "print(datetime.datetime.now())"
   ]
  }
 ],
 "metadata": {
  "kernelspec": {
   "display_name": "Python 3",
   "language": "python",
   "name": "python3"
  },
  "language_info": {
   "codemirror_mode": {
    "name": "ipython",
    "version": 3
   },
   "file_extension": ".py",
   "mimetype": "text/x-python",
   "name": "python",
   "nbconvert_exporter": "python",
   "pygments_lexer": "ipython3",
   "version": "3.5.1"
  },
  "nav_menu": {},
  "toc": {
   "navigate_menu": true,
   "number_sections": true,
   "sideBar": false,
   "threshold": 6,
   "toc_cell": false,
   "toc_section_display": "block",
   "toc_window_display": true
  },
  "toc_position": {
   "height": "363px",
   "left": "49.9931px",
   "right": "20px",
   "top": "96.9861px",
   "width": "230px"
  }
 },
 "nbformat": 4,
 "nbformat_minor": 0
}
