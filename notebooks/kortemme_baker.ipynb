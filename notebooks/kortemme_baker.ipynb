{
 "cells": [
  {
   "cell_type": "markdown",
   "metadata": {
    "toc": "true"
   },
   "source": [
    "# Table of Contents\n",
    " <p><div class=\"lev1\"><a href=\"#Summary\"><span class=\"toc-item-num\">1&nbsp;&nbsp;</span>Summary</a></div><div class=\"lev1\"><a href=\"#Imports\"><span class=\"toc-item-num\">2&nbsp;&nbsp;</span>Imports</a></div><div class=\"lev1\"><a href=\"#Load-data\"><span class=\"toc-item-num\">3&nbsp;&nbsp;</span>Load data</a></div><div class=\"lev1\"><a href=\"#Add-SIFTS\"><span class=\"toc-item-num\">4&nbsp;&nbsp;</span>Add SIFTS</a></div><div class=\"lev1\"><a href=\"#Add-Partner\"><span class=\"toc-item-num\">5&nbsp;&nbsp;</span>Add Partner</a></div><div class=\"lev1\"><a href=\"#Save-to-database\"><span class=\"toc-item-num\">6&nbsp;&nbsp;</span>Save to database</a></div>"
   ]
  },
  {
   "cell_type": "markdown",
   "metadata": {},
   "source": [
    "# Summary\n",
    "\n",
    "This is an Alanine-scanning dataset!"
   ]
  },
  {
   "cell_type": "markdown",
   "metadata": {},
   "source": [
    "# Imports"
   ]
  },
  {
   "cell_type": "code",
   "execution_count": 1,
   "metadata": {
    "collapsed": false
   },
   "outputs": [
    {
     "name": "stdout",
     "output_type": "stream",
     "text": [
      "2016-07-17 21:12:08.596166\n"
     ]
    }
   ],
   "source": [
    "%run imports.ipynb"
   ]
  },
  {
   "cell_type": "code",
   "execution_count": 2,
   "metadata": {
    "collapsed": true
   },
   "outputs": [],
   "source": [
    "NOTEBOOK_NAME = 'kortemme_baker'\n",
    "os.makedirs(NOTEBOOK_NAME, exist_ok=True)\n",
    "os.environ['NOTEBOOK_NAME'] = NOTEBOOK_NAME\n",
    "\n",
    "os.environ['DB_PORT'] = '8308'"
   ]
  },
  {
   "cell_type": "code",
   "execution_count": 3,
   "metadata": {
    "collapsed": false
   },
   "outputs": [
    {
     "name": "stdout",
     "output_type": "stream",
     "text": [
      "The autoreload extension is already loaded. To reload it, use:\n",
      "  %reload_ext autoreload\n",
      "2016-07-17 21:12:08.820091\n"
     ]
    }
   ],
   "source": [
    "%run mysqld.ipynb"
   ]
  },
  {
   "cell_type": "code",
   "execution_count": 4,
   "metadata": {
    "collapsed": true
   },
   "outputs": [],
   "source": [
    "# Start a database connection\n",
    "db_remote = datapkg.MySQL(\n",
    "    os.environ['DATAPKG_CONNECTION_STR'], \n",
    "    shared_folder=os.environ['NOTEBOOK_NAME'],\n",
    "    storage_host=None,\n",
    "    echo=False,\n",
    "    db_engine='InnoDB'\n",
    ")"
   ]
  },
  {
   "cell_type": "markdown",
   "metadata": {},
   "source": [
    "# Load data\n",
    "\n",
    "Load data and format info columns."
   ]
  },
  {
   "cell_type": "code",
   "execution_count": 5,
   "metadata": {
    "collapsed": false
   },
   "outputs": [],
   "source": [
    "kortemme_baker_df = pd.read_csv(\n",
    "    '../downloads/rosetta_ddg/input/csv/kortemme_baker.csv',\n",
    "    na_values=['None', ''])"
   ]
  },
  {
   "cell_type": "code",
   "execution_count": 6,
   "metadata": {
    "collapsed": false
   },
   "outputs": [
    {
     "data": {
      "text/plain": [
       "(380, 13)"
      ]
     },
     "execution_count": 6,
     "metadata": {},
     "output_type": "execute_result"
    }
   ],
   "source": [
    "kortemme_baker_df.shape"
   ]
  },
  {
   "cell_type": "code",
   "execution_count": 7,
   "metadata": {
    "collapsed": false
   },
   "outputs": [
    {
     "data": {
      "text/html": [
       "<div>\n",
       "<table border=\"1\" class=\"dataframe\">\n",
       "  <thead>\n",
       "    <tr style=\"text-align: right;\">\n",
       "      <th></th>\n",
       "      <th>PDB_ID</th>\n",
       "      <th>Mutated_partner</th>\n",
       "      <th>Chain_ID</th>\n",
       "      <th>PDB_res#</th>\n",
       "      <th>Amino_acid</th>\n",
       "      <th>DDG_calc</th>\n",
       "      <th>DDG_obs</th>\n",
       "      <th>Interface(O:no,1:yes)</th>\n",
       "      <th>PDBPosID</th>\n",
       "      <th>PubMedID</th>\n",
       "      <th>Location</th>\n",
       "      <th>FixedPDB_ID</th>\n",
       "      <th>FixedPDBResidueID</th>\n",
       "    </tr>\n",
       "  </thead>\n",
       "  <tbody>\n",
       "    <tr>\n",
       "      <th>0</th>\n",
       "      <td>1A22</td>\n",
       "      <td>hGH</td>\n",
       "      <td>A</td>\n",
       "      <td>14</td>\n",
       "      <td>M</td>\n",
       "      <td>0.00</td>\n",
       "      <td>0.1</td>\n",
       "      <td>0</td>\n",
       "      <td>1A2214</td>\n",
       "      <td>7504735</td>\n",
       "      <td>Table_2</td>\n",
       "      <td>NaN</td>\n",
       "      <td>NaN</td>\n",
       "    </tr>\n",
       "    <tr>\n",
       "      <th>1</th>\n",
       "      <td>1A22</td>\n",
       "      <td>hGH</td>\n",
       "      <td>A</td>\n",
       "      <td>18</td>\n",
       "      <td>H</td>\n",
       "      <td>1.84</td>\n",
       "      <td>-0.5</td>\n",
       "      <td>1</td>\n",
       "      <td>1A2218</td>\n",
       "      <td>7504735</td>\n",
       "      <td>Table_2</td>\n",
       "      <td>NaN</td>\n",
       "      <td>NaN</td>\n",
       "    </tr>\n",
       "    <tr>\n",
       "      <th>2</th>\n",
       "      <td>1A22</td>\n",
       "      <td>hGH</td>\n",
       "      <td>A</td>\n",
       "      <td>21</td>\n",
       "      <td>H</td>\n",
       "      <td>0.78</td>\n",
       "      <td>0.2</td>\n",
       "      <td>1</td>\n",
       "      <td>1A2221</td>\n",
       "      <td>7504735</td>\n",
       "      <td>Table_2</td>\n",
       "      <td>NaN</td>\n",
       "      <td>NaN</td>\n",
       "    </tr>\n",
       "    <tr>\n",
       "      <th>3</th>\n",
       "      <td>1A22</td>\n",
       "      <td>hGH</td>\n",
       "      <td>A</td>\n",
       "      <td>22</td>\n",
       "      <td>Q</td>\n",
       "      <td>0.07</td>\n",
       "      <td>-0.2</td>\n",
       "      <td>1</td>\n",
       "      <td>1A2222</td>\n",
       "      <td>7504735</td>\n",
       "      <td>Table_2</td>\n",
       "      <td>NaN</td>\n",
       "      <td>NaN</td>\n",
       "    </tr>\n",
       "    <tr>\n",
       "      <th>4</th>\n",
       "      <td>1A22</td>\n",
       "      <td>hGH</td>\n",
       "      <td>A</td>\n",
       "      <td>25</td>\n",
       "      <td>F</td>\n",
       "      <td>1.30</td>\n",
       "      <td>-0.4</td>\n",
       "      <td>1</td>\n",
       "      <td>1A2225</td>\n",
       "      <td>7504735</td>\n",
       "      <td>Table_2</td>\n",
       "      <td>NaN</td>\n",
       "      <td>NaN</td>\n",
       "    </tr>\n",
       "  </tbody>\n",
       "</table>\n",
       "</div>"
      ],
      "text/plain": [
       "  PDB_ID Mutated_partner Chain_ID PDB_res# Amino_acid  DDG_calc DDG_obs  Interface(O:no,1:yes) PDBPosID  PubMedID Location  FixedPDB_ID  FixedPDBResidueID\n",
       "0   1A22             hGH        A       14          M      0.00     0.1                      0   1A2214   7504735  Table_2          NaN                NaN\n",
       "1   1A22             hGH        A       18          H      1.84    -0.5                      1   1A2218   7504735  Table_2          NaN                NaN\n",
       "2   1A22             hGH        A       21          H      0.78     0.2                      1   1A2221   7504735  Table_2          NaN                NaN\n",
       "3   1A22             hGH        A       22          Q      0.07    -0.2                      1   1A2222   7504735  Table_2          NaN                NaN\n",
       "4   1A22             hGH        A       25          F      1.30    -0.4                      1   1A2225   7504735  Table_2          NaN                NaN"
      ]
     },
     "metadata": {},
     "output_type": "display_data"
    },
    {
     "name": "stdout",
     "output_type": "stream",
     "text": [
      "(380, 13)\n"
     ]
    }
   ],
   "source": [
    "display(kortemme_baker_df.head())\n",
    "print(kortemme_baker_df.shape)"
   ]
  },
  {
   "cell_type": "code",
   "execution_count": 8,
   "metadata": {
    "collapsed": true
   },
   "outputs": [],
   "source": [
    "kortemme_baker_df = kortemme_baker_df.rename(columns={\n",
    "        'PDB_ID': 'pdb_id',\n",
    "        'Chain_ID': 'pdb_chain',\n",
    "        'Amino_acid': 'pdb_aa_wt',\n",
    "        'PDB_res#': 'pdb_resnum',\n",
    "    })"
   ]
  },
  {
   "cell_type": "code",
   "execution_count": 9,
   "metadata": {
    "collapsed": false
   },
   "outputs": [],
   "source": [
    "# Add required columns\n",
    "kortemme_baker_df['pdb_id'] = kortemme_baker_df['pdb_id'].str.lower()\n",
    "kortemme_baker_df['partner_pdb_chain'] = np.nan\n",
    "kortemme_baker_df['pdb_aa_mut'] = 'A'\n",
    "# optionally, can add spaces between pdb_aa_wt, pdb_resnu, and pdb_aa_mut\n",
    "kortemme_baker_df['pdb_mutation'] = (\n",
    "    kortemme_baker_df['pdb_aa_wt'] +\n",
    "    kortemme_baker_df['pdb_resnum'].astype(str) +\n",
    "    kortemme_baker_df['pdb_aa_mut']\n",
    ")\n",
    "kortemme_baker_df['ddg_exp'] = kortemme_baker_df['DDG_obs'].str.replace('>', '').astype(float)"
   ]
  },
  {
   "cell_type": "code",
   "execution_count": 10,
   "metadata": {
    "collapsed": false
   },
   "outputs": [
    {
     "data": {
      "text/html": [
       "<div>\n",
       "<table border=\"1\" class=\"dataframe\">\n",
       "  <thead>\n",
       "    <tr style=\"text-align: right;\">\n",
       "      <th></th>\n",
       "      <th>pdb_id</th>\n",
       "      <th>Mutated_partner</th>\n",
       "      <th>pdb_chain</th>\n",
       "      <th>pdb_resnum</th>\n",
       "      <th>pdb_aa_wt</th>\n",
       "      <th>DDG_calc</th>\n",
       "      <th>DDG_obs</th>\n",
       "      <th>Interface(O:no,1:yes)</th>\n",
       "      <th>PDBPosID</th>\n",
       "      <th>PubMedID</th>\n",
       "      <th>Location</th>\n",
       "      <th>FixedPDB_ID</th>\n",
       "      <th>FixedPDBResidueID</th>\n",
       "      <th>partner_pdb_chain</th>\n",
       "      <th>pdb_aa_mut</th>\n",
       "      <th>pdb_mutation</th>\n",
       "      <th>ddg_exp</th>\n",
       "    </tr>\n",
       "  </thead>\n",
       "  <tbody>\n",
       "    <tr>\n",
       "      <th>0</th>\n",
       "      <td>1a22</td>\n",
       "      <td>hGH</td>\n",
       "      <td>A</td>\n",
       "      <td>14</td>\n",
       "      <td>M</td>\n",
       "      <td>0.00</td>\n",
       "      <td>0.1</td>\n",
       "      <td>0</td>\n",
       "      <td>1A2214</td>\n",
       "      <td>7504735</td>\n",
       "      <td>Table_2</td>\n",
       "      <td>NaN</td>\n",
       "      <td>NaN</td>\n",
       "      <td>NaN</td>\n",
       "      <td>A</td>\n",
       "      <td>M14A</td>\n",
       "      <td>0.1</td>\n",
       "    </tr>\n",
       "    <tr>\n",
       "      <th>1</th>\n",
       "      <td>1a22</td>\n",
       "      <td>hGH</td>\n",
       "      <td>A</td>\n",
       "      <td>18</td>\n",
       "      <td>H</td>\n",
       "      <td>1.84</td>\n",
       "      <td>-0.5</td>\n",
       "      <td>1</td>\n",
       "      <td>1A2218</td>\n",
       "      <td>7504735</td>\n",
       "      <td>Table_2</td>\n",
       "      <td>NaN</td>\n",
       "      <td>NaN</td>\n",
       "      <td>NaN</td>\n",
       "      <td>A</td>\n",
       "      <td>H18A</td>\n",
       "      <td>-0.5</td>\n",
       "    </tr>\n",
       "    <tr>\n",
       "      <th>2</th>\n",
       "      <td>1a22</td>\n",
       "      <td>hGH</td>\n",
       "      <td>A</td>\n",
       "      <td>21</td>\n",
       "      <td>H</td>\n",
       "      <td>0.78</td>\n",
       "      <td>0.2</td>\n",
       "      <td>1</td>\n",
       "      <td>1A2221</td>\n",
       "      <td>7504735</td>\n",
       "      <td>Table_2</td>\n",
       "      <td>NaN</td>\n",
       "      <td>NaN</td>\n",
       "      <td>NaN</td>\n",
       "      <td>A</td>\n",
       "      <td>H21A</td>\n",
       "      <td>0.2</td>\n",
       "    </tr>\n",
       "    <tr>\n",
       "      <th>3</th>\n",
       "      <td>1a22</td>\n",
       "      <td>hGH</td>\n",
       "      <td>A</td>\n",
       "      <td>22</td>\n",
       "      <td>Q</td>\n",
       "      <td>0.07</td>\n",
       "      <td>-0.2</td>\n",
       "      <td>1</td>\n",
       "      <td>1A2222</td>\n",
       "      <td>7504735</td>\n",
       "      <td>Table_2</td>\n",
       "      <td>NaN</td>\n",
       "      <td>NaN</td>\n",
       "      <td>NaN</td>\n",
       "      <td>A</td>\n",
       "      <td>Q22A</td>\n",
       "      <td>-0.2</td>\n",
       "    </tr>\n",
       "    <tr>\n",
       "      <th>4</th>\n",
       "      <td>1a22</td>\n",
       "      <td>hGH</td>\n",
       "      <td>A</td>\n",
       "      <td>25</td>\n",
       "      <td>F</td>\n",
       "      <td>1.30</td>\n",
       "      <td>-0.4</td>\n",
       "      <td>1</td>\n",
       "      <td>1A2225</td>\n",
       "      <td>7504735</td>\n",
       "      <td>Table_2</td>\n",
       "      <td>NaN</td>\n",
       "      <td>NaN</td>\n",
       "      <td>NaN</td>\n",
       "      <td>A</td>\n",
       "      <td>F25A</td>\n",
       "      <td>-0.4</td>\n",
       "    </tr>\n",
       "  </tbody>\n",
       "</table>\n",
       "</div>"
      ],
      "text/plain": [
       "  pdb_id Mutated_partner pdb_chain pdb_resnum pdb_aa_wt  DDG_calc DDG_obs  Interface(O:no,1:yes) PDBPosID  PubMedID Location  FixedPDB_ID  FixedPDBResidueID  partner_pdb_chain pdb_aa_mut pdb_mutation  ddg_exp\n",
       "0   1a22             hGH         A         14         M      0.00     0.1                      0   1A2214   7504735  Table_2          NaN                NaN                NaN          A         M14A      0.1\n",
       "1   1a22             hGH         A         18         H      1.84    -0.5                      1   1A2218   7504735  Table_2          NaN                NaN                NaN          A         H18A     -0.5\n",
       "2   1a22             hGH         A         21         H      0.78     0.2                      1   1A2221   7504735  Table_2          NaN                NaN                NaN          A         H21A      0.2\n",
       "3   1a22             hGH         A         22         Q      0.07    -0.2                      1   1A2222   7504735  Table_2          NaN                NaN                NaN          A         Q22A     -0.2\n",
       "4   1a22             hGH         A         25         F      1.30    -0.4                      1   1A2225   7504735  Table_2          NaN                NaN                NaN          A         F25A     -0.4"
      ]
     },
     "metadata": {},
     "output_type": "display_data"
    },
    {
     "name": "stdout",
     "output_type": "stream",
     "text": [
      "380\n"
     ]
    }
   ],
   "source": [
    "display(kortemme_baker_df.head())\n",
    "print(kortemme_baker_df.shape[0])"
   ]
  },
  {
   "cell_type": "code",
   "execution_count": 11,
   "metadata": {
    "collapsed": true
   },
   "outputs": [],
   "source": [
    "kortemme_baker_df_1_bak = kortemme_baker_df.copy()"
   ]
  },
  {
   "cell_type": "markdown",
   "metadata": {
    "collapsed": true
   },
   "source": [
    "# Add SIFTS"
   ]
  },
  {
   "cell_type": "code",
   "execution_count": 12,
   "metadata": {
    "collapsed": true
   },
   "outputs": [],
   "source": [
    "kortemme_baker_df = kortemme_baker_df_1_bak.copy()"
   ]
  },
  {
   "cell_type": "code",
   "execution_count": 13,
   "metadata": {
    "collapsed": true
   },
   "outputs": [],
   "source": [
    "pdb_ids = sorted(set(kortemme_baker_df['pdb_id'].str.lower()))"
   ]
  },
  {
   "cell_type": "code",
   "execution_count": 14,
   "metadata": {
    "collapsed": false
   },
   "outputs": [
    {
     "name": "stderr",
     "output_type": "stream",
     "text": [
      "WARNING:kmtools.pdb_tools.sifts:Could not convert amino acid CGU to a one letter code!\n",
      "WARNING:kmtools.pdb_tools.sifts:Could not convert amino acid CGU to a one letter code!\n",
      "WARNING:kmtools.pdb_tools.sifts:Could not convert amino acid CGU to a one letter code!\n",
      "WARNING:kmtools.pdb_tools.sifts:Could not convert amino acid CGU to a one letter code!\n",
      "WARNING:kmtools.pdb_tools.sifts:Could not convert amino acid CGU to a one letter code!\n",
      "WARNING:kmtools.pdb_tools.sifts:Could not convert amino acid CGU to a one letter code!\n",
      "WARNING:kmtools.pdb_tools.sifts:Could not convert amino acid CGU to a one letter code!\n",
      "WARNING:kmtools.pdb_tools.sifts:Could not convert amino acid CGU to a one letter code!\n",
      "WARNING:kmtools.pdb_tools.sifts:Could not convert amino acid CGU to a one letter code!\n",
      "WARNING:kmtools.pdb_tools.sifts:Could not convert amino acid CGU to a one letter code!\n",
      "WARNING:kmtools.pdb_tools.sifts:Could not convert amino acid ACE to a one letter code!\n",
      "WARNING:kmtools.pdb_tools.sifts:Could not convert amino acid NH2 to a one letter code!\n",
      "WARNING:kmtools.pdb_tools.sifts:Could not convert amino acid NH2 to a one letter code!\n"
     ]
    }
   ],
   "source": [
    "sifts_dfs = {\n",
    "    pdb_id: ascommon.pdb_tools.sifts.get_sifts_data(pdb_id)\n",
    "    for pdb_id in pdb_ids\n",
    "}"
   ]
  },
  {
   "cell_type": "code",
   "execution_count": 15,
   "metadata": {
    "collapsed": false
   },
   "outputs": [
    {
     "data": {
      "text/html": [
       "<div>\n",
       "<table border=\"1\" class=\"dataframe\">\n",
       "  <thead>\n",
       "    <tr style=\"text-align: right;\">\n",
       "      <th></th>\n",
       "      <th>comments</th>\n",
       "      <th>is_observed</th>\n",
       "      <th>pdb_aa</th>\n",
       "      <th>pdb_chain</th>\n",
       "      <th>pdb_id</th>\n",
       "      <th>pfam_id</th>\n",
       "      <th>resnum</th>\n",
       "      <th>uniprot_aa</th>\n",
       "      <th>uniprot_id</th>\n",
       "      <th>uniprot_position</th>\n",
       "      <th>residx</th>\n",
       "    </tr>\n",
       "  </thead>\n",
       "  <tbody>\n",
       "    <tr>\n",
       "      <th>0</th>\n",
       "      <td>T,loop</td>\n",
       "      <td>True</td>\n",
       "      <td>F</td>\n",
       "      <td>A</td>\n",
       "      <td>1a22</td>\n",
       "      <td>PF00103</td>\n",
       "      <td>1</td>\n",
       "      <td>F</td>\n",
       "      <td>P01241</td>\n",
       "      <td>27</td>\n",
       "      <td>1</td>\n",
       "    </tr>\n",
       "    <tr>\n",
       "      <th>1</th>\n",
       "      <td>T,loop</td>\n",
       "      <td>True</td>\n",
       "      <td>P</td>\n",
       "      <td>A</td>\n",
       "      <td>1a22</td>\n",
       "      <td>PF00103</td>\n",
       "      <td>2</td>\n",
       "      <td>P</td>\n",
       "      <td>P01241</td>\n",
       "      <td>28</td>\n",
       "      <td>2</td>\n",
       "    </tr>\n",
       "    <tr>\n",
       "      <th>2</th>\n",
       "      <td>T,loop</td>\n",
       "      <td>True</td>\n",
       "      <td>T</td>\n",
       "      <td>A</td>\n",
       "      <td>1a22</td>\n",
       "      <td>PF00103</td>\n",
       "      <td>3</td>\n",
       "      <td>T</td>\n",
       "      <td>P01241</td>\n",
       "      <td>29</td>\n",
       "      <td>3</td>\n",
       "    </tr>\n",
       "    <tr>\n",
       "      <th>3</th>\n",
       "      <td>T,loop</td>\n",
       "      <td>True</td>\n",
       "      <td>I</td>\n",
       "      <td>A</td>\n",
       "      <td>1a22</td>\n",
       "      <td>PF00103</td>\n",
       "      <td>4</td>\n",
       "      <td>I</td>\n",
       "      <td>P01241</td>\n",
       "      <td>30</td>\n",
       "      <td>4</td>\n",
       "    </tr>\n",
       "    <tr>\n",
       "      <th>4</th>\n",
       "      <td>T,loop</td>\n",
       "      <td>True</td>\n",
       "      <td>P</td>\n",
       "      <td>A</td>\n",
       "      <td>1a22</td>\n",
       "      <td>PF00103</td>\n",
       "      <td>5</td>\n",
       "      <td>P</td>\n",
       "      <td>P01241</td>\n",
       "      <td>31</td>\n",
       "      <td>5</td>\n",
       "    </tr>\n",
       "  </tbody>\n",
       "</table>\n",
       "</div>"
      ],
      "text/plain": [
       "  comments is_observed pdb_aa pdb_chain pdb_id  pfam_id resnum uniprot_aa uniprot_id uniprot_position  residx\n",
       "0   T,loop        True      F         A   1a22  PF00103      1          F     P01241               27       1\n",
       "1   T,loop        True      P         A   1a22  PF00103      2          P     P01241               28       2\n",
       "2   T,loop        True      T         A   1a22  PF00103      3          T     P01241               29       3\n",
       "3   T,loop        True      I         A   1a22  PF00103      4          I     P01241               30       4\n",
       "4   T,loop        True      P         A   1a22  PF00103      5          P     P01241               31       5"
      ]
     },
     "execution_count": 15,
     "metadata": {},
     "output_type": "execute_result"
    }
   ],
   "source": [
    "sifts_dfs['1a22'].head()"
   ]
  },
  {
   "cell_type": "code",
   "execution_count": 16,
   "metadata": {
    "collapsed": false,
    "scrolled": true
   },
   "outputs": [
    {
     "name": "stderr",
     "output_type": "stream",
     "text": [
      "ERROR:root:No mutation mapping available! (1dn2, E, V10A, E, V10A): [{'uniprot_id': nan, 'pdb_chain': 'E', 'uniprot_pos': nan, 'uniprot_aa': nan, 'pfam_id': nan}]\n",
      "ERROR:root:No mutation mapping available! (1dn2, E, W11A, E, W11A): [{'uniprot_id': nan, 'pdb_chain': 'E', 'uniprot_pos': nan, 'uniprot_aa': nan, 'pfam_id': nan}]\n",
      "ERROR:root:No mutation mapping available! (1jrh, L, E27A, L, E27A): [{'uniprot_id': nan, 'pdb_chain': 'L', 'uniprot_pos': nan, 'uniprot_aa': nan, 'pfam_id': nan}]\n",
      "ERROR:root:No mutation mapping available! (1jrh, L, D28A, L, D28A): [{'uniprot_id': nan, 'pdb_chain': 'L', 'uniprot_pos': nan, 'uniprot_aa': nan, 'pfam_id': nan}]\n",
      "ERROR:root:No mutation mapping available! (1jrh, L, Y30A, L, Y30A): [{'uniprot_id': nan, 'pdb_chain': 'L', 'uniprot_pos': nan, 'uniprot_aa': nan, 'pfam_id': nan}]\n",
      "ERROR:root:No mutation mapping available! (1jrh, L, Y91A, L, Y91A): [{'uniprot_id': nan, 'pdb_chain': 'L', 'uniprot_pos': nan, 'uniprot_aa': nan, 'pfam_id': nan}]\n",
      "ERROR:root:No mutation mapping available! (1jrh, L, W92A, L, W92A): [{'uniprot_id': nan, 'pdb_chain': 'L', 'uniprot_pos': nan, 'uniprot_aa': nan, 'pfam_id': nan}]\n",
      "ERROR:root:No mutation mapping available! (1jrh, L, S93A, L, S93A): [{'uniprot_id': nan, 'pdb_chain': 'L', 'uniprot_pos': nan, 'uniprot_aa': nan, 'pfam_id': nan}]\n",
      "ERROR:root:No mutation mapping available! (1jrh, L, T94A, L, T94A): [{'uniprot_id': nan, 'pdb_chain': 'L', 'uniprot_pos': nan, 'uniprot_aa': nan, 'pfam_id': nan}]\n",
      "ERROR:root:No mutation mapping available! (1jrh, L, W96A, L, W96A): [{'uniprot_id': nan, 'pdb_chain': 'L', 'uniprot_pos': nan, 'uniprot_aa': nan, 'pfam_id': nan}]\n",
      "ERROR:root:No mutation mapping available! (1jrh, H, Y32A, H, Y32A): [{'uniprot_id': nan, 'pdb_chain': 'H', 'uniprot_pos': nan, 'uniprot_aa': nan, 'pfam_id': nan}]\n",
      "ERROR:root:No mutation mapping available! (1jrh, H, W52A, H, W52A): [{'uniprot_id': nan, 'pdb_chain': 'H', 'uniprot_pos': nan, 'uniprot_aa': nan, 'pfam_id': nan}]\n",
      "ERROR:root:No mutation mapping available! (1jrh, H, W53A, H, W53A): [{'uniprot_id': nan, 'pdb_chain': 'H', 'uniprot_pos': nan, 'uniprot_aa': nan, 'pfam_id': nan}]\n",
      "ERROR:root:No mutation mapping available! (1jrh, H, D54A, H, D54A): [{'uniprot_id': nan, 'pdb_chain': 'H', 'uniprot_pos': nan, 'uniprot_aa': nan, 'pfam_id': nan}]\n",
      "ERROR:root:No mutation mapping available! (1jrh, H, D55A, H, D55A): [{'uniprot_id': nan, 'pdb_chain': 'H', 'uniprot_pos': nan, 'uniprot_aa': nan, 'pfam_id': nan}]\n",
      "ERROR:root:No mutation mapping available! (1jrh, H, D56A, H, D56A): [{'uniprot_id': nan, 'pdb_chain': 'H', 'uniprot_pos': nan, 'uniprot_aa': nan, 'pfam_id': nan}]\n",
      "ERROR:root:No mutation mapping available! (1jrh, H, Y58A, H, Y58A): [{'uniprot_id': nan, 'pdb_chain': 'H', 'uniprot_pos': nan, 'uniprot_aa': nan, 'pfam_id': nan}]\n",
      "ERROR:root:No mutation mapping available! (1jrh, H, R95A, H, R95A): [{'uniprot_id': nan, 'pdb_chain': 'H', 'uniprot_pos': nan, 'uniprot_aa': nan, 'pfam_id': nan}]\n",
      "ERROR:root:No mutation mapping available! (1jrh, H, F98A, H, F98A): [{'uniprot_id': nan, 'pdb_chain': 'H', 'uniprot_pos': nan, 'uniprot_aa': nan, 'pfam_id': nan}]\n",
      "ERROR:root:No mutation mapping available! (1jrh, H, Y99A, H, Y99A): [{'uniprot_id': nan, 'pdb_chain': 'H', 'uniprot_pos': nan, 'uniprot_aa': nan, 'pfam_id': nan}]\n",
      "ERROR:root:No mutation mapping available! (1jrh, H, H100BA, H, H100BA): [{'uniprot_id': nan, 'pdb_chain': 'H', 'uniprot_pos': nan, 'uniprot_aa': nan, 'pfam_id': nan}]\n",
      "ERROR:root:No mutation mapping available! (1nmb, H, Y99A, H, Y99A): [{'uniprot_id': nan, 'pdb_chain': 'H', 'uniprot_pos': nan, 'uniprot_aa': nan, 'pfam_id': nan}]\n",
      "ERROR:root:PDB AA and UniProt AA are not the same! (1vfb, A, Y, 50, None, 0) (Y != N (P01635))\n",
      "ERROR:root:PDB AA and UniProt AA are not the same! (1vfb, B, N, 56, None, 0) (N != S (P01820))\n",
      "ERROR:root:No mutation mapping available! (1vfb, B, E98A, B, E98A): [{'uniprot_id': nan, 'pdb_chain': 'B', 'uniprot_pos': nan, 'uniprot_aa': nan, 'pfam_id': nan}]\n",
      "ERROR:root:No mutation mapping available! (1vfb, B, R99A, B, R99A): [{'uniprot_id': nan, 'pdb_chain': 'B', 'uniprot_pos': nan, 'uniprot_aa': nan, 'pfam_id': nan}]\n",
      "ERROR:root:No mutation mapping available! (1vfb, B, D100A, B, D100A): [{'uniprot_id': nan, 'pdb_chain': 'B', 'uniprot_pos': nan, 'uniprot_aa': nan, 'pfam_id': nan}]\n",
      "ERROR:root:No mutation mapping available! (1vfb, B, Y101A, B, Y101A): [{'uniprot_id': nan, 'pdb_chain': 'B', 'uniprot_pos': nan, 'uniprot_aa': nan, 'pfam_id': nan}]\n",
      "ERROR:root:No mutation mapping available! (3hfm, L, N31A, L, N31A): [{'uniprot_id': nan, 'pdb_chain': 'L', 'uniprot_pos': nan, 'uniprot_aa': nan, 'pfam_id': nan}]\n",
      "ERROR:root:No mutation mapping available! (3hfm, L, N32A, L, N32A): [{'uniprot_id': nan, 'pdb_chain': 'L', 'uniprot_pos': nan, 'uniprot_aa': nan, 'pfam_id': nan}]\n",
      "ERROR:root:No mutation mapping available! (3hfm, L, Y50A, L, Y50A): [{'uniprot_id': nan, 'pdb_chain': 'L', 'uniprot_pos': nan, 'uniprot_aa': nan, 'pfam_id': nan}]\n",
      "ERROR:root:No mutation mapping available! (3hfm, L, Q53A, L, Q53A): [{'uniprot_id': nan, 'pdb_chain': 'L', 'uniprot_pos': nan, 'uniprot_aa': nan, 'pfam_id': nan}]\n",
      "ERROR:root:No mutation mapping available! (3hfm, L, Y96A, L, Y96A): [{'uniprot_id': nan, 'pdb_chain': 'L', 'uniprot_pos': nan, 'uniprot_aa': nan, 'pfam_id': nan}]\n",
      "ERROR:root:No mutation mapping available! (3hfm, H, S31A, H, S31A): [{'uniprot_id': nan, 'pdb_chain': 'H', 'uniprot_pos': nan, 'uniprot_aa': nan, 'pfam_id': nan}]\n",
      "ERROR:root:No mutation mapping available! (3hfm, H, D32A, H, D32A): [{'uniprot_id': nan, 'pdb_chain': 'H', 'uniprot_pos': nan, 'uniprot_aa': nan, 'pfam_id': nan}]\n",
      "ERROR:root:No mutation mapping available! (3hfm, H, Y33A, H, Y33A): [{'uniprot_id': nan, 'pdb_chain': 'H', 'uniprot_pos': nan, 'uniprot_aa': nan, 'pfam_id': nan}]\n",
      "ERROR:root:No mutation mapping available! (3hfm, H, Y50A, H, Y50A): [{'uniprot_id': nan, 'pdb_chain': 'H', 'uniprot_pos': nan, 'uniprot_aa': nan, 'pfam_id': nan}]\n",
      "ERROR:root:No mutation mapping available! (3hfm, H, W98A, H, W98A): [{'uniprot_id': nan, 'pdb_chain': 'H', 'uniprot_pos': nan, 'uniprot_aa': nan, 'pfam_id': nan}]\n",
      "ERROR:root:No mutation mapping available! (3hfm, H, D101A, H, D101A): [{'uniprot_id': nan, 'pdb_chain': 'H', 'uniprot_pos': nan, 'uniprot_aa': nan, 'pfam_id': nan}]\n",
      "ERROR:root:No mutation mapping available! (3hfm, H, Y53A, H, Y53A): [{'uniprot_id': nan, 'pdb_chain': 'H', 'uniprot_pos': nan, 'uniprot_aa': nan, 'pfam_id': nan}]\n",
      "ERROR:root:No mutation mapping available! (3hfm, H, Y58A, H, Y58A): [{'uniprot_id': nan, 'pdb_chain': 'H', 'uniprot_pos': nan, 'uniprot_aa': nan, 'pfam_id': nan}]\n"
     ]
    }
   ],
   "source": [
    "# Add info to core\n",
    "def get_sifts_data(pdb_id, pdb_chain, pdb_mutation):\n",
    "    sifts_df = sifts_dfs[pdb_id]\n",
    "    try:\n",
    "        result = kmtools.pdb_tools.sifts.convert_pdb_mutations_to_uniprot(\n",
    "            pdb_id, pdb_chain, pdb_mutation, sifts_df)\n",
    "    except kmtools.pdb_tools.sifts.SIFTSError as e:\n",
    "        logger.error(e)\n",
    "        result = {}\n",
    "    return result\n",
    "\n",
    "results = [get_sifts_data(*x) for x in kortemme_baker_df[['pdb_id', 'pdb_chain', 'pdb_mutation']].values]"
   ]
  },
  {
   "cell_type": "code",
   "execution_count": 17,
   "metadata": {
    "collapsed": false
   },
   "outputs": [
    {
     "data": {
      "text/html": [
       "<div>\n",
       "<table border=\"1\" class=\"dataframe\">\n",
       "  <thead>\n",
       "    <tr style=\"text-align: right;\">\n",
       "      <th></th>\n",
       "      <th>pfam_id_sifts</th>\n",
       "      <th>uniprot_id_sifts</th>\n",
       "      <th>uniprot_mutations_sifts</th>\n",
       "    </tr>\n",
       "  </thead>\n",
       "  <tbody>\n",
       "    <tr>\n",
       "      <th>0</th>\n",
       "      <td>PF00103</td>\n",
       "      <td>P01241</td>\n",
       "      <td>M40A</td>\n",
       "    </tr>\n",
       "    <tr>\n",
       "      <th>1</th>\n",
       "      <td>PF00103</td>\n",
       "      <td>P01241</td>\n",
       "      <td>H44A</td>\n",
       "    </tr>\n",
       "    <tr>\n",
       "      <th>2</th>\n",
       "      <td>PF00103</td>\n",
       "      <td>P01241</td>\n",
       "      <td>H47A</td>\n",
       "    </tr>\n",
       "    <tr>\n",
       "      <th>3</th>\n",
       "      <td>PF00103</td>\n",
       "      <td>P01241</td>\n",
       "      <td>Q48A</td>\n",
       "    </tr>\n",
       "    <tr>\n",
       "      <th>4</th>\n",
       "      <td>PF00103</td>\n",
       "      <td>P01241</td>\n",
       "      <td>F51A</td>\n",
       "    </tr>\n",
       "  </tbody>\n",
       "</table>\n",
       "</div>"
      ],
      "text/plain": [
       "  pfam_id_sifts uniprot_id_sifts uniprot_mutations_sifts\n",
       "0       PF00103           P01241                    M40A\n",
       "1       PF00103           P01241                    H44A\n",
       "2       PF00103           P01241                    H47A\n",
       "3       PF00103           P01241                    Q48A\n",
       "4       PF00103           P01241                    F51A"
      ]
     },
     "execution_count": 17,
     "metadata": {},
     "output_type": "execute_result"
    }
   ],
   "source": [
    "df = pd.DataFrame(results)\n",
    "df.head()"
   ]
  },
  {
   "cell_type": "code",
   "execution_count": 18,
   "metadata": {
    "collapsed": true
   },
   "outputs": [],
   "source": [
    "kortemme_baker_df['uniprot_id'] = df['uniprot_id_sifts']\n",
    "kortemme_baker_df['uniprot_mutation'] = df['uniprot_mutations_sifts']\n",
    "kortemme_baker_df['pfam_id'] = df['pfam_id_sifts']"
   ]
  },
  {
   "cell_type": "raw",
   "metadata": {
    "code_folding": [],
    "collapsed": false
   },
   "source": [
    "# Add info to core\n",
    "results = (\n",
    "    kortemme_baker_df[['pdb_id', 'pdb_chain', 'pdb_aa_wt', 'pdb_resnum']].apply(\n",
    "        lambda x: ascommon.pdb_tools.sifts.convert_amino_acid(*x, sifts_dfs[x[0]]), \n",
    "        axis=1)\n",
    ")\n",
    "                                           \n",
    "(kortemme_baker_df['uniprot_id'], kortemme_baker_df['uniprot_aa'], kortemme_baker_df['uniprot_pos'],\n",
    " kortemme_baker_df['pfam_id']) = list(zip(*\n",
    "    ((r['uniprot_id'], r['uniprot_aa'], r['uniprot_pos'], r['pfam_id']) for r in results)\n",
    "))\n",
    "\n",
    "kortemme_baker_df['uniprot_mutation'] = (\n",
    "    kortemme_baker_df['uniprot_aa'] + \n",
    "    kortemme_baker_df['uniprot_pos'].apply(lambda x: str(int(x)) if pd.notnull(x) else np.nan) + \n",
    "    kortemme_baker_df['pdb_aa_mut']\n",
    ")"
   ]
  },
  {
   "cell_type": "code",
   "execution_count": 19,
   "metadata": {
    "collapsed": false
   },
   "outputs": [],
   "source": [
    "pfam_a_clans = (\n",
    "    pd.read_sql_table('pfam_a_clans', db_remote.engine, schema='pfam')\n",
    ")"
   ]
  },
  {
   "cell_type": "code",
   "execution_count": 20,
   "metadata": {
    "collapsed": false
   },
   "outputs": [
    {
     "data": {
      "text/html": [
       "<div>\n",
       "<table border=\"1\" class=\"dataframe\">\n",
       "  <thead>\n",
       "    <tr style=\"text-align: right;\">\n",
       "      <th></th>\n",
       "      <th>pfam_id</th>\n",
       "      <th>clan_id</th>\n",
       "      <th>clan_name</th>\n",
       "      <th>pfam_name</th>\n",
       "      <th>pfam_description</th>\n",
       "    </tr>\n",
       "  </thead>\n",
       "  <tbody>\n",
       "    <tr>\n",
       "      <th>0</th>\n",
       "      <td>PF00389</td>\n",
       "      <td>CL0325</td>\n",
       "      <td>Form_Glyc_dh</td>\n",
       "      <td>2-Hacid_dh</td>\n",
       "      <td>D-isomer specific 2-hydroxyacid dehydrogenase,...</td>\n",
       "    </tr>\n",
       "    <tr>\n",
       "      <th>1</th>\n",
       "      <td>PF00198</td>\n",
       "      <td>CL0149</td>\n",
       "      <td>CoA-acyltrans</td>\n",
       "      <td>2-oxoacid_dh</td>\n",
       "      <td>2-oxoacid dehydrogenases acyltransferase (cata...</td>\n",
       "    </tr>\n",
       "    <tr>\n",
       "      <th>2</th>\n",
       "      <td>PF04029</td>\n",
       "      <td>None</td>\n",
       "      <td>None</td>\n",
       "      <td>2-ph_phosp</td>\n",
       "      <td>2-phosphosulpholactate phosphatase</td>\n",
       "    </tr>\n",
       "    <tr>\n",
       "      <th>3</th>\n",
       "      <td>PF03171</td>\n",
       "      <td>CL0029</td>\n",
       "      <td>Cupin</td>\n",
       "      <td>2OG-FeII_Oxy</td>\n",
       "      <td>2OG-Fe(II) oxygenase superfamily</td>\n",
       "    </tr>\n",
       "    <tr>\n",
       "      <th>4</th>\n",
       "      <td>PF01073</td>\n",
       "      <td>CL0063</td>\n",
       "      <td>NADP_Rossmann</td>\n",
       "      <td>3Beta_HSD</td>\n",
       "      <td>3-beta hydroxysteroid dehydrogenase/isomerase ...</td>\n",
       "    </tr>\n",
       "  </tbody>\n",
       "</table>\n",
       "</div>"
      ],
      "text/plain": [
       "   pfam_id clan_id      clan_name     pfam_name                                   pfam_description\n",
       "0  PF00389  CL0325   Form_Glyc_dh    2-Hacid_dh  D-isomer specific 2-hydroxyacid dehydrogenase,...\n",
       "1  PF00198  CL0149  CoA-acyltrans  2-oxoacid_dh  2-oxoacid dehydrogenases acyltransferase (cata...\n",
       "2  PF04029    None           None    2-ph_phosp                 2-phosphosulpholactate phosphatase\n",
       "3  PF03171  CL0029          Cupin  2OG-FeII_Oxy                   2OG-Fe(II) oxygenase superfamily\n",
       "4  PF01073  CL0063  NADP_Rossmann     3Beta_HSD  3-beta hydroxysteroid dehydrogenase/isomerase ..."
      ]
     },
     "execution_count": 20,
     "metadata": {},
     "output_type": "execute_result"
    }
   ],
   "source": [
    "pfam_a_clans.head()"
   ]
  },
  {
   "cell_type": "code",
   "execution_count": 21,
   "metadata": {
    "collapsed": false
   },
   "outputs": [],
   "source": [
    "kortemme_baker_df['pfam_clan'] = kortemme_baker_df['pfam_id'].map(pfam_a_clans.set_index('pfam_id')['clan_id'])"
   ]
  },
  {
   "cell_type": "code",
   "execution_count": 22,
   "metadata": {
    "collapsed": false,
    "scrolled": true
   },
   "outputs": [
    {
     "data": {
      "text/html": [
       "<div>\n",
       "<table border=\"1\" class=\"dataframe\">\n",
       "  <thead>\n",
       "    <tr style=\"text-align: right;\">\n",
       "      <th></th>\n",
       "      <th>pdb_id</th>\n",
       "      <th>Mutated_partner</th>\n",
       "      <th>pdb_chain</th>\n",
       "      <th>pdb_resnum</th>\n",
       "      <th>pdb_aa_wt</th>\n",
       "      <th>DDG_calc</th>\n",
       "      <th>DDG_obs</th>\n",
       "      <th>Interface(O:no,1:yes)</th>\n",
       "      <th>PDBPosID</th>\n",
       "      <th>PubMedID</th>\n",
       "      <th>Location</th>\n",
       "      <th>FixedPDB_ID</th>\n",
       "      <th>FixedPDBResidueID</th>\n",
       "      <th>partner_pdb_chain</th>\n",
       "      <th>pdb_aa_mut</th>\n",
       "      <th>pdb_mutation</th>\n",
       "      <th>ddg_exp</th>\n",
       "      <th>uniprot_id</th>\n",
       "      <th>uniprot_mutation</th>\n",
       "      <th>pfam_id</th>\n",
       "      <th>pfam_clan</th>\n",
       "    </tr>\n",
       "  </thead>\n",
       "  <tbody>\n",
       "    <tr>\n",
       "      <th>375</th>\n",
       "      <td>3hfm</td>\n",
       "      <td>HEL</td>\n",
       "      <td>Y</td>\n",
       "      <td>96</td>\n",
       "      <td>K</td>\n",
       "      <td>2.13</td>\n",
       "      <td>7</td>\n",
       "      <td>1</td>\n",
       "      <td>3HFM525</td>\n",
       "      <td>10338006</td>\n",
       "      <td>Figure_1/Appendix</td>\n",
       "      <td>NaN</td>\n",
       "      <td>NaN</td>\n",
       "      <td>NaN</td>\n",
       "      <td>A</td>\n",
       "      <td>K96A</td>\n",
       "      <td>7.00</td>\n",
       "      <td>P00698</td>\n",
       "      <td>K114A</td>\n",
       "      <td>PF00062</td>\n",
       "      <td>CL0037</td>\n",
       "    </tr>\n",
       "    <tr>\n",
       "      <th>376</th>\n",
       "      <td>3hfm</td>\n",
       "      <td>HEL</td>\n",
       "      <td>Y</td>\n",
       "      <td>97</td>\n",
       "      <td>K</td>\n",
       "      <td>1.42</td>\n",
       "      <td>6.2</td>\n",
       "      <td>1</td>\n",
       "      <td>3HFM526</td>\n",
       "      <td>10338006</td>\n",
       "      <td>Figure_1/Appendix</td>\n",
       "      <td>NaN</td>\n",
       "      <td>NaN</td>\n",
       "      <td>NaN</td>\n",
       "      <td>A</td>\n",
       "      <td>K97A</td>\n",
       "      <td>6.20</td>\n",
       "      <td>P00698</td>\n",
       "      <td>K115A</td>\n",
       "      <td>PF00062</td>\n",
       "      <td>CL0037</td>\n",
       "    </tr>\n",
       "    <tr>\n",
       "      <th>377</th>\n",
       "      <td>3hfm</td>\n",
       "      <td>HEL</td>\n",
       "      <td>Y</td>\n",
       "      <td>98</td>\n",
       "      <td>I</td>\n",
       "      <td>0.10</td>\n",
       "      <td>-0.1</td>\n",
       "      <td>0</td>\n",
       "      <td>3HFM527</td>\n",
       "      <td>10338006</td>\n",
       "      <td>Figure_1</td>\n",
       "      <td>NaN</td>\n",
       "      <td>NaN</td>\n",
       "      <td>NaN</td>\n",
       "      <td>A</td>\n",
       "      <td>I98A</td>\n",
       "      <td>-0.10</td>\n",
       "      <td>P00698</td>\n",
       "      <td>I116A</td>\n",
       "      <td>PF00062</td>\n",
       "      <td>CL0037</td>\n",
       "    </tr>\n",
       "    <tr>\n",
       "      <th>378</th>\n",
       "      <td>3hfm</td>\n",
       "      <td>HEL</td>\n",
       "      <td>Y</td>\n",
       "      <td>100</td>\n",
       "      <td>S</td>\n",
       "      <td>0.95</td>\n",
       "      <td>0.25</td>\n",
       "      <td>1</td>\n",
       "      <td>3HFM529</td>\n",
       "      <td>10338006</td>\n",
       "      <td>Figure_1</td>\n",
       "      <td>NaN</td>\n",
       "      <td>NaN</td>\n",
       "      <td>NaN</td>\n",
       "      <td>A</td>\n",
       "      <td>S100A</td>\n",
       "      <td>0.25</td>\n",
       "      <td>P00698</td>\n",
       "      <td>S118A</td>\n",
       "      <td>PF00062</td>\n",
       "      <td>CL0037</td>\n",
       "    </tr>\n",
       "    <tr>\n",
       "      <th>379</th>\n",
       "      <td>3hfm</td>\n",
       "      <td>HEL</td>\n",
       "      <td>Y</td>\n",
       "      <td>101</td>\n",
       "      <td>D</td>\n",
       "      <td>1.02</td>\n",
       "      <td>1.5</td>\n",
       "      <td>1</td>\n",
       "      <td>3HFM530</td>\n",
       "      <td>10338006</td>\n",
       "      <td>Figure_1</td>\n",
       "      <td>NaN</td>\n",
       "      <td>NaN</td>\n",
       "      <td>NaN</td>\n",
       "      <td>A</td>\n",
       "      <td>D101A</td>\n",
       "      <td>1.50</td>\n",
       "      <td>P00698</td>\n",
       "      <td>D119A</td>\n",
       "      <td>PF00062</td>\n",
       "      <td>CL0037</td>\n",
       "    </tr>\n",
       "  </tbody>\n",
       "</table>\n",
       "</div>"
      ],
      "text/plain": [
       "    pdb_id Mutated_partner pdb_chain pdb_resnum pdb_aa_wt  DDG_calc DDG_obs  Interface(O:no,1:yes) PDBPosID  PubMedID           Location  FixedPDB_ID  FixedPDBResidueID  partner_pdb_chain pdb_aa_mut pdb_mutation  ddg_exp uniprot_id uniprot_mutation  pfam_id pfam_clan\n",
       "375   3hfm             HEL         Y         96         K      2.13       7                      1  3HFM525  10338006  Figure_1/Appendix          NaN                NaN                NaN          A         K96A     7.00     P00698            K114A  PF00062    CL0037\n",
       "376   3hfm             HEL         Y         97         K      1.42     6.2                      1  3HFM526  10338006  Figure_1/Appendix          NaN                NaN                NaN          A         K97A     6.20     P00698            K115A  PF00062    CL0037\n",
       "377   3hfm             HEL         Y         98         I      0.10    -0.1                      0  3HFM527  10338006           Figure_1          NaN                NaN                NaN          A         I98A    -0.10     P00698            I116A  PF00062    CL0037\n",
       "378   3hfm             HEL         Y        100         S      0.95    0.25                      1  3HFM529  10338006           Figure_1          NaN                NaN                NaN          A        S100A     0.25     P00698            S118A  PF00062    CL0037\n",
       "379   3hfm             HEL         Y        101         D      1.02     1.5                      1  3HFM530  10338006           Figure_1          NaN                NaN                NaN          A        D101A     1.50     P00698            D119A  PF00062    CL0037"
      ]
     },
     "execution_count": 22,
     "metadata": {},
     "output_type": "execute_result"
    }
   ],
   "source": [
    "kortemme_baker_df.tail()"
   ]
  },
  {
   "cell_type": "code",
   "execution_count": 23,
   "metadata": {
    "collapsed": false
   },
   "outputs": [],
   "source": [
    "assert kortemme_baker_df[kortemme_baker_df['FixedPDB_ID'].notnull()].empty"
   ]
  },
  {
   "cell_type": "code",
   "execution_count": 24,
   "metadata": {
    "collapsed": true
   },
   "outputs": [],
   "source": [
    "assert kortemme_baker_df[kortemme_baker_df['FixedPDBResidueID'].notnull()].empty"
   ]
  },
  {
   "cell_type": "code",
   "execution_count": 25,
   "metadata": {
    "collapsed": false
   },
   "outputs": [],
   "source": [
    "assert kortemme_baker_df['pfam_clan'].notnull().sum() > 100"
   ]
  },
  {
   "cell_type": "code",
   "execution_count": 26,
   "metadata": {
    "collapsed": true
   },
   "outputs": [],
   "source": [
    "kortemme_baker_df_2_bak = kortemme_baker_df.copy()"
   ]
  },
  {
   "cell_type": "markdown",
   "metadata": {},
   "source": [
    "# Add Partner"
   ]
  },
  {
   "cell_type": "code",
   "execution_count": 27,
   "metadata": {
    "collapsed": true
   },
   "outputs": [],
   "source": [
    "kortemme_baker_df['partner_uniprot_id'] = np.nan"
   ]
  },
  {
   "cell_type": "raw",
   "metadata": {},
   "source": [
    "kortemme_baker_df = kortemme_baker_df_2_bak.copy()"
   ]
  },
  {
   "cell_type": "raw",
   "metadata": {},
   "source": [
    "sql_query = \"\"\"\n",
    "select *\n",
    "from uniparc_human.gene_name\n",
    "where gene_name in ('{}')\n",
    "\"\"\".format(\"', '\".join(kortemme_baker_df['Mutated_partner'].drop_duplicates()))\n",
    "gene_names = set(pd.read_sql_query(sql_query, db_remote.engine)['gene_name'])\n",
    "kortemme_baker_df[~kortemme_baker_df['Mutated_partner'].isin(gene_names)]"
   ]
  },
  {
   "cell_type": "raw",
   "metadata": {},
   "source": [
    "kortemme_baker_df_2_bak"
   ]
  },
  {
   "cell_type": "markdown",
   "metadata": {},
   "source": [
    "# Save to database"
   ]
  },
  {
   "cell_type": "code",
   "execution_count": 28,
   "metadata": {
    "collapsed": true
   },
   "outputs": [],
   "source": [
    "_header_columns = [\n",
    "    'pdb_id', 'pdb_chain', 'partner_pdb_chain', 'pdb_mutation', \n",
    "    'uniprot_id', 'partner_uniprot_id', 'uniprot_mutation',\n",
    "    'pfam_id', 'pfam_clan',\n",
    "    'ddg_exp'\n",
    "]"
   ]
  },
  {
   "cell_type": "code",
   "execution_count": 29,
   "metadata": {
    "collapsed": false
   },
   "outputs": [],
   "source": [
    "t = db.import_df(\n",
    "    kortemme_baker_df[_header_columns],\n",
    "    'kortemme_baker',\n",
    ")"
   ]
  },
  {
   "cell_type": "code",
   "execution_count": 30,
   "metadata": {
    "collapsed": false
   },
   "outputs": [
    {
     "data": {
      "text/plain": [
       "'kortemme_baker'"
      ]
     },
     "execution_count": 30,
     "metadata": {},
     "output_type": "execute_result"
    }
   ],
   "source": [
    "t.name"
   ]
  },
  {
   "cell_type": "code",
   "execution_count": 31,
   "metadata": {
    "collapsed": false
   },
   "outputs": [],
   "source": [
    "db.create_indexes(\n",
    "    t.name,\n",
    "    [(['pdb_id', 'pdb_chain', 'pdb_mutation'], True),\n",
    "     (['uniprot_id', 'partner_uniprot_id', 'uniprot_mutation'], True)]\n",
    ")"
   ]
  },
  {
   "cell_type": "code",
   "execution_count": 32,
   "metadata": {
    "collapsed": false
   },
   "outputs": [
    {
     "data": {
      "text/plain": [
       "380"
      ]
     },
     "execution_count": 32,
     "metadata": {},
     "output_type": "execute_result"
    }
   ],
   "source": [
    "db.add_idx_column(t.name)"
   ]
  }
 ],
 "metadata": {
  "kernelspec": {
   "display_name": "Python 3",
   "language": "python",
   "name": "python3"
  },
  "language_info": {
   "codemirror_mode": {
    "name": "ipython",
    "version": 3
   },
   "file_extension": ".py",
   "mimetype": "text/x-python",
   "name": "python",
   "nbconvert_exporter": "python",
   "pygments_lexer": "ipython3",
   "version": "3.5.1"
  },
  "nav_menu": {},
  "toc": {
   "navigate_menu": true,
   "number_sections": true,
   "sideBar": false,
   "threshold": 6,
   "toc_cell": true,
   "toc_section_display": "block",
   "toc_window_display": true
  },
  "toc_position": {
   "height": "369px",
   "left": "85px",
   "right": "20px",
   "top": "87.9931px",
   "width": "230px"
  }
 },
 "nbformat": 4,
 "nbformat_minor": 0
}
