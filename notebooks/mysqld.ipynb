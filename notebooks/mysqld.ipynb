{
 "cells": [
  {
   "cell_type": "markdown",
   "metadata": {},
   "source": [
    "# Summary\n",
    "\n",
    "Starts `mysqld` daemon, which is used as the database for this repository.\n",
    "\n",
    "----"
   ]
  },
  {
   "cell_type": "code",
   "execution_count": 1,
   "metadata": {
    "collapsed": false
   },
   "outputs": [
    {
     "name": "stdout",
     "output_type": "stream",
     "text": [
      "2016-08-02 19:37:14.382475\n"
     ]
    }
   ],
   "source": [
    "%run imports.ipynb"
   ]
  },
  {
   "cell_type": "code",
   "execution_count": 2,
   "metadata": {
    "collapsed": true
   },
   "outputs": [],
   "source": [
    "os.makedirs(os.environ['DB_DATA_DIR'], exist_ok=True)\n",
    "os.makedirs(op.dirname(os.environ['DB_SOCKET']), exist_ok=True)"
   ]
  },
  {
   "cell_type": "code",
   "execution_count": 6,
   "metadata": {
    "collapsed": false
   },
   "outputs": [],
   "source": [
    "def start_database():\n",
    "    mysqld = datapkg.MySQLDaemon(\n",
    "        datadir=os.environ['DB_DATA_DIR'],\n",
    "        db_socket=os.environ['DB_SOCKET'],\n",
    "        db_port=os.environ['DB_PORT'],\n",
    "    )\n",
    "    if not op.exists(os.environ['DB_SOCKET']):\n",
    "        logger.info('Starting MySQL database...')\n",
    "        mysqld.install_db()\n",
    "        mysqld.start()\n",
    "    else:\n",
    "        logger.info('MySQL database already running...')\n",
    "    return mysqld"
   ]
  },
  {
   "cell_type": "code",
   "execution_count": null,
   "metadata": {
    "collapsed": false
   },
   "outputs": [],
   "source": [
    "mysqld = start_database()"
   ]
  },
  {
   "cell_type": "code",
   "execution_count": null,
   "metadata": {
    "collapsed": true
   },
   "outputs": [],
   "source": [
    "mysqld.allow_external_connections()"
   ]
  },
  {
   "cell_type": "code",
   "execution_count": null,
   "metadata": {
    "collapsed": true
   },
   "outputs": [],
   "source": [
    "# Start a database connection\n",
    "db = datapkg.MySQL(\n",
    "    connection_string=mysqld.get_connection_string(os.environ['DB_SCHEMA']),\n",
    "    shared_folder=os.environ['NOTEBOOK_NAME'],\n",
    "    storage_host=None,\n",
    "    echo=False,\n",
    "    db_engine='MyISAM',\n",
    ")"
   ]
  }
 ],
 "metadata": {
  "anaconda-cloud": {},
  "kernelspec": {
   "display_name": "Python [Root]",
   "language": "python",
   "name": "Python [Root]"
  },
  "language_info": {
   "codemirror_mode": {
    "name": "ipython",
    "version": 3
   },
   "file_extension": ".py",
   "mimetype": "text/x-python",
   "name": "python",
   "nbconvert_exporter": "python",
   "pygments_lexer": "ipython3",
   "version": "3.5.2"
  },
  "nav_menu": {},
  "toc": {
   "navigate_menu": true,
   "number_sections": true,
   "sideBar": false,
   "threshold": 6,
   "toc_cell": false,
   "toc_section_display": "block",
   "toc_window_display": true
  }
 },
 "nbformat": 4,
 "nbformat_minor": 0
}
