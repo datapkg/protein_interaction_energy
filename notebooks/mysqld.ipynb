{
 "cells": [
  {
   "cell_type": "markdown",
   "metadata": {},
   "source": [
    "# Summary\n",
    "\n",
    "Starts `mysqld` daemon, which is used as the database for this repository.\n",
    "\n",
    "----"
   ]
  },
  {
   "cell_type": "code",
   "execution_count": 1,
   "metadata": {
    "collapsed": false
   },
   "outputs": [
    {
     "name": "stderr",
     "output_type": "stream",
     "text": [
      "INFO - root - Initialized logger\n",
      "ERROR - root - Initialized logger\n"
     ]
    },
    {
     "name": "stdout",
     "output_type": "stream",
     "text": [
      "2016-06-06 11:12:13.426842\n"
     ]
    }
   ],
   "source": [
    "%run imports.ipynb"
   ]
  },
  {
   "cell_type": "code",
   "execution_count": null,
   "metadata": {
    "collapsed": true
   },
   "outputs": [],
   "source": [
    "os.makedirs(os.environ['DB_DATA_DIR'], exist_ok=True)\n",
    "os.makedirs(op.dirname(os.environ['DB_SOCKET']), exist_ok=True)"
   ]
  },
  {
   "cell_type": "code",
   "execution_count": 5,
   "metadata": {
    "collapsed": false
   },
   "outputs": [],
   "source": [
    "def start_database():\n",
    "    mysqld = datapkg.MySQLDaemon(\n",
    "        datadir=os.environ['DB_DATA_DIR'],\n",
    "        socket=os.environ['DB_SOCKET'],\n",
    "        port=os.environ['DB_PORT'],\n",
    "    )\n",
    "    if not op.exists(os.environ['DB_SOCKET']):\n",
    "        logger.info('Starting MySQL database...')\n",
    "        mysqld.install_db()\n",
    "        mysqld.start()\n",
    "    else:\n",
    "        logger.info('MySQL database already running...')\n",
    "    return mysqld"
   ]
  },
  {
   "cell_type": "code",
   "execution_count": 6,
   "metadata": {
    "collapsed": false
   },
   "outputs": [
    {
     "name": "stderr",
     "output_type": "stream",
     "text": [
      "DEBUG - datapkg.daemons - 'basedir': /home/kimlab1/strokach/anaconda\n",
      "INFO - root - Starting MySQL database...\n",
      "DEBUG - datapkg.daemons - ===== Initializing MySQL database... =====\n",
      "DEBUG - datapkg.daemons - mysql_install_db --no-defaults --basedir=/home/kimlab1/strokach/anaconda --datadir=/kimlab1/database_data/biodb/recipes/dbnsfp/notebooks/mysqld \n",
      "DEBUG - datapkg.daemons - Installing MariaDB/MySQL system tables in '/kimlab1/database_data/biodb/recipes/dbnsfp/notebooks/mysqld' ...\n",
      "DEBUG - datapkg.daemons - /home/kimlab1/strokach/anaconda/bin/mysqld (mysqld 10.1.13-MariaDB) starting as process 25451 ...\n",
      "DEBUG - datapkg.daemons - InnoDB: Using mutexes to ref count buffer pool pages\n",
      "DEBUG - datapkg.daemons - InnoDB: The InnoDB memory heap is disabled\n",
      "DEBUG - datapkg.daemons - InnoDB: Mutexes and rw_locks use GCC atomic builtins\n",
      "DEBUG - datapkg.daemons - InnoDB: Memory barrier is not used\n",
      "DEBUG - datapkg.daemons - InnoDB: Compressed tables use zlib 1.2.3\n",
      "DEBUG - datapkg.daemons - InnoDB: Using Linux native AIO\n",
      "DEBUG - datapkg.daemons - InnoDB: Using SSE crc32 instructions\n",
      "DEBUG - datapkg.daemons - InnoDB: Initializing buffer pool, size = 128.0M\n",
      "DEBUG - datapkg.daemons - InnoDB: Completed initialization of buffer pool\n",
      "DEBUG - datapkg.daemons - InnoDB: Highest supported file format is Barracuda.\n",
      "DEBUG - datapkg.daemons - InnoDB: 128 rollback segment(s) are active.\n",
      "DEBUG - datapkg.daemons - InnoDB: Waiting for purge to start\n",
      "DEBUG - datapkg.daemons - InnoDB:  Percona XtraDB (http://www.percona.com) 5.6.28-76.1 started; log sequence number 1616829\n",
      "DEBUG - datapkg.daemons - InnoDB: Dumping buffer pool(s) not yet started\n",
      "DEBUG - datapkg.daemons - OK\n",
      "DEBUG - datapkg.daemons - Filling help tables...\n",
      "DEBUG - datapkg.daemons - /home/kimlab1/strokach/anaconda/bin/mysqld (mysqld 10.1.13-MariaDB) starting as process 25498 ...\n",
      "DEBUG - datapkg.daemons - InnoDB: Using mutexes to ref count buffer pool pages\n",
      "DEBUG - datapkg.daemons - InnoDB: The InnoDB memory heap is disabled\n",
      "DEBUG - datapkg.daemons - InnoDB: Mutexes and rw_locks use GCC atomic builtins\n",
      "DEBUG - datapkg.daemons - InnoDB: Memory barrier is not used\n",
      "DEBUG - datapkg.daemons - InnoDB: Compressed tables use zlib 1.2.3\n",
      "DEBUG - datapkg.daemons - InnoDB: Using Linux native AIO\n",
      "DEBUG - datapkg.daemons - InnoDB: Using SSE crc32 instructions\n",
      "DEBUG - datapkg.daemons - InnoDB: Initializing buffer pool, size = 128.0M\n",
      "DEBUG - datapkg.daemons - InnoDB: Completed initialization of buffer pool\n",
      "DEBUG - datapkg.daemons - InnoDB: Highest supported file format is Barracuda.\n",
      "DEBUG - datapkg.daemons - InnoDB: 128 rollback segment(s) are active.\n",
      "DEBUG - datapkg.daemons - InnoDB: Waiting for purge to start\n",
      "DEBUG - datapkg.daemons - InnoDB:  Percona XtraDB (http://www.percona.com) 5.6.28-76.1 started; log sequence number 1616839\n",
      "DEBUG - datapkg.daemons - InnoDB: Dumping buffer pool(s) not yet started\n",
      "DEBUG - datapkg.daemons - OK\n",
      "DEBUG - datapkg.daemons - Creating OpenGIS required SP-s...\n",
      "DEBUG - datapkg.daemons - /home/kimlab1/strokach/anaconda/bin/mysqld (mysqld 10.1.13-MariaDB) starting as process 25553 ...\n",
      "DEBUG - datapkg.daemons - InnoDB: Using mutexes to ref count buffer pool pages\n",
      "DEBUG - datapkg.daemons - InnoDB: The InnoDB memory heap is disabled\n",
      "DEBUG - datapkg.daemons - InnoDB: Mutexes and rw_locks use GCC atomic builtins\n",
      "DEBUG - datapkg.daemons - InnoDB: Memory barrier is not used\n",
      "DEBUG - datapkg.daemons - InnoDB: Compressed tables use zlib 1.2.3\n",
      "DEBUG - datapkg.daemons - InnoDB: Using Linux native AIO\n",
      "DEBUG - datapkg.daemons - InnoDB: Using SSE crc32 instructions\n",
      "DEBUG - datapkg.daemons - InnoDB: Initializing buffer pool, size = 128.0M\n",
      "DEBUG - datapkg.daemons - InnoDB: Completed initialization of buffer pool\n",
      "DEBUG - datapkg.daemons - InnoDB: Highest supported file format is Barracuda.\n",
      "DEBUG - datapkg.daemons - InnoDB: 128 rollback segment(s) are active.\n",
      "DEBUG - datapkg.daemons - InnoDB: Waiting for purge to start\n",
      "DEBUG - datapkg.daemons - InnoDB:  Percona XtraDB (http://www.percona.com) 5.6.28-76.1 started; log sequence number 1616849\n",
      "DEBUG - datapkg.daemons - InnoDB: Dumping buffer pool(s) not yet started\n",
      "DEBUG - datapkg.daemons - OK\n",
      "DEBUG - datapkg.daemons - \n",
      "DEBUG - datapkg.daemons - Reached an empty line!\n",
      "DEBUG - datapkg.daemons - ===== Starting MySQL daemon... =====\n",
      "DEBUG - datapkg.daemons - mysqld --no-defaults --basedir=/home/kimlab1/strokach/anaconda --datadir=/kimlab1/database_data/biodb/recipes/dbnsfp/notebooks/mysqld     --external-locking --delay-key-write=OFF --query-cache-size=0     --socket='/tmp/strokach/dbnsfp/mysql.sock' --port=8301 \n",
      "DEBUG - datapkg.daemons - mysqld (mysqld 10.1.13-MariaDB) starting as process 25598 ...\n",
      "DEBUG - datapkg.daemons - InnoDB: Using mutexes to ref count buffer pool pages\n",
      "DEBUG - datapkg.daemons - InnoDB: The InnoDB memory heap is disabled\n",
      "DEBUG - datapkg.daemons - InnoDB: Mutexes and rw_locks use GCC atomic builtins\n",
      "DEBUG - datapkg.daemons - InnoDB: Memory barrier is not used\n",
      "DEBUG - datapkg.daemons - InnoDB: Compressed tables use zlib 1.2.3\n",
      "DEBUG - datapkg.daemons - InnoDB: Using Linux native AIO\n",
      "DEBUG - datapkg.daemons - InnoDB: Using SSE crc32 instructions\n",
      "DEBUG - datapkg.daemons - InnoDB: Initializing buffer pool, size = 128.0M\n",
      "DEBUG - datapkg.daemons - InnoDB: Completed initialization of buffer pool\n",
      "DEBUG - datapkg.daemons - InnoDB: Highest supported file format is Barracuda.\n",
      "DEBUG - datapkg.daemons - InnoDB: 128 rollback segment(s) are active.\n",
      "DEBUG - datapkg.daemons - InnoDB: Waiting for purge to start\n",
      "DEBUG - datapkg.daemons - InnoDB:  Percona XtraDB (http://www.percona.com) 5.6.28-76.1 started; log sequence number 1616859\n",
      "DEBUG - datapkg.daemons - InnoDB: Dumping buffer pool(s) not yet started\n",
      "DEBUG - datapkg.daemons - Plugin 'FEEDBACK' is disabled.\n",
      "DEBUG - datapkg.daemons - Server socket created on IP: '::'.\n",
      "DEBUG - datapkg.daemons - mysqld: ready for connections.\n"
     ]
    }
   ],
   "source": [
    "mysqld = start_database()"
   ]
  },
  {
   "cell_type": "code",
   "execution_count": null,
   "metadata": {
    "collapsed": true
   },
   "outputs": [],
   "source": [
    "mysqld.allow_external_connections()"
   ]
  },
  {
   "cell_type": "code",
   "execution_count": null,
   "metadata": {
    "collapsed": true
   },
   "outputs": [],
   "source": [
    "# Start a database connection\n",
    "db = datapkg.MySQL(\n",
    "    connection_string=mysqld.get_connection_string(os.environ['DB_SCHEMA']),\n",
    "    shared_folder=os.environ['NOTEBOOK_NAME'],\n",
    "    storage_host=None,\n",
    "    echo=False,\n",
    "    db_engine='MyISAM',\n",
    ")"
   ]
  }
 ],
 "metadata": {
  "kernelspec": {
   "display_name": "Python 3",
   "language": "python",
   "name": "python3"
  },
  "language_info": {
   "codemirror_mode": {
    "name": "ipython",
    "version": 3
   },
   "file_extension": ".py",
   "mimetype": "text/x-python",
   "name": "python",
   "nbconvert_exporter": "python",
   "pygments_lexer": "ipython3",
   "version": "3.5.1"
  },
  "nav_menu": {},
  "toc": {
   "navigate_menu": true,
   "number_sections": true,
   "sideBar": false,
   "threshold": 6,
   "toc_cell": false,
   "toc_section_display": "block",
   "toc_window_display": true
  }
 },
 "nbformat": 4,
 "nbformat_minor": 0
}
