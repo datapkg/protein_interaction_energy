{
 "cells": [
  {
   "cell_type": "code",
   "execution_count": 1,
   "metadata": {
    "collapsed": false
   },
   "outputs": [],
   "source": [
    "import os\n",
    "os.environ['DB_PORT'] = '8308'\n",
    "os.environ['NOTEBOOK_NAME'] = 'mysqld'"
   ]
  },
  {
   "cell_type": "code",
   "execution_count": 2,
   "metadata": {
    "collapsed": false
   },
   "outputs": [
    {
     "name": "stderr",
     "output_type": "stream",
     "text": [
      "Starting MySQL database...\n"
     ]
    },
    {
     "name": "stdout",
     "output_type": "stream",
     "text": [
      "2016-08-24 01:47:47.266801\n"
     ]
    }
   ],
   "source": [
    "%run _mysqld.ipynb"
   ]
  },
  {
   "cell_type": "code",
   "execution_count": 3,
   "metadata": {
    "collapsed": false
   },
   "outputs": [],
   "source": [
    "DB_TMPDIR = op.join(tempfile.gettempdir(), op.basename(op.dirname(os.getcwd())))"
   ]
  },
  {
   "cell_type": "code",
   "execution_count": 4,
   "metadata": {
    "collapsed": false
   },
   "outputs": [],
   "source": [
    "# Start a database connection\n",
    "db = datapkg.MySQLConnection(\n",
    "    connection_string=mysqld.get_connection_string(os.environ['DB_SCHEMA']),\n",
    "    shared_folder=op.abspath(DB_TMPDIR),\n",
    "    storage_host=None,\n",
    "    datadir=mysqld.datadir,\n",
    "    echo=False,\n",
    "    db_engine='MyISAM',\n",
    ")"
   ]
  },
  {
   "cell_type": "code",
   "execution_count": 5,
   "metadata": {
    "collapsed": true
   },
   "outputs": [],
   "source": [
    "# Start a database connection\n",
    "db_remote = datapkg.MySQLConnection(\n",
    "    os.environ['DATAPKG_CONNECTION_STR'], \n",
    "    shared_folder=op.abspath(DB_TMPDIR),\n",
    "    storage_host=None,\n",
    "    datadir=None,\n",
    "    echo=False,\n",
    "    db_engine='MyISAM'\n",
    ")"
   ]
  }
 ],
 "metadata": {
  "anaconda-cloud": {},
  "kernelspec": {
   "display_name": "Python [Root]",
   "language": "python",
   "name": "Python [Root]"
  },
  "language_info": {
   "codemirror_mode": {
    "name": "ipython",
    "version": 3
   },
   "file_extension": ".py",
   "mimetype": "text/x-python",
   "name": "python",
   "nbconvert_exporter": "python",
   "pygments_lexer": "ipython3",
   "version": "3.5.2"
  },
  "toc": {
   "navigate_menu": false,
   "number_sections": true,
   "sideBar": false,
   "threshold": 6,
   "toc_cell": false,
   "toc_section_display": "block",
   "toc_window_display": true
  }
 },
 "nbformat": 4,
 "nbformat_minor": 0
}
