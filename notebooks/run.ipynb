{
 "cells": [
  {
   "cell_type": "markdown",
   "metadata": {
    "toc": "true"
   },
   "source": [
    "# Table of Contents\n",
    " <p><div class=\"lev1\"><a href=\"#Downloads\"><span class=\"toc-item-num\">1&nbsp;&nbsp;</span>Downloads</a></div><div class=\"lev2\"><a href=\"#Skempi\"><span class=\"toc-item-num\">1.1&nbsp;&nbsp;</span>Skempi</a></div><div class=\"lev2\"><a href=\"#Skempi-MutaBind\"><span class=\"toc-item-num\">1.2&nbsp;&nbsp;</span>Skempi MutaBind</a></div><div class=\"lev2\"><a href=\"#kortemme_baker\"><span class=\"toc-item-num\">1.3&nbsp;&nbsp;</span>kortemme_baker</a></div><div class=\"lev2\"><a href=\"#Taipale\"><span class=\"toc-item-num\">1.4&nbsp;&nbsp;</span>Taipale</a></div><div class=\"lev1\"><a href=\"#Pipeline\"><span class=\"toc-item-num\">2&nbsp;&nbsp;</span>Pipeline</a></div><div class=\"lev1\"><a href=\"#Output\"><span class=\"toc-item-num\">3&nbsp;&nbsp;</span>Output</a></div>"
   ]
  },
  {
   "cell_type": "markdown",
   "metadata": {},
   "source": [
    "# Downloads"
   ]
  },
  {
   "cell_type": "code",
   "execution_count": 1,
   "metadata": {
    "collapsed": true
   },
   "outputs": [],
   "source": [
    "!mkdir -p ../downloads"
   ]
  },
  {
   "cell_type": "code",
   "execution_count": 2,
   "metadata": {
    "collapsed": false
   },
   "outputs": [
    {
     "name": "stdout",
     "output_type": "stream",
     "text": [
      "\u001b[0m\u001b[01;34mrosetta_ddg\u001b[0m/  \u001b[01;34mskempi\u001b[0m/  small_studies.ods  \u001b[01;34mtaipale\u001b[0m/\r\n"
     ]
    }
   ],
   "source": [
    "ls ../downloads"
   ]
  },
  {
   "cell_type": "markdown",
   "metadata": {},
   "source": [
    "## Skempi"
   ]
  },
  {
   "cell_type": "code",
   "execution_count": 11,
   "metadata": {
    "collapsed": false
   },
   "outputs": [
    {
     "name": "stderr",
     "output_type": "stream",
     "text": [
      "+ cd ../downloads\n",
      "+ wget --no-verbose -N http://life.bsc.es/pid/mutation_database/SKEMPI_1.1.csv\n"
     ]
    }
   ],
   "source": [
    "%%bash\n",
    "rm -r ../downloads/skempi\n",
    "mkdir -p ../downloads/skempi/pdbs\n",
    "\n",
    "cd ../downloads/skempi\n",
    "wget --no-verbose -N http://life.bsc.es/pid/mutation_database/SKEMPI_1.1.csv\n",
    "\n",
    "cd pdbs\n",
    "wget --no-verbose -N http://life.bsc.es/pid/mutation_database/SKEMPI_pdbs.tar.gz\n",
    "tar xf SKEMPI_pdbs.tar.gz"
   ]
  },
  {
   "cell_type": "code",
   "execution_count": 13,
   "metadata": {
    "collapsed": false
   },
   "outputs": [
    {
     "name": "stdout",
     "output_type": "stream",
     "text": [
      "total 676\r\n",
      "-rw------- 1 strokach kimlab  24267 Jun 20 08:35 kortemme_baker.csv\r\n",
      "-rw-rw-r-- 1 strokach kimlab 642067 Mar 14  2014 SKEMPI_1.1.csv\r\n",
      "-rw-rw-r-- 1 strokach kimlab  17031 Apr 19 13:41 small_studies.ods\r\n",
      "drwxrwxr-x 2 strokach kimlab   4096 Jun 19 20:45 \u001b[0m\u001b[01;34mtaipale\u001b[0m/\r\n"
     ]
    }
   ],
   "source": [
    "ls -Al ../downloads"
   ]
  },
  {
   "cell_type": "markdown",
   "metadata": {},
   "source": [
    "## Skempi MutaBind\n",
    "\n",
    "Skempi dataset processed by the [MutaBind](http://doi.org/10.1093/nar/gkw374) people.\n",
    "\n",
    "We do not use it..."
   ]
  },
  {
   "cell_type": "raw",
   "metadata": {
    "collapsed": true
   },
   "source": [
    "mkdir -p ../downloads/mutabind"
   ]
  },
  {
   "cell_type": "raw",
   "metadata": {
    "collapsed": false
   },
   "source": [
    "!lftp -e \"mirror --verbose ftp://ftp.ncbi.nih.gov/pub/panch/MutaBind ../downloads/mutabind; quit\""
   ]
  },
  {
   "cell_type": "raw",
   "metadata": {
    "collapsed": false
   },
   "source": [
    "ls -lSh ../downloads/mutabind"
   ]
  },
  {
   "cell_type": "markdown",
   "metadata": {},
   "source": [
    "## kortemme_baker"
   ]
  },
  {
   "cell_type": "code",
   "execution_count": 9,
   "metadata": {
    "collapsed": false
   },
   "outputs": [
    {
     "name": "stderr",
     "output_type": "stream",
     "text": [
      "Last-modified header missing -- time-stamps turned off.\n",
      "2016-06-20 08:35:15 URL:https://raw.githubusercontent.com/Kortemme-Lab/ddg/master/input/csv/kortemme_baker.csv [24267/24267] -> \"kortemme_baker.csv\" [1]\n"
     ]
    }
   ],
   "source": [
    "%%bash\n",
    "cd ../downloads\n",
    "mkdir -p rosetta_ddg\n",
    "git clone https://github.com/Kortemme-Lab/ddg.git rosetta_ddg"
   ]
  },
  {
   "cell_type": "code",
   "execution_count": 14,
   "metadata": {
    "collapsed": false
   },
   "outputs": [
    {
     "name": "stdout",
     "output_type": "stream",
     "text": [
      "total 676\r\n",
      "-rw------- 1 strokach kimlab  24267 Jun 20 08:35 kortemme_baker.csv\r\n",
      "-rw-rw-r-- 1 strokach kimlab 642067 Mar 14  2014 SKEMPI_1.1.csv\r\n",
      "-rw-rw-r-- 1 strokach kimlab  17031 Apr 19 13:41 small_studies.ods\r\n",
      "drwxrwxr-x 2 strokach kimlab   4096 Jun 19 20:45 \u001b[0m\u001b[01;34mtaipale\u001b[0m/\r\n"
     ]
    }
   ],
   "source": [
    "ls -Al ../downloads"
   ]
  },
  {
   "cell_type": "markdown",
   "metadata": {},
   "source": [
    "## Taipale"
   ]
  },
  {
   "cell_type": "code",
   "execution_count": 6,
   "metadata": {
    "collapsed": false
   },
   "outputs": [
    {
     "name": "stderr",
     "output_type": "stream",
     "text": [
      "+ mkdir -p ../downloads/taipale\n",
      "+ cd ../downloads/taipale\n",
      "+ URL=http://www.sciencedirect.com/science/MiamiMultiMediaURL/1-s2.0-S0092867415004304/1-s2.0-S0092867415004304-mmc3.xlsx/272196/html/S0092867415004304/9c46574e58672390ac094eb838d185e7/mmc3.xlsx\n",
      "+ wget --no-verbose -N http://www.sciencedirect.com/science/MiamiMultiMediaURL/1-s2.0-S0092867415004304/1-s2.0-S0092867415004304-mmc3.xlsx/272196/html/S0092867415004304/9c46574e58672390ac094eb838d185e7/mmc3.xlsx\n",
      "http://www.sciencedirect.com/science/MiamiMultiMediaURL/1-s2.0-S0092867415004304/1-s2.0-S0092867415004304-mmc3.xlsx/272196/html/S0092867415004304/9c46574e58672390ac094eb838d185e7/mmc3.xlsx:\n",
      "2016-06-27 01:15:11 ERROR 503: Service Unavailable.\n"
     ]
    }
   ],
   "source": [
    "%%bash -x\n",
    "mkdir -p ../downloads/taipale\n",
    "cd ../downloads/taipale\n",
    "URL=\"http://www.sciencedirect.com/science/MiamiMultiMediaURL/\\\n",
    "1-s2.0-S0092867415004304/1-s2.0-S0092867415004304-mmc3.xlsx/\\\n",
    "272196/html/S0092867415004304/9c46574e58672390ac094eb838d185e7/mmc3.xlsx\"\n",
    "wget --no-verbose -N \"$URL\""
   ]
  },
  {
   "cell_type": "markdown",
   "metadata": {},
   "source": [
    "# Pipeline"
   ]
  },
  {
   "cell_type": "code",
   "execution_count": null,
   "metadata": {
    "collapsed": true
   },
   "outputs": [],
   "source": [
    "# Abcd\n",
    "for i in range(10):\n",
    "    print"
   ]
  },
  {
   "cell_type": "code",
   "execution_count": null,
   "metadata": {
    "collapsed": true
   },
   "outputs": [],
   "source": []
  },
  {
   "cell_type": "code",
   "execution_count": null,
   "metadata": {
    "collapsed": true
   },
   "outputs": [],
   "source": []
  },
  {
   "cell_type": "code",
   "execution_count": null,
   "metadata": {
    "collapsed": true
   },
   "outputs": [],
   "source": []
  },
  {
   "cell_type": "markdown",
   "metadata": {},
   "source": [
    "# Output"
   ]
  },
  {
   "cell_type": "code",
   "execution_count": 1,
   "metadata": {
    "collapsed": false
   },
   "outputs": [
    {
     "name": "stdout",
     "output_type": "stream",
     "text": [
      "sending incremental file list\n",
      "protein_interaction_energy/\n",
      "protein_interaction_energy/db.opt\n",
      "protein_interaction_energy/kortemme_baker.MYD\n",
      "protein_interaction_energy/kortemme_baker.MYI\n",
      "protein_interaction_energy/kortemme_baker.frm\n",
      "protein_interaction_energy/skempi.MYD\n",
      "protein_interaction_energy/skempi.MYI\n",
      "protein_interaction_energy/skempi.frm\n",
      "protein_interaction_energy/taipale_edgotype.MYD\n",
      "protein_interaction_energy/taipale_edgotype.MYI\n",
      "protein_interaction_energy/taipale_edgotype.frm\n",
      "protein_interaction_energy/taipale_gpca.MYD\n",
      "protein_interaction_energy/taipale_gpca.MYI\n",
      "protein_interaction_energy/taipale_gpca.frm\n",
      "protein_interaction_energy/taipale_ppi.MYD\n",
      "protein_interaction_energy/taipale_ppi.MYI\n",
      "protein_interaction_energy/taipale_ppi.frm\n",
      "\n",
      "sent 660,822 bytes  received 324 bytes  1,322,292.00 bytes/sec\n",
      "total size is 659,487  speedup is 1.00\n"
     ]
    }
   ],
   "source": [
    "%%bash\n",
    "mkdir -p ../output_mysql\n",
    "rsync -av mysqld/protein_interaction_energy ../output_mysql/"
   ]
  },
  {
   "cell_type": "code",
   "execution_count": 2,
   "metadata": {
    "collapsed": false
   },
   "outputs": [
    {
     "name": "stdout",
     "output_type": "stream",
     "text": [
      "Remember to run myisamchk -rq on compressed tables\n"
     ]
    }
   ],
   "source": [
    "%%bash\n",
    "cd ../output_mysql/protein_interaction_energy/\n",
    "myisampack *.MYI"
   ]
  },
  {
   "cell_type": "code",
   "execution_count": 3,
   "metadata": {
    "collapsed": false
   },
   "outputs": [
    {
     "name": "stdout",
     "output_type": "stream",
     "text": [
      "- check record delete-chain\n",
      "- recovering (with sort) MyISAM-table 'kortemme_baker.MYI'\n",
      "Data records: 380\n",
      "- Fixing index 1\n",
      "- Fixing index 2\n",
      "- Fixing index 3\n",
      "\n",
      "---------\n",
      "\n",
      "- check record delete-chain\n",
      "- recovering (with sort) MyISAM-table 'skempi.MYI'\n",
      "Data records: 2282\n",
      "- Fixing index 1\n",
      "- Fixing index 2\n",
      "- Fixing index 3\n",
      "\n",
      "---------\n",
      "\n",
      "- check record delete-chain\n",
      "- recovering (with sort) MyISAM-table 'taipale_edgotype.MYI'\n",
      "Data records: 525\n",
      "- Fixing index 1\n",
      "- Fixing index 2\n",
      "\n",
      "---------\n",
      "\n",
      "- check record delete-chain\n",
      "- recovering (with sort) MyISAM-table 'taipale_gpca.MYI'\n",
      "Data records: 742\n",
      "- Fixing index 1\n",
      "- Fixing index 2\n",
      "- Fixing index 3\n",
      "\n",
      "---------\n",
      "\n",
      "- check record delete-chain\n",
      "- recovering (with sort) MyISAM-table 'taipale_ppi.MYI'\n",
      "Data records: 2348\n",
      "- Fixing index 1\n",
      "- Fixing index 2\n",
      "- Fixing index 3\n"
     ]
    }
   ],
   "source": [
    "%%bash\n",
    "cd ../output_mysql/protein_interaction_energy/\n",
    "myisamchk -rq *.MYI"
   ]
  },
  {
   "cell_type": "code",
   "execution_count": null,
   "metadata": {
    "collapsed": true
   },
   "outputs": [],
   "source": []
  }
 ],
 "metadata": {
  "kernelspec": {
   "display_name": "Python 3",
   "language": "python",
   "name": "python3"
  },
  "language_info": {
   "codemirror_mode": {
    "name": "ipython",
    "version": 3
   },
   "file_extension": ".py",
   "mimetype": "text/x-python",
   "name": "python",
   "nbconvert_exporter": "python",
   "pygments_lexer": "ipython3",
   "version": "3.5.1"
  },
  "latex_envs": {
   "bibliofile": "biblio.bib",
   "cite_by": "apalike",
   "current_citInitial": 1,
   "eqLabelWithNumbers": true,
   "eqNumInitial": 0
  },
  "nav_menu": {},
  "toc": {
   "navigate_menu": true,
   "number_sections": true,
   "sideBar": false,
   "threshold": 6,
   "toc_cell": true,
   "toc_section_display": "block",
   "toc_window_display": true
  },
  "toc_position": {
   "height": "357px",
   "left": "156.997px",
   "right": "20px",
   "top": "48.9931px",
   "width": "230px"
  }
 },
 "nbformat": 4,
 "nbformat_minor": 0
}
