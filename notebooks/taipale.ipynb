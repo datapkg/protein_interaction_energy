{
 "cells": [
  {
   "cell_type": "markdown",
   "metadata": {
    "toc": "true"
   },
   "source": [
    "# Table of Contents\n",
    " <p><div class=\"lev1\"><a href=\"#Summary\"><span class=\"toc-item-num\">1&nbsp;&nbsp;</span>Summary</a></div><div class=\"lev1\"><a href=\"#Imports\"><span class=\"toc-item-num\">2&nbsp;&nbsp;</span>Imports</a></div><div class=\"lev1\"><a href=\"#Load-data\"><span class=\"toc-item-num\">3&nbsp;&nbsp;</span>Load data</a></div><div class=\"lev2\"><a href=\"#taipale_ppi\"><span class=\"toc-item-num\">3.1&nbsp;&nbsp;</span>taipale_ppi</a></div><div class=\"lev2\"><a href=\"#taipale_gpca\"><span class=\"toc-item-num\">3.2&nbsp;&nbsp;</span>taipale_gpca</a></div><div class=\"lev2\"><a href=\"#taipale_edgotype\"><span class=\"toc-item-num\">3.3&nbsp;&nbsp;</span>taipale_edgotype</a></div><div class=\"lev2\"><a href=\"#Summary\"><span class=\"toc-item-num\">3.4&nbsp;&nbsp;</span>Summary</a></div><div class=\"lev1\"><a href=\"#Map-to-UniProt\"><span class=\"toc-item-num\">4&nbsp;&nbsp;</span>Map to UniProt</a></div><div class=\"lev2\"><a href=\"#Construct-RefSeq-/-UniProt-maps\"><span class=\"toc-item-num\">4.1&nbsp;&nbsp;</span>Construct RefSeq / UniProt maps</a></div><div class=\"lev2\"><a href=\"#Apply-RefSeq-/-UniProt-maps\"><span class=\"toc-item-num\">4.2&nbsp;&nbsp;</span>Apply RefSeq / UniProt maps</a></div><div class=\"lev2\"><a href=\"#Convert-to-UniProt-mutations\"><span class=\"toc-item-num\">4.3&nbsp;&nbsp;</span>Convert to UniProt mutations</a></div><div class=\"lev3\"><a href=\"#taipale_uniprot_df\"><span class=\"toc-item-num\">4.3.1&nbsp;&nbsp;</span>taipale_uniprot_df</a></div><div class=\"lev3\"><a href=\"#taipale_uniprot_df_good\"><span class=\"toc-item-num\">4.3.2&nbsp;&nbsp;</span>taipale_uniprot_df_good</a></div><div class=\"lev3\"><a href=\"#Merge-back\"><span class=\"toc-item-num\">4.3.3&nbsp;&nbsp;</span>Merge back</a></div><div class=\"lev1\"><a href=\"#Save-to-database\"><span class=\"toc-item-num\">5&nbsp;&nbsp;</span>Save to database</a></div><div class=\"lev2\"><a href=\"#taipale_ppi\"><span class=\"toc-item-num\">5.1&nbsp;&nbsp;</span>taipale_ppi</a></div><div class=\"lev2\"><a href=\"#taipale_gpca\"><span class=\"toc-item-num\">5.2&nbsp;&nbsp;</span>taipale_gpca</a></div><div class=\"lev2\"><a href=\"#taipale_edgotype\"><span class=\"toc-item-num\">5.3&nbsp;&nbsp;</span>taipale_edgotype</a></div>"
   ]
  },
  {
   "cell_type": "markdown",
   "metadata": {
    "run_control": {
     "marked": false
    }
   },
   "source": [
    "# Summary\n",
    "\n",
    "Process the Taipale dataset.\n",
    "\n",
    "Link to paper: http://www.sciencedirect.com/science/article/pii/S0092867415004304\n",
    "\n",
    "----"
   ]
  },
  {
   "cell_type": "markdown",
   "metadata": {
    "run_control": {
     "marked": false
    }
   },
   "source": [
    "# Imports"
   ]
  },
  {
   "cell_type": "code",
   "execution_count": 1,
   "metadata": {
    "code_folding": [
     0
    ],
    "collapsed": false,
    "hide_input": false,
    "run_control": {
     "marked": false
    }
   },
   "outputs": [
    {
     "name": "stdout",
     "output_type": "stream",
     "text": [
      "2016-07-17 19:34:19.287063\n"
     ]
    }
   ],
   "source": [
    "%run imports.ipynb"
   ]
  },
  {
   "cell_type": "code",
   "execution_count": 2,
   "metadata": {
    "collapsed": false,
    "run_control": {
     "marked": false
    }
   },
   "outputs": [],
   "source": [
    "NOTEBOOK_NAME = 'taipale'\n",
    "os.makedirs(NOTEBOOK_NAME, exist_ok=True)\n",
    "os.environ['NOTEBOOK_NAME'] = NOTEBOOK_NAME\n",
    "\n",
    "os.environ['DB_PORT'] = '8308'"
   ]
  },
  {
   "cell_type": "code",
   "execution_count": 3,
   "metadata": {
    "collapsed": false
   },
   "outputs": [
    {
     "name": "stdout",
     "output_type": "stream",
     "text": [
      "The autoreload extension is already loaded. To reload it, use:\n",
      "  %reload_ext autoreload\n",
      "2016-07-17 19:34:19.492741\n"
     ]
    }
   ],
   "source": [
    "%run mysqld.ipynb"
   ]
  },
  {
   "cell_type": "code",
   "execution_count": 4,
   "metadata": {
    "collapsed": true
   },
   "outputs": [],
   "source": [
    "# Start a database connection\n",
    "db_remote = datapkg.MySQL(\n",
    "    os.environ['DATAPKG_CONNECTION_STR'] + '/staging', \n",
    "    shared_folder=os.environ['NOTEBOOK_NAME'],\n",
    "    storage_host=None,\n",
    "    echo=False,\n",
    "    db_engine='MyISAM'\n",
    ")"
   ]
  },
  {
   "cell_type": "markdown",
   "metadata": {
    "run_control": {
     "marked": false
    }
   },
   "source": [
    "\n",
    "# Load data\n",
    "\n",
    "Table S3. Protein-Protein Interaction Profiles and Orthogonal GPCA Validation, Related to Figure 4.  \n",
    "\n",
    "**Table 1**:\n",
    "\n",
    "> Protein-protein interaction (PPI) scores, listing all interactions tested in Y2H and mutation-specific perturbations. In the “Allele_ID” column, “_0” represents wild-type proteins. For “Y2H_score,” “1” denotes positive interactions, while “0” denotes no or negative interactions. “Interactor_Gene_ID” denotes the Entrez ID for the interaction partner gene. “in Rolland et al” indicates if a given PPI was tested (denoted by “1”) in the dataset (Rolland et al., 2014) or not (denoted by “0”).\n",
    "\n",
    "\n",
    "**Table 2**:\n",
    "\n",
    "> In vivo *Gaussia princeps* luciferase protein complementation assay (GPCA) scores for PPI validation.\n",
    "\n",
    "\n",
    "**Table 3**:\n",
    "\n",
    "> Edgotype classification for all the mutations/variants based on their PPI profiles. Mutations/alleles with 1 or more interaction partners in the corresponding wild-type proteins are all included.\n"
   ]
  },
  {
   "cell_type": "code",
   "execution_count": 5,
   "metadata": {
    "code_folding": [],
    "collapsed": false,
    "run_control": {
     "marked": false
    }
   },
   "outputs": [
    {
     "name": "stdout",
     "output_type": "stream",
     "text": [
      "Table S3A : (2261, 10)\n",
      "Table S3B : (858, 12)\n",
      "Table S3C : (527, 7)\n"
     ]
    }
   ],
   "source": [
    "# Load tables\n",
    "mmc3_table1_df = local.load_taipale_mmc3('Table S3A')\n",
    "mmc3_table2_df = local.load_taipale_mmc3('Table S3B')\n",
    "mmc3_table3_df = local.load_taipale_mmc3('Table S3C')"
   ]
  },
  {
   "cell_type": "markdown",
   "metadata": {},
   "source": [
    "## taipale_ppi"
   ]
  },
  {
   "cell_type": "code",
   "execution_count": 6,
   "metadata": {
    "collapsed": false,
    "run_control": {
     "marked": false
    }
   },
   "outputs": [
    {
     "data": {
      "text/html": [
       "<div>\n",
       "<table border=\"1\" class=\"dataframe\">\n",
       "  <thead>\n",
       "    <tr style=\"text-align: right;\">\n",
       "      <th></th>\n",
       "      <th>Category</th>\n",
       "      <th>Symbol</th>\n",
       "      <th>Entrez_Gene_ID</th>\n",
       "      <th>Allele_ID</th>\n",
       "      <th>Mutation_RefSeq_NT</th>\n",
       "      <th>Mutation_RefSeq_AA</th>\n",
       "      <th>Interactor_symbol</th>\n",
       "      <th>Interactor_Gene_ID</th>\n",
       "      <th>Y2H_score</th>\n",
       "      <th>In_Rolland_et_al</th>\n",
       "      <th>refseq_base_id</th>\n",
       "      <th>refseq_mutation</th>\n",
       "      <th>refseq_mutation_pos</th>\n",
       "    </tr>\n",
       "  </thead>\n",
       "  <tbody>\n",
       "    <tr>\n",
       "      <th>0</th>\n",
       "      <td>Wild-type</td>\n",
       "      <td>AANAT</td>\n",
       "      <td>15</td>\n",
       "      <td>15_0</td>\n",
       "      <td>NaN</td>\n",
       "      <td>NaN</td>\n",
       "      <td>BHLHE40</td>\n",
       "      <td>8553</td>\n",
       "      <td>1</td>\n",
       "      <td>1</td>\n",
       "      <td>NaN</td>\n",
       "      <td>NaN</td>\n",
       "      <td>NaN</td>\n",
       "    </tr>\n",
       "    <tr>\n",
       "      <th>1</th>\n",
       "      <td>Wild-type</td>\n",
       "      <td>AANAT</td>\n",
       "      <td>15</td>\n",
       "      <td>15_0</td>\n",
       "      <td>NaN</td>\n",
       "      <td>NaN</td>\n",
       "      <td>MDFI</td>\n",
       "      <td>4188</td>\n",
       "      <td>1</td>\n",
       "      <td>1</td>\n",
       "      <td>NaN</td>\n",
       "      <td>NaN</td>\n",
       "      <td>NaN</td>\n",
       "    </tr>\n",
       "  </tbody>\n",
       "</table>\n",
       "</div>"
      ],
      "text/plain": [
       "    Category Symbol  Entrez_Gene_ID Allele_ID Mutation_RefSeq_NT Mutation_RefSeq_AA Interactor_symbol  Interactor_Gene_ID  Y2H_score  In_Rolland_et_al refseq_base_id refseq_mutation  refseq_mutation_pos\n",
       "0  Wild-type  AANAT              15      15_0                NaN                NaN           BHLHE40                8553          1                 1            NaN             NaN                  NaN\n",
       "1  Wild-type  AANAT              15      15_0                NaN                NaN              MDFI                4188          1                 1            NaN             NaN                  NaN"
      ]
     },
     "metadata": {},
     "output_type": "display_data"
    },
    {
     "name": "stdout",
     "output_type": "stream",
     "text": [
      "2261\n"
     ]
    }
   ],
   "source": [
    "display(mmc3_table1_df.head(2))\n",
    "print(mmc3_table1_df.shape[0])"
   ]
  },
  {
   "cell_type": "code",
   "execution_count": 7,
   "metadata": {
    "collapsed": true
   },
   "outputs": [],
   "source": [
    "mmc3_table1_df_wt = mmc3_table1_df[mmc3_table1_df['Category'] == 'Wild-type']\n",
    "mmc3_table1_df_mut = mmc3_table1_df[mmc3_table1_df['Category'] != 'Wild-type']"
   ]
  },
  {
   "cell_type": "code",
   "execution_count": 8,
   "metadata": {
    "collapsed": false
   },
   "outputs": [
    {
     "data": {
      "text/plain": [
       "(1633, 13)"
      ]
     },
     "execution_count": 8,
     "metadata": {},
     "output_type": "execute_result"
    }
   ],
   "source": [
    "mmc3_table1_df_mut.shape"
   ]
  },
  {
   "cell_type": "code",
   "execution_count": 9,
   "metadata": {
    "collapsed": false,
    "run_control": {
     "marked": false
    }
   },
   "outputs": [],
   "source": [
    "taipale_ppi = (\n",
    "    mmc3_table1_df_mut\n",
    "    .merge(\n",
    "        mmc3_table1_df_wt\n",
    "        [['Symbol', 'Entrez_Gene_ID', 'Interactor_symbol', 'Interactor_Gene_ID', 'Y2H_score']],\n",
    "        on=['Symbol', 'Entrez_Gene_ID', 'Interactor_symbol', 'Interactor_Gene_ID'])\n",
    ")"
   ]
  },
  {
   "cell_type": "code",
   "execution_count": 10,
   "metadata": {
    "collapsed": false
   },
   "outputs": [
    {
     "data": {
      "text/plain": [
       "(1633, 14)"
      ]
     },
     "execution_count": 10,
     "metadata": {},
     "output_type": "execute_result"
    }
   ],
   "source": [
    "taipale_ppi.shape"
   ]
  },
  {
   "cell_type": "code",
   "execution_count": 11,
   "metadata": {
    "collapsed": true
   },
   "outputs": [],
   "source": [
    "taipale_ppi['ddg_exp'] = taipale_ppi['Y2H_score_y'] - taipale_ppi['Y2H_score_x']"
   ]
  },
  {
   "cell_type": "code",
   "execution_count": 12,
   "metadata": {
    "collapsed": false
   },
   "outputs": [
    {
     "data": {
      "text/plain": [
       "<matplotlib.axes._subplots.AxesSubplot at 0x7f94ff069ac8>"
      ]
     },
     "execution_count": 12,
     "metadata": {},
     "output_type": "execute_result"
    },
    {
     "data": {
      "image/png": "[encoded data removed]",
      "text/plain": [
       "<matplotlib.figure.Figure at 0x7f94ff0c2e48>"
      ]
     },
     "metadata": {},
     "output_type": "display_data"
    }
   ],
   "source": [
    "taipale_ppi['ddg_exp'].hist()"
   ]
  },
  {
   "cell_type": "code",
   "execution_count": 13,
   "metadata": {
    "collapsed": false
   },
   "outputs": [
    {
     "data": {
      "text/html": [
       "<div>\n",
       "<table border=\"1\" class=\"dataframe\">\n",
       "  <thead>\n",
       "    <tr style=\"text-align: right;\">\n",
       "      <th></th>\n",
       "      <th>Category</th>\n",
       "      <th>Symbol</th>\n",
       "      <th>Entrez_Gene_ID</th>\n",
       "      <th>Allele_ID</th>\n",
       "      <th>Mutation_RefSeq_NT</th>\n",
       "      <th>Mutation_RefSeq_AA</th>\n",
       "      <th>Interactor_symbol</th>\n",
       "      <th>Interactor_Gene_ID</th>\n",
       "      <th>Y2H_score_x</th>\n",
       "      <th>In_Rolland_et_al</th>\n",
       "      <th>refseq_base_id</th>\n",
       "      <th>refseq_mutation</th>\n",
       "      <th>refseq_mutation_pos</th>\n",
       "      <th>Y2H_score_y</th>\n",
       "      <th>ddg_exp</th>\n",
       "    </tr>\n",
       "  </thead>\n",
       "  <tbody>\n",
       "    <tr>\n",
       "      <th>0</th>\n",
       "      <td>Disease mutation</td>\n",
       "      <td>AANAT</td>\n",
       "      <td>15</td>\n",
       "      <td>15_22963</td>\n",
       "      <td>NM_001088:c.385G&gt;A</td>\n",
       "      <td>NP_001079:p.A129T</td>\n",
       "      <td>BHLHE40</td>\n",
       "      <td>8553</td>\n",
       "      <td>0</td>\n",
       "      <td>1</td>\n",
       "      <td>NP_001079</td>\n",
       "      <td>A129T</td>\n",
       "      <td>129.0</td>\n",
       "      <td>1</td>\n",
       "      <td>1</td>\n",
       "    </tr>\n",
       "    <tr>\n",
       "      <th>1</th>\n",
       "      <td>Non-disease variant</td>\n",
       "      <td>AANAT</td>\n",
       "      <td>15</td>\n",
       "      <td>15_900207</td>\n",
       "      <td>NM_001088:c.8C&gt;T</td>\n",
       "      <td>NP_001079:p.T3M</td>\n",
       "      <td>BHLHE40</td>\n",
       "      <td>8553</td>\n",
       "      <td>1</td>\n",
       "      <td>1</td>\n",
       "      <td>NP_001079</td>\n",
       "      <td>T3M</td>\n",
       "      <td>3.0</td>\n",
       "      <td>1</td>\n",
       "      <td>0</td>\n",
       "    </tr>\n",
       "  </tbody>\n",
       "</table>\n",
       "</div>"
      ],
      "text/plain": [
       "              Category Symbol  Entrez_Gene_ID  Allele_ID  Mutation_RefSeq_NT Mutation_RefSeq_AA Interactor_symbol  Interactor_Gene_ID  Y2H_score_x  In_Rolland_et_al refseq_base_id refseq_mutation  refseq_mutation_pos  Y2H_score_y  ddg_exp\n",
       "0     Disease mutation  AANAT              15   15_22963  NM_001088:c.385G>A  NP_001079:p.A129T           BHLHE40                8553            0                 1      NP_001079           A129T                129.0            1        1\n",
       "1  Non-disease variant  AANAT              15  15_900207    NM_001088:c.8C>T    NP_001079:p.T3M           BHLHE40                8553            1                 1      NP_001079             T3M                  3.0            1        0"
      ]
     },
     "metadata": {},
     "output_type": "display_data"
    },
    {
     "name": "stdout",
     "output_type": "stream",
     "text": [
      "1633\n"
     ]
    }
   ],
   "source": [
    "display(taipale_ppi.head(2))\n",
    "print(taipale_ppi.shape[0])"
   ]
  },
  {
   "cell_type": "markdown",
   "metadata": {
    "collapsed": true
   },
   "source": [
    "## taipale_gpca"
   ]
  },
  {
   "cell_type": "code",
   "execution_count": 14,
   "metadata": {
    "collapsed": false,
    "run_control": {
     "marked": false
    }
   },
   "outputs": [
    {
     "data": {
      "text/html": [
       "<div>\n",
       "<table border=\"1\" class=\"dataframe\">\n",
       "  <thead>\n",
       "    <tr style=\"text-align: right;\">\n",
       "      <th></th>\n",
       "      <th>Category</th>\n",
       "      <th>Symbol</th>\n",
       "      <th>Entrez_Gene_ID</th>\n",
       "      <th>Allele_ID</th>\n",
       "      <th>Mutation_RefSeq_NT</th>\n",
       "      <th>Mutation_RefSeq_AA</th>\n",
       "      <th>Interactor_symbol</th>\n",
       "      <th>Interactor_Gene_ID</th>\n",
       "      <th>Interaction_category</th>\n",
       "      <th>GPCA_score1</th>\n",
       "      <th>GPCA_score2</th>\n",
       "      <th>GPCA_average_score</th>\n",
       "      <th>refseq_base_id</th>\n",
       "      <th>refseq_mutation</th>\n",
       "      <th>refseq_mutation_pos</th>\n",
       "    </tr>\n",
       "  </thead>\n",
       "  <tbody>\n",
       "    <tr>\n",
       "      <th>0</th>\n",
       "      <td>Wild-type</td>\n",
       "      <td>AANAT</td>\n",
       "      <td>15</td>\n",
       "      <td>15_0</td>\n",
       "      <td>NaN</td>\n",
       "      <td>NaN</td>\n",
       "      <td>MDFI</td>\n",
       "      <td>4188</td>\n",
       "      <td>Y2H_positive</td>\n",
       "      <td>4.040826</td>\n",
       "      <td>4.698746</td>\n",
       "      <td>4.369786</td>\n",
       "      <td>NaN</td>\n",
       "      <td>NaN</td>\n",
       "      <td>NaN</td>\n",
       "    </tr>\n",
       "    <tr>\n",
       "      <th>1</th>\n",
       "      <td>Wild-type</td>\n",
       "      <td>AANAT</td>\n",
       "      <td>15</td>\n",
       "      <td>15_0</td>\n",
       "      <td>NaN</td>\n",
       "      <td>NaN</td>\n",
       "      <td>BHLHE40</td>\n",
       "      <td>8553</td>\n",
       "      <td>Y2H_positive</td>\n",
       "      <td>-1.458909</td>\n",
       "      <td>-1.131614</td>\n",
       "      <td>-1.295262</td>\n",
       "      <td>NaN</td>\n",
       "      <td>NaN</td>\n",
       "      <td>NaN</td>\n",
       "    </tr>\n",
       "  </tbody>\n",
       "</table>\n",
       "</div>"
      ],
      "text/plain": [
       "    Category Symbol  Entrez_Gene_ID Allele_ID Mutation_RefSeq_NT Mutation_RefSeq_AA Interactor_symbol  Interactor_Gene_ID Interaction_category  GPCA_score1  GPCA_score2  GPCA_average_score refseq_base_id refseq_mutation  refseq_mutation_pos\n",
       "0  Wild-type  AANAT              15      15_0                NaN                NaN              MDFI                4188         Y2H_positive     4.040826     4.698746            4.369786            NaN             NaN                  NaN\n",
       "1  Wild-type  AANAT              15      15_0                NaN                NaN           BHLHE40                8553         Y2H_positive    -1.458909    -1.131614           -1.295262            NaN             NaN                  NaN"
      ]
     },
     "metadata": {},
     "output_type": "display_data"
    },
    {
     "name": "stdout",
     "output_type": "stream",
     "text": [
      "858\n"
     ]
    }
   ],
   "source": [
    "display(mmc3_table2_df.head(2))\n",
    "print(mmc3_table2_df.shape[0])"
   ]
  },
  {
   "cell_type": "code",
   "execution_count": 15,
   "metadata": {
    "collapsed": false
   },
   "outputs": [],
   "source": [
    "mmc3_table2_df_wt = mmc3_table2_df[mmc3_table2_df['Category'] == 'Wild-type']\n",
    "mmc3_table2_df_mut = mmc3_table2_df[mmc3_table2_df['Category'] != 'Wild-type']"
   ]
  },
  {
   "cell_type": "code",
   "execution_count": 16,
   "metadata": {
    "collapsed": false
   },
   "outputs": [
    {
     "data": {
      "text/plain": [
       "676"
      ]
     },
     "execution_count": 16,
     "metadata": {},
     "output_type": "execute_result"
    }
   ],
   "source": [
    "mmc3_table2_df_mut.shape[0]"
   ]
  },
  {
   "cell_type": "code",
   "execution_count": 17,
   "metadata": {
    "collapsed": true
   },
   "outputs": [],
   "source": [
    "taipale_gpca = (\n",
    "    mmc3_table2_df_mut\n",
    "    .merge(\n",
    "        mmc3_table2_df_wt\n",
    "        [['Symbol', 'Entrez_Gene_ID', 'Interactor_symbol', 'Interactor_Gene_ID', 'GPCA_average_score']],\n",
    "        on=['Symbol', 'Entrez_Gene_ID', 'Interactor_symbol', 'Interactor_Gene_ID'])\n",
    ")"
   ]
  },
  {
   "cell_type": "code",
   "execution_count": 18,
   "metadata": {
    "collapsed": false
   },
   "outputs": [
    {
     "data": {
      "text/plain": [
       "(492, 16)"
      ]
     },
     "execution_count": 18,
     "metadata": {},
     "output_type": "execute_result"
    }
   ],
   "source": [
    "taipale_gpca.shape"
   ]
  },
  {
   "cell_type": "code",
   "execution_count": 19,
   "metadata": {
    "collapsed": false
   },
   "outputs": [
    {
     "data": {
      "text/html": [
       "<div>\n",
       "<table border=\"1\" class=\"dataframe\">\n",
       "  <thead>\n",
       "    <tr style=\"text-align: right;\">\n",
       "      <th></th>\n",
       "      <th>Category</th>\n",
       "      <th>Symbol</th>\n",
       "      <th>Entrez_Gene_ID</th>\n",
       "      <th>Allele_ID</th>\n",
       "      <th>Mutation_RefSeq_NT</th>\n",
       "      <th>Mutation_RefSeq_AA</th>\n",
       "      <th>Interactor_symbol</th>\n",
       "      <th>Interactor_Gene_ID</th>\n",
       "      <th>Interaction_category</th>\n",
       "      <th>GPCA_score1</th>\n",
       "      <th>GPCA_score2</th>\n",
       "      <th>GPCA_average_score_x</th>\n",
       "      <th>refseq_base_id</th>\n",
       "      <th>refseq_mutation</th>\n",
       "      <th>refseq_mutation_pos</th>\n",
       "      <th>GPCA_average_score_y</th>\n",
       "    </tr>\n",
       "  </thead>\n",
       "  <tbody>\n",
       "    <tr>\n",
       "      <th>0</th>\n",
       "      <td>Disease mutation</td>\n",
       "      <td>AANAT</td>\n",
       "      <td>15</td>\n",
       "      <td>15_22963</td>\n",
       "      <td>NM_001088:c.385G&gt;A</td>\n",
       "      <td>NP_001079:p.A129T</td>\n",
       "      <td>MDFI</td>\n",
       "      <td>4188</td>\n",
       "      <td>Y2H_positive</td>\n",
       "      <td>3.776225</td>\n",
       "      <td>4.319209</td>\n",
       "      <td>4.047717</td>\n",
       "      <td>NP_001079</td>\n",
       "      <td>A129T</td>\n",
       "      <td>129.0</td>\n",
       "      <td>4.369786</td>\n",
       "    </tr>\n",
       "    <tr>\n",
       "      <th>1</th>\n",
       "      <td>Disease mutation</td>\n",
       "      <td>ACTB</td>\n",
       "      <td>60</td>\n",
       "      <td>60_12760</td>\n",
       "      <td>NM_001101:c.547C&gt;T</td>\n",
       "      <td>NP_001092:p.R183W</td>\n",
       "      <td>ACTB</td>\n",
       "      <td>60</td>\n",
       "      <td>Y2H_positive</td>\n",
       "      <td>4.029925</td>\n",
       "      <td>5.021377</td>\n",
       "      <td>4.525651</td>\n",
       "      <td>NP_001092</td>\n",
       "      <td>R183W</td>\n",
       "      <td>183.0</td>\n",
       "      <td>2.902637</td>\n",
       "    </tr>\n",
       "  </tbody>\n",
       "</table>\n",
       "</div>"
      ],
      "text/plain": [
       "           Category Symbol  Entrez_Gene_ID Allele_ID  Mutation_RefSeq_NT Mutation_RefSeq_AA Interactor_symbol  Interactor_Gene_ID Interaction_category  GPCA_score1  GPCA_score2  GPCA_average_score_x refseq_base_id refseq_mutation  refseq_mutation_pos  GPCA_average_score_y\n",
       "0  Disease mutation  AANAT              15  15_22963  NM_001088:c.385G>A  NP_001079:p.A129T              MDFI                4188         Y2H_positive     3.776225     4.319209              4.047717      NP_001079           A129T                129.0              4.369786\n",
       "1  Disease mutation   ACTB              60  60_12760  NM_001101:c.547C>T  NP_001092:p.R183W              ACTB                  60         Y2H_positive     4.029925     5.021377              4.525651      NP_001092           R183W                183.0              2.902637"
      ]
     },
     "execution_count": 19,
     "metadata": {},
     "output_type": "execute_result"
    }
   ],
   "source": [
    "taipale_gpca.head(2)"
   ]
  },
  {
   "cell_type": "code",
   "execution_count": 20,
   "metadata": {
    "collapsed": true
   },
   "outputs": [],
   "source": [
    "taipale_gpca['ddg_exp'] = taipale_gpca['GPCA_average_score_y'] - taipale_gpca['GPCA_average_score_x']"
   ]
  },
  {
   "cell_type": "code",
   "execution_count": 21,
   "metadata": {
    "collapsed": false
   },
   "outputs": [
    {
     "data": {
      "text/plain": [
       "<matplotlib.axes._subplots.AxesSubplot at 0x7f94fd068358>"
      ]
     },
     "execution_count": 21,
     "metadata": {},
     "output_type": "execute_result"
    },
    {
     "data": {
      "image/png": "[encoded data removed]",
      "text/plain": [
       "<matplotlib.figure.Figure at 0x7f94fcdf9e48>"
      ]
     },
     "metadata": {},
     "output_type": "display_data"
    }
   ],
   "source": [
    "taipale_gpca['ddg_exp'].hist()"
   ]
  },
  {
   "cell_type": "code",
   "execution_count": 22,
   "metadata": {
    "collapsed": false
   },
   "outputs": [
    {
     "data": {
      "text/plain": [
       "(492, 17)"
      ]
     },
     "execution_count": 22,
     "metadata": {},
     "output_type": "execute_result"
    }
   ],
   "source": [
    "taipale_gpca.shape"
   ]
  },
  {
   "cell_type": "markdown",
   "metadata": {},
   "source": [
    "## taipale_edgotype"
   ]
  },
  {
   "cell_type": "code",
   "execution_count": 23,
   "metadata": {
    "collapsed": false,
    "run_control": {
     "marked": false
    }
   },
   "outputs": [
    {
     "data": {
      "text/html": [
       "<div>\n",
       "<table border=\"1\" class=\"dataframe\">\n",
       "  <thead>\n",
       "    <tr style=\"text-align: right;\">\n",
       "      <th></th>\n",
       "      <th>Category</th>\n",
       "      <th>Symbol</th>\n",
       "      <th>Entrez_Gene_ID</th>\n",
       "      <th>Allele_ID</th>\n",
       "      <th>Mutation_RefSeq_NT</th>\n",
       "      <th>Mutation_RefSeq_AA</th>\n",
       "      <th>Edgotype_class</th>\n",
       "      <th>refseq_base_id</th>\n",
       "      <th>refseq_mutation</th>\n",
       "      <th>refseq_mutation_pos</th>\n",
       "    </tr>\n",
       "  </thead>\n",
       "  <tbody>\n",
       "    <tr>\n",
       "      <th>0</th>\n",
       "      <td>Disease mutation</td>\n",
       "      <td>AANAT</td>\n",
       "      <td>15</td>\n",
       "      <td>15_22963</td>\n",
       "      <td>NM_001088:c.385G&gt;A</td>\n",
       "      <td>NP_001079:p.A129T</td>\n",
       "      <td>Edgetic</td>\n",
       "      <td>NP_001079</td>\n",
       "      <td>A129T</td>\n",
       "      <td>129</td>\n",
       "    </tr>\n",
       "    <tr>\n",
       "      <th>1</th>\n",
       "      <td>Non-disease variant</td>\n",
       "      <td>AANAT</td>\n",
       "      <td>15</td>\n",
       "      <td>15_900207</td>\n",
       "      <td>NM_001088:c.8C&gt;T</td>\n",
       "      <td>NP_001079:p.T3M</td>\n",
       "      <td>Quasi-wild-type</td>\n",
       "      <td>NP_001079</td>\n",
       "      <td>T3M</td>\n",
       "      <td>3</td>\n",
       "    </tr>\n",
       "  </tbody>\n",
       "</table>\n",
       "</div>"
      ],
      "text/plain": [
       "              Category Symbol  Entrez_Gene_ID  Allele_ID  Mutation_RefSeq_NT Mutation_RefSeq_AA   Edgotype_class refseq_base_id refseq_mutation  refseq_mutation_pos\n",
       "0     Disease mutation  AANAT              15   15_22963  NM_001088:c.385G>A  NP_001079:p.A129T          Edgetic      NP_001079           A129T                  129\n",
       "1  Non-disease variant  AANAT              15  15_900207    NM_001088:c.8C>T    NP_001079:p.T3M  Quasi-wild-type      NP_001079             T3M                    3"
      ]
     },
     "metadata": {},
     "output_type": "display_data"
    },
    {
     "name": "stdout",
     "output_type": "stream",
     "text": [
      "527\n"
     ]
    }
   ],
   "source": [
    "display(mmc3_table3_df.head(2))\n",
    "print(mmc3_table3_df.shape[0])"
   ]
  },
  {
   "cell_type": "code",
   "execution_count": 24,
   "metadata": {
    "collapsed": false
   },
   "outputs": [
    {
     "data": {
      "text/plain": [
       "Counter({'Edgetic': 64,\n",
       "         'Gain-and-loss-of-interaction': 3,\n",
       "         'Gain-of-interaction': 10,\n",
       "         'Perturbed-degree-1': 66,\n",
       "         'Quasi-null': 53,\n",
       "         'Quasi-wild-type': 127,\n",
       "         'Unperturbed-degree-1': 204})"
      ]
     },
     "execution_count": 24,
     "metadata": {},
     "output_type": "execute_result"
    }
   ],
   "source": [
    "Counter(mmc3_table3_df['Edgotype_class'])"
   ]
  },
  {
   "cell_type": "code",
   "execution_count": 25,
   "metadata": {
    "collapsed": true
   },
   "outputs": [],
   "source": [
    "taipale_edgotype = mmc3_table3_df.copy()"
   ]
  },
  {
   "cell_type": "markdown",
   "metadata": {},
   "source": [
    "## Summary"
   ]
  },
  {
   "cell_type": "code",
   "execution_count": 26,
   "metadata": {
    "collapsed": false,
    "run_control": {
     "marked": false
    }
   },
   "outputs": [
    {
     "data": {
      "text/html": [
       "<div>\n",
       "<table border=\"1\" class=\"dataframe\">\n",
       "  <thead>\n",
       "    <tr style=\"text-align: right;\">\n",
       "      <th></th>\n",
       "      <th>Category</th>\n",
       "      <th>Symbol</th>\n",
       "      <th>Entrez_Gene_ID</th>\n",
       "      <th>Allele_ID</th>\n",
       "      <th>Mutation_RefSeq_NT</th>\n",
       "      <th>Mutation_RefSeq_AA</th>\n",
       "      <th>Interactor_symbol</th>\n",
       "      <th>Interactor_Gene_ID</th>\n",
       "      <th>Y2H_score_x</th>\n",
       "      <th>In_Rolland_et_al</th>\n",
       "      <th>refseq_base_id</th>\n",
       "      <th>refseq_mutation</th>\n",
       "      <th>refseq_mutation_pos</th>\n",
       "      <th>Y2H_score_y</th>\n",
       "      <th>ddg_exp</th>\n",
       "    </tr>\n",
       "  </thead>\n",
       "  <tbody>\n",
       "    <tr>\n",
       "      <th>0</th>\n",
       "      <td>Disease mutation</td>\n",
       "      <td>AANAT</td>\n",
       "      <td>15</td>\n",
       "      <td>15_22963</td>\n",
       "      <td>NM_001088:c.385G&gt;A</td>\n",
       "      <td>NP_001079:p.A129T</td>\n",
       "      <td>BHLHE40</td>\n",
       "      <td>8553</td>\n",
       "      <td>0</td>\n",
       "      <td>1</td>\n",
       "      <td>NP_001079</td>\n",
       "      <td>A129T</td>\n",
       "      <td>129.0</td>\n",
       "      <td>1</td>\n",
       "      <td>1</td>\n",
       "    </tr>\n",
       "    <tr>\n",
       "      <th>1</th>\n",
       "      <td>Non-disease variant</td>\n",
       "      <td>AANAT</td>\n",
       "      <td>15</td>\n",
       "      <td>15_900207</td>\n",
       "      <td>NM_001088:c.8C&gt;T</td>\n",
       "      <td>NP_001079:p.T3M</td>\n",
       "      <td>BHLHE40</td>\n",
       "      <td>8553</td>\n",
       "      <td>1</td>\n",
       "      <td>1</td>\n",
       "      <td>NP_001079</td>\n",
       "      <td>T3M</td>\n",
       "      <td>3.0</td>\n",
       "      <td>1</td>\n",
       "      <td>0</td>\n",
       "    </tr>\n",
       "  </tbody>\n",
       "</table>\n",
       "</div>"
      ],
      "text/plain": [
       "              Category Symbol  Entrez_Gene_ID  Allele_ID  Mutation_RefSeq_NT Mutation_RefSeq_AA Interactor_symbol  Interactor_Gene_ID  Y2H_score_x  In_Rolland_et_al refseq_base_id refseq_mutation  refseq_mutation_pos  Y2H_score_y  ddg_exp\n",
       "0     Disease mutation  AANAT              15   15_22963  NM_001088:c.385G>A  NP_001079:p.A129T           BHLHE40                8553            0                 1      NP_001079           A129T                129.0            1        1\n",
       "1  Non-disease variant  AANAT              15  15_900207    NM_001088:c.8C>T    NP_001079:p.T3M           BHLHE40                8553            1                 1      NP_001079             T3M                  3.0            1        0"
      ]
     },
     "metadata": {},
     "output_type": "display_data"
    },
    {
     "name": "stdout",
     "output_type": "stream",
     "text": [
      "1633\n"
     ]
    }
   ],
   "source": [
    "display(taipale_ppi.head(2))\n",
    "print(taipale_ppi.shape[0])"
   ]
  },
  {
   "cell_type": "code",
   "execution_count": 27,
   "metadata": {
    "collapsed": false
   },
   "outputs": [
    {
     "data": {
      "text/html": [
       "<div>\n",
       "<table border=\"1\" class=\"dataframe\">\n",
       "  <thead>\n",
       "    <tr style=\"text-align: right;\">\n",
       "      <th></th>\n",
       "      <th>Category</th>\n",
       "      <th>Symbol</th>\n",
       "      <th>Entrez_Gene_ID</th>\n",
       "      <th>Allele_ID</th>\n",
       "      <th>Mutation_RefSeq_NT</th>\n",
       "      <th>Mutation_RefSeq_AA</th>\n",
       "      <th>Interactor_symbol</th>\n",
       "      <th>Interactor_Gene_ID</th>\n",
       "      <th>Interaction_category</th>\n",
       "      <th>GPCA_score1</th>\n",
       "      <th>GPCA_score2</th>\n",
       "      <th>GPCA_average_score_x</th>\n",
       "      <th>refseq_base_id</th>\n",
       "      <th>refseq_mutation</th>\n",
       "      <th>refseq_mutation_pos</th>\n",
       "      <th>GPCA_average_score_y</th>\n",
       "      <th>ddg_exp</th>\n",
       "    </tr>\n",
       "  </thead>\n",
       "  <tbody>\n",
       "    <tr>\n",
       "      <th>0</th>\n",
       "      <td>Disease mutation</td>\n",
       "      <td>AANAT</td>\n",
       "      <td>15</td>\n",
       "      <td>15_22963</td>\n",
       "      <td>NM_001088:c.385G&gt;A</td>\n",
       "      <td>NP_001079:p.A129T</td>\n",
       "      <td>MDFI</td>\n",
       "      <td>4188</td>\n",
       "      <td>Y2H_positive</td>\n",
       "      <td>3.776225</td>\n",
       "      <td>4.319209</td>\n",
       "      <td>4.047717</td>\n",
       "      <td>NP_001079</td>\n",
       "      <td>A129T</td>\n",
       "      <td>129.0</td>\n",
       "      <td>4.369786</td>\n",
       "      <td>0.322069</td>\n",
       "    </tr>\n",
       "    <tr>\n",
       "      <th>1</th>\n",
       "      <td>Disease mutation</td>\n",
       "      <td>ACTB</td>\n",
       "      <td>60</td>\n",
       "      <td>60_12760</td>\n",
       "      <td>NM_001101:c.547C&gt;T</td>\n",
       "      <td>NP_001092:p.R183W</td>\n",
       "      <td>ACTB</td>\n",
       "      <td>60</td>\n",
       "      <td>Y2H_positive</td>\n",
       "      <td>4.029925</td>\n",
       "      <td>5.021377</td>\n",
       "      <td>4.525651</td>\n",
       "      <td>NP_001092</td>\n",
       "      <td>R183W</td>\n",
       "      <td>183.0</td>\n",
       "      <td>2.902637</td>\n",
       "      <td>-1.623014</td>\n",
       "    </tr>\n",
       "  </tbody>\n",
       "</table>\n",
       "</div>"
      ],
      "text/plain": [
       "           Category Symbol  Entrez_Gene_ID Allele_ID  Mutation_RefSeq_NT Mutation_RefSeq_AA Interactor_symbol  Interactor_Gene_ID Interaction_category  GPCA_score1  GPCA_score2  GPCA_average_score_x refseq_base_id refseq_mutation  refseq_mutation_pos  GPCA_average_score_y   ddg_exp\n",
       "0  Disease mutation  AANAT              15  15_22963  NM_001088:c.385G>A  NP_001079:p.A129T              MDFI                4188         Y2H_positive     3.776225     4.319209              4.047717      NP_001079           A129T                129.0              4.369786  0.322069\n",
       "1  Disease mutation   ACTB              60  60_12760  NM_001101:c.547C>T  NP_001092:p.R183W              ACTB                  60         Y2H_positive     4.029925     5.021377              4.525651      NP_001092           R183W                183.0              2.902637 -1.623014"
      ]
     },
     "metadata": {},
     "output_type": "display_data"
    },
    {
     "name": "stdout",
     "output_type": "stream",
     "text": [
      "492\n"
     ]
    }
   ],
   "source": [
    "display(taipale_gpca.head(2))\n",
    "print(taipale_gpca.shape[0])"
   ]
  },
  {
   "cell_type": "code",
   "execution_count": 28,
   "metadata": {
    "collapsed": true
   },
   "outputs": [],
   "source": [
    "# Combine PPI and GPCA\n",
    "df = (\n",
    "    taipale_ppi\n",
    "    .merge(taipale_gpca, on=['Symbol', 'Interactor_symbol', 'Mutation_RefSeq_AA'])  \n",
    ")"
   ]
  },
  {
   "cell_type": "code",
   "execution_count": 29,
   "metadata": {
    "collapsed": false
   },
   "outputs": [
    {
     "data": {
      "text/plain": [
       "<matplotlib.axes._subplots.AxesSubplot at 0x7f94ff127588>"
      ]
     },
     "execution_count": 29,
     "metadata": {},
     "output_type": "execute_result"
    },
    {
     "data": {
      "image/png": "[encoded data removed]",
      "text/plain": [
       "<matplotlib.figure.Figure at 0x7f94ff179588>"
      ]
     },
     "metadata": {},
     "output_type": "display_data"
    }
   ],
   "source": [
    "fg, ax = plt.subplots(figsize=(8,10))\n",
    "sns.boxplot(x=df['ddg_exp_x'], y=df['ddg_exp_y'])"
   ]
  },
  {
   "cell_type": "code",
   "execution_count": 30,
   "metadata": {
    "collapsed": true
   },
   "outputs": [],
   "source": [
    "taipale_ppi_bak_1 = taipale_ppi.copy()\n",
    "taipale_gpca_bak_1 = taipale_gpca.copy()\n",
    "taipale_edgotype_bak_1 = taipale_edgotype.copy()"
   ]
  },
  {
   "cell_type": "markdown",
   "metadata": {},
   "source": [
    "# Map to UniProt"
   ]
  },
  {
   "cell_type": "code",
   "execution_count": 31,
   "metadata": {
    "collapsed": true
   },
   "outputs": [],
   "source": [
    "taipale_ppi = taipale_ppi_bak_1.copy()\n",
    "taipale_gpca = taipale_gpca_bak_1.copy()\n",
    "taipale_edgotype = taipale_edgotype_bak_1.copy()"
   ]
  },
  {
   "cell_type": "markdown",
   "metadata": {
    "run_control": {
     "marked": false
    }
   },
   "source": [
    "## Construct RefSeq / UniProt maps"
   ]
  },
  {
   "cell_type": "code",
   "execution_count": 32,
   "metadata": {
    "code_folding": [],
    "collapsed": false,
    "run_control": {
     "marked": false
    }
   },
   "outputs": [
    {
     "name": "stdout",
     "output_type": "stream",
     "text": [
      "Gene ID to RefSeq\n"
     ]
    },
    {
     "data": {
      "text/html": [
       "<div>\n",
       "<table border=\"1\" class=\"dataframe\">\n",
       "  <thead>\n",
       "    <tr style=\"text-align: right;\">\n",
       "      <th></th>\n",
       "      <th>Symbol</th>\n",
       "      <th>refseq_base</th>\n",
       "    </tr>\n",
       "  </thead>\n",
       "  <tbody>\n",
       "    <tr>\n",
       "      <th>0</th>\n",
       "      <td>AANAT</td>\n",
       "      <td>NP_001079</td>\n",
       "    </tr>\n",
       "    <tr>\n",
       "      <th>1</th>\n",
       "      <td>ACTB</td>\n",
       "      <td>NP_001092</td>\n",
       "    </tr>\n",
       "    <tr>\n",
       "      <th>2</th>\n",
       "      <td>ACTG1</td>\n",
       "      <td>NP_001605</td>\n",
       "    </tr>\n",
       "    <tr>\n",
       "      <th>3</th>\n",
       "      <td>ACTN2</td>\n",
       "      <td>NP_001094</td>\n",
       "    </tr>\n",
       "    <tr>\n",
       "      <th>4</th>\n",
       "      <td>ACTN4</td>\n",
       "      <td>NP_004915</td>\n",
       "    </tr>\n",
       "  </tbody>\n",
       "</table>\n",
       "</div>"
      ],
      "text/plain": [
       "  Symbol refseq_base\n",
       "0  AANAT   NP_001079\n",
       "1   ACTB   NP_001092\n",
       "2  ACTG1   NP_001605\n",
       "3  ACTN2   NP_001094\n",
       "4  ACTN4   NP_004915"
      ]
     },
     "metadata": {},
     "output_type": "display_data"
    },
    {
     "name": "stdout",
     "output_type": "stream",
     "text": [
      "223\n",
      "\n",
      "Gene ID to UniProt\n"
     ]
    },
    {
     "data": {
      "text/html": [
       "<div>\n",
       "<table border=\"1\" class=\"dataframe\">\n",
       "  <thead>\n",
       "    <tr style=\"text-align: right;\">\n",
       "      <th></th>\n",
       "      <th>identifier_id</th>\n",
       "      <th>uniprot_id</th>\n",
       "    </tr>\n",
       "  </thead>\n",
       "  <tbody>\n",
       "    <tr>\n",
       "      <th>0</th>\n",
       "      <td>10016</td>\n",
       "      <td>O75340</td>\n",
       "    </tr>\n",
       "    <tr>\n",
       "      <th>1</th>\n",
       "      <td>10016</td>\n",
       "      <td>Q53FC3</td>\n",
       "    </tr>\n",
       "    <tr>\n",
       "      <th>2</th>\n",
       "      <td>100288797</td>\n",
       "      <td>Q8WW34</td>\n",
       "    </tr>\n",
       "    <tr>\n",
       "      <th>3</th>\n",
       "      <td>10062</td>\n",
       "      <td>B4DXU5</td>\n",
       "    </tr>\n",
       "    <tr>\n",
       "      <th>4</th>\n",
       "      <td>10062</td>\n",
       "      <td>F1D8N1</td>\n",
       "    </tr>\n",
       "  </tbody>\n",
       "</table>\n",
       "</div>"
      ],
      "text/plain": [
       "   identifier_id uniprot_id\n",
       "0          10016     O75340\n",
       "1          10016     Q53FC3\n",
       "2      100288797     Q8WW34\n",
       "3          10062     B4DXU5\n",
       "4          10062     F1D8N1"
      ]
     },
     "metadata": {},
     "output_type": "display_data"
    },
    {
     "name": "stdout",
     "output_type": "stream",
     "text": [
      "890\n"
     ]
    }
   ],
   "source": [
    "# Create disctionaries for converting gene symbol to refseq / uniprot id\n",
    "# (`gene_id_to_uniprot` only works for the partner UniProt ID!)\n",
    "gene_symbol_to_refseq_1, gene_id_to_uniprot_1 = local.get_conversion_tables(taipale_ppi)\n",
    "gene_symbol_to_refseq_2, gene_id_to_uniprot_2 = local.get_conversion_tables(taipale_gpca)\n",
    "\n",
    "gene_symbol_to_refseq = pd.concat(\n",
    "    [gene_symbol_to_refseq_1, gene_symbol_to_refseq_2],\n",
    "    ignore_index=True).drop_duplicates()\n",
    "gene_id_to_uniprot = pd.concat(\n",
    "    [gene_id_to_uniprot_1, gene_id_to_uniprot_2],\n",
    "    ignore_index=True).drop_duplicates()\n",
    "\n",
    "print('Gene ID to RefSeq')\n",
    "display(gene_symbol_to_refseq.head())\n",
    "print(gene_symbol_to_refseq.shape[0])\n",
    "\n",
    "print('\\nGene ID to UniProt')\n",
    "display(gene_id_to_uniprot.head())\n",
    "print(gene_id_to_uniprot.shape[0])"
   ]
  },
  {
   "cell_type": "markdown",
   "metadata": {
    "run_control": {
     "marked": false
    }
   },
   "source": [
    "## Apply RefSeq / UniProt maps"
   ]
  },
  {
   "cell_type": "code",
   "execution_count": 33,
   "metadata": {
    "code_folding": [],
    "collapsed": false,
    "run_control": {
     "marked": false
    }
   },
   "outputs": [
    {
     "data": {
      "text/html": [
       "<h3>taipale_ppi:"
      ],
      "text/plain": [
       "<IPython.core.display.HTML object>"
      ]
     },
     "metadata": {},
     "output_type": "display_data"
    },
    {
     "data": {
      "text/html": [
       "<h4>After merging:"
      ],
      "text/plain": [
       "<IPython.core.display.HTML object>"
      ]
     },
     "metadata": {},
     "output_type": "display_data"
    },
    {
     "name": "stdout",
     "output_type": "stream",
     "text": [
      "All rows:                                                   (2379, 17)\n",
      "Unique interfaces / mutations:                              (1633, 3) <--\n",
      "Unique interfaces / mutations mapped to uniprot:            (1633, 3)\n",
      "Unique interfaces / mutations mapped to uniprot and refseq: (1633, 3)\n"
     ]
    },
    {
     "data": {
      "text/html": [
       "<h4>After processing:"
      ],
      "text/plain": [
       "<IPython.core.display.HTML object>"
      ]
     },
     "metadata": {},
     "output_type": "display_data"
    },
    {
     "name": "stdout",
     "output_type": "stream",
     "text": [
      "All rows:                                                   (2364, 17)\n",
      "Unique interfaces / mutations:                              (1633, 3) <--\n",
      "Unique interfaces / mutations mapped to uniprot:            (1633, 3)\n",
      "Unique interfaces / mutations mapped to uniprot and refseq: (1633, 3)\n"
     ]
    },
    {
     "data": {
      "text/html": [
       "<div>\n",
       "<table border=\"1\" class=\"dataframe\">\n",
       "  <thead>\n",
       "    <tr style=\"text-align: right;\">\n",
       "      <th></th>\n",
       "      <th>Category</th>\n",
       "      <th>Symbol</th>\n",
       "      <th>Entrez_Gene_ID</th>\n",
       "      <th>Allele_ID</th>\n",
       "      <th>Mutation_RefSeq_NT</th>\n",
       "      <th>Mutation_RefSeq_AA</th>\n",
       "      <th>Interactor_symbol</th>\n",
       "      <th>Interactor_Gene_ID</th>\n",
       "      <th>Y2H_score_x</th>\n",
       "      <th>In_Rolland_et_al</th>\n",
       "      <th>refseq_base_id</th>\n",
       "      <th>refseq_mutation</th>\n",
       "      <th>refseq_mutation_pos</th>\n",
       "      <th>Y2H_score_y</th>\n",
       "      <th>ddg_exp</th>\n",
       "      <th>refseq_base_id_1</th>\n",
       "      <th>uniprot_id_2</th>\n",
       "    </tr>\n",
       "  </thead>\n",
       "  <tbody>\n",
       "    <tr>\n",
       "      <th>0</th>\n",
       "      <td>Disease mutation</td>\n",
       "      <td>AANAT</td>\n",
       "      <td>15</td>\n",
       "      <td>15_22963</td>\n",
       "      <td>NM_001088:c.385G&gt;A</td>\n",
       "      <td>NP_001079:p.A129T</td>\n",
       "      <td>BHLHE40</td>\n",
       "      <td>8553</td>\n",
       "      <td>0</td>\n",
       "      <td>1</td>\n",
       "      <td>NP_001079</td>\n",
       "      <td>A129T</td>\n",
       "      <td>129.0</td>\n",
       "      <td>1</td>\n",
       "      <td>1</td>\n",
       "      <td>NP_001079</td>\n",
       "      <td>O14503</td>\n",
       "    </tr>\n",
       "    <tr>\n",
       "      <th>1</th>\n",
       "      <td>Disease mutation</td>\n",
       "      <td>AANAT</td>\n",
       "      <td>15</td>\n",
       "      <td>15_22963</td>\n",
       "      <td>NM_001088:c.385G&gt;A</td>\n",
       "      <td>NP_001079:p.A129T</td>\n",
       "      <td>BHLHE40</td>\n",
       "      <td>8553</td>\n",
       "      <td>0</td>\n",
       "      <td>1</td>\n",
       "      <td>NP_001079</td>\n",
       "      <td>A129T</td>\n",
       "      <td>129.0</td>\n",
       "      <td>1</td>\n",
       "      <td>1</td>\n",
       "      <td>NP_001079</td>\n",
       "      <td>Q6IB83</td>\n",
       "    </tr>\n",
       "    <tr>\n",
       "      <th>2</th>\n",
       "      <td>Non-disease variant</td>\n",
       "      <td>AANAT</td>\n",
       "      <td>15</td>\n",
       "      <td>15_900207</td>\n",
       "      <td>NM_001088:c.8C&gt;T</td>\n",
       "      <td>NP_001079:p.T3M</td>\n",
       "      <td>BHLHE40</td>\n",
       "      <td>8553</td>\n",
       "      <td>1</td>\n",
       "      <td>1</td>\n",
       "      <td>NP_001079</td>\n",
       "      <td>T3M</td>\n",
       "      <td>3.0</td>\n",
       "      <td>1</td>\n",
       "      <td>0</td>\n",
       "      <td>NP_001079</td>\n",
       "      <td>O14503</td>\n",
       "    </tr>\n",
       "    <tr>\n",
       "      <th>3</th>\n",
       "      <td>Non-disease variant</td>\n",
       "      <td>AANAT</td>\n",
       "      <td>15</td>\n",
       "      <td>15_900207</td>\n",
       "      <td>NM_001088:c.8C&gt;T</td>\n",
       "      <td>NP_001079:p.T3M</td>\n",
       "      <td>BHLHE40</td>\n",
       "      <td>8553</td>\n",
       "      <td>1</td>\n",
       "      <td>1</td>\n",
       "      <td>NP_001079</td>\n",
       "      <td>T3M</td>\n",
       "      <td>3.0</td>\n",
       "      <td>1</td>\n",
       "      <td>0</td>\n",
       "      <td>NP_001079</td>\n",
       "      <td>Q6IB83</td>\n",
       "    </tr>\n",
       "  </tbody>\n",
       "</table>\n",
       "</div>"
      ],
      "text/plain": [
       "              Category Symbol  Entrez_Gene_ID  Allele_ID  Mutation_RefSeq_NT Mutation_RefSeq_AA Interactor_symbol  Interactor_Gene_ID  Y2H_score_x  In_Rolland_et_al refseq_base_id refseq_mutation  refseq_mutation_pos  Y2H_score_y  ddg_exp refseq_base_id_1 uniprot_id_2\n",
       "0     Disease mutation  AANAT              15   15_22963  NM_001088:c.385G>A  NP_001079:p.A129T           BHLHE40                8553            0                 1      NP_001079           A129T                129.0            1        1        NP_001079       O14503\n",
       "1     Disease mutation  AANAT              15   15_22963  NM_001088:c.385G>A  NP_001079:p.A129T           BHLHE40                8553            0                 1      NP_001079           A129T                129.0            1        1        NP_001079       Q6IB83\n",
       "2  Non-disease variant  AANAT              15  15_900207    NM_001088:c.8C>T    NP_001079:p.T3M           BHLHE40                8553            1                 1      NP_001079             T3M                  3.0            1        0        NP_001079       O14503\n",
       "3  Non-disease variant  AANAT              15  15_900207    NM_001088:c.8C>T    NP_001079:p.T3M           BHLHE40                8553            1                 1      NP_001079             T3M                  3.0            1        0        NP_001079       Q6IB83"
      ]
     },
     "metadata": {},
     "output_type": "display_data"
    },
    {
     "data": {
      "text/html": [
       "<h3>taipale_gpca:"
      ],
      "text/plain": [
       "<IPython.core.display.HTML object>"
      ]
     },
     "metadata": {},
     "output_type": "display_data"
    },
    {
     "data": {
      "text/html": [
       "<h4>After merging:"
      ],
      "text/plain": [
       "<IPython.core.display.HTML object>"
      ]
     },
     "metadata": {},
     "output_type": "display_data"
    },
    {
     "name": "stdout",
     "output_type": "stream",
     "text": [
      "All rows:                                                   (747, 19)\n",
      "Unique interfaces / mutations:                              (492, 3) <--\n",
      "Unique interfaces / mutations mapped to uniprot:            (492, 3)\n",
      "Unique interfaces / mutations mapped to uniprot and refseq: (492, 3)\n"
     ]
    },
    {
     "data": {
      "text/html": [
       "<h4>After processing:"
      ],
      "text/plain": [
       "<IPython.core.display.HTML object>"
      ]
     },
     "metadata": {},
     "output_type": "display_data"
    },
    {
     "name": "stdout",
     "output_type": "stream",
     "text": [
      "All rows:                                                   (747, 19)\n",
      "Unique interfaces / mutations:                              (492, 3) <--\n",
      "Unique interfaces / mutations mapped to uniprot:            (492, 3)\n",
      "Unique interfaces / mutations mapped to uniprot and refseq: (492, 3)\n"
     ]
    },
    {
     "data": {
      "text/html": [
       "<div>\n",
       "<table border=\"1\" class=\"dataframe\">\n",
       "  <thead>\n",
       "    <tr style=\"text-align: right;\">\n",
       "      <th></th>\n",
       "      <th>Category</th>\n",
       "      <th>Symbol</th>\n",
       "      <th>Entrez_Gene_ID</th>\n",
       "      <th>Allele_ID</th>\n",
       "      <th>Mutation_RefSeq_NT</th>\n",
       "      <th>Mutation_RefSeq_AA</th>\n",
       "      <th>Interactor_symbol</th>\n",
       "      <th>Interactor_Gene_ID</th>\n",
       "      <th>Interaction_category</th>\n",
       "      <th>GPCA_score1</th>\n",
       "      <th>GPCA_score2</th>\n",
       "      <th>GPCA_average_score_x</th>\n",
       "      <th>refseq_base_id</th>\n",
       "      <th>refseq_mutation</th>\n",
       "      <th>refseq_mutation_pos</th>\n",
       "      <th>GPCA_average_score_y</th>\n",
       "      <th>ddg_exp</th>\n",
       "      <th>refseq_base_id_1</th>\n",
       "      <th>uniprot_id_2</th>\n",
       "    </tr>\n",
       "  </thead>\n",
       "  <tbody>\n",
       "    <tr>\n",
       "      <th>0</th>\n",
       "      <td>Disease mutation</td>\n",
       "      <td>AANAT</td>\n",
       "      <td>15</td>\n",
       "      <td>15_22963</td>\n",
       "      <td>NM_001088:c.385G&gt;A</td>\n",
       "      <td>NP_001079:p.A129T</td>\n",
       "      <td>MDFI</td>\n",
       "      <td>4188</td>\n",
       "      <td>Y2H_positive</td>\n",
       "      <td>3.776225</td>\n",
       "      <td>4.319209</td>\n",
       "      <td>4.047717</td>\n",
       "      <td>NP_001079</td>\n",
       "      <td>A129T</td>\n",
       "      <td>129.0</td>\n",
       "      <td>4.369786</td>\n",
       "      <td>0.322069</td>\n",
       "      <td>NP_001079</td>\n",
       "      <td>B1AKB6</td>\n",
       "    </tr>\n",
       "    <tr>\n",
       "      <th>1</th>\n",
       "      <td>Disease mutation</td>\n",
       "      <td>AANAT</td>\n",
       "      <td>15</td>\n",
       "      <td>15_22963</td>\n",
       "      <td>NM_001088:c.385G&gt;A</td>\n",
       "      <td>NP_001079:p.A129T</td>\n",
       "      <td>MDFI</td>\n",
       "      <td>4188</td>\n",
       "      <td>Y2H_positive</td>\n",
       "      <td>3.776225</td>\n",
       "      <td>4.319209</td>\n",
       "      <td>4.047717</td>\n",
       "      <td>NP_001079</td>\n",
       "      <td>A129T</td>\n",
       "      <td>129.0</td>\n",
       "      <td>4.369786</td>\n",
       "      <td>0.322069</td>\n",
       "      <td>NP_001079</td>\n",
       "      <td>Q99750</td>\n",
       "    </tr>\n",
       "    <tr>\n",
       "      <th>2</th>\n",
       "      <td>Disease mutation</td>\n",
       "      <td>ACTB</td>\n",
       "      <td>60</td>\n",
       "      <td>60_12760</td>\n",
       "      <td>NM_001101:c.547C&gt;T</td>\n",
       "      <td>NP_001092:p.R183W</td>\n",
       "      <td>ACTB</td>\n",
       "      <td>60</td>\n",
       "      <td>Y2H_positive</td>\n",
       "      <td>4.029925</td>\n",
       "      <td>5.021377</td>\n",
       "      <td>4.525651</td>\n",
       "      <td>NP_001092</td>\n",
       "      <td>R183W</td>\n",
       "      <td>183.0</td>\n",
       "      <td>2.902637</td>\n",
       "      <td>-1.623014</td>\n",
       "      <td>NP_001092</td>\n",
       "      <td>B3KWQ3</td>\n",
       "    </tr>\n",
       "    <tr>\n",
       "      <th>3</th>\n",
       "      <td>Disease mutation</td>\n",
       "      <td>ACTB</td>\n",
       "      <td>60</td>\n",
       "      <td>60_12760</td>\n",
       "      <td>NM_001101:c.547C&gt;T</td>\n",
       "      <td>NP_001092:p.R183W</td>\n",
       "      <td>ACTB</td>\n",
       "      <td>60</td>\n",
       "      <td>Y2H_positive</td>\n",
       "      <td>4.029925</td>\n",
       "      <td>5.021377</td>\n",
       "      <td>4.525651</td>\n",
       "      <td>NP_001092</td>\n",
       "      <td>R183W</td>\n",
       "      <td>183.0</td>\n",
       "      <td>2.902637</td>\n",
       "      <td>-1.623014</td>\n",
       "      <td>NP_001092</td>\n",
       "      <td>P60709</td>\n",
       "    </tr>\n",
       "  </tbody>\n",
       "</table>\n",
       "</div>"
      ],
      "text/plain": [
       "           Category Symbol  Entrez_Gene_ID Allele_ID  Mutation_RefSeq_NT Mutation_RefSeq_AA Interactor_symbol  Interactor_Gene_ID Interaction_category  GPCA_score1  GPCA_score2  GPCA_average_score_x refseq_base_id refseq_mutation  refseq_mutation_pos  GPCA_average_score_y   ddg_exp refseq_base_id_1 uniprot_id_2\n",
       "0  Disease mutation  AANAT              15  15_22963  NM_001088:c.385G>A  NP_001079:p.A129T              MDFI                4188         Y2H_positive     3.776225     4.319209              4.047717      NP_001079           A129T                129.0              4.369786  0.322069        NP_001079       B1AKB6\n",
       "1  Disease mutation  AANAT              15  15_22963  NM_001088:c.385G>A  NP_001079:p.A129T              MDFI                4188         Y2H_positive     3.776225     4.319209              4.047717      NP_001079           A129T                129.0              4.369786  0.322069        NP_001079       Q99750\n",
       "2  Disease mutation   ACTB              60  60_12760  NM_001101:c.547C>T  NP_001092:p.R183W              ACTB                  60         Y2H_positive     4.029925     5.021377              4.525651      NP_001092           R183W                183.0              2.902637 -1.623014        NP_001092       B3KWQ3\n",
       "3  Disease mutation   ACTB              60  60_12760  NM_001101:c.547C>T  NP_001092:p.R183W              ACTB                  60         Y2H_positive     4.029925     5.021377              4.525651      NP_001092           R183W                183.0              2.902637 -1.623014        NP_001092       P60709"
      ]
     },
     "metadata": {},
     "output_type": "display_data"
    }
   ],
   "source": [
    "# Covert gene symbol to refseq id (does not work for some partner proteins where we have never seen the refseq id.)\n",
    "display(HTML('<h3>taipale_ppi:'))\n",
    "taipale_ppi = local.convert_interacting_partner(taipale_ppi, gene_symbol_to_refseq, gene_id_to_uniprot)\n",
    "display(HTML('<h3>taipale_gpca:'))\n",
    "taipale_gpca = local.convert_interacting_partner(taipale_gpca, gene_symbol_to_refseq, gene_id_to_uniprot)"
   ]
  },
  {
   "cell_type": "markdown",
   "metadata": {
    "run_control": {
     "marked": false
    }
   },
   "source": [
    "## Convert to UniProt mutations"
   ]
  },
  {
   "cell_type": "markdown",
   "metadata": {
    "code_folding": [
     0
    ],
    "run_control": {
     "marked": false
    }
   },
   "source": [
    "### taipale_uniprot_df"
   ]
  },
  {
   "cell_type": "code",
   "execution_count": 34,
   "metadata": {
    "collapsed": false,
    "run_control": {
     "marked": false
    }
   },
   "outputs": [],
   "source": [
    "# Create a temporary table in the database (`staging`.`taipale_mmc3`)\n",
    "data_to_upload = (\n",
    "    pd.concat(\n",
    "        [taipale_ppi[['refseq_base_id', 'refseq_mutation', 'refseq_mutation_pos']],\n",
    "         taipale_gpca[['refseq_base_id', 'refseq_mutation', 'refseq_mutation_pos']]],\n",
    "        ignore_index=True\n",
    "    )\n",
    "    .dropna()\n",
    "    .drop_duplicates()\n",
    ")"
   ]
  },
  {
   "cell_type": "code",
   "execution_count": 35,
   "metadata": {
    "code_folding": [],
    "collapsed": false,
    "run_control": {
     "marked": false
    }
   },
   "outputs": [
    {
     "name": "stdout",
     "output_type": "stream",
     "text": [
      "Mutations from 'taipale_ppi':                               (527, 3)\n",
      "Mutations from 'taipale_gpca':                              (110, 3)\n",
      "Combined:                                                   (527, 3)\n"
     ]
    }
   ],
   "source": [
    "# Print stats\n",
    "print2(\n",
    "    \"Mutations from 'taipale_ppi':\", \n",
    "    taipale_ppi[['refseq_base_id', 'refseq_mutation', 'refseq_mutation_pos']].drop_duplicates().shape)\n",
    "print2(\n",
    "    \"Mutations from 'taipale_gpca':\",\n",
    "    taipale_gpca[['refseq_base_id', 'refseq_mutation', 'refseq_mutation_pos']].drop_duplicates().shape)\n",
    "print2(\n",
    "    \"Combined:\", \n",
    "    data_to_upload.shape)"
   ]
  },
  {
   "cell_type": "code",
   "execution_count": 36,
   "metadata": {
    "collapsed": true,
    "run_control": {
     "marked": false
    }
   },
   "outputs": [],
   "source": [
    "data_to_upload.to_sql('taipale', db_remote.engine, schema='staging', if_exists='replace')"
   ]
  },
  {
   "cell_type": "code",
   "execution_count": 37,
   "metadata": {
    "collapsed": true
   },
   "outputs": [],
   "source": [
    "# Convert RefSeq ID and position to UniProt (canonical) ID and position\n",
    "sql_query = \"\"\"\n",
    "SELECT\n",
    "-- RefSeq\n",
    "m.index,\n",
    "m.refseq_base_id,\n",
    "m.refseq_mutation,\n",
    "m.refseq_mutation_pos,\n",
    "ux.active refseq_active,\n",
    "ucuc.uniparc_sequence refseq_sequence,\n",
    "\n",
    "-- UniProt\n",
    "uxc.id uniprot_id,\n",
    "FIND_IN_SET(refseq_mutation_pos, a2b) uniprot_mutation_pos,\n",
    "uxc.active uniprot_active,\n",
    "# Don't use UniParc sequence because it might be different version than ELASPIC\n",
    "us.uniprot_sequence uniprot_sequence\n",
    "\n",
    "FROM staging.taipale m\n",
    "JOIN uniparc_human.uniparc_xref ux ON (ux.type = 'RefSeq' AND ux.id = m.refseq_base_id)\n",
    "JOIN uniparc_human.uniparc2uniparc_canonical_mapping ucuc USING (uniparc_id)\n",
    "JOIN uniparc_human.uniparc_xref uxc ON (uxc.uniparc_id = ucuc.uniparc_canonical_id AND \\\n",
    "                                        uxc.type = 'UniProtKB/Swiss-Prot')\n",
    "JOIN uniprot_kb.uniprot_sequence us ON (us.uniprot_id = uxc.id);\n",
    "\"\"\""
   ]
  },
  {
   "cell_type": "code",
   "execution_count": 38,
   "metadata": {
    "code_folding": [],
    "collapsed": false,
    "run_control": {
     "marked": false
    }
   },
   "outputs": [],
   "source": [
    "cache_file = op.join(NOTEBOOK_NAME, 'taipale_uniprot_df.pkl')\n",
    "if op.isfile(cache_file):\n",
    "    taipale_uniprot_df = pd.read_pickle(cache_file)\n",
    "else:\n",
    "    taipale_uniprot_df = pd.read_sql_query(sql_query, db_remote.engine)\n",
    "    taipale_uniprot_df.to_pickle(cache_file)"
   ]
  },
  {
   "cell_type": "code",
   "execution_count": 39,
   "metadata": {
    "collapsed": false
   },
   "outputs": [
    {
     "data": {
      "text/html": [
       "<div>\n",
       "<table border=\"1\" class=\"dataframe\">\n",
       "  <thead>\n",
       "    <tr style=\"text-align: right;\">\n",
       "      <th></th>\n",
       "      <th>index</th>\n",
       "      <th>refseq_base_id</th>\n",
       "      <th>refseq_mutation</th>\n",
       "      <th>refseq_mutation_pos</th>\n",
       "      <th>refseq_active</th>\n",
       "      <th>refseq_sequence</th>\n",
       "      <th>uniprot_id</th>\n",
       "      <th>uniprot_mutation_pos</th>\n",
       "      <th>uniprot_active</th>\n",
       "      <th>uniprot_sequence</th>\n",
       "    </tr>\n",
       "  </thead>\n",
       "  <tbody>\n",
       "    <tr>\n",
       "      <th>0</th>\n",
       "      <td>0</td>\n",
       "      <td>NP_001079</td>\n",
       "      <td>A129T</td>\n",
       "      <td>129.0</td>\n",
       "      <td>N</td>\n",
       "      <td>MSTQSTHPLKPEAPRLPPGIPESPSCQRRHTLPASEFRCLTPEDAV...</td>\n",
       "      <td>Q16613</td>\n",
       "      <td>129</td>\n",
       "      <td>Y</td>\n",
       "      <td>MSTQSTHPLKPEAPRLPPGIPESPSCQRRHTLPASEFRCLTPEDAV...</td>\n",
       "    </tr>\n",
       "    <tr>\n",
       "      <th>1</th>\n",
       "      <td>0</td>\n",
       "      <td>NP_001079</td>\n",
       "      <td>A129T</td>\n",
       "      <td>129.0</td>\n",
       "      <td>Y</td>\n",
       "      <td>MSTQSTHPLKPEAPRLPPGIPESPSCQRRHTLPASEFRCLTPEDAV...</td>\n",
       "      <td>Q16613</td>\n",
       "      <td>129</td>\n",
       "      <td>Y</td>\n",
       "      <td>MSTQSTHPLKPEAPRLPPGIPESPSCQRRHTLPASEFRCLTPEDAV...</td>\n",
       "    </tr>\n",
       "  </tbody>\n",
       "</table>\n",
       "</div>"
      ],
      "text/plain": [
       "   index refseq_base_id refseq_mutation  refseq_mutation_pos refseq_active                                    refseq_sequence uniprot_id  uniprot_mutation_pos uniprot_active                                   uniprot_sequence\n",
       "0      0      NP_001079           A129T                129.0             N  MSTQSTHPLKPEAPRLPPGIPESPSCQRRHTLPASEFRCLTPEDAV...     Q16613                   129              Y  MSTQSTHPLKPEAPRLPPGIPESPSCQRRHTLPASEFRCLTPEDAV...\n",
       "1      0      NP_001079           A129T                129.0             Y  MSTQSTHPLKPEAPRLPPGIPESPSCQRRHTLPASEFRCLTPEDAV...     Q16613                   129              Y  MSTQSTHPLKPEAPRLPPGIPESPSCQRRHTLPASEFRCLTPEDAV..."
      ]
     },
     "execution_count": 39,
     "metadata": {},
     "output_type": "execute_result"
    }
   ],
   "source": [
    "taipale_uniprot_df.head(2)"
   ]
  },
  {
   "cell_type": "markdown",
   "metadata": {},
   "source": [
    "### taipale_uniprot_df_good"
   ]
  },
  {
   "cell_type": "code",
   "execution_count": 40,
   "metadata": {
    "collapsed": false,
    "run_control": {
     "marked": false
    }
   },
   "outputs": [
    {
     "data": {
      "text/html": [
       "<div>\n",
       "<table border=\"1\" class=\"dataframe\">\n",
       "  <thead>\n",
       "    <tr style=\"text-align: right;\">\n",
       "      <th></th>\n",
       "      <th>index</th>\n",
       "      <th>refseq_base_id</th>\n",
       "      <th>refseq_mutation</th>\n",
       "      <th>refseq_mutation_pos</th>\n",
       "      <th>refseq_active</th>\n",
       "      <th>refseq_sequence</th>\n",
       "      <th>uniprot_id</th>\n",
       "      <th>uniprot_mutation_pos</th>\n",
       "      <th>uniprot_active</th>\n",
       "      <th>uniprot_sequence</th>\n",
       "    </tr>\n",
       "  </thead>\n",
       "  <tbody>\n",
       "    <tr>\n",
       "      <th>0</th>\n",
       "      <td>0</td>\n",
       "      <td>NP_001079</td>\n",
       "      <td>A129T</td>\n",
       "      <td>129.0</td>\n",
       "      <td>N</td>\n",
       "      <td>MSTQSTHPLKPEAPRLPPGIPESPSCQRRHTLPASEFRCLTPEDAV...</td>\n",
       "      <td>Q16613</td>\n",
       "      <td>129</td>\n",
       "      <td>Y</td>\n",
       "      <td>MSTQSTHPLKPEAPRLPPGIPESPSCQRRHTLPASEFRCLTPEDAV...</td>\n",
       "    </tr>\n",
       "    <tr>\n",
       "      <th>1</th>\n",
       "      <td>0</td>\n",
       "      <td>NP_001079</td>\n",
       "      <td>A129T</td>\n",
       "      <td>129.0</td>\n",
       "      <td>Y</td>\n",
       "      <td>MSTQSTHPLKPEAPRLPPGIPESPSCQRRHTLPASEFRCLTPEDAV...</td>\n",
       "      <td>Q16613</td>\n",
       "      <td>129</td>\n",
       "      <td>Y</td>\n",
       "      <td>MSTQSTHPLKPEAPRLPPGIPESPSCQRRHTLPASEFRCLTPEDAV...</td>\n",
       "    </tr>\n",
       "    <tr>\n",
       "      <th>2</th>\n",
       "      <td>2</td>\n",
       "      <td>NP_001079</td>\n",
       "      <td>T3M</td>\n",
       "      <td>3.0</td>\n",
       "      <td>N</td>\n",
       "      <td>MSTQSTHPLKPEAPRLPPGIPESPSCQRRHTLPASEFRCLTPEDAV...</td>\n",
       "      <td>Q16613</td>\n",
       "      <td>3</td>\n",
       "      <td>Y</td>\n",
       "      <td>MSTQSTHPLKPEAPRLPPGIPESPSCQRRHTLPASEFRCLTPEDAV...</td>\n",
       "    </tr>\n",
       "    <tr>\n",
       "      <th>3</th>\n",
       "      <td>2</td>\n",
       "      <td>NP_001079</td>\n",
       "      <td>T3M</td>\n",
       "      <td>3.0</td>\n",
       "      <td>Y</td>\n",
       "      <td>MSTQSTHPLKPEAPRLPPGIPESPSCQRRHTLPASEFRCLTPEDAV...</td>\n",
       "      <td>Q16613</td>\n",
       "      <td>3</td>\n",
       "      <td>Y</td>\n",
       "      <td>MSTQSTHPLKPEAPRLPPGIPESPSCQRRHTLPASEFRCLTPEDAV...</td>\n",
       "    </tr>\n",
       "    <tr>\n",
       "      <th>4</th>\n",
       "      <td>8</td>\n",
       "      <td>NP_001092</td>\n",
       "      <td>R183W</td>\n",
       "      <td>183.0</td>\n",
       "      <td>N</td>\n",
       "      <td>MDDDIAALVVDNGSGMCKAGFAGDDAPRAVFPSIVGRPRHQGVMVG...</td>\n",
       "      <td>P60709</td>\n",
       "      <td>183</td>\n",
       "      <td>Y</td>\n",
       "      <td>MDDDIAALVVDNGSGMCKAGFAGDDAPRAVFPSIVGRPRHQGVMVG...</td>\n",
       "    </tr>\n",
       "  </tbody>\n",
       "</table>\n",
       "</div>"
      ],
      "text/plain": [
       "   index refseq_base_id refseq_mutation  refseq_mutation_pos refseq_active                                    refseq_sequence uniprot_id  uniprot_mutation_pos uniprot_active                                   uniprot_sequence\n",
       "0      0      NP_001079           A129T                129.0             N  MSTQSTHPLKPEAPRLPPGIPESPSCQRRHTLPASEFRCLTPEDAV...     Q16613                   129              Y  MSTQSTHPLKPEAPRLPPGIPESPSCQRRHTLPASEFRCLTPEDAV...\n",
       "1      0      NP_001079           A129T                129.0             Y  MSTQSTHPLKPEAPRLPPGIPESPSCQRRHTLPASEFRCLTPEDAV...     Q16613                   129              Y  MSTQSTHPLKPEAPRLPPGIPESPSCQRRHTLPASEFRCLTPEDAV...\n",
       "2      2      NP_001079             T3M                  3.0             N  MSTQSTHPLKPEAPRLPPGIPESPSCQRRHTLPASEFRCLTPEDAV...     Q16613                     3              Y  MSTQSTHPLKPEAPRLPPGIPESPSCQRRHTLPASEFRCLTPEDAV...\n",
       "3      2      NP_001079             T3M                  3.0             Y  MSTQSTHPLKPEAPRLPPGIPESPSCQRRHTLPASEFRCLTPEDAV...     Q16613                     3              Y  MSTQSTHPLKPEAPRLPPGIPESPSCQRRHTLPASEFRCLTPEDAV...\n",
       "4      8      NP_001092           R183W                183.0             N  MDDDIAALVVDNGSGMCKAGFAGDDAPRAVFPSIVGRPRHQGVMVG...     P60709                   183              Y  MDDDIAALVVDNGSGMCKAGFAGDDAPRAVFPSIVGRPRHQGVMVG..."
      ]
     },
     "metadata": {},
     "output_type": "display_data"
    },
    {
     "name": "stdout",
     "output_type": "stream",
     "text": [
      "(1008, 10)\n"
     ]
    }
   ],
   "source": [
    "display(taipale_uniprot_df.head())\n",
    "print(taipale_uniprot_df.shape)"
   ]
  },
  {
   "cell_type": "code",
   "execution_count": 41,
   "metadata": {
    "collapsed": false,
    "run_control": {
     "marked": false
    }
   },
   "outputs": [],
   "source": [
    "taipale_uniprot_df['uniprot_mutation'] = (\n",
    "    taipale_uniprot_df[['refseq_mutation', 'uniprot_mutation_pos']]\n",
    "    .apply(lambda x: x[0][0] + str(x[1]) + x[0][-1], axis=1)\n",
    ")"
   ]
  },
  {
   "cell_type": "code",
   "execution_count": 42,
   "metadata": {
    "collapsed": true,
    "run_control": {
     "marked": false
    }
   },
   "outputs": [],
   "source": [
    "taipale_uniprot_df['refseq_mutation_matches_sequence'] = (\n",
    "    taipale_uniprot_df[['refseq_mutation', 'refseq_sequence']]\n",
    "    .apply(lambda x: ascommon.sequence_tools.mutation_matches_sequence(*x), axis=1)\n",
    ")"
   ]
  },
  {
   "cell_type": "code",
   "execution_count": 43,
   "metadata": {
    "collapsed": true,
    "run_control": {
     "marked": false
    }
   },
   "outputs": [],
   "source": [
    "taipale_uniprot_df['uniprot_mutation_matches_sequence'] = (\n",
    "    taipale_uniprot_df[['uniprot_mutation', 'uniprot_sequence']]\n",
    "    .apply(lambda x: ascommon.sequence_tools.mutation_matches_sequence(*x), axis=1)\n",
    ")"
   ]
  },
  {
   "cell_type": "code",
   "execution_count": 44,
   "metadata": {
    "collapsed": false
   },
   "outputs": [
    {
     "data": {
      "text/html": [
       "<div>\n",
       "<table border=\"1\" class=\"dataframe\">\n",
       "  <thead>\n",
       "    <tr style=\"text-align: right;\">\n",
       "      <th></th>\n",
       "      <th>index</th>\n",
       "      <th>refseq_base_id</th>\n",
       "      <th>refseq_mutation</th>\n",
       "      <th>refseq_mutation_pos</th>\n",
       "      <th>refseq_active</th>\n",
       "      <th>refseq_sequence</th>\n",
       "      <th>uniprot_id</th>\n",
       "      <th>uniprot_mutation_pos</th>\n",
       "      <th>uniprot_active</th>\n",
       "      <th>uniprot_sequence</th>\n",
       "      <th>uniprot_mutation</th>\n",
       "      <th>refseq_mutation_matches_sequence</th>\n",
       "      <th>uniprot_mutation_matches_sequence</th>\n",
       "    </tr>\n",
       "  </thead>\n",
       "  <tbody>\n",
       "    <tr>\n",
       "      <th>0</th>\n",
       "      <td>0</td>\n",
       "      <td>NP_001079</td>\n",
       "      <td>A129T</td>\n",
       "      <td>129.0</td>\n",
       "      <td>N</td>\n",
       "      <td>MSTQSTHPLKPEAPRLPPGIPESPSCQRRHTLPASEFRCLTPEDAV...</td>\n",
       "      <td>Q16613</td>\n",
       "      <td>129</td>\n",
       "      <td>Y</td>\n",
       "      <td>MSTQSTHPLKPEAPRLPPGIPESPSCQRRHTLPASEFRCLTPEDAV...</td>\n",
       "      <td>A129T</td>\n",
       "      <td>True</td>\n",
       "      <td>True</td>\n",
       "    </tr>\n",
       "    <tr>\n",
       "      <th>1</th>\n",
       "      <td>0</td>\n",
       "      <td>NP_001079</td>\n",
       "      <td>A129T</td>\n",
       "      <td>129.0</td>\n",
       "      <td>Y</td>\n",
       "      <td>MSTQSTHPLKPEAPRLPPGIPESPSCQRRHTLPASEFRCLTPEDAV...</td>\n",
       "      <td>Q16613</td>\n",
       "      <td>129</td>\n",
       "      <td>Y</td>\n",
       "      <td>MSTQSTHPLKPEAPRLPPGIPESPSCQRRHTLPASEFRCLTPEDAV...</td>\n",
       "      <td>A129T</td>\n",
       "      <td>True</td>\n",
       "      <td>True</td>\n",
       "    </tr>\n",
       "    <tr>\n",
       "      <th>2</th>\n",
       "      <td>2</td>\n",
       "      <td>NP_001079</td>\n",
       "      <td>T3M</td>\n",
       "      <td>3.0</td>\n",
       "      <td>N</td>\n",
       "      <td>MSTQSTHPLKPEAPRLPPGIPESPSCQRRHTLPASEFRCLTPEDAV...</td>\n",
       "      <td>Q16613</td>\n",
       "      <td>3</td>\n",
       "      <td>Y</td>\n",
       "      <td>MSTQSTHPLKPEAPRLPPGIPESPSCQRRHTLPASEFRCLTPEDAV...</td>\n",
       "      <td>T3M</td>\n",
       "      <td>True</td>\n",
       "      <td>True</td>\n",
       "    </tr>\n",
       "    <tr>\n",
       "      <th>3</th>\n",
       "      <td>2</td>\n",
       "      <td>NP_001079</td>\n",
       "      <td>T3M</td>\n",
       "      <td>3.0</td>\n",
       "      <td>Y</td>\n",
       "      <td>MSTQSTHPLKPEAPRLPPGIPESPSCQRRHTLPASEFRCLTPEDAV...</td>\n",
       "      <td>Q16613</td>\n",
       "      <td>3</td>\n",
       "      <td>Y</td>\n",
       "      <td>MSTQSTHPLKPEAPRLPPGIPESPSCQRRHTLPASEFRCLTPEDAV...</td>\n",
       "      <td>T3M</td>\n",
       "      <td>True</td>\n",
       "      <td>True</td>\n",
       "    </tr>\n",
       "    <tr>\n",
       "      <th>4</th>\n",
       "      <td>8</td>\n",
       "      <td>NP_001092</td>\n",
       "      <td>R183W</td>\n",
       "      <td>183.0</td>\n",
       "      <td>N</td>\n",
       "      <td>MDDDIAALVVDNGSGMCKAGFAGDDAPRAVFPSIVGRPRHQGVMVG...</td>\n",
       "      <td>P60709</td>\n",
       "      <td>183</td>\n",
       "      <td>Y</td>\n",
       "      <td>MDDDIAALVVDNGSGMCKAGFAGDDAPRAVFPSIVGRPRHQGVMVG...</td>\n",
       "      <td>R183W</td>\n",
       "      <td>True</td>\n",
       "      <td>True</td>\n",
       "    </tr>\n",
       "  </tbody>\n",
       "</table>\n",
       "</div>"
      ],
      "text/plain": [
       "   index refseq_base_id refseq_mutation  refseq_mutation_pos refseq_active                                    refseq_sequence uniprot_id  uniprot_mutation_pos uniprot_active                                   uniprot_sequence uniprot_mutation refseq_mutation_matches_sequence uniprot_mutation_matches_sequence\n",
       "0      0      NP_001079           A129T                129.0             N  MSTQSTHPLKPEAPRLPPGIPESPSCQRRHTLPASEFRCLTPEDAV...     Q16613                   129              Y  MSTQSTHPLKPEAPRLPPGIPESPSCQRRHTLPASEFRCLTPEDAV...            A129T                             True                              True\n",
       "1      0      NP_001079           A129T                129.0             Y  MSTQSTHPLKPEAPRLPPGIPESPSCQRRHTLPASEFRCLTPEDAV...     Q16613                   129              Y  MSTQSTHPLKPEAPRLPPGIPESPSCQRRHTLPASEFRCLTPEDAV...            A129T                             True                              True\n",
       "2      2      NP_001079             T3M                  3.0             N  MSTQSTHPLKPEAPRLPPGIPESPSCQRRHTLPASEFRCLTPEDAV...     Q16613                     3              Y  MSTQSTHPLKPEAPRLPPGIPESPSCQRRHTLPASEFRCLTPEDAV...              T3M                             True                              True\n",
       "3      2      NP_001079             T3M                  3.0             Y  MSTQSTHPLKPEAPRLPPGIPESPSCQRRHTLPASEFRCLTPEDAV...     Q16613                     3              Y  MSTQSTHPLKPEAPRLPPGIPESPSCQRRHTLPASEFRCLTPEDAV...              T3M                             True                              True\n",
       "4      8      NP_001092           R183W                183.0             N  MDDDIAALVVDNGSGMCKAGFAGDDAPRAVFPSIVGRPRHQGVMVG...     P60709                   183              Y  MDDDIAALVVDNGSGMCKAGFAGDDAPRAVFPSIVGRPRHQGVMVG...            R183W                             True                              True"
      ]
     },
     "metadata": {},
     "output_type": "display_data"
    },
    {
     "name": "stdout",
     "output_type": "stream",
     "text": [
      "(1008, 13)\n"
     ]
    }
   ],
   "source": [
    "display(taipale_uniprot_df.head())\n",
    "print(taipale_uniprot_df.shape)"
   ]
  },
  {
   "cell_type": "code",
   "execution_count": 45,
   "metadata": {
    "collapsed": false
   },
   "outputs": [
    {
     "name": "stdout",
     "output_type": "stream",
     "text": [
      "Not 'uniprot_mutation_pos':                                 10\n",
      "Not 'uniprot_mutation_matches_sequence':                    15\n",
      "Not 'refseq_mutation_matches_sequence':                     15\n",
      "Not 'uniprot_active':                                       40\n",
      "Not 'refseq_active':                                        459\n",
      "1008 526\n"
     ]
    }
   ],
   "source": [
    "# All\n",
    "df = taipale_uniprot_df\n",
    "print2(\"Not 'uniprot_mutation_pos':\", (df['uniprot_mutation_pos'] == 0).sum())\n",
    "print2(\"Not 'uniprot_mutation_matches_sequence':\", (~df['refseq_mutation_matches_sequence']).sum())\n",
    "print2(\"Not 'refseq_mutation_matches_sequence':\", (~df['refseq_mutation_matches_sequence']).sum())\n",
    "print2(\"Not 'uniprot_active':\", (df['uniprot_active'] == 'N').sum())\n",
    "print2(\"Not 'refseq_active':\", (df['refseq_active'] == 'N').sum())\n",
    "print(df.shape[0], df['index'].drop_duplicates().shape[0])"
   ]
  },
  {
   "cell_type": "code",
   "execution_count": 46,
   "metadata": {
    "collapsed": false
   },
   "outputs": [],
   "source": [
    "# Select the best mapping for each mutation\n",
    "taipale_uniprot_df_select = (\n",
    "    taipale_uniprot_df\n",
    "    .sort_values([\n",
    "        'uniprot_mutation_pos', 'uniprot_mutation_matches_sequence', 'refseq_mutation_matches_sequence',\n",
    "        'uniprot_active', 'refseq_active'], ascending=False)\n",
    "    .drop_duplicates(['refseq_base_id', 'refseq_mutation', 'uniprot_id', 'uniprot_mutation'])\n",
    "    .sort_values(['uniprot_id', 'uniprot_mutation_pos', 'uniprot_mutation'], ascending=True)\n",
    ")"
   ]
  },
  {
   "cell_type": "code",
   "execution_count": 47,
   "metadata": {
    "collapsed": false,
    "run_control": {
     "marked": false
    }
   },
   "outputs": [
    {
     "name": "stdout",
     "output_type": "stream",
     "text": [
      "Not 'uniprot_mutation_pos':                                 6\n",
      "Not 'uniprot_mutation_matches_sequence':                    13\n",
      "Not 'refseq_mutation_matches_sequence':                     13\n",
      "Not 'uniprot_active':                                       0\n",
      "Not 'refseq_active':                                        13\n",
      "542 526\n"
     ]
    }
   ],
   "source": [
    "df = taipale_uniprot_df_select\n",
    "print2(\"Not 'uniprot_mutation_pos':\", (df['uniprot_mutation_pos'] == 0).sum())\n",
    "print2(\"Not 'uniprot_mutation_matches_sequence':\", (~df['refseq_mutation_matches_sequence']).sum())\n",
    "print2(\"Not 'refseq_mutation_matches_sequence':\", (~df['refseq_mutation_matches_sequence']).sum())\n",
    "print2(\"Not 'uniprot_active':\", (df['uniprot_active'] == 'N').sum())\n",
    "print2(\"Not 'refseq_active':\", (df['refseq_active'] == 'N').sum())\n",
    "print(df.shape[0], df['index'].drop_duplicates().shape[0])"
   ]
  },
  {
   "cell_type": "code",
   "execution_count": 48,
   "metadata": {
    "collapsed": false
   },
   "outputs": [],
   "source": [
    "# Select valid mappings\n",
    "taipale_uniprot_df_good = (\n",
    "    taipale_uniprot_df_select[\n",
    "        (taipale_uniprot_df_select['uniprot_mutation_pos'] != 0) &\n",
    "        (df['refseq_mutation_matches_sequence']) &\n",
    "        (df['refseq_mutation_matches_sequence'])\n",
    "    ]\n",
    ")"
   ]
  },
  {
   "cell_type": "code",
   "execution_count": 49,
   "metadata": {
    "collapsed": false
   },
   "outputs": [
    {
     "name": "stdout",
     "output_type": "stream",
     "text": [
      "Not 'uniprot_mutation_pos':                                 0\n",
      "Not 'uniprot_mutation_matches_sequence':                    0\n",
      "Not 'refseq_mutation_matches_sequence':                     0\n",
      "Not 'uniprot_active':                                       0\n",
      "Not 'refseq_active':                                        9\n",
      "525 522\n"
     ]
    }
   ],
   "source": [
    "df = taipale_uniprot_df_good\n",
    "print2(\"Not 'uniprot_mutation_pos':\", (df['uniprot_mutation_pos'] == 0).sum())\n",
    "print2(\"Not 'uniprot_mutation_matches_sequence':\", (~df['refseq_mutation_matches_sequence']).sum())\n",
    "print2(\"Not 'refseq_mutation_matches_sequence':\", (~df['refseq_mutation_matches_sequence']).sum())\n",
    "print2(\"Not 'uniprot_active':\", (df['uniprot_active'] == 'N').sum())\n",
    "print2(\"Not 'refseq_active':\", (df['refseq_active'] == 'N').sum())\n",
    "print(df.shape[0], df['index'].drop_duplicates().shape[0])"
   ]
  },
  {
   "cell_type": "code",
   "execution_count": 50,
   "metadata": {
    "collapsed": true
   },
   "outputs": [],
   "source": [
    "taipale_uniprot_df_good.to_pickle(op.join(NOTEBOOK_NAME, 'taipale_uniprot_df_good.pkl'))"
   ]
  },
  {
   "cell_type": "code",
   "execution_count": 51,
   "metadata": {
    "collapsed": true
   },
   "outputs": [],
   "source": [
    "taipale_uniprot_df_good_bak = taipale_uniprot_df_good.copy()"
   ]
  },
  {
   "cell_type": "markdown",
   "metadata": {
    "code_folding": [
     0
    ],
    "run_control": {
     "marked": false
    }
   },
   "source": [
    "### Merge back"
   ]
  },
  {
   "cell_type": "code",
   "execution_count": 52,
   "metadata": {
    "collapsed": true
   },
   "outputs": [],
   "source": [
    "taipale_uniprot_df_good_bak = pd.read_pickle(op.join(NOTEBOOK_NAME, 'taipale_uniprot_df_good.pkl'))"
   ]
  },
  {
   "cell_type": "code",
   "execution_count": 53,
   "metadata": {
    "collapsed": true
   },
   "outputs": [],
   "source": [
    "taipale_uniprot_df = (\n",
    "    taipale_uniprot_df_good_bak\n",
    "    .drop('index', axis=1)\n",
    ")"
   ]
  },
  {
   "cell_type": "code",
   "execution_count": 54,
   "metadata": {
    "collapsed": false
   },
   "outputs": [],
   "source": [
    "taipale_ppi = (\n",
    "    taipale_ppi.merge(\n",
    "        taipale_uniprot_df, \n",
    "        on=['refseq_base_id', 'refseq_mutation', 'refseq_mutation_pos'],\n",
    "        how='left'))"
   ]
  },
  {
   "cell_type": "code",
   "execution_count": 55,
   "metadata": {
    "collapsed": false
   },
   "outputs": [],
   "source": [
    "taipale_gpca = (\n",
    "    taipale_gpca.merge(\n",
    "        taipale_uniprot_df, \n",
    "        on=['refseq_base_id', 'refseq_mutation', 'refseq_mutation_pos'],\n",
    "        how='left'))"
   ]
  },
  {
   "cell_type": "code",
   "execution_count": 56,
   "metadata": {
    "code_folding": [],
    "collapsed": false,
    "run_control": {
     "marked": false
    },
    "scrolled": false
   },
   "outputs": [],
   "source": [
    "taipale_edgotype = (\n",
    "    taipale_edgotype.merge(\n",
    "        taipale_uniprot_df, \n",
    "        on=['refseq_base_id', 'refseq_mutation', 'refseq_mutation_pos'],\n",
    "        how='left'))"
   ]
  },
  {
   "cell_type": "code",
   "execution_count": 57,
   "metadata": {
    "collapsed": true,
    "run_control": {
     "marked": false
    }
   },
   "outputs": [],
   "source": [
    "# Make a copy for future reference\n",
    "taipale_ppi_2_bak = taipale_ppi.copy()\n",
    "taipale_gpca_2_bak = taipale_gpca.copy()\n",
    "taipale_edgotype_2_bak = taipale_edgotype.copy()"
   ]
  },
  {
   "cell_type": "code",
   "execution_count": 58,
   "metadata": {
    "collapsed": false
   },
   "outputs": [],
   "source": [
    "# Save for future reference\n",
    "taipale_ppi_2_bak.to_pickle(op.join(NOTEBOOK_NAME, 'taipale_ppi_2_bak.pkl'))\n",
    "taipale_gpca_2_bak.to_pickle(op.join(NOTEBOOK_NAME, 'taipale_gpca_2_bak.pkl'))\n",
    "taipale_edgotype_2_bak.to_pickle(op.join(NOTEBOOK_NAME, 'taipale_edgotype_2_bak.pkl'))"
   ]
  },
  {
   "cell_type": "markdown",
   "metadata": {},
   "source": [
    "# Save to database"
   ]
  },
  {
   "cell_type": "code",
   "execution_count": 75,
   "metadata": {
    "collapsed": false
   },
   "outputs": [],
   "source": [
    "# Save a copy for future reference\n",
    "taipale_ppi = pd.read_pickle(op.join(NOTEBOOK_NAME, 'taipale_ppi_2_bak.pkl'))\n",
    "taipale_gpca = pd.read_pickle(op.join(NOTEBOOK_NAME, 'taipale_gpca_2_bak.pkl'))\n",
    "taipale_edgotype = pd.read_pickle(op.join(NOTEBOOK_NAME, 'taipale_edgotype_2_bak.pkl'))"
   ]
  },
  {
   "cell_type": "markdown",
   "metadata": {},
   "source": [
    "## taipale_ppi"
   ]
  },
  {
   "cell_type": "code",
   "execution_count": 76,
   "metadata": {
    "collapsed": false
   },
   "outputs": [
    {
     "data": {
      "text/html": [
       "<div>\n",
       "<table border=\"1\" class=\"dataframe\">\n",
       "  <thead>\n",
       "    <tr style=\"text-align: right;\">\n",
       "      <th></th>\n",
       "      <th>Category</th>\n",
       "      <th>Symbol</th>\n",
       "      <th>Entrez_Gene_ID</th>\n",
       "      <th>Allele_ID</th>\n",
       "      <th>Mutation_RefSeq_NT</th>\n",
       "      <th>Mutation_RefSeq_AA</th>\n",
       "      <th>Interactor_symbol</th>\n",
       "      <th>Interactor_Gene_ID</th>\n",
       "      <th>Y2H_score_x</th>\n",
       "      <th>In_Rolland_et_al</th>\n",
       "      <th>refseq_base_id</th>\n",
       "      <th>refseq_mutation</th>\n",
       "      <th>refseq_mutation_pos</th>\n",
       "      <th>Y2H_score_y</th>\n",
       "      <th>ddg_exp</th>\n",
       "      <th>refseq_base_id_1</th>\n",
       "      <th>uniprot_id_2</th>\n",
       "      <th>refseq_active</th>\n",
       "      <th>refseq_sequence</th>\n",
       "      <th>uniprot_id</th>\n",
       "      <th>uniprot_mutation_pos</th>\n",
       "      <th>uniprot_active</th>\n",
       "      <th>uniprot_sequence</th>\n",
       "      <th>uniprot_mutation</th>\n",
       "      <th>refseq_mutation_matches_sequence</th>\n",
       "      <th>uniprot_mutation_matches_sequence</th>\n",
       "    </tr>\n",
       "  </thead>\n",
       "  <tbody>\n",
       "    <tr>\n",
       "      <th>0</th>\n",
       "      <td>Disease mutation</td>\n",
       "      <td>AANAT</td>\n",
       "      <td>15</td>\n",
       "      <td>15_22963</td>\n",
       "      <td>NM_001088:c.385G&gt;A</td>\n",
       "      <td>NP_001079:p.A129T</td>\n",
       "      <td>BHLHE40</td>\n",
       "      <td>8553</td>\n",
       "      <td>0</td>\n",
       "      <td>1</td>\n",
       "      <td>NP_001079</td>\n",
       "      <td>A129T</td>\n",
       "      <td>129.0</td>\n",
       "      <td>1</td>\n",
       "      <td>1</td>\n",
       "      <td>NP_001079</td>\n",
       "      <td>O14503</td>\n",
       "      <td>Y</td>\n",
       "      <td>MSTQSTHPLKPEAPRLPPGIPESPSCQRRHTLPASEFRCLTPEDAV...</td>\n",
       "      <td>Q16613</td>\n",
       "      <td>129.0</td>\n",
       "      <td>Y</td>\n",
       "      <td>MSTQSTHPLKPEAPRLPPGIPESPSCQRRHTLPASEFRCLTPEDAV...</td>\n",
       "      <td>A129T</td>\n",
       "      <td>True</td>\n",
       "      <td>True</td>\n",
       "    </tr>\n",
       "    <tr>\n",
       "      <th>1</th>\n",
       "      <td>Disease mutation</td>\n",
       "      <td>AANAT</td>\n",
       "      <td>15</td>\n",
       "      <td>15_22963</td>\n",
       "      <td>NM_001088:c.385G&gt;A</td>\n",
       "      <td>NP_001079:p.A129T</td>\n",
       "      <td>BHLHE40</td>\n",
       "      <td>8553</td>\n",
       "      <td>0</td>\n",
       "      <td>1</td>\n",
       "      <td>NP_001079</td>\n",
       "      <td>A129T</td>\n",
       "      <td>129.0</td>\n",
       "      <td>1</td>\n",
       "      <td>1</td>\n",
       "      <td>NP_001079</td>\n",
       "      <td>Q6IB83</td>\n",
       "      <td>Y</td>\n",
       "      <td>MSTQSTHPLKPEAPRLPPGIPESPSCQRRHTLPASEFRCLTPEDAV...</td>\n",
       "      <td>Q16613</td>\n",
       "      <td>129.0</td>\n",
       "      <td>Y</td>\n",
       "      <td>MSTQSTHPLKPEAPRLPPGIPESPSCQRRHTLPASEFRCLTPEDAV...</td>\n",
       "      <td>A129T</td>\n",
       "      <td>True</td>\n",
       "      <td>True</td>\n",
       "    </tr>\n",
       "  </tbody>\n",
       "</table>\n",
       "</div>"
      ],
      "text/plain": [
       "           Category Symbol  Entrez_Gene_ID Allele_ID  Mutation_RefSeq_NT Mutation_RefSeq_AA Interactor_symbol  Interactor_Gene_ID  Y2H_score_x  In_Rolland_et_al refseq_base_id refseq_mutation  refseq_mutation_pos  Y2H_score_y  ddg_exp refseq_base_id_1 uniprot_id_2 refseq_active                                    refseq_sequence uniprot_id  uniprot_mutation_pos uniprot_active                                   uniprot_sequence uniprot_mutation refseq_mutation_matches_sequence uniprot_mutation_matches_sequence\n",
       "0  Disease mutation  AANAT              15  15_22963  NM_001088:c.385G>A  NP_001079:p.A129T           BHLHE40                8553            0                 1      NP_001079           A129T                129.0            1        1        NP_001079       O14503             Y  MSTQSTHPLKPEAPRLPPGIPESPSCQRRHTLPASEFRCLTPEDAV...     Q16613                 129.0              Y  MSTQSTHPLKPEAPRLPPGIPESPSCQRRHTLPASEFRCLTPEDAV...            A129T                             True                              True\n",
       "1  Disease mutation  AANAT              15  15_22963  NM_001088:c.385G>A  NP_001079:p.A129T           BHLHE40                8553            0                 1      NP_001079           A129T                129.0            1        1        NP_001079       Q6IB83             Y  MSTQSTHPLKPEAPRLPPGIPESPSCQRRHTLPASEFRCLTPEDAV...     Q16613                 129.0              Y  MSTQSTHPLKPEAPRLPPGIPESPSCQRRHTLPASEFRCLTPEDAV...            A129T                             True                              True"
      ]
     },
     "metadata": {},
     "output_type": "display_data"
    },
    {
     "name": "stdout",
     "output_type": "stream",
     "text": [
      "Number or rows:                                             2367\n",
      "Unique refseq mutations:                                    (527, 26)\n",
      "Unique uniprot mutations:                                   (526, 26)\n",
      "Unique refseq interface mutations:                          (1633, 26)\n",
      "Unique uniprot interface mutations:                         (2366, 26)\n"
     ]
    }
   ],
   "source": [
    "display(taipale_ppi.head(2))\n",
    "print2(\"Number or rows:\", taipale_ppi.shape[0])\n",
    "print2(\n",
    "    \"Unique refseq mutations:\",\n",
    "    taipale_ppi.drop_duplicates(['refseq_base_id', 'refseq_mutation']).shape)\n",
    "print2(\n",
    "    \"Unique uniprot mutations:\",\n",
    "    taipale_ppi.drop_duplicates(['uniprot_id', 'uniprot_mutation']).shape)\n",
    "print2(\n",
    "    \"Unique refseq interface mutations:\",\n",
    "    taipale_ppi.drop_duplicates(['refseq_base_id', 'refseq_mutation', 'Interactor_Gene_ID']).shape)\n",
    "print2(\n",
    "    \"Unique uniprot interface mutations:\",\n",
    "    taipale_ppi.drop_duplicates(['uniprot_id', 'uniprot_mutation', 'uniprot_id_2']).shape)"
   ]
  },
  {
   "cell_type": "code",
   "execution_count": 77,
   "metadata": {
    "collapsed": false
   },
   "outputs": [],
   "source": [
    "df = (\n",
    "    taipale_ppi\n",
    "    [['uniprot_id', 'uniprot_id_2', 'uniprot_mutation', 'ddg_exp']]\n",
    "    .rename(columns={'uniprot_id_2': 'partner_uniprot_id'})\n",
    "    .dropna()\n",
    ")"
   ]
  },
  {
   "cell_type": "code",
   "execution_count": 78,
   "metadata": {
    "collapsed": false
   },
   "outputs": [
    {
     "name": "stdout",
     "output_type": "stream",
     "text": [
      "2348\n"
     ]
    }
   ],
   "source": [
    "print(df.shape[0])"
   ]
  },
  {
   "cell_type": "code",
   "execution_count": 79,
   "metadata": {
    "collapsed": true
   },
   "outputs": [],
   "source": [
    "t = db.import_df(\n",
    "    df,\n",
    "    'taipale_ppi',\n",
    "    use_temp_file=False,\n",
    ")"
   ]
  },
  {
   "cell_type": "code",
   "execution_count": 80,
   "metadata": {
    "collapsed": true
   },
   "outputs": [],
   "source": [
    "db.create_indexes(\n",
    "    t.name,\n",
    "    [(['uniprot_id', 'partner_uniprot_id', 'uniprot_mutation'], True),\n",
    "     (['partner_uniprot_id', 'uniprot_id', 'uniprot_mutation'], True)]\n",
    ")"
   ]
  },
  {
   "cell_type": "code",
   "execution_count": 81,
   "metadata": {
    "collapsed": false
   },
   "outputs": [
    {
     "data": {
      "text/plain": [
       "2348"
      ]
     },
     "execution_count": 81,
     "metadata": {},
     "output_type": "execute_result"
    }
   ],
   "source": [
    "db.add_idx_column(t.name)"
   ]
  },
  {
   "cell_type": "markdown",
   "metadata": {},
   "source": [
    "## taipale_gpca"
   ]
  },
  {
   "cell_type": "code",
   "execution_count": 82,
   "metadata": {
    "collapsed": false
   },
   "outputs": [
    {
     "data": {
      "text/html": [
       "<div>\n",
       "<table border=\"1\" class=\"dataframe\">\n",
       "  <thead>\n",
       "    <tr style=\"text-align: right;\">\n",
       "      <th></th>\n",
       "      <th>Category</th>\n",
       "      <th>Symbol</th>\n",
       "      <th>Entrez_Gene_ID</th>\n",
       "      <th>Allele_ID</th>\n",
       "      <th>Mutation_RefSeq_NT</th>\n",
       "      <th>Mutation_RefSeq_AA</th>\n",
       "      <th>Interactor_symbol</th>\n",
       "      <th>Interactor_Gene_ID</th>\n",
       "      <th>Interaction_category</th>\n",
       "      <th>GPCA_score1</th>\n",
       "      <th>GPCA_score2</th>\n",
       "      <th>GPCA_average_score_x</th>\n",
       "      <th>refseq_base_id</th>\n",
       "      <th>refseq_mutation</th>\n",
       "      <th>refseq_mutation_pos</th>\n",
       "      <th>GPCA_average_score_y</th>\n",
       "      <th>ddg_exp</th>\n",
       "      <th>refseq_base_id_1</th>\n",
       "      <th>uniprot_id_2</th>\n",
       "      <th>refseq_active</th>\n",
       "      <th>refseq_sequence</th>\n",
       "      <th>uniprot_id</th>\n",
       "      <th>uniprot_mutation_pos</th>\n",
       "      <th>uniprot_active</th>\n",
       "      <th>uniprot_sequence</th>\n",
       "      <th>uniprot_mutation</th>\n",
       "      <th>refseq_mutation_matches_sequence</th>\n",
       "      <th>uniprot_mutation_matches_sequence</th>\n",
       "    </tr>\n",
       "  </thead>\n",
       "  <tbody>\n",
       "    <tr>\n",
       "      <th>0</th>\n",
       "      <td>Disease mutation</td>\n",
       "      <td>AANAT</td>\n",
       "      <td>15</td>\n",
       "      <td>15_22963</td>\n",
       "      <td>NM_001088:c.385G&gt;A</td>\n",
       "      <td>NP_001079:p.A129T</td>\n",
       "      <td>MDFI</td>\n",
       "      <td>4188</td>\n",
       "      <td>Y2H_positive</td>\n",
       "      <td>3.776225</td>\n",
       "      <td>4.319209</td>\n",
       "      <td>4.047717</td>\n",
       "      <td>NP_001079</td>\n",
       "      <td>A129T</td>\n",
       "      <td>129.0</td>\n",
       "      <td>4.369786</td>\n",
       "      <td>0.322069</td>\n",
       "      <td>NP_001079</td>\n",
       "      <td>B1AKB6</td>\n",
       "      <td>Y</td>\n",
       "      <td>MSTQSTHPLKPEAPRLPPGIPESPSCQRRHTLPASEFRCLTPEDAV...</td>\n",
       "      <td>Q16613</td>\n",
       "      <td>129</td>\n",
       "      <td>Y</td>\n",
       "      <td>MSTQSTHPLKPEAPRLPPGIPESPSCQRRHTLPASEFRCLTPEDAV...</td>\n",
       "      <td>A129T</td>\n",
       "      <td>True</td>\n",
       "      <td>True</td>\n",
       "    </tr>\n",
       "    <tr>\n",
       "      <th>1</th>\n",
       "      <td>Disease mutation</td>\n",
       "      <td>AANAT</td>\n",
       "      <td>15</td>\n",
       "      <td>15_22963</td>\n",
       "      <td>NM_001088:c.385G&gt;A</td>\n",
       "      <td>NP_001079:p.A129T</td>\n",
       "      <td>MDFI</td>\n",
       "      <td>4188</td>\n",
       "      <td>Y2H_positive</td>\n",
       "      <td>3.776225</td>\n",
       "      <td>4.319209</td>\n",
       "      <td>4.047717</td>\n",
       "      <td>NP_001079</td>\n",
       "      <td>A129T</td>\n",
       "      <td>129.0</td>\n",
       "      <td>4.369786</td>\n",
       "      <td>0.322069</td>\n",
       "      <td>NP_001079</td>\n",
       "      <td>Q99750</td>\n",
       "      <td>Y</td>\n",
       "      <td>MSTQSTHPLKPEAPRLPPGIPESPSCQRRHTLPASEFRCLTPEDAV...</td>\n",
       "      <td>Q16613</td>\n",
       "      <td>129</td>\n",
       "      <td>Y</td>\n",
       "      <td>MSTQSTHPLKPEAPRLPPGIPESPSCQRRHTLPASEFRCLTPEDAV...</td>\n",
       "      <td>A129T</td>\n",
       "      <td>True</td>\n",
       "      <td>True</td>\n",
       "    </tr>\n",
       "  </tbody>\n",
       "</table>\n",
       "</div>"
      ],
      "text/plain": [
       "           Category Symbol  Entrez_Gene_ID Allele_ID  Mutation_RefSeq_NT Mutation_RefSeq_AA Interactor_symbol  Interactor_Gene_ID Interaction_category  GPCA_score1  GPCA_score2  GPCA_average_score_x refseq_base_id refseq_mutation  refseq_mutation_pos  GPCA_average_score_y   ddg_exp refseq_base_id_1 uniprot_id_2 refseq_active                                    refseq_sequence uniprot_id  uniprot_mutation_pos uniprot_active                                   uniprot_sequence uniprot_mutation refseq_mutation_matches_sequence uniprot_mutation_matches_sequence\n",
       "0  Disease mutation  AANAT              15  15_22963  NM_001088:c.385G>A  NP_001079:p.A129T              MDFI                4188         Y2H_positive     3.776225     4.319209              4.047717      NP_001079           A129T                129.0              4.369786  0.322069        NP_001079       B1AKB6             Y  MSTQSTHPLKPEAPRLPPGIPESPSCQRRHTLPASEFRCLTPEDAV...     Q16613                   129              Y  MSTQSTHPLKPEAPRLPPGIPESPSCQRRHTLPASEFRCLTPEDAV...            A129T                             True                              True\n",
       "1  Disease mutation  AANAT              15  15_22963  NM_001088:c.385G>A  NP_001079:p.A129T              MDFI                4188         Y2H_positive     3.776225     4.319209              4.047717      NP_001079           A129T                129.0              4.369786  0.322069        NP_001079       Q99750             Y  MSTQSTHPLKPEAPRLPPGIPESPSCQRRHTLPASEFRCLTPEDAV...     Q16613                   129              Y  MSTQSTHPLKPEAPRLPPGIPESPSCQRRHTLPASEFRCLTPEDAV...            A129T                             True                              True"
      ]
     },
     "metadata": {},
     "output_type": "display_data"
    },
    {
     "name": "stdout",
     "output_type": "stream",
     "text": [
      "Number or rows:                                             747\n",
      "Unique refseq mutations:                                    (110, 28)\n",
      "Unique uniprot mutations:                                   (110, 28)\n",
      "Unique refseq interface mutations:                          (492, 28)\n",
      "Unique uniprot interface mutations:                         (747, 28)\n"
     ]
    }
   ],
   "source": [
    "display(taipale_gpca.head(2))\n",
    "print2(\"Number or rows:\", taipale_gpca.shape[0])\n",
    "print2(\n",
    "    \"Unique refseq mutations:\",\n",
    "    taipale_gpca.drop_duplicates(['refseq_base_id', 'refseq_mutation']).shape)\n",
    "print2(\n",
    "    \"Unique uniprot mutations:\",\n",
    "    taipale_gpca.drop_duplicates(['uniprot_id', 'uniprot_mutation']).shape)\n",
    "print2(\n",
    "    \"Unique refseq interface mutations:\",\n",
    "    taipale_gpca.drop_duplicates(['refseq_base_id', 'refseq_mutation', 'Interactor_Gene_ID']).shape)\n",
    "print2(\n",
    "    \"Unique uniprot interface mutations:\",\n",
    "    taipale_gpca.drop_duplicates(['uniprot_id', 'uniprot_mutation', 'uniprot_id_2']).shape)"
   ]
  },
  {
   "cell_type": "code",
   "execution_count": 83,
   "metadata": {
    "collapsed": true
   },
   "outputs": [],
   "source": [
    "df = (\n",
    "    taipale_gpca\n",
    "    [['uniprot_id', 'uniprot_id_2', 'uniprot_mutation', 'ddg_exp']]\n",
    "    .rename(columns={'uniprot_id_2': 'partner_uniprot_id'})\n",
    "    .dropna()\n",
    ")"
   ]
  },
  {
   "cell_type": "code",
   "execution_count": 84,
   "metadata": {
    "collapsed": false
   },
   "outputs": [
    {
     "name": "stdout",
     "output_type": "stream",
     "text": [
      "742\n"
     ]
    }
   ],
   "source": [
    "print(df.shape[0])"
   ]
  },
  {
   "cell_type": "code",
   "execution_count": 85,
   "metadata": {
    "collapsed": true
   },
   "outputs": [],
   "source": [
    "t = db.import_df(\n",
    "    df,\n",
    "    'taipale_gpca',\n",
    "    use_temp_file=False,\n",
    ")"
   ]
  },
  {
   "cell_type": "code",
   "execution_count": 86,
   "metadata": {
    "collapsed": false
   },
   "outputs": [],
   "source": [
    "db.create_indexes(\n",
    "    t.name,\n",
    "    [(['uniprot_id', 'partner_uniprot_id', 'uniprot_mutation'], True),\n",
    "     (['partner_uniprot_id', 'uniprot_id', 'uniprot_mutation'], True)]\n",
    ")"
   ]
  },
  {
   "cell_type": "code",
   "execution_count": 87,
   "metadata": {
    "collapsed": false
   },
   "outputs": [
    {
     "data": {
      "text/plain": [
       "742"
      ]
     },
     "execution_count": 87,
     "metadata": {},
     "output_type": "execute_result"
    }
   ],
   "source": [
    "db.add_idx_column(t.name)"
   ]
  },
  {
   "cell_type": "markdown",
   "metadata": {},
   "source": [
    "## taipale_edgotype"
   ]
  },
  {
   "cell_type": "code",
   "execution_count": 88,
   "metadata": {
    "collapsed": false
   },
   "outputs": [
    {
     "data": {
      "text/html": [
       "<div>\n",
       "<table border=\"1\" class=\"dataframe\">\n",
       "  <thead>\n",
       "    <tr style=\"text-align: right;\">\n",
       "      <th></th>\n",
       "      <th>Category</th>\n",
       "      <th>Symbol</th>\n",
       "      <th>Entrez_Gene_ID</th>\n",
       "      <th>Allele_ID</th>\n",
       "      <th>Mutation_RefSeq_NT</th>\n",
       "      <th>Mutation_RefSeq_AA</th>\n",
       "      <th>Edgotype_class</th>\n",
       "      <th>refseq_base_id</th>\n",
       "      <th>refseq_mutation</th>\n",
       "      <th>refseq_mutation_pos</th>\n",
       "      <th>refseq_active</th>\n",
       "      <th>refseq_sequence</th>\n",
       "      <th>uniprot_id</th>\n",
       "      <th>uniprot_mutation_pos</th>\n",
       "      <th>uniprot_active</th>\n",
       "      <th>uniprot_sequence</th>\n",
       "      <th>uniprot_mutation</th>\n",
       "      <th>refseq_mutation_matches_sequence</th>\n",
       "      <th>uniprot_mutation_matches_sequence</th>\n",
       "    </tr>\n",
       "  </thead>\n",
       "  <tbody>\n",
       "    <tr>\n",
       "      <th>0</th>\n",
       "      <td>Disease mutation</td>\n",
       "      <td>AANAT</td>\n",
       "      <td>15</td>\n",
       "      <td>15_22963</td>\n",
       "      <td>NM_001088:c.385G&gt;A</td>\n",
       "      <td>NP_001079:p.A129T</td>\n",
       "      <td>Edgetic</td>\n",
       "      <td>NP_001079</td>\n",
       "      <td>A129T</td>\n",
       "      <td>129</td>\n",
       "      <td>Y</td>\n",
       "      <td>MSTQSTHPLKPEAPRLPPGIPESPSCQRRHTLPASEFRCLTPEDAV...</td>\n",
       "      <td>Q16613</td>\n",
       "      <td>129.0</td>\n",
       "      <td>Y</td>\n",
       "      <td>MSTQSTHPLKPEAPRLPPGIPESPSCQRRHTLPASEFRCLTPEDAV...</td>\n",
       "      <td>A129T</td>\n",
       "      <td>True</td>\n",
       "      <td>True</td>\n",
       "    </tr>\n",
       "    <tr>\n",
       "      <th>1</th>\n",
       "      <td>Non-disease variant</td>\n",
       "      <td>AANAT</td>\n",
       "      <td>15</td>\n",
       "      <td>15_900207</td>\n",
       "      <td>NM_001088:c.8C&gt;T</td>\n",
       "      <td>NP_001079:p.T3M</td>\n",
       "      <td>Quasi-wild-type</td>\n",
       "      <td>NP_001079</td>\n",
       "      <td>T3M</td>\n",
       "      <td>3</td>\n",
       "      <td>Y</td>\n",
       "      <td>MSTQSTHPLKPEAPRLPPGIPESPSCQRRHTLPASEFRCLTPEDAV...</td>\n",
       "      <td>Q16613</td>\n",
       "      <td>3.0</td>\n",
       "      <td>Y</td>\n",
       "      <td>MSTQSTHPLKPEAPRLPPGIPESPSCQRRHTLPASEFRCLTPEDAV...</td>\n",
       "      <td>T3M</td>\n",
       "      <td>True</td>\n",
       "      <td>True</td>\n",
       "    </tr>\n",
       "  </tbody>\n",
       "</table>\n",
       "</div>"
      ],
      "text/plain": [
       "              Category Symbol  Entrez_Gene_ID  Allele_ID  Mutation_RefSeq_NT Mutation_RefSeq_AA   Edgotype_class refseq_base_id refseq_mutation  refseq_mutation_pos refseq_active                                    refseq_sequence uniprot_id  uniprot_mutation_pos uniprot_active                                   uniprot_sequence uniprot_mutation refseq_mutation_matches_sequence uniprot_mutation_matches_sequence\n",
       "0     Disease mutation  AANAT              15   15_22963  NM_001088:c.385G>A  NP_001079:p.A129T          Edgetic      NP_001079           A129T                  129             Y  MSTQSTHPLKPEAPRLPPGIPESPSCQRRHTLPASEFRCLTPEDAV...     Q16613                 129.0              Y  MSTQSTHPLKPEAPRLPPGIPESPSCQRRHTLPASEFRCLTPEDAV...            A129T                             True                              True\n",
       "1  Non-disease variant  AANAT              15  15_900207    NM_001088:c.8C>T    NP_001079:p.T3M  Quasi-wild-type      NP_001079             T3M                    3             Y  MSTQSTHPLKPEAPRLPPGIPESPSCQRRHTLPASEFRCLTPEDAV...     Q16613                   3.0              Y  MSTQSTHPLKPEAPRLPPGIPESPSCQRRHTLPASEFRCLTPEDAV...              T3M                             True                              True"
      ]
     },
     "metadata": {},
     "output_type": "display_data"
    },
    {
     "name": "stdout",
     "output_type": "stream",
     "text": [
      "Number or rows:                                             530\n",
      "Unique refseq mutations:                                    (527, 19)\n",
      "Unique uniprot mutations:                                   (526, 19)\n"
     ]
    }
   ],
   "source": [
    "display(taipale_edgotype.head(2))\n",
    "print2(\"Number or rows:\", taipale_edgotype.shape[0])\n",
    "print2(\n",
    "    \"Unique refseq mutations:\",\n",
    "    taipale_edgotype.drop_duplicates(['refseq_base_id', 'refseq_mutation']).shape)\n",
    "print2(\n",
    "    \"Unique uniprot mutations:\",\n",
    "    taipale_edgotype.drop_duplicates(['uniprot_id', 'uniprot_mutation']).shape)"
   ]
  },
  {
   "cell_type": "code",
   "execution_count": 89,
   "metadata": {
    "collapsed": false
   },
   "outputs": [],
   "source": [
    "df = (\n",
    "    taipale_edgotype\n",
    "    [['uniprot_id', 'uniprot_mutation', 'Edgotype_class']]\n",
    "    .rename(columns={'Edgotype_class': 'edgotype_class'})\n",
    "    .dropna()\n",
    ")"
   ]
  },
  {
   "cell_type": "code",
   "execution_count": 90,
   "metadata": {
    "collapsed": false
   },
   "outputs": [
    {
     "name": "stdout",
     "output_type": "stream",
     "text": [
      "525\n"
     ]
    }
   ],
   "source": [
    "print(df.shape[0])"
   ]
  },
  {
   "cell_type": "code",
   "execution_count": 91,
   "metadata": {
    "collapsed": true
   },
   "outputs": [],
   "source": [
    "t = db.import_df(\n",
    "    df,\n",
    "    'taipale_edgotype',\n",
    "    use_temp_file=False,\n",
    ")"
   ]
  },
  {
   "cell_type": "code",
   "execution_count": 92,
   "metadata": {
    "collapsed": false
   },
   "outputs": [],
   "source": [
    "db.create_indexes(\n",
    "    t.name,\n",
    "    [(['uniprot_id', 'uniprot_mutation'], True)],\n",
    ")"
   ]
  },
  {
   "cell_type": "code",
   "execution_count": 93,
   "metadata": {
    "collapsed": false
   },
   "outputs": [
    {
     "data": {
      "text/plain": [
       "525"
      ]
     },
     "execution_count": 93,
     "metadata": {},
     "output_type": "execute_result"
    }
   ],
   "source": [
    "db.add_idx_column(t.name)"
   ]
  },
  {
   "cell_type": "code",
   "execution_count": null,
   "metadata": {
    "collapsed": true
   },
   "outputs": [],
   "source": []
  }
 ],
 "metadata": {
  "kernelspec": {
   "display_name": "Python 3",
   "language": "python",
   "name": "python3"
  },
  "language_info": {
   "codemirror_mode": {
    "name": "ipython",
    "version": 3
   },
   "file_extension": ".py",
   "mimetype": "text/x-python",
   "name": "python",
   "nbconvert_exporter": "python",
   "pygments_lexer": "ipython3",
   "version": "3.5.1"
  },
  "latex_envs": {
   "bibliofile": "biblio.bib",
   "cite_by": "apalike",
   "current_citInitial": 1,
   "eqLabelWithNumbers": true,
   "eqNumInitial": 0
  },
  "nav_menu": {
   "height": "280px",
   "width": "314px"
  },
  "toc": {
   "navigate_menu": true,
   "number_sections": true,
   "sideBar": false,
   "threshold": 6,
   "toc_cell": true,
   "toc_section_display": "block",
   "toc_window_display": true
  },
  "toc_position": {
   "height": "457px",
   "left": "82.9861px",
   "right": "20px",
   "top": "60.9896px",
   "width": "230px"
  }
 },
 "nbformat": 4,
 "nbformat_minor": 0
}
