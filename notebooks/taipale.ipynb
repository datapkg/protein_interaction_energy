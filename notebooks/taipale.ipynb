{
 "cells": [
  {
   "cell_type": "markdown",
   "metadata": {
    "toc": "true"
   },
   "source": [
    "# Table of Contents\n",
    " <p><div class=\"lev1\"><a href=\"#Summary\"><span class=\"toc-item-num\">1&nbsp;&nbsp;</span>Summary</a></div><div class=\"lev1\"><a href=\"#Imports\"><span class=\"toc-item-num\">2&nbsp;&nbsp;</span>Imports</a></div><div class=\"lev1\"><a href=\"#Load-data\"><span class=\"toc-item-num\">3&nbsp;&nbsp;</span>Load data</a></div><div class=\"lev1\"><a href=\"#Map-to-UniProt\"><span class=\"toc-item-num\">4&nbsp;&nbsp;</span>Map to UniProt</a></div><div class=\"lev2\"><a href=\"#Construct-RefSeq-/-UniProt-maps\"><span class=\"toc-item-num\">4.1&nbsp;&nbsp;</span>Construct RefSeq / UniProt maps</a></div><div class=\"lev2\"><a href=\"#Apply-RefSeq-/-UniProt-maps\"><span class=\"toc-item-num\">4.2&nbsp;&nbsp;</span>Apply RefSeq / UniProt maps</a></div><div class=\"lev2\"><a href=\"#Convert-to-UniProt-mutations\"><span class=\"toc-item-num\">4.3&nbsp;&nbsp;</span>Convert to UniProt mutations</a></div><div class=\"lev3\"><a href=\"#mmc3_uniprot_df\"><span class=\"toc-item-num\">4.3.1&nbsp;&nbsp;</span>mmc3_uniprot_df</a></div><div class=\"lev3\"><a href=\"#mmc3_uniprot_df_good\"><span class=\"toc-item-num\">4.3.2&nbsp;&nbsp;</span>mmc3_uniprot_df_good</a></div><div class=\"lev3\"><a href=\"#Merge-back\"><span class=\"toc-item-num\">4.3.3&nbsp;&nbsp;</span>Merge back</a></div><div class=\"lev1\"><a href=\"#Combine-datasets\"><span class=\"toc-item-num\">5&nbsp;&nbsp;</span>Combine datasets</a></div><div class=\"lev3\"><a href=\"#uniprot_interface_mutation_df\"><span class=\"toc-item-num\">5.0.1&nbsp;&nbsp;</span>uniprot_interface_mutation_df</a></div>"
   ]
  },
  {
   "cell_type": "markdown",
   "metadata": {
    "run_control": {
     "marked": false
    }
   },
   "source": [
    "# Summary\n",
    "\n",
    "Process the Taipale dataset.\n",
    "\n",
    "Link to paper: http://www.sciencedirect.com/science/article/pii/S0092867415004304\n",
    "\n",
    "----"
   ]
  },
  {
   "cell_type": "markdown",
   "metadata": {
    "run_control": {
     "marked": false
    }
   },
   "source": [
    "# Imports"
   ]
  },
  {
   "cell_type": "code",
   "execution_count": 3,
   "metadata": {
    "code_folding": [
     0
    ],
    "collapsed": false,
    "hide_input": false,
    "run_control": {
     "marked": false
    }
   },
   "outputs": [
    {
     "name": "stdout",
     "output_type": "stream",
     "text": [
      "The autoreload extension is already loaded. To reload it, use:\n",
      "  %reload_ext autoreload\n",
      "2016-07-15 15:38:41.123936\n"
     ]
    }
   ],
   "source": [
    "%run imports.ipynb"
   ]
  },
  {
   "cell_type": "code",
   "execution_count": 4,
   "metadata": {
    "collapsed": false,
    "run_control": {
     "marked": false
    }
   },
   "outputs": [],
   "source": [
    "NOTEBOOK_NAME = 'taipale'\n",
    "os.makedirs(NOTEBOOK_NAME, exist_ok=True)\n",
    "os.environ['NOTEBOOK_NAME'] = NOTEBOOK_NAME\n",
    "\n",
    "os.environ['DB_PORT'] = '8308'"
   ]
  },
  {
   "cell_type": "code",
   "execution_count": 6,
   "metadata": {
    "collapsed": false
   },
   "outputs": [
    {
     "name": "stdout",
     "output_type": "stream",
     "text": [
      "The autoreload extension is already loaded. To reload it, use:\n",
      "  %reload_ext autoreload\n",
      "2016-07-15 15:41:39.896144\n"
     ]
    }
   ],
   "source": [
    "%run mysqld.ipynb"
   ]
  },
  {
   "cell_type": "code",
   "execution_count": 7,
   "metadata": {
    "collapsed": true
   },
   "outputs": [],
   "source": [
    "# Start a database connection\n",
    "db_remote = datapkg.MySQL(\n",
    "    os.environ['DATAPKG_CONNECTION_STR'] + '/staging', \n",
    "    shared_folder=os.environ['NOTEBOOK_NAME'],\n",
    "    storage_host=None,\n",
    "    echo=False,\n",
    "    db_engine='MyISAM'\n",
    ")"
   ]
  },
  {
   "cell_type": "markdown",
   "metadata": {
    "run_control": {
     "marked": false
    }
   },
   "source": [
    "\n",
    "# Load data\n",
    "\n",
    "Table S3. Protein-Protein Interaction Profiles and Orthogonal GPCA Validation, Related to Figure 4.  \n",
    "\n",
    "**Table 1**:\n",
    "\n",
    "> Protein-protein interaction (PPI) scores, listing all interactions tested in Y2H and mutation-specific perturbations. In the “Allele_ID” column, “_0” represents wild-type proteins. For “Y2H_score,” “1” denotes positive interactions, while “0” denotes no or negative interactions. “Interactor_Gene_ID” denotes the Entrez ID for the interaction partner gene. “in Rolland et al” indicates if a given PPI was tested (denoted by “1”) in the dataset (Rolland et al., 2014) or not (denoted by “0”).\n",
    "\n",
    "\n",
    "**Table 2**:\n",
    "\n",
    "> In vivo GPCA scores for PPI validation.\n",
    "\n",
    "\n",
    "**Table 3**:\n",
    "\n",
    "> Edgotype classification for all the mutations/variants based on their PPI profiles. Mutations/alleles with 1 or more interaction partners in the corresponding wild-type proteins are all included.\n"
   ]
  },
  {
   "cell_type": "code",
   "execution_count": 5,
   "metadata": {
    "code_folding": [],
    "collapsed": false,
    "run_control": {
     "marked": false
    }
   },
   "outputs": [
    {
     "name": "stdout",
     "output_type": "stream",
     "text": [
      "Table S3A : (2261, 10)\n",
      "Table S3B : (858, 12)\n",
      "Table S3C : (527, 7)\n"
     ]
    }
   ],
   "source": [
    "# Load tables\n",
    "mmc3_table1_df = local.load_taipale_mmc3('Table S3A')\n",
    "mmc3_table2_df = local.load_taipale_mmc3('Table S3B')\n",
    "mmc3_table3_df = local.load_taipale_mmc3('Table S3C')"
   ]
  },
  {
   "cell_type": "code",
   "execution_count": 6,
   "metadata": {
    "collapsed": false,
    "run_control": {
     "marked": false
    }
   },
   "outputs": [
    {
     "data": {
      "text/html": [
       "<div>\n",
       "<table border=\"1\" class=\"dataframe\">\n",
       "  <thead>\n",
       "    <tr style=\"text-align: right;\">\n",
       "      <th></th>\n",
       "      <th>Category</th>\n",
       "      <th>Symbol</th>\n",
       "      <th>Entrez_Gene_ID</th>\n",
       "      <th>Allele_ID</th>\n",
       "      <th>Mutation_RefSeq_NT</th>\n",
       "      <th>Mutation_RefSeq_AA</th>\n",
       "      <th>Interactor_symbol</th>\n",
       "      <th>Interactor_Gene_ID</th>\n",
       "      <th>Y2H_score</th>\n",
       "      <th>In_Rolland_et_al</th>\n",
       "      <th>refseq_base_id</th>\n",
       "      <th>refseq_mutation</th>\n",
       "      <th>refseq_mutation_pos</th>\n",
       "    </tr>\n",
       "  </thead>\n",
       "  <tbody>\n",
       "    <tr>\n",
       "      <th>0</th>\n",
       "      <td>Wild-type</td>\n",
       "      <td>AANAT</td>\n",
       "      <td>15</td>\n",
       "      <td>15_0</td>\n",
       "      <td>NaN</td>\n",
       "      <td>NaN</td>\n",
       "      <td>BHLHE40</td>\n",
       "      <td>8553</td>\n",
       "      <td>1</td>\n",
       "      <td>1</td>\n",
       "      <td>NaN</td>\n",
       "      <td>NaN</td>\n",
       "      <td>NaN</td>\n",
       "    </tr>\n",
       "    <tr>\n",
       "      <th>1</th>\n",
       "      <td>Wild-type</td>\n",
       "      <td>AANAT</td>\n",
       "      <td>15</td>\n",
       "      <td>15_0</td>\n",
       "      <td>NaN</td>\n",
       "      <td>NaN</td>\n",
       "      <td>MDFI</td>\n",
       "      <td>4188</td>\n",
       "      <td>1</td>\n",
       "      <td>1</td>\n",
       "      <td>NaN</td>\n",
       "      <td>NaN</td>\n",
       "      <td>NaN</td>\n",
       "    </tr>\n",
       "  </tbody>\n",
       "</table>\n",
       "</div>"
      ],
      "text/plain": [
       "    Category Symbol  Entrez_Gene_ID Allele_ID Mutation_RefSeq_NT Mutation_RefSeq_AA Interactor_symbol  Interactor_Gene_ID  Y2H_score  In_Rolland_et_al refseq_base_id refseq_mutation  refseq_mutation_pos\n",
       "0  Wild-type  AANAT              15      15_0                NaN                NaN           BHLHE40                8553          1                 1            NaN             NaN                  NaN\n",
       "1  Wild-type  AANAT              15      15_0                NaN                NaN              MDFI                4188          1                 1            NaN             NaN                  NaN"
      ]
     },
     "metadata": {},
     "output_type": "display_data"
    },
    {
     "name": "stdout",
     "output_type": "stream",
     "text": [
      "2261\n"
     ]
    }
   ],
   "source": [
    "display(mmc3_table1_df.head(2))\n",
    "print(mmc3_table1_df.shape[0])"
   ]
  },
  {
   "cell_type": "code",
   "execution_count": 7,
   "metadata": {
    "collapsed": false,
    "run_control": {
     "marked": false
    }
   },
   "outputs": [
    {
     "data": {
      "text/html": [
       "<div>\n",
       "<table border=\"1\" class=\"dataframe\">\n",
       "  <thead>\n",
       "    <tr style=\"text-align: right;\">\n",
       "      <th></th>\n",
       "      <th>Category</th>\n",
       "      <th>Symbol</th>\n",
       "      <th>Entrez_Gene_ID</th>\n",
       "      <th>Allele_ID</th>\n",
       "      <th>Mutation_RefSeq_NT</th>\n",
       "      <th>Mutation_RefSeq_AA</th>\n",
       "      <th>Interactor_symbol</th>\n",
       "      <th>Interactor_Gene_ID</th>\n",
       "      <th>Interaction_category</th>\n",
       "      <th>GPCA_score1</th>\n",
       "      <th>GPCA_score2</th>\n",
       "      <th>GPCA_average_score</th>\n",
       "      <th>refseq_base_id</th>\n",
       "      <th>refseq_mutation</th>\n",
       "      <th>refseq_mutation_pos</th>\n",
       "    </tr>\n",
       "  </thead>\n",
       "  <tbody>\n",
       "    <tr>\n",
       "      <th>0</th>\n",
       "      <td>Wild-type</td>\n",
       "      <td>AANAT</td>\n",
       "      <td>15</td>\n",
       "      <td>15_0</td>\n",
       "      <td>NaN</td>\n",
       "      <td>NaN</td>\n",
       "      <td>MDFI</td>\n",
       "      <td>4188</td>\n",
       "      <td>Y2H_positive</td>\n",
       "      <td>4.040826</td>\n",
       "      <td>4.698746</td>\n",
       "      <td>4.369786</td>\n",
       "      <td>NaN</td>\n",
       "      <td>NaN</td>\n",
       "      <td>NaN</td>\n",
       "    </tr>\n",
       "    <tr>\n",
       "      <th>1</th>\n",
       "      <td>Wild-type</td>\n",
       "      <td>AANAT</td>\n",
       "      <td>15</td>\n",
       "      <td>15_0</td>\n",
       "      <td>NaN</td>\n",
       "      <td>NaN</td>\n",
       "      <td>BHLHE40</td>\n",
       "      <td>8553</td>\n",
       "      <td>Y2H_positive</td>\n",
       "      <td>-1.458909</td>\n",
       "      <td>-1.131614</td>\n",
       "      <td>-1.295262</td>\n",
       "      <td>NaN</td>\n",
       "      <td>NaN</td>\n",
       "      <td>NaN</td>\n",
       "    </tr>\n",
       "  </tbody>\n",
       "</table>\n",
       "</div>"
      ],
      "text/plain": [
       "    Category Symbol  Entrez_Gene_ID Allele_ID Mutation_RefSeq_NT Mutation_RefSeq_AA Interactor_symbol  Interactor_Gene_ID Interaction_category  GPCA_score1  GPCA_score2  GPCA_average_score refseq_base_id refseq_mutation  refseq_mutation_pos\n",
       "0  Wild-type  AANAT              15      15_0                NaN                NaN              MDFI                4188         Y2H_positive     4.040826     4.698746            4.369786            NaN             NaN                  NaN\n",
       "1  Wild-type  AANAT              15      15_0                NaN                NaN           BHLHE40                8553         Y2H_positive    -1.458909    -1.131614           -1.295262            NaN             NaN                  NaN"
      ]
     },
     "metadata": {},
     "output_type": "display_data"
    },
    {
     "name": "stdout",
     "output_type": "stream",
     "text": [
      "858\n"
     ]
    }
   ],
   "source": [
    "display(mmc3_table2_df.head(2))\n",
    "print(mmc3_table2_df.shape[0])"
   ]
  },
  {
   "cell_type": "code",
   "execution_count": 8,
   "metadata": {
    "collapsed": false,
    "run_control": {
     "marked": false
    }
   },
   "outputs": [
    {
     "data": {
      "text/html": [
       "<div>\n",
       "<table border=\"1\" class=\"dataframe\">\n",
       "  <thead>\n",
       "    <tr style=\"text-align: right;\">\n",
       "      <th></th>\n",
       "      <th>Category</th>\n",
       "      <th>Symbol</th>\n",
       "      <th>Entrez_Gene_ID</th>\n",
       "      <th>Allele_ID</th>\n",
       "      <th>Mutation_RefSeq_NT</th>\n",
       "      <th>Mutation_RefSeq_AA</th>\n",
       "      <th>Edgotype_class</th>\n",
       "      <th>refseq_base_id</th>\n",
       "      <th>refseq_mutation</th>\n",
       "      <th>refseq_mutation_pos</th>\n",
       "    </tr>\n",
       "  </thead>\n",
       "  <tbody>\n",
       "    <tr>\n",
       "      <th>0</th>\n",
       "      <td>Disease mutation</td>\n",
       "      <td>AANAT</td>\n",
       "      <td>15</td>\n",
       "      <td>15_22963</td>\n",
       "      <td>NM_001088:c.385G&gt;A</td>\n",
       "      <td>NP_001079:p.A129T</td>\n",
       "      <td>Edgetic</td>\n",
       "      <td>NP_001079</td>\n",
       "      <td>A129T</td>\n",
       "      <td>129</td>\n",
       "    </tr>\n",
       "    <tr>\n",
       "      <th>1</th>\n",
       "      <td>Non-disease variant</td>\n",
       "      <td>AANAT</td>\n",
       "      <td>15</td>\n",
       "      <td>15_900207</td>\n",
       "      <td>NM_001088:c.8C&gt;T</td>\n",
       "      <td>NP_001079:p.T3M</td>\n",
       "      <td>Quasi-wild-type</td>\n",
       "      <td>NP_001079</td>\n",
       "      <td>T3M</td>\n",
       "      <td>3</td>\n",
       "    </tr>\n",
       "  </tbody>\n",
       "</table>\n",
       "</div>"
      ],
      "text/plain": [
       "              Category Symbol  Entrez_Gene_ID  Allele_ID  Mutation_RefSeq_NT Mutation_RefSeq_AA   Edgotype_class refseq_base_id refseq_mutation  refseq_mutation_pos\n",
       "0     Disease mutation  AANAT              15   15_22963  NM_001088:c.385G>A  NP_001079:p.A129T          Edgetic      NP_001079           A129T                  129\n",
       "1  Non-disease variant  AANAT              15  15_900207    NM_001088:c.8C>T    NP_001079:p.T3M  Quasi-wild-type      NP_001079             T3M                    3"
      ]
     },
     "metadata": {},
     "output_type": "display_data"
    },
    {
     "name": "stdout",
     "output_type": "stream",
     "text": [
      "527\n"
     ]
    }
   ],
   "source": [
    "display(mmc3_table3_df.head(2))\n",
    "print(mmc3_table3_df.shape[0])"
   ]
  },
  {
   "cell_type": "markdown",
   "metadata": {},
   "source": [
    "# Map to UniProt"
   ]
  },
  {
   "cell_type": "markdown",
   "metadata": {
    "run_control": {
     "marked": false
    }
   },
   "source": [
    "## Construct RefSeq / UniProt maps"
   ]
  },
  {
   "cell_type": "code",
   "execution_count": 9,
   "metadata": {
    "code_folding": [],
    "collapsed": false,
    "run_control": {
     "marked": false
    }
   },
   "outputs": [
    {
     "data": {
      "text/html": [
       "<div>\n",
       "<table border=\"1\" class=\"dataframe\">\n",
       "  <thead>\n",
       "    <tr style=\"text-align: right;\">\n",
       "      <th></th>\n",
       "      <th>Symbol</th>\n",
       "      <th>refseq_base</th>\n",
       "    </tr>\n",
       "  </thead>\n",
       "  <tbody>\n",
       "    <tr>\n",
       "      <th>0</th>\n",
       "      <td>AANAT</td>\n",
       "      <td>NP_001079</td>\n",
       "    </tr>\n",
       "    <tr>\n",
       "      <th>1</th>\n",
       "      <td>ACTB</td>\n",
       "      <td>NP_001092</td>\n",
       "    </tr>\n",
       "    <tr>\n",
       "      <th>2</th>\n",
       "      <td>ACTG1</td>\n",
       "      <td>NP_001605</td>\n",
       "    </tr>\n",
       "    <tr>\n",
       "      <th>3</th>\n",
       "      <td>ACTN2</td>\n",
       "      <td>NP_001094</td>\n",
       "    </tr>\n",
       "    <tr>\n",
       "      <th>4</th>\n",
       "      <td>ACTN4</td>\n",
       "      <td>NP_004915</td>\n",
       "    </tr>\n",
       "  </tbody>\n",
       "</table>\n",
       "</div>"
      ],
      "text/plain": [
       "  Symbol refseq_base\n",
       "0  AANAT   NP_001079\n",
       "1   ACTB   NP_001092\n",
       "2  ACTG1   NP_001605\n",
       "3  ACTN2   NP_001094\n",
       "4  ACTN4   NP_004915"
      ]
     },
     "metadata": {},
     "output_type": "display_data"
    },
    {
     "name": "stdout",
     "output_type": "stream",
     "text": [
      "223\n"
     ]
    },
    {
     "data": {
      "text/html": [
       "<div>\n",
       "<table border=\"1\" class=\"dataframe\">\n",
       "  <thead>\n",
       "    <tr style=\"text-align: right;\">\n",
       "      <th></th>\n",
       "      <th>identifier_id</th>\n",
       "      <th>uniprot_id</th>\n",
       "    </tr>\n",
       "  </thead>\n",
       "  <tbody>\n",
       "    <tr>\n",
       "      <th>0</th>\n",
       "      <td>10016</td>\n",
       "      <td>O75340</td>\n",
       "    </tr>\n",
       "    <tr>\n",
       "      <th>1</th>\n",
       "      <td>10016</td>\n",
       "      <td>Q53FC3</td>\n",
       "    </tr>\n",
       "    <tr>\n",
       "      <th>2</th>\n",
       "      <td>100288797</td>\n",
       "      <td>Q8WW34</td>\n",
       "    </tr>\n",
       "    <tr>\n",
       "      <th>3</th>\n",
       "      <td>10062</td>\n",
       "      <td>B4DXU5</td>\n",
       "    </tr>\n",
       "    <tr>\n",
       "      <th>4</th>\n",
       "      <td>10062</td>\n",
       "      <td>F1D8N1</td>\n",
       "    </tr>\n",
       "  </tbody>\n",
       "</table>\n",
       "</div>"
      ],
      "text/plain": [
       "   identifier_id uniprot_id\n",
       "0          10016     O75340\n",
       "1          10016     Q53FC3\n",
       "2      100288797     Q8WW34\n",
       "3          10062     B4DXU5\n",
       "4          10062     F1D8N1"
      ]
     },
     "metadata": {},
     "output_type": "display_data"
    },
    {
     "name": "stdout",
     "output_type": "stream",
     "text": [
      "1376\n"
     ]
    }
   ],
   "source": [
    "# Create disctionaries for converting gene symbol to refseq / uniprot id\n",
    "# (`gene_id_to_uniprot` only works for the partner UniProt ID!)\n",
    "gene_symbol_to_refseq_1, gene_id_to_uniprot_1 = local.get_conversion_tables(mmc3_table1_df)\n",
    "gene_symbol_to_refseq_2, gene_id_to_uniprot_2 = local.get_conversion_tables(mmc3_table2_df)\n",
    "\n",
    "gene_symbol_to_refseq = pd.concat(\n",
    "    [gene_symbol_to_refseq_1, gene_symbol_to_refseq_2],\n",
    "    ignore_index=True).drop_duplicates()\n",
    "gene_id_to_uniprot = pd.concat(\n",
    "    [gene_id_to_uniprot_1, gene_id_to_uniprot_2],\n",
    "    ignore_index=True).drop_duplicates()\n",
    "\n",
    "display(gene_symbol_to_refseq.head())\n",
    "print(gene_symbol_to_refseq.shape[0])\n",
    "\n",
    "display(gene_id_to_uniprot.head())\n",
    "print(gene_id_to_uniprot.shape[0])"
   ]
  },
  {
   "cell_type": "markdown",
   "metadata": {
    "run_control": {
     "marked": false
    }
   },
   "source": [
    "## Apply RefSeq / UniProt maps"
   ]
  },
  {
   "cell_type": "code",
   "execution_count": 10,
   "metadata": {
    "code_folding": [],
    "collapsed": false,
    "run_control": {
     "marked": false
    }
   },
   "outputs": [
    {
     "data": {
      "text/html": [
       "<h3>Table 1:"
      ],
      "text/plain": [
       "<IPython.core.display.HTML object>"
      ]
     },
     "metadata": {},
     "output_type": "display_data"
    },
    {
     "data": {
      "text/html": [
       "<h4>After merging:"
      ],
      "text/plain": [
       "<IPython.core.display.HTML object>"
      ]
     },
     "metadata": {},
     "output_type": "display_data"
    },
    {
     "name": "stdout",
     "output_type": "stream",
     "text": [
      "All rows:                                                   (3299, 15)\n",
      "Unique interfaces / mutations:                              (1633, 3) <--\n",
      "Unique interfaces / mutations mapped to uniprot:            (1633, 3)\n",
      "Unique interfaces / mutations mapped to uniprot and refseq: (1633, 3)\n"
     ]
    },
    {
     "data": {
      "text/html": [
       "<h4>After processing:"
      ],
      "text/plain": [
       "<IPython.core.display.HTML object>"
      ]
     },
     "metadata": {},
     "output_type": "display_data"
    },
    {
     "name": "stdout",
     "output_type": "stream",
     "text": [
      "All rows:                                                   (3284, 15)\n",
      "Unique interfaces / mutations:                              (1633, 3) <--\n",
      "Unique interfaces / mutations mapped to uniprot:            (1633, 3)\n",
      "Unique interfaces / mutations mapped to uniprot and refseq: (1633, 3)\n"
     ]
    },
    {
     "data": {
      "text/html": [
       "<div>\n",
       "<table border=\"1\" class=\"dataframe\">\n",
       "  <thead>\n",
       "    <tr style=\"text-align: right;\">\n",
       "      <th></th>\n",
       "      <th>Category</th>\n",
       "      <th>Symbol</th>\n",
       "      <th>Entrez_Gene_ID</th>\n",
       "      <th>Allele_ID</th>\n",
       "      <th>Mutation_RefSeq_NT</th>\n",
       "      <th>Mutation_RefSeq_AA</th>\n",
       "      <th>Interactor_symbol</th>\n",
       "      <th>Interactor_Gene_ID</th>\n",
       "      <th>Y2H_score</th>\n",
       "      <th>In_Rolland_et_al</th>\n",
       "      <th>refseq_base_id</th>\n",
       "      <th>refseq_mutation</th>\n",
       "      <th>refseq_mutation_pos</th>\n",
       "      <th>refseq_base_id_1</th>\n",
       "      <th>uniprot_id_2</th>\n",
       "    </tr>\n",
       "  </thead>\n",
       "  <tbody>\n",
       "    <tr>\n",
       "      <th>0</th>\n",
       "      <td>Wild-type</td>\n",
       "      <td>AANAT</td>\n",
       "      <td>15</td>\n",
       "      <td>15_0</td>\n",
       "      <td>NaN</td>\n",
       "      <td>NaN</td>\n",
       "      <td>BHLHE40</td>\n",
       "      <td>8553</td>\n",
       "      <td>1</td>\n",
       "      <td>1</td>\n",
       "      <td>NaN</td>\n",
       "      <td>NaN</td>\n",
       "      <td>NaN</td>\n",
       "      <td>NP_001079</td>\n",
       "      <td>O14503</td>\n",
       "    </tr>\n",
       "    <tr>\n",
       "      <th>1</th>\n",
       "      <td>Wild-type</td>\n",
       "      <td>AANAT</td>\n",
       "      <td>15</td>\n",
       "      <td>15_0</td>\n",
       "      <td>NaN</td>\n",
       "      <td>NaN</td>\n",
       "      <td>BHLHE40</td>\n",
       "      <td>8553</td>\n",
       "      <td>1</td>\n",
       "      <td>1</td>\n",
       "      <td>NaN</td>\n",
       "      <td>NaN</td>\n",
       "      <td>NaN</td>\n",
       "      <td>NP_001079</td>\n",
       "      <td>Q6IB83</td>\n",
       "    </tr>\n",
       "    <tr>\n",
       "      <th>2</th>\n",
       "      <td>Wild-type</td>\n",
       "      <td>AANAT</td>\n",
       "      <td>15</td>\n",
       "      <td>15_0</td>\n",
       "      <td>NaN</td>\n",
       "      <td>NaN</td>\n",
       "      <td>MDFI</td>\n",
       "      <td>4188</td>\n",
       "      <td>1</td>\n",
       "      <td>1</td>\n",
       "      <td>NaN</td>\n",
       "      <td>NaN</td>\n",
       "      <td>NaN</td>\n",
       "      <td>NP_001079</td>\n",
       "      <td>B1AKB6</td>\n",
       "    </tr>\n",
       "    <tr>\n",
       "      <th>3</th>\n",
       "      <td>Wild-type</td>\n",
       "      <td>AANAT</td>\n",
       "      <td>15</td>\n",
       "      <td>15_0</td>\n",
       "      <td>NaN</td>\n",
       "      <td>NaN</td>\n",
       "      <td>MDFI</td>\n",
       "      <td>4188</td>\n",
       "      <td>1</td>\n",
       "      <td>1</td>\n",
       "      <td>NaN</td>\n",
       "      <td>NaN</td>\n",
       "      <td>NaN</td>\n",
       "      <td>NP_001079</td>\n",
       "      <td>Q99750</td>\n",
       "    </tr>\n",
       "  </tbody>\n",
       "</table>\n",
       "</div>"
      ],
      "text/plain": [
       "    Category Symbol  Entrez_Gene_ID Allele_ID Mutation_RefSeq_NT Mutation_RefSeq_AA Interactor_symbol  Interactor_Gene_ID  Y2H_score  In_Rolland_et_al refseq_base_id refseq_mutation  refseq_mutation_pos refseq_base_id_1 uniprot_id_2\n",
       "0  Wild-type  AANAT              15      15_0                NaN                NaN           BHLHE40                8553          1                 1            NaN             NaN                  NaN        NP_001079       O14503\n",
       "1  Wild-type  AANAT              15      15_0                NaN                NaN           BHLHE40                8553          1                 1            NaN             NaN                  NaN        NP_001079       Q6IB83\n",
       "2  Wild-type  AANAT              15      15_0                NaN                NaN              MDFI                4188          1                 1            NaN             NaN                  NaN        NP_001079       B1AKB6\n",
       "3  Wild-type  AANAT              15      15_0                NaN                NaN              MDFI                4188          1                 1            NaN             NaN                  NaN        NP_001079       Q99750"
      ]
     },
     "metadata": {},
     "output_type": "display_data"
    },
    {
     "data": {
      "text/html": [
       "<h3>Table 2:"
      ],
      "text/plain": [
       "<IPython.core.display.HTML object>"
      ]
     },
     "metadata": {},
     "output_type": "display_data"
    },
    {
     "data": {
      "text/html": [
       "<h4>After merging:"
      ],
      "text/plain": [
       "<IPython.core.display.HTML object>"
      ]
     },
     "metadata": {},
     "output_type": "display_data"
    },
    {
     "name": "stdout",
     "output_type": "stream",
     "text": [
      "All rows:                                                   (1323, 17)\n",
      "Unique interfaces / mutations:                              (492, 3) <--\n",
      "Unique interfaces / mutations mapped to uniprot:            (492, 3)\n",
      "Unique interfaces / mutations mapped to uniprot and refseq: (492, 3)\n"
     ]
    },
    {
     "data": {
      "text/html": [
       "<h4>After processing:"
      ],
      "text/plain": [
       "<IPython.core.display.HTML object>"
      ]
     },
     "metadata": {},
     "output_type": "display_data"
    },
    {
     "name": "stdout",
     "output_type": "stream",
     "text": [
      "All rows:                                                   (1323, 17)\n",
      "Unique interfaces / mutations:                              (492, 3) <--\n",
      "Unique interfaces / mutations mapped to uniprot:            (492, 3)\n",
      "Unique interfaces / mutations mapped to uniprot and refseq: (492, 3)\n"
     ]
    },
    {
     "data": {
      "text/html": [
       "<div>\n",
       "<table border=\"1\" class=\"dataframe\">\n",
       "  <thead>\n",
       "    <tr style=\"text-align: right;\">\n",
       "      <th></th>\n",
       "      <th>Category</th>\n",
       "      <th>Symbol</th>\n",
       "      <th>Entrez_Gene_ID</th>\n",
       "      <th>Allele_ID</th>\n",
       "      <th>Mutation_RefSeq_NT</th>\n",
       "      <th>Mutation_RefSeq_AA</th>\n",
       "      <th>Interactor_symbol</th>\n",
       "      <th>Interactor_Gene_ID</th>\n",
       "      <th>Interaction_category</th>\n",
       "      <th>GPCA_score1</th>\n",
       "      <th>GPCA_score2</th>\n",
       "      <th>GPCA_average_score</th>\n",
       "      <th>refseq_base_id</th>\n",
       "      <th>refseq_mutation</th>\n",
       "      <th>refseq_mutation_pos</th>\n",
       "      <th>refseq_base_id_1</th>\n",
       "      <th>uniprot_id_2</th>\n",
       "    </tr>\n",
       "  </thead>\n",
       "  <tbody>\n",
       "    <tr>\n",
       "      <th>0</th>\n",
       "      <td>Wild-type</td>\n",
       "      <td>AANAT</td>\n",
       "      <td>15</td>\n",
       "      <td>15_0</td>\n",
       "      <td>NaN</td>\n",
       "      <td>NaN</td>\n",
       "      <td>MDFI</td>\n",
       "      <td>4188</td>\n",
       "      <td>Y2H_positive</td>\n",
       "      <td>4.040826</td>\n",
       "      <td>4.698746</td>\n",
       "      <td>4.369786</td>\n",
       "      <td>NaN</td>\n",
       "      <td>NaN</td>\n",
       "      <td>NaN</td>\n",
       "      <td>NP_001079</td>\n",
       "      <td>B1AKB6</td>\n",
       "    </tr>\n",
       "    <tr>\n",
       "      <th>1</th>\n",
       "      <td>Wild-type</td>\n",
       "      <td>AANAT</td>\n",
       "      <td>15</td>\n",
       "      <td>15_0</td>\n",
       "      <td>NaN</td>\n",
       "      <td>NaN</td>\n",
       "      <td>MDFI</td>\n",
       "      <td>4188</td>\n",
       "      <td>Y2H_positive</td>\n",
       "      <td>4.040826</td>\n",
       "      <td>4.698746</td>\n",
       "      <td>4.369786</td>\n",
       "      <td>NaN</td>\n",
       "      <td>NaN</td>\n",
       "      <td>NaN</td>\n",
       "      <td>NP_001079</td>\n",
       "      <td>Q99750</td>\n",
       "    </tr>\n",
       "    <tr>\n",
       "      <th>2</th>\n",
       "      <td>Wild-type</td>\n",
       "      <td>AANAT</td>\n",
       "      <td>15</td>\n",
       "      <td>15_0</td>\n",
       "      <td>NaN</td>\n",
       "      <td>NaN</td>\n",
       "      <td>BHLHE40</td>\n",
       "      <td>8553</td>\n",
       "      <td>Y2H_positive</td>\n",
       "      <td>-1.458909</td>\n",
       "      <td>-1.131614</td>\n",
       "      <td>-1.295262</td>\n",
       "      <td>NaN</td>\n",
       "      <td>NaN</td>\n",
       "      <td>NaN</td>\n",
       "      <td>NP_001079</td>\n",
       "      <td>O14503</td>\n",
       "    </tr>\n",
       "    <tr>\n",
       "      <th>3</th>\n",
       "      <td>Wild-type</td>\n",
       "      <td>AANAT</td>\n",
       "      <td>15</td>\n",
       "      <td>15_0</td>\n",
       "      <td>NaN</td>\n",
       "      <td>NaN</td>\n",
       "      <td>BHLHE40</td>\n",
       "      <td>8553</td>\n",
       "      <td>Y2H_positive</td>\n",
       "      <td>-1.458909</td>\n",
       "      <td>-1.131614</td>\n",
       "      <td>-1.295262</td>\n",
       "      <td>NaN</td>\n",
       "      <td>NaN</td>\n",
       "      <td>NaN</td>\n",
       "      <td>NP_001079</td>\n",
       "      <td>Q6IB83</td>\n",
       "    </tr>\n",
       "  </tbody>\n",
       "</table>\n",
       "</div>"
      ],
      "text/plain": [
       "    Category Symbol  Entrez_Gene_ID Allele_ID Mutation_RefSeq_NT Mutation_RefSeq_AA Interactor_symbol  Interactor_Gene_ID Interaction_category  GPCA_score1  GPCA_score2  GPCA_average_score refseq_base_id refseq_mutation  refseq_mutation_pos refseq_base_id_1 uniprot_id_2\n",
       "0  Wild-type  AANAT              15      15_0                NaN                NaN              MDFI                4188         Y2H_positive     4.040826     4.698746            4.369786            NaN             NaN                  NaN        NP_001079       B1AKB6\n",
       "1  Wild-type  AANAT              15      15_0                NaN                NaN              MDFI                4188         Y2H_positive     4.040826     4.698746            4.369786            NaN             NaN                  NaN        NP_001079       Q99750\n",
       "2  Wild-type  AANAT              15      15_0                NaN                NaN           BHLHE40                8553         Y2H_positive    -1.458909    -1.131614           -1.295262            NaN             NaN                  NaN        NP_001079       O14503\n",
       "3  Wild-type  AANAT              15      15_0                NaN                NaN           BHLHE40                8553         Y2H_positive    -1.458909    -1.131614           -1.295262            NaN             NaN                  NaN        NP_001079       Q6IB83"
      ]
     },
     "metadata": {},
     "output_type": "display_data"
    }
   ],
   "source": [
    "# Covert gene symbol to refseq id (does not work for some partner proteins where we have never seen the refseq id.)\n",
    "display(HTML('<h3>Table 1:'))\n",
    "mmc3_table1_df2 = local.convert_interacting_partner(mmc3_table1_df, gene_symbol_to_refseq, gene_id_to_uniprot)\n",
    "display(HTML('<h3>Table 2:'))\n",
    "mmc3_table2_df2 = local.convert_interacting_partner(mmc3_table2_df, gene_symbol_to_refseq, gene_id_to_uniprot)"
   ]
  },
  {
   "cell_type": "code",
   "execution_count": 11,
   "metadata": {
    "collapsed": false
   },
   "outputs": [
    {
     "data": {
      "text/plain": [
       "(528, 15)"
      ]
     },
     "execution_count": 11,
     "metadata": {},
     "output_type": "execute_result"
    }
   ],
   "source": [
    "mmc3_table1_df2.drop_duplicates(['refseq_base_id', 'refseq_mutation']).shape"
   ]
  },
  {
   "cell_type": "markdown",
   "metadata": {
    "run_control": {
     "marked": false
    }
   },
   "source": [
    "## Convert to UniProt mutations"
   ]
  },
  {
   "cell_type": "markdown",
   "metadata": {
    "code_folding": [
     0
    ],
    "run_control": {
     "marked": false
    }
   },
   "source": [
    "### mmc3_uniprot_df"
   ]
  },
  {
   "cell_type": "code",
   "execution_count": 12,
   "metadata": {
    "collapsed": false,
    "run_control": {
     "marked": false
    }
   },
   "outputs": [],
   "source": [
    "# Create a temporary table in the database (`staging`.`taipale_mmc3`)\n",
    "data_to_upload = (\n",
    "    pd.concat(\n",
    "        [mmc3_table1_df2[['refseq_base_id', 'refseq_mutation', 'refseq_mutation_pos']],\n",
    "         mmc3_table2_df2[['refseq_base_id', 'refseq_mutation', 'refseq_mutation_pos']]],\n",
    "        ignore_index=True\n",
    "    )\n",
    "    .dropna()\n",
    "    .drop_duplicates()\n",
    ")"
   ]
  },
  {
   "cell_type": "code",
   "execution_count": 13,
   "metadata": {
    "code_folding": [],
    "collapsed": false,
    "run_control": {
     "marked": false
    }
   },
   "outputs": [
    {
     "name": "stdout",
     "output_type": "stream",
     "text": [
      "Mutations from 'mmc3_table1_df2':                           (528, 3)\n",
      "Mutations from 'mmc3_table2_df2':                           (111, 3)\n",
      "Combined:                                                   (527, 3)\n"
     ]
    }
   ],
   "source": [
    "# Print stats\n",
    "print2(\n",
    "    \"Mutations from 'mmc3_table1_df2':\", \n",
    "    mmc3_table1_df2[['refseq_base_id', 'refseq_mutation', 'refseq_mutation_pos']].drop_duplicates().shape)\n",
    "print2(\n",
    "    \"Mutations from 'mmc3_table2_df2':\",\n",
    "    mmc3_table2_df2[['refseq_base_id', 'refseq_mutation', 'refseq_mutation_pos']].drop_duplicates().shape)\n",
    "print2(\n",
    "    \"Combined:\", \n",
    "    data_to_upload.shape)"
   ]
  },
  {
   "cell_type": "code",
   "execution_count": 14,
   "metadata": {
    "collapsed": true,
    "run_control": {
     "marked": false
    }
   },
   "outputs": [],
   "source": [
    "data_to_upload.to_sql('taipale_mmc3', db_remote.engine, schema='staging', if_exists='replace')"
   ]
  },
  {
   "cell_type": "code",
   "execution_count": 15,
   "metadata": {
    "code_folding": [],
    "collapsed": false,
    "run_control": {
     "marked": false
    }
   },
   "outputs": [],
   "source": [
    "# Convert RefSeq ID and position to UniProt (canonical) ID and position\n",
    "sql_query = \"\"\"\n",
    "SELECT\n",
    "-- RefSeq\n",
    "m.index,\n",
    "m.refseq_base_id,\n",
    "m.refseq_mutation,\n",
    "m.refseq_mutation_pos,\n",
    "ux.active refseq_active,\n",
    "ucuc.uniparc_sequence refseq_sequence,\n",
    "\n",
    "-- UniProt\n",
    "uxc.id uniprot_id,\n",
    "FIND_IN_SET(refseq_mutation_pos, a2b) uniprot_mutation_pos,\n",
    "uxc.active uniprot_active,\n",
    "# Don't use UniParc sequence because it might be different version than ELASPIC\n",
    "us.uniprot_sequence uniprot_sequence\n",
    "\n",
    "FROM staging.taipale_mmc3 m\n",
    "JOIN uniparc_human.uniparc_xref ux ON (ux.type = 'RefSeq' AND ux.id = m.refseq_base_id)\n",
    "JOIN uniparc_human.uniparc2uniparc_canonical_mapping ucuc USING (uniparc_id)\n",
    "JOIN uniparc_human.uniparc_xref uxc ON (uxc.uniparc_id = ucuc.uniparc_canonical_id AND \\\n",
    "                                        uxc.type = 'UniProtKB/Swiss-Prot')\n",
    "JOIN uniprot_kb.uniprot_sequence us ON (us.uniprot_id = uxc.id);\n",
    "\"\"\"\n",
    "mmc3_uniprot_df = pd.read_sql_query(sql_query, db_remote.engine)"
   ]
  },
  {
   "cell_type": "code",
   "execution_count": 16,
   "metadata": {
    "collapsed": true
   },
   "outputs": [],
   "source": [
    "mmc3_uniprot_df.to_pickle(op.join(NOTEBOOK_NAME, 'mmc3_uniprot_df.pkl'))"
   ]
  },
  {
   "cell_type": "code",
   "execution_count": 17,
   "metadata": {
    "collapsed": true,
    "run_control": {
     "marked": false
    }
   },
   "outputs": [],
   "source": [
    "mmc3_uniprot_df_bak = mmc3_uniprot_df.copy()"
   ]
  },
  {
   "cell_type": "markdown",
   "metadata": {},
   "source": [
    "### mmc3_uniprot_df_good"
   ]
  },
  {
   "cell_type": "code",
   "execution_count": 18,
   "metadata": {
    "collapsed": false
   },
   "outputs": [],
   "source": [
    "mmc3_uniprot_df = mmc3_uniprot_df_bak.copy()"
   ]
  },
  {
   "cell_type": "code",
   "execution_count": 19,
   "metadata": {
    "collapsed": false,
    "run_control": {
     "marked": false
    }
   },
   "outputs": [
    {
     "data": {
      "text/html": [
       "<div>\n",
       "<table border=\"1\" class=\"dataframe\">\n",
       "  <thead>\n",
       "    <tr style=\"text-align: right;\">\n",
       "      <th></th>\n",
       "      <th>index</th>\n",
       "      <th>refseq_base_id</th>\n",
       "      <th>refseq_mutation</th>\n",
       "      <th>refseq_mutation_pos</th>\n",
       "      <th>refseq_active</th>\n",
       "      <th>refseq_sequence</th>\n",
       "      <th>uniprot_id</th>\n",
       "      <th>uniprot_mutation_pos</th>\n",
       "      <th>uniprot_active</th>\n",
       "      <th>uniprot_sequence</th>\n",
       "    </tr>\n",
       "  </thead>\n",
       "  <tbody>\n",
       "    <tr>\n",
       "      <th>0</th>\n",
       "      <td>4</td>\n",
       "      <td>NP_001079</td>\n",
       "      <td>A129T</td>\n",
       "      <td>129.0</td>\n",
       "      <td>N</td>\n",
       "      <td>MSTQSTHPLKPEAPRLPPGIPESPSCQRRHTLPASEFRCLTPEDAV...</td>\n",
       "      <td>Q16613</td>\n",
       "      <td>129</td>\n",
       "      <td>Y</td>\n",
       "      <td>MSTQSTHPLKPEAPRLPPGIPESPSCQRRHTLPASEFRCLTPEDAV...</td>\n",
       "    </tr>\n",
       "    <tr>\n",
       "      <th>1</th>\n",
       "      <td>4</td>\n",
       "      <td>NP_001079</td>\n",
       "      <td>A129T</td>\n",
       "      <td>129.0</td>\n",
       "      <td>Y</td>\n",
       "      <td>MSTQSTHPLKPEAPRLPPGIPESPSCQRRHTLPASEFRCLTPEDAV...</td>\n",
       "      <td>Q16613</td>\n",
       "      <td>129</td>\n",
       "      <td>Y</td>\n",
       "      <td>MSTQSTHPLKPEAPRLPPGIPESPSCQRRHTLPASEFRCLTPEDAV...</td>\n",
       "    </tr>\n",
       "    <tr>\n",
       "      <th>2</th>\n",
       "      <td>8</td>\n",
       "      <td>NP_001079</td>\n",
       "      <td>T3M</td>\n",
       "      <td>3.0</td>\n",
       "      <td>N</td>\n",
       "      <td>MSTQSTHPLKPEAPRLPPGIPESPSCQRRHTLPASEFRCLTPEDAV...</td>\n",
       "      <td>Q16613</td>\n",
       "      <td>3</td>\n",
       "      <td>Y</td>\n",
       "      <td>MSTQSTHPLKPEAPRLPPGIPESPSCQRRHTLPASEFRCLTPEDAV...</td>\n",
       "    </tr>\n",
       "    <tr>\n",
       "      <th>3</th>\n",
       "      <td>8</td>\n",
       "      <td>NP_001079</td>\n",
       "      <td>T3M</td>\n",
       "      <td>3.0</td>\n",
       "      <td>Y</td>\n",
       "      <td>MSTQSTHPLKPEAPRLPPGIPESPSCQRRHTLPASEFRCLTPEDAV...</td>\n",
       "      <td>Q16613</td>\n",
       "      <td>3</td>\n",
       "      <td>Y</td>\n",
       "      <td>MSTQSTHPLKPEAPRLPPGIPESPSCQRRHTLPASEFRCLTPEDAV...</td>\n",
       "    </tr>\n",
       "    <tr>\n",
       "      <th>4</th>\n",
       "      <td>19</td>\n",
       "      <td>NP_001092</td>\n",
       "      <td>R183W</td>\n",
       "      <td>183.0</td>\n",
       "      <td>N</td>\n",
       "      <td>MDDDIAALVVDNGSGMCKAGFAGDDAPRAVFPSIVGRPRHQGVMVG...</td>\n",
       "      <td>P60709</td>\n",
       "      <td>183</td>\n",
       "      <td>Y</td>\n",
       "      <td>MDDDIAALVVDNGSGMCKAGFAGDDAPRAVFPSIVGRPRHQGVMVG...</td>\n",
       "    </tr>\n",
       "  </tbody>\n",
       "</table>\n",
       "</div>"
      ],
      "text/plain": [
       "   index refseq_base_id refseq_mutation  refseq_mutation_pos refseq_active                                    refseq_sequence uniprot_id  uniprot_mutation_pos uniprot_active                                   uniprot_sequence\n",
       "0      4      NP_001079           A129T                129.0             N  MSTQSTHPLKPEAPRLPPGIPESPSCQRRHTLPASEFRCLTPEDAV...     Q16613                   129              Y  MSTQSTHPLKPEAPRLPPGIPESPSCQRRHTLPASEFRCLTPEDAV...\n",
       "1      4      NP_001079           A129T                129.0             Y  MSTQSTHPLKPEAPRLPPGIPESPSCQRRHTLPASEFRCLTPEDAV...     Q16613                   129              Y  MSTQSTHPLKPEAPRLPPGIPESPSCQRRHTLPASEFRCLTPEDAV...\n",
       "2      8      NP_001079             T3M                  3.0             N  MSTQSTHPLKPEAPRLPPGIPESPSCQRRHTLPASEFRCLTPEDAV...     Q16613                     3              Y  MSTQSTHPLKPEAPRLPPGIPESPSCQRRHTLPASEFRCLTPEDAV...\n",
       "3      8      NP_001079             T3M                  3.0             Y  MSTQSTHPLKPEAPRLPPGIPESPSCQRRHTLPASEFRCLTPEDAV...     Q16613                     3              Y  MSTQSTHPLKPEAPRLPPGIPESPSCQRRHTLPASEFRCLTPEDAV...\n",
       "4     19      NP_001092           R183W                183.0             N  MDDDIAALVVDNGSGMCKAGFAGDDAPRAVFPSIVGRPRHQGVMVG...     P60709                   183              Y  MDDDIAALVVDNGSGMCKAGFAGDDAPRAVFPSIVGRPRHQGVMVG..."
      ]
     },
     "metadata": {},
     "output_type": "display_data"
    },
    {
     "name": "stdout",
     "output_type": "stream",
     "text": [
      "(1008, 10)\n"
     ]
    }
   ],
   "source": [
    "display(mmc3_uniprot_df.head())\n",
    "print(mmc3_uniprot_df.shape)"
   ]
  },
  {
   "cell_type": "code",
   "execution_count": 20,
   "metadata": {
    "collapsed": false,
    "run_control": {
     "marked": false
    }
   },
   "outputs": [],
   "source": [
    "mmc3_uniprot_df['uniprot_mutation'] = (\n",
    "    mmc3_uniprot_df[['refseq_mutation', 'uniprot_mutation_pos']]\n",
    "    .apply(lambda x: x[0][0] + str(x[1]) + x[0][-1], axis=1)\n",
    ")"
   ]
  },
  {
   "cell_type": "code",
   "execution_count": 21,
   "metadata": {
    "collapsed": true,
    "run_control": {
     "marked": false
    }
   },
   "outputs": [],
   "source": [
    "mmc3_uniprot_df['refseq_mutation_matches_sequence'] = (\n",
    "    mmc3_uniprot_df[['refseq_mutation', 'refseq_sequence']]\n",
    "    .apply(lambda x: ascommon.sequence_tools.mutation_matches_sequence(*x), axis=1)\n",
    ")"
   ]
  },
  {
   "cell_type": "code",
   "execution_count": 22,
   "metadata": {
    "collapsed": true,
    "run_control": {
     "marked": false
    }
   },
   "outputs": [],
   "source": [
    "mmc3_uniprot_df['uniprot_mutation_matches_sequence'] = (\n",
    "    mmc3_uniprot_df[['uniprot_mutation', 'uniprot_sequence']]\n",
    "    .apply(lambda x: ascommon.sequence_tools.mutation_matches_sequence(*x), axis=1)\n",
    ")"
   ]
  },
  {
   "cell_type": "code",
   "execution_count": 23,
   "metadata": {
    "collapsed": false
   },
   "outputs": [
    {
     "data": {
      "text/html": [
       "<div>\n",
       "<table border=\"1\" class=\"dataframe\">\n",
       "  <thead>\n",
       "    <tr style=\"text-align: right;\">\n",
       "      <th></th>\n",
       "      <th>index</th>\n",
       "      <th>refseq_base_id</th>\n",
       "      <th>refseq_mutation</th>\n",
       "      <th>refseq_mutation_pos</th>\n",
       "      <th>refseq_active</th>\n",
       "      <th>refseq_sequence</th>\n",
       "      <th>uniprot_id</th>\n",
       "      <th>uniprot_mutation_pos</th>\n",
       "      <th>uniprot_active</th>\n",
       "      <th>uniprot_sequence</th>\n",
       "      <th>uniprot_mutation</th>\n",
       "      <th>refseq_mutation_matches_sequence</th>\n",
       "      <th>uniprot_mutation_matches_sequence</th>\n",
       "    </tr>\n",
       "  </thead>\n",
       "  <tbody>\n",
       "    <tr>\n",
       "      <th>0</th>\n",
       "      <td>4</td>\n",
       "      <td>NP_001079</td>\n",
       "      <td>A129T</td>\n",
       "      <td>129.0</td>\n",
       "      <td>N</td>\n",
       "      <td>MSTQSTHPLKPEAPRLPPGIPESPSCQRRHTLPASEFRCLTPEDAV...</td>\n",
       "      <td>Q16613</td>\n",
       "      <td>129</td>\n",
       "      <td>Y</td>\n",
       "      <td>MSTQSTHPLKPEAPRLPPGIPESPSCQRRHTLPASEFRCLTPEDAV...</td>\n",
       "      <td>A129T</td>\n",
       "      <td>True</td>\n",
       "      <td>True</td>\n",
       "    </tr>\n",
       "    <tr>\n",
       "      <th>1</th>\n",
       "      <td>4</td>\n",
       "      <td>NP_001079</td>\n",
       "      <td>A129T</td>\n",
       "      <td>129.0</td>\n",
       "      <td>Y</td>\n",
       "      <td>MSTQSTHPLKPEAPRLPPGIPESPSCQRRHTLPASEFRCLTPEDAV...</td>\n",
       "      <td>Q16613</td>\n",
       "      <td>129</td>\n",
       "      <td>Y</td>\n",
       "      <td>MSTQSTHPLKPEAPRLPPGIPESPSCQRRHTLPASEFRCLTPEDAV...</td>\n",
       "      <td>A129T</td>\n",
       "      <td>True</td>\n",
       "      <td>True</td>\n",
       "    </tr>\n",
       "    <tr>\n",
       "      <th>2</th>\n",
       "      <td>8</td>\n",
       "      <td>NP_001079</td>\n",
       "      <td>T3M</td>\n",
       "      <td>3.0</td>\n",
       "      <td>N</td>\n",
       "      <td>MSTQSTHPLKPEAPRLPPGIPESPSCQRRHTLPASEFRCLTPEDAV...</td>\n",
       "      <td>Q16613</td>\n",
       "      <td>3</td>\n",
       "      <td>Y</td>\n",
       "      <td>MSTQSTHPLKPEAPRLPPGIPESPSCQRRHTLPASEFRCLTPEDAV...</td>\n",
       "      <td>T3M</td>\n",
       "      <td>True</td>\n",
       "      <td>True</td>\n",
       "    </tr>\n",
       "    <tr>\n",
       "      <th>3</th>\n",
       "      <td>8</td>\n",
       "      <td>NP_001079</td>\n",
       "      <td>T3M</td>\n",
       "      <td>3.0</td>\n",
       "      <td>Y</td>\n",
       "      <td>MSTQSTHPLKPEAPRLPPGIPESPSCQRRHTLPASEFRCLTPEDAV...</td>\n",
       "      <td>Q16613</td>\n",
       "      <td>3</td>\n",
       "      <td>Y</td>\n",
       "      <td>MSTQSTHPLKPEAPRLPPGIPESPSCQRRHTLPASEFRCLTPEDAV...</td>\n",
       "      <td>T3M</td>\n",
       "      <td>True</td>\n",
       "      <td>True</td>\n",
       "    </tr>\n",
       "    <tr>\n",
       "      <th>4</th>\n",
       "      <td>19</td>\n",
       "      <td>NP_001092</td>\n",
       "      <td>R183W</td>\n",
       "      <td>183.0</td>\n",
       "      <td>N</td>\n",
       "      <td>MDDDIAALVVDNGSGMCKAGFAGDDAPRAVFPSIVGRPRHQGVMVG...</td>\n",
       "      <td>P60709</td>\n",
       "      <td>183</td>\n",
       "      <td>Y</td>\n",
       "      <td>MDDDIAALVVDNGSGMCKAGFAGDDAPRAVFPSIVGRPRHQGVMVG...</td>\n",
       "      <td>R183W</td>\n",
       "      <td>True</td>\n",
       "      <td>True</td>\n",
       "    </tr>\n",
       "  </tbody>\n",
       "</table>\n",
       "</div>"
      ],
      "text/plain": [
       "   index refseq_base_id refseq_mutation  refseq_mutation_pos refseq_active                                    refseq_sequence uniprot_id  uniprot_mutation_pos uniprot_active                                   uniprot_sequence uniprot_mutation refseq_mutation_matches_sequence uniprot_mutation_matches_sequence\n",
       "0      4      NP_001079           A129T                129.0             N  MSTQSTHPLKPEAPRLPPGIPESPSCQRRHTLPASEFRCLTPEDAV...     Q16613                   129              Y  MSTQSTHPLKPEAPRLPPGIPESPSCQRRHTLPASEFRCLTPEDAV...            A129T                             True                              True\n",
       "1      4      NP_001079           A129T                129.0             Y  MSTQSTHPLKPEAPRLPPGIPESPSCQRRHTLPASEFRCLTPEDAV...     Q16613                   129              Y  MSTQSTHPLKPEAPRLPPGIPESPSCQRRHTLPASEFRCLTPEDAV...            A129T                             True                              True\n",
       "2      8      NP_001079             T3M                  3.0             N  MSTQSTHPLKPEAPRLPPGIPESPSCQRRHTLPASEFRCLTPEDAV...     Q16613                     3              Y  MSTQSTHPLKPEAPRLPPGIPESPSCQRRHTLPASEFRCLTPEDAV...              T3M                             True                              True\n",
       "3      8      NP_001079             T3M                  3.0             Y  MSTQSTHPLKPEAPRLPPGIPESPSCQRRHTLPASEFRCLTPEDAV...     Q16613                     3              Y  MSTQSTHPLKPEAPRLPPGIPESPSCQRRHTLPASEFRCLTPEDAV...              T3M                             True                              True\n",
       "4     19      NP_001092           R183W                183.0             N  MDDDIAALVVDNGSGMCKAGFAGDDAPRAVFPSIVGRPRHQGVMVG...     P60709                   183              Y  MDDDIAALVVDNGSGMCKAGFAGDDAPRAVFPSIVGRPRHQGVMVG...            R183W                             True                              True"
      ]
     },
     "metadata": {},
     "output_type": "display_data"
    },
    {
     "name": "stdout",
     "output_type": "stream",
     "text": [
      "(1008, 13)\n"
     ]
    }
   ],
   "source": [
    "display(mmc3_uniprot_df.head())\n",
    "print(mmc3_uniprot_df.shape)"
   ]
  },
  {
   "cell_type": "code",
   "execution_count": 24,
   "metadata": {
    "collapsed": false
   },
   "outputs": [
    {
     "name": "stdout",
     "output_type": "stream",
     "text": [
      "Not 'uniprot_mutation_pos':                                 10\n",
      "Not 'uniprot_mutation_matches_sequence':                    15\n",
      "Not 'refseq_mutation_matches_sequence':                     15\n",
      "Not 'uniprot_active':                                       40\n",
      "Not 'refseq_active':                                        459\n",
      "1008 526\n"
     ]
    }
   ],
   "source": [
    "# All\n",
    "df = mmc3_uniprot_df\n",
    "print2(\"Not 'uniprot_mutation_pos':\", (df['uniprot_mutation_pos'] == 0).sum())\n",
    "print2(\"Not 'uniprot_mutation_matches_sequence':\", (~df['refseq_mutation_matches_sequence']).sum())\n",
    "print2(\"Not 'refseq_mutation_matches_sequence':\", (~df['refseq_mutation_matches_sequence']).sum())\n",
    "print2(\"Not 'uniprot_active':\", (df['uniprot_active'] == 'N').sum())\n",
    "print2(\"Not 'refseq_active':\", (df['refseq_active'] == 'N').sum())\n",
    "print(df.shape[0], df['index'].drop_duplicates().shape[0])"
   ]
  },
  {
   "cell_type": "code",
   "execution_count": 25,
   "metadata": {
    "collapsed": false
   },
   "outputs": [],
   "source": [
    "# Select the best mapping for each mutation\n",
    "mmc3_uniprot_df_select = (\n",
    "    mmc3_uniprot_df\n",
    "    .sort_values([\n",
    "        'uniprot_mutation_pos', 'uniprot_mutation_matches_sequence', 'refseq_mutation_matches_sequence',\n",
    "         'uniprot_active', 'refseq_active'], ascending=False)\n",
    "    .drop_duplicates(['refseq_base_id', 'refseq_mutation', 'uniprot_id', 'uniprot_mutation'])\n",
    "    .sort_values(['uniprot_id', 'uniprot_mutation_pos', 'uniprot_mutation'], ascending=True)\n",
    ")"
   ]
  },
  {
   "cell_type": "code",
   "execution_count": 26,
   "metadata": {
    "collapsed": false,
    "run_control": {
     "marked": false
    }
   },
   "outputs": [
    {
     "name": "stdout",
     "output_type": "stream",
     "text": [
      "Not 'uniprot_mutation_pos':                                 6\n",
      "Not 'uniprot_mutation_matches_sequence':                    13\n",
      "Not 'refseq_mutation_matches_sequence':                     13\n",
      "Not 'uniprot_active':                                       0\n",
      "Not 'refseq_active':                                        13\n",
      "542 526\n"
     ]
    }
   ],
   "source": [
    "df = mmc3_uniprot_df_select\n",
    "print2(\"Not 'uniprot_mutation_pos':\", (df['uniprot_mutation_pos'] == 0).sum())\n",
    "print2(\"Not 'uniprot_mutation_matches_sequence':\", (~df['refseq_mutation_matches_sequence']).sum())\n",
    "print2(\"Not 'refseq_mutation_matches_sequence':\", (~df['refseq_mutation_matches_sequence']).sum())\n",
    "print2(\"Not 'uniprot_active':\", (df['uniprot_active'] == 'N').sum())\n",
    "print2(\"Not 'refseq_active':\", (df['refseq_active'] == 'N').sum())\n",
    "print(df.shape[0], df['index'].drop_duplicates().shape[0])"
   ]
  },
  {
   "cell_type": "code",
   "execution_count": 27,
   "metadata": {
    "collapsed": false
   },
   "outputs": [],
   "source": [
    "# Select valid mappings\n",
    "mmc3_uniprot_df_good = (\n",
    "    mmc3_uniprot_df_select[\n",
    "        (mmc3_uniprot_df_select['uniprot_mutation_pos'] != 0) &\n",
    "        (df['refseq_mutation_matches_sequence']) &\n",
    "        (df['refseq_mutation_matches_sequence'])\n",
    "    ]\n",
    ")"
   ]
  },
  {
   "cell_type": "code",
   "execution_count": 28,
   "metadata": {
    "collapsed": false
   },
   "outputs": [
    {
     "name": "stdout",
     "output_type": "stream",
     "text": [
      "Not 'uniprot_mutation_pos':                                 0\n",
      "Not 'uniprot_mutation_matches_sequence':                    0\n",
      "Not 'refseq_mutation_matches_sequence':                     0\n",
      "Not 'uniprot_active':                                       0\n",
      "Not 'refseq_active':                                        9\n",
      "525 522\n"
     ]
    }
   ],
   "source": [
    "df = mmc3_uniprot_df_good\n",
    "print2(\"Not 'uniprot_mutation_pos':\", (df['uniprot_mutation_pos'] == 0).sum())\n",
    "print2(\"Not 'uniprot_mutation_matches_sequence':\", (~df['refseq_mutation_matches_sequence']).sum())\n",
    "print2(\"Not 'refseq_mutation_matches_sequence':\", (~df['refseq_mutation_matches_sequence']).sum())\n",
    "print2(\"Not 'uniprot_active':\", (df['uniprot_active'] == 'N').sum())\n",
    "print2(\"Not 'refseq_active':\", (df['refseq_active'] == 'N').sum())\n",
    "print(df.shape[0], df['index'].drop_duplicates().shape[0])"
   ]
  },
  {
   "cell_type": "code",
   "execution_count": 29,
   "metadata": {
    "collapsed": true
   },
   "outputs": [],
   "source": [
    "mmc3_uniprot_df_good.to_pickle(op.join(NOTEBOOK_NAME, 'mmc3_uniprot_df_good.pkl'))"
   ]
  },
  {
   "cell_type": "code",
   "execution_count": 30,
   "metadata": {
    "collapsed": true
   },
   "outputs": [],
   "source": [
    "mmc3_uniprot_df_good_bak = mmc3_uniprot_df_good.copy()"
   ]
  },
  {
   "cell_type": "markdown",
   "metadata": {
    "code_folding": [
     0
    ],
    "run_control": {
     "marked": false
    }
   },
   "source": [
    "### Merge back"
   ]
  },
  {
   "cell_type": "code",
   "execution_count": 31,
   "metadata": {
    "collapsed": true
   },
   "outputs": [],
   "source": [
    "mmc3_uniprot_df_good_bak = pd.read_pickle(op.join(NOTEBOOK_NAME, 'mmc3_uniprot_df_good.pkl'))"
   ]
  },
  {
   "cell_type": "code",
   "execution_count": 32,
   "metadata": {
    "collapsed": true
   },
   "outputs": [],
   "source": [
    "mmc3_uniprot_df = (\n",
    "    mmc3_uniprot_df_good_bak\n",
    "    .drop('index', axis=1)\n",
    ")"
   ]
  },
  {
   "cell_type": "code",
   "execution_count": 33,
   "metadata": {
    "code_folding": [
     0
    ],
    "collapsed": false,
    "run_control": {
     "marked": false
    },
    "scrolled": false
   },
   "outputs": [
    {
     "data": {
      "text/html": [
       "<h4>'mmc3_table1_df3':"
      ],
      "text/plain": [
       "<IPython.core.display.HTML object>"
      ]
     },
     "metadata": {},
     "output_type": "display_data"
    },
    {
     "data": {
      "text/html": [
       "<div>\n",
       "<table border=\"1\" class=\"dataframe\">\n",
       "  <thead>\n",
       "    <tr style=\"text-align: right;\">\n",
       "      <th></th>\n",
       "      <th>Category</th>\n",
       "      <th>Symbol</th>\n",
       "      <th>Entrez_Gene_ID</th>\n",
       "      <th>Allele_ID</th>\n",
       "      <th>Mutation_RefSeq_NT</th>\n",
       "      <th>Mutation_RefSeq_AA</th>\n",
       "      <th>Interactor_symbol</th>\n",
       "      <th>Interactor_Gene_ID</th>\n",
       "      <th>Y2H_score</th>\n",
       "      <th>In_Rolland_et_al</th>\n",
       "      <th>refseq_base_id</th>\n",
       "      <th>refseq_mutation</th>\n",
       "      <th>refseq_mutation_pos</th>\n",
       "      <th>refseq_base_id_1</th>\n",
       "      <th>uniprot_id_2</th>\n",
       "      <th>refseq_active</th>\n",
       "      <th>refseq_sequence</th>\n",
       "      <th>uniprot_id</th>\n",
       "      <th>uniprot_mutation_pos</th>\n",
       "      <th>uniprot_active</th>\n",
       "      <th>uniprot_sequence</th>\n",
       "      <th>uniprot_mutation</th>\n",
       "      <th>refseq_mutation_matches_sequence</th>\n",
       "      <th>uniprot_mutation_matches_sequence</th>\n",
       "    </tr>\n",
       "  </thead>\n",
       "  <tbody>\n",
       "    <tr>\n",
       "      <th>0</th>\n",
       "      <td>Wild-type</td>\n",
       "      <td>AANAT</td>\n",
       "      <td>15</td>\n",
       "      <td>15_0</td>\n",
       "      <td>NaN</td>\n",
       "      <td>NaN</td>\n",
       "      <td>BHLHE40</td>\n",
       "      <td>8553</td>\n",
       "      <td>1</td>\n",
       "      <td>1</td>\n",
       "      <td>NaN</td>\n",
       "      <td>NaN</td>\n",
       "      <td>NaN</td>\n",
       "      <td>NP_001079</td>\n",
       "      <td>O14503</td>\n",
       "      <td>NaN</td>\n",
       "      <td>NaN</td>\n",
       "      <td>NaN</td>\n",
       "      <td>NaN</td>\n",
       "      <td>NaN</td>\n",
       "      <td>NaN</td>\n",
       "      <td>NaN</td>\n",
       "      <td>NaN</td>\n",
       "      <td>NaN</td>\n",
       "    </tr>\n",
       "    <tr>\n",
       "      <th>1</th>\n",
       "      <td>Wild-type</td>\n",
       "      <td>AANAT</td>\n",
       "      <td>15</td>\n",
       "      <td>15_0</td>\n",
       "      <td>NaN</td>\n",
       "      <td>NaN</td>\n",
       "      <td>BHLHE40</td>\n",
       "      <td>8553</td>\n",
       "      <td>1</td>\n",
       "      <td>1</td>\n",
       "      <td>NaN</td>\n",
       "      <td>NaN</td>\n",
       "      <td>NaN</td>\n",
       "      <td>NP_001079</td>\n",
       "      <td>Q6IB83</td>\n",
       "      <td>NaN</td>\n",
       "      <td>NaN</td>\n",
       "      <td>NaN</td>\n",
       "      <td>NaN</td>\n",
       "      <td>NaN</td>\n",
       "      <td>NaN</td>\n",
       "      <td>NaN</td>\n",
       "      <td>NaN</td>\n",
       "      <td>NaN</td>\n",
       "    </tr>\n",
       "  </tbody>\n",
       "</table>\n",
       "</div>"
      ],
      "text/plain": [
       "    Category Symbol  Entrez_Gene_ID Allele_ID Mutation_RefSeq_NT Mutation_RefSeq_AA Interactor_symbol  Interactor_Gene_ID  Y2H_score  In_Rolland_et_al refseq_base_id refseq_mutation  refseq_mutation_pos refseq_base_id_1 uniprot_id_2 refseq_active refseq_sequence uniprot_id  uniprot_mutation_pos uniprot_active uniprot_sequence uniprot_mutation refseq_mutation_matches_sequence uniprot_mutation_matches_sequence\n",
       "0  Wild-type  AANAT              15      15_0                NaN                NaN           BHLHE40                8553          1                 1            NaN             NaN                  NaN        NP_001079       O14503           NaN             NaN        NaN                   NaN            NaN              NaN              NaN                              NaN                               NaN\n",
       "1  Wild-type  AANAT              15      15_0                NaN                NaN           BHLHE40                8553          1                 1            NaN             NaN                  NaN        NP_001079       Q6IB83           NaN             NaN        NaN                   NaN            NaN              NaN              NaN                              NaN                               NaN"
      ]
     },
     "metadata": {},
     "output_type": "display_data"
    },
    {
     "name": "stdout",
     "output_type": "stream",
     "text": [
      "Unique refseq mutations:                                    (528, 24)\n",
      "Unique uniprot mutations:                                   (526, 24)\n",
      "Unique refseq interface mutations:                          (2004, 24)\n",
      "Unique uniprot interface mutations:                         (2936, 24)\n"
     ]
    },
    {
     "data": {
      "text/html": [
       "<h4>'mmc3_table2_df3':"
      ],
      "text/plain": [
       "<IPython.core.display.HTML object>"
      ]
     },
     "metadata": {},
     "output_type": "display_data"
    },
    {
     "data": {
      "text/html": [
       "<div>\n",
       "<table border=\"1\" class=\"dataframe\">\n",
       "  <thead>\n",
       "    <tr style=\"text-align: right;\">\n",
       "      <th></th>\n",
       "      <th>Category</th>\n",
       "      <th>Symbol</th>\n",
       "      <th>Entrez_Gene_ID</th>\n",
       "      <th>Allele_ID</th>\n",
       "      <th>Mutation_RefSeq_NT</th>\n",
       "      <th>Mutation_RefSeq_AA</th>\n",
       "      <th>Interactor_symbol</th>\n",
       "      <th>Interactor_Gene_ID</th>\n",
       "      <th>Interaction_category</th>\n",
       "      <th>GPCA_score1</th>\n",
       "      <th>GPCA_score2</th>\n",
       "      <th>GPCA_average_score</th>\n",
       "      <th>refseq_base_id</th>\n",
       "      <th>refseq_mutation</th>\n",
       "      <th>refseq_mutation_pos</th>\n",
       "      <th>refseq_base_id_1</th>\n",
       "      <th>uniprot_id_2</th>\n",
       "      <th>refseq_active</th>\n",
       "      <th>refseq_sequence</th>\n",
       "      <th>uniprot_id</th>\n",
       "      <th>uniprot_mutation_pos</th>\n",
       "      <th>uniprot_active</th>\n",
       "      <th>uniprot_sequence</th>\n",
       "      <th>uniprot_mutation</th>\n",
       "      <th>refseq_mutation_matches_sequence</th>\n",
       "      <th>uniprot_mutation_matches_sequence</th>\n",
       "    </tr>\n",
       "  </thead>\n",
       "  <tbody>\n",
       "    <tr>\n",
       "      <th>0</th>\n",
       "      <td>Wild-type</td>\n",
       "      <td>AANAT</td>\n",
       "      <td>15</td>\n",
       "      <td>15_0</td>\n",
       "      <td>NaN</td>\n",
       "      <td>NaN</td>\n",
       "      <td>MDFI</td>\n",
       "      <td>4188</td>\n",
       "      <td>Y2H_positive</td>\n",
       "      <td>4.040826</td>\n",
       "      <td>4.698746</td>\n",
       "      <td>4.369786</td>\n",
       "      <td>NaN</td>\n",
       "      <td>NaN</td>\n",
       "      <td>NaN</td>\n",
       "      <td>NP_001079</td>\n",
       "      <td>B1AKB6</td>\n",
       "      <td>NaN</td>\n",
       "      <td>NaN</td>\n",
       "      <td>NaN</td>\n",
       "      <td>NaN</td>\n",
       "      <td>NaN</td>\n",
       "      <td>NaN</td>\n",
       "      <td>NaN</td>\n",
       "      <td>NaN</td>\n",
       "      <td>NaN</td>\n",
       "    </tr>\n",
       "    <tr>\n",
       "      <th>1</th>\n",
       "      <td>Wild-type</td>\n",
       "      <td>AANAT</td>\n",
       "      <td>15</td>\n",
       "      <td>15_0</td>\n",
       "      <td>NaN</td>\n",
       "      <td>NaN</td>\n",
       "      <td>MDFI</td>\n",
       "      <td>4188</td>\n",
       "      <td>Y2H_positive</td>\n",
       "      <td>4.040826</td>\n",
       "      <td>4.698746</td>\n",
       "      <td>4.369786</td>\n",
       "      <td>NaN</td>\n",
       "      <td>NaN</td>\n",
       "      <td>NaN</td>\n",
       "      <td>NP_001079</td>\n",
       "      <td>Q99750</td>\n",
       "      <td>NaN</td>\n",
       "      <td>NaN</td>\n",
       "      <td>NaN</td>\n",
       "      <td>NaN</td>\n",
       "      <td>NaN</td>\n",
       "      <td>NaN</td>\n",
       "      <td>NaN</td>\n",
       "      <td>NaN</td>\n",
       "      <td>NaN</td>\n",
       "    </tr>\n",
       "  </tbody>\n",
       "</table>\n",
       "</div>"
      ],
      "text/plain": [
       "    Category Symbol  Entrez_Gene_ID Allele_ID Mutation_RefSeq_NT Mutation_RefSeq_AA Interactor_symbol  Interactor_Gene_ID Interaction_category  GPCA_score1  GPCA_score2  GPCA_average_score refseq_base_id refseq_mutation  refseq_mutation_pos refseq_base_id_1 uniprot_id_2 refseq_active refseq_sequence uniprot_id  uniprot_mutation_pos uniprot_active uniprot_sequence uniprot_mutation refseq_mutation_matches_sequence uniprot_mutation_matches_sequence\n",
       "0  Wild-type  AANAT              15      15_0                NaN                NaN              MDFI                4188         Y2H_positive     4.040826     4.698746            4.369786            NaN             NaN                  NaN        NP_001079       B1AKB6           NaN             NaN        NaN                   NaN            NaN              NaN              NaN                              NaN                               NaN\n",
       "1  Wild-type  AANAT              15      15_0                NaN                NaN              MDFI                4188         Y2H_positive     4.040826     4.698746            4.369786            NaN             NaN                  NaN        NP_001079       Q99750           NaN             NaN        NaN                   NaN            NaN              NaN              NaN                              NaN                               NaN"
      ]
     },
     "metadata": {},
     "output_type": "display_data"
    },
    {
     "name": "stdout",
     "output_type": "stream",
     "text": [
      "Unique refseq mutations:                                    (111, 26)\n",
      "Unique uniprot mutations:                                   (111, 26)\n",
      "Unique refseq interface mutations:                          (784, 26)\n",
      "Unique uniprot interface mutations:                         (1214, 26)\n"
     ]
    },
    {
     "data": {
      "text/html": [
       "<h4>'mmc3_table3_df3':"
      ],
      "text/plain": [
       "<IPython.core.display.HTML object>"
      ]
     },
     "metadata": {},
     "output_type": "display_data"
    },
    {
     "data": {
      "text/html": [
       "<div>\n",
       "<table border=\"1\" class=\"dataframe\">\n",
       "  <thead>\n",
       "    <tr style=\"text-align: right;\">\n",
       "      <th></th>\n",
       "      <th>Category</th>\n",
       "      <th>Symbol</th>\n",
       "      <th>Entrez_Gene_ID</th>\n",
       "      <th>Allele_ID</th>\n",
       "      <th>Mutation_RefSeq_NT</th>\n",
       "      <th>Mutation_RefSeq_AA</th>\n",
       "      <th>Edgotype_class</th>\n",
       "      <th>refseq_base_id</th>\n",
       "      <th>refseq_mutation</th>\n",
       "      <th>refseq_mutation_pos</th>\n",
       "      <th>refseq_active</th>\n",
       "      <th>refseq_sequence</th>\n",
       "      <th>uniprot_id</th>\n",
       "      <th>uniprot_mutation_pos</th>\n",
       "      <th>uniprot_active</th>\n",
       "      <th>uniprot_sequence</th>\n",
       "      <th>uniprot_mutation</th>\n",
       "      <th>refseq_mutation_matches_sequence</th>\n",
       "      <th>uniprot_mutation_matches_sequence</th>\n",
       "    </tr>\n",
       "  </thead>\n",
       "  <tbody>\n",
       "    <tr>\n",
       "      <th>0</th>\n",
       "      <td>Disease mutation</td>\n",
       "      <td>AANAT</td>\n",
       "      <td>15</td>\n",
       "      <td>15_22963</td>\n",
       "      <td>NM_001088:c.385G&gt;A</td>\n",
       "      <td>NP_001079:p.A129T</td>\n",
       "      <td>Edgetic</td>\n",
       "      <td>NP_001079</td>\n",
       "      <td>A129T</td>\n",
       "      <td>129</td>\n",
       "      <td>Y</td>\n",
       "      <td>MSTQSTHPLKPEAPRLPPGIPESPSCQRRHTLPASEFRCLTPEDAV...</td>\n",
       "      <td>Q16613</td>\n",
       "      <td>129.0</td>\n",
       "      <td>Y</td>\n",
       "      <td>MSTQSTHPLKPEAPRLPPGIPESPSCQRRHTLPASEFRCLTPEDAV...</td>\n",
       "      <td>A129T</td>\n",
       "      <td>True</td>\n",
       "      <td>True</td>\n",
       "    </tr>\n",
       "    <tr>\n",
       "      <th>1</th>\n",
       "      <td>Non-disease variant</td>\n",
       "      <td>AANAT</td>\n",
       "      <td>15</td>\n",
       "      <td>15_900207</td>\n",
       "      <td>NM_001088:c.8C&gt;T</td>\n",
       "      <td>NP_001079:p.T3M</td>\n",
       "      <td>Quasi-wild-type</td>\n",
       "      <td>NP_001079</td>\n",
       "      <td>T3M</td>\n",
       "      <td>3</td>\n",
       "      <td>Y</td>\n",
       "      <td>MSTQSTHPLKPEAPRLPPGIPESPSCQRRHTLPASEFRCLTPEDAV...</td>\n",
       "      <td>Q16613</td>\n",
       "      <td>3.0</td>\n",
       "      <td>Y</td>\n",
       "      <td>MSTQSTHPLKPEAPRLPPGIPESPSCQRRHTLPASEFRCLTPEDAV...</td>\n",
       "      <td>T3M</td>\n",
       "      <td>True</td>\n",
       "      <td>True</td>\n",
       "    </tr>\n",
       "  </tbody>\n",
       "</table>\n",
       "</div>"
      ],
      "text/plain": [
       "              Category Symbol  Entrez_Gene_ID  Allele_ID  Mutation_RefSeq_NT Mutation_RefSeq_AA   Edgotype_class refseq_base_id refseq_mutation  refseq_mutation_pos refseq_active                                    refseq_sequence uniprot_id  uniprot_mutation_pos uniprot_active                                   uniprot_sequence uniprot_mutation refseq_mutation_matches_sequence uniprot_mutation_matches_sequence\n",
       "0     Disease mutation  AANAT              15   15_22963  NM_001088:c.385G>A  NP_001079:p.A129T          Edgetic      NP_001079           A129T                  129             Y  MSTQSTHPLKPEAPRLPPGIPESPSCQRRHTLPASEFRCLTPEDAV...     Q16613                 129.0              Y  MSTQSTHPLKPEAPRLPPGIPESPSCQRRHTLPASEFRCLTPEDAV...            A129T                             True                              True\n",
       "1  Non-disease variant  AANAT              15  15_900207    NM_001088:c.8C>T    NP_001079:p.T3M  Quasi-wild-type      NP_001079             T3M                    3             Y  MSTQSTHPLKPEAPRLPPGIPESPSCQRRHTLPASEFRCLTPEDAV...     Q16613                   3.0              Y  MSTQSTHPLKPEAPRLPPGIPESPSCQRRHTLPASEFRCLTPEDAV...              T3M                             True                              True"
      ]
     },
     "metadata": {},
     "output_type": "display_data"
    },
    {
     "name": "stdout",
     "output_type": "stream",
     "text": [
      "Unique refseq mutations:                                    (527, 19)\n",
      "Unique uniprot mutations:                                   (526, 19)\n"
     ]
    },
    {
     "data": {
      "text/html": [
       "<h4>All 3 tables combined:"
      ],
      "text/plain": [
       "<IPython.core.display.HTML object>"
      ]
     },
     "metadata": {},
     "output_type": "display_data"
    },
    {
     "name": "stdout",
     "output_type": "stream",
     "text": [
      "Unique mutations:                                           (528, 2)\n"
     ]
    }
   ],
   "source": [
    "# Merge mmc3 and mmc3_uniprot_df_good\n",
    "display(HTML(\"<h4>'mmc3_table1_df3':\"))\n",
    "mmc3_table1_df3 = (\n",
    "    mmc3_table1_df2.merge(\n",
    "        mmc3_uniprot_df, \n",
    "        on=['refseq_base_id', 'refseq_mutation', 'refseq_mutation_pos'],\n",
    "        how='left'))\n",
    "display(mmc3_table1_df3.head(2))\n",
    "print2(\n",
    "    \"Unique refseq mutations:\",\n",
    "    mmc3_table1_df3.drop_duplicates(['refseq_base_id', 'refseq_mutation']).shape)\n",
    "print2(\n",
    "    \"Unique uniprot mutations:\",\n",
    "    mmc3_table1_df3.drop_duplicates(['uniprot_id', 'uniprot_mutation']).shape)\n",
    "print2(\n",
    "    \"Unique refseq interface mutations:\",\n",
    "    mmc3_table1_df3.drop_duplicates(['refseq_base_id', 'refseq_mutation', 'Interactor_Gene_ID']).shape)\n",
    "print2(\n",
    "    \"Unique uniprot interface mutations:\",\n",
    "    mmc3_table1_df3.drop_duplicates(['uniprot_id', 'uniprot_mutation', 'uniprot_id_2']).shape)\n",
    "\n",
    "\n",
    "display(HTML(\"<h4>'mmc3_table2_df3':\"))\n",
    "mmc3_table2_df3 = (\n",
    "    mmc3_table2_df2.merge(\n",
    "        mmc3_uniprot_df, \n",
    "        on=['refseq_base_id', 'refseq_mutation', 'refseq_mutation_pos'],\n",
    "        how='left'))\n",
    "display(mmc3_table2_df3.head(2))\n",
    "print2(\n",
    "    \"Unique refseq mutations:\",\n",
    "    mmc3_table2_df3.drop_duplicates(['refseq_base_id', 'refseq_mutation']).shape)\n",
    "print2(\n",
    "    \"Unique uniprot mutations:\",\n",
    "    mmc3_table2_df3.drop_duplicates(['uniprot_id', 'uniprot_mutation']).shape)\n",
    "print2(\n",
    "    \"Unique refseq interface mutations:\",\n",
    "    mmc3_table2_df3.drop_duplicates(['refseq_base_id', 'refseq_mutation', 'Interactor_Gene_ID']).shape)\n",
    "print2(\n",
    "    \"Unique uniprot interface mutations:\",\n",
    "    mmc3_table2_df3.drop_duplicates(['uniprot_id', 'uniprot_mutation', 'uniprot_id_2']).shape)\n",
    "\n",
    "\n",
    "display(HTML(\"<h4>'mmc3_table3_df3':\"))\n",
    "mmc3_table3_df3 = (\n",
    "    mmc3_table3_df.merge(\n",
    "        mmc3_uniprot_df, \n",
    "        on=['refseq_base_id', 'refseq_mutation', 'refseq_mutation_pos'],\n",
    "        how='left'))\n",
    "display(mmc3_table3_df3.head(2))\n",
    "print2(\n",
    "    \"Unique refseq mutations:\",\n",
    "    mmc3_table3_df3.drop_duplicates(['refseq_base_id', 'refseq_mutation']).shape)\n",
    "print2(\n",
    "    \"Unique uniprot mutations:\",\n",
    "    mmc3_table3_df3.drop_duplicates(['uniprot_id', 'uniprot_mutation']).shape)\n",
    "\n",
    "\n",
    "display(HTML(\"<h4>All 3 tables combined:\"))\n",
    "print2(\"Unique mutations:\",\n",
    "    pd.concat(\n",
    "        [mmc3_table1_df3[['refseq_base_id', 'refseq_mutation']],\n",
    "         mmc3_table2_df3[['refseq_base_id', 'refseq_mutation']], \n",
    "         mmc3_table3_df3[['refseq_base_id', 'refseq_mutation']]],\n",
    "        ignore_index=True, copy=False)\n",
    "    .drop_duplicates(['refseq_base_id', 'refseq_mutation']).shape)"
   ]
  },
  {
   "cell_type": "code",
   "execution_count": 35,
   "metadata": {
    "collapsed": true,
    "run_control": {
     "marked": false
    }
   },
   "outputs": [],
   "source": [
    "# Make a copy for future reference\n",
    "mmc3_table1_df3_bak = mmc3_table1_df3.copy()\n",
    "mmc3_table2_df3_bak = mmc3_table2_df3.copy()\n",
    "mmc3_table3_df3_bak = mmc3_table3_df3.copy()"
   ]
  },
  {
   "cell_type": "markdown",
   "metadata": {},
   "source": [
    "# Combine datasets"
   ]
  },
  {
   "cell_type": "markdown",
   "metadata": {},
   "source": [
    "### uniprot_interface_mutation_df"
   ]
  },
  {
   "cell_type": "code",
   "execution_count": 11,
   "metadata": {
    "collapsed": false
   },
   "outputs": [],
   "source": [
    "# Save a copy for future reference\n",
    "mmc3_table1_df = pd.read_pickle(op.join(NOTEBOOK_NAME, 'mmc3_table1_df3.pkl'))\n",
    "mmc3_table2_df = pd.read_pickle(op.join(NOTEBOOK_NAME, 'mmc3_table2_df3.pkl'))\n",
    "mmc3_table3_df = pd.read_pickle(op.join(NOTEBOOK_NAME, 'mmc3_table3_df3.pkl'))"
   ]
  },
  {
   "cell_type": "code",
   "execution_count": 12,
   "metadata": {
    "collapsed": false
   },
   "outputs": [
    {
     "data": {
      "text/plain": [
       "False"
      ]
     },
     "execution_count": 12,
     "metadata": {},
     "output_type": "execute_result"
    }
   ],
   "source": [
    "# Now we need to create an elaspic database with interactions from taipale\n",
    "mmc3_table1_df.dropna(subset=['uniprot_id', 'uniprot_id_2']).shape == mmc3_table1_df.shape"
   ]
  },
  {
   "cell_type": "code",
   "execution_count": 13,
   "metadata": {
    "collapsed": false
   },
   "outputs": [
    {
     "data": {
      "text/plain": [
       "(2348, 24)"
      ]
     },
     "execution_count": 13,
     "metadata": {},
     "output_type": "execute_result"
    }
   ],
   "source": [
    "mmc3_table1_df.dropna(subset=['uniprot_id', 'uniprot_id_2']).shape"
   ]
  },
  {
   "cell_type": "code",
   "execution_count": 14,
   "metadata": {
    "collapsed": false
   },
   "outputs": [
    {
     "data": {
      "text/plain": [
       "(3287, 24)"
      ]
     },
     "execution_count": 14,
     "metadata": {},
     "output_type": "execute_result"
    }
   ],
   "source": [
    "mmc3_table1_df.shape"
   ]
  },
  {
   "cell_type": "code",
   "execution_count": 15,
   "metadata": {
    "collapsed": false
   },
   "outputs": [],
   "source": [
    "# Uniprot pairs\n",
    "uniprot_interface_mutation_df = pd.concat([\n",
    "        mmc3_table1_df[['uniprot_id', 'uniprot_mutation', 'uniprot_id_2']].dropna(),\n",
    "        mmc3_table2_df[['uniprot_id', 'uniprot_mutation', 'uniprot_id_2']].dropna(),\n",
    "    ], ignore_index=True).drop_duplicates()"
   ]
  },
  {
   "cell_type": "code",
   "execution_count": 16,
   "metadata": {
    "collapsed": false
   },
   "outputs": [
    {
     "data": {
      "text/plain": [
       "(2348, 3)"
      ]
     },
     "execution_count": 16,
     "metadata": {},
     "output_type": "execute_result"
    }
   ],
   "source": [
    "uniprot_interface_mutation_df.shape"
   ]
  },
  {
   "cell_type": "code",
   "execution_count": 17,
   "metadata": {
    "code_folding": [],
    "collapsed": false
   },
   "outputs": [],
   "source": [
    "# Save to database\n",
    "t = db_remote.import_df(\n",
    "    uniprot_interface_mutation_df,\n",
    "    'uniprot_interface_mutation',\n",
    "    use_temp_file=False,\n",
    ")"
   ]
  },
  {
   "cell_type": "code",
   "execution_count": 18,
   "metadata": {
    "collapsed": false
   },
   "outputs": [],
   "source": [
    "db_remote.create_indexes(\n",
    "    t.name,\n",
    "    [(['uniprot_id', 'uniprot_id_2'], False),\n",
    "     (['uniprot_id_2', 'uniprot_id'], False)]\n",
    ")"
   ]
  },
  {
   "cell_type": "raw",
   "metadata": {},
   "source": [
    "!mysql -u strokach -h 192.168.6.19 staging < ../scripts/elaspic_training_interface.sql"
   ]
  },
  {
   "cell_type": "code",
   "execution_count": null,
   "metadata": {
    "collapsed": true
   },
   "outputs": [],
   "source": []
  }
 ],
 "metadata": {
  "kernelspec": {
   "display_name": "Python 3",
   "language": "python",
   "name": "python3"
  },
  "language_info": {
   "codemirror_mode": {
    "name": "ipython",
    "version": 3
   },
   "file_extension": ".py",
   "mimetype": "text/x-python",
   "name": "python",
   "nbconvert_exporter": "python",
   "pygments_lexer": "ipython3",
   "version": "3.5.1"
  },
  "latex_envs": {
   "bibliofile": "biblio.bib",
   "cite_by": "apalike",
   "current_citInitial": 1,
   "eqLabelWithNumbers": true,
   "eqNumInitial": 0
  },
  "nav_menu": {},
  "toc": {
   "navigate_menu": true,
   "number_sections": true,
   "sideBar": false,
   "threshold": 6,
   "toc_cell": true,
   "toc_section_display": "block",
   "toc_window_display": true
  },
  "toc_position": {
   "height": "508px",
   "left": "120.972px",
   "right": "20px",
   "top": "96.9792px",
   "width": "230px"
  }
 },
 "nbformat": 4,
 "nbformat_minor": 0
}
